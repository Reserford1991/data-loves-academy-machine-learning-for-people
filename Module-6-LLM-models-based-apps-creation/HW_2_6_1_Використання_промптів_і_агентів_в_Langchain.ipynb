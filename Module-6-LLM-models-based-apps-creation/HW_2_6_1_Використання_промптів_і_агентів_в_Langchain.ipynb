{
 "nbformat": 4,
 "nbformat_minor": 0,
 "metadata": {
  "colab": {
   "provenance": []
  },
  "kernelspec": {
   "name": "python3",
   "display_name": "Python 3 (ipykernel)",
   "language": "python"
  },
  "language_info": {
   "name": "python"
  }
 },
 "cells": [
  {
   "cell_type": "markdown",
   "source": [
    "\n",
    "### Завдання 1: Виклик LLM з базовим промптом\n",
    "\n",
    "Створіть можливість викликати LLM зі звичайним текстовим промптом.\n",
    "\n",
    "Промпт має дозвляти отримати інформацію простою мовою на певну тему. В цьому завданні ми хочемо дізнатись про тему \"Квантові обчислення\".\n",
    "\n",
    "Відповідь моделі повинна містити визначення, ключові переваги та поточні дослідження в цій галузі.\n",
    "\n",
    "Обмежте відповідь до 200 символів і пропишіть в промпті аби відповідь була короткою (це зекономить Вам час і гроші на згенеровані токени).\n",
    "\n",
    "В якості LLM можна скористатись як моделлю з HugginFace (рекомендую Mistral), так і ChatGPT4 або ChatGPT3. В обох випадках треба імпортувати потрібну \"обгортку\" (тобто клас, який дозволить ініціювати модель) з LangChain для виклику LLM за API, а також зчитати особистий токен з файла, наприклад, `creds.json`, який розміщений у Вас локально і Ви НЕ здаєте його в ДЗ і НЕ комітите в git 😏\n",
    "\n",
    "Встановіть своє значення температури на свій розсуд (тут немає правильного чи неправильного значення) і напишіть, чому ви обрали саме таке значення для цього завдання.  \n",
    "\n",
    "Запити можна робити як українською, так і англійською - орієнтуйтесь на те, де і чи хочете ви потім лишити цей проєкт і відповідна яка мова буде пасувати більше. В розвʼязках промпти - українською."
   ],
   "metadata": {
    "id": "RMalK_oYR-X_"
   }
  },
  {
   "cell_type": "code",
   "source": [
    "import json\n",
    "from langchain_openai import ChatOpenAI\n",
    "from langchain.schema import HumanMessage\n",
    "\n",
    "# Load API key\n",
    "with open(\"creds.json\") as f:\n",
    "    creds = json.load(f)\n",
    "api_key = creds[\"open_ai_api_key\"]\n",
    "\n",
    "# Initialize LLM with temperature\n",
    "llm = ChatOpenAI(\n",
    "    openai_api_key=api_key,\n",
    "    model_name=\"gpt-3.5-turbo\",  # You can change this to \"gpt-4\" if needed\n",
    "    temperature=0.3\n",
    ")\n",
    "\n",
    "# Create the prompt\n",
    "prompt = (\n",
    "    \"Provide a short explanation (max 200 characters) of quantum computing)\"\n",
    "    \"Include its definition, main advantages and current research trends.\"\n",
    "    \"Keep it concise and clear.\"\n",
    ")\n",
    "\n",
    "# Get a response\n",
    "response = llm.invoke([HumanMessage(content=prompt)])\n",
    "\n",
    "# Show result\n",
    "print(\"LLM response:\")\n",
    "print(response.content)"
   ],
   "metadata": {
    "id": "vT1ICe74cAUS",
    "ExecuteTime": {
     "end_time": "2025-03-30T18:12:19.201830Z",
     "start_time": "2025-03-30T18:12:17.604054Z"
    }
   },
   "outputs": [
    {
     "name": "stdout",
     "output_type": "stream",
     "text": [
      "LLM response:\n",
      "Quantum computing utilizes quantum-mechanical phenomena to perform operations on data. Its advantages include faster processing and solving complex problems. Current research focuses on error correction, scalability, and practical applications.\n"
     ]
    }
   ],
   "execution_count": 1
  },
  {
   "cell_type": "markdown",
   "source": [
    "### Завдання 2: Створення параметризованого промпта для генерації тексту\n",
    "Тепер ми хочемо оновити попередній фукнціонал так, аби в промпт ми могли передавати тему як параметр. Для цього скористайтесь `PromptTemplate` з `langchain` і реалізуйте параметризований промпт та виклик моделі з ним.\n",
    "\n",
    "Запустіть оновлений функціонал (промпт + модел) для пояснень про теми\n",
    "- \"Баєсівські методи в машинному навчанні\"\n",
    "- \"Трансформери в машинному навчанні\"\n",
    "- \"Explainable AI\"\n",
    "\n",
    "Виведіть результати відпрацювання моделі на екран."
   ],
   "metadata": {
    "id": "UiIzV0UIS0GA"
   }
  },
  {
   "cell_type": "code",
   "source": [
    "import json\n",
    "from langchain_openai import ChatOpenAI\n",
    "from langchain.prompts import PromptTemplate\n",
    "from langchain.schema import HumanMessage\n",
    "\n",
    "# Load OpenAI API key\n",
    "with open(\"creds.json\") as f:\n",
    "    creds = json.load(f)\n",
    "api_key = creds[\"open_ai_api_key\"]\n",
    "\n",
    "# Initialize LLM\n",
    "llm = ChatOpenAI(\n",
    "    openai_api_key=api_key,\n",
    "    model_name=\"gpt-3.5-turbo\",\n",
    "    temperature=0.3\n",
    ")\n",
    "\n",
    "# Define a parameterized Prompt template\n",
    "template = (\n",
    "    \"Explain topic '{topic}' in simple English using no more than 200 characters.\"\n",
    "    \"Include the definition, main advantages and current research directions.\"\n",
    ")\n",
    "\n",
    "prompt = PromptTemplate.from_template(template)\n",
    "\n",
    "# Topics\n",
    "topics = [\n",
    "    \"Bayesian methods in machine learning\",\n",
    "    \"Transformers in machine learning\",\n",
    "    \"Explainable AI\"\n",
    "]\n",
    "\n",
    "# Run LLM for each topic\n",
    "\n",
    "for topic in topics:\n",
    "    formatted_prompt  = prompt.format(topic=topic)\n",
    "    response = llm.invoke([HumanMessage(content=formatted_prompt)])\n",
    "    print(f\"Topic: {topic} \\nResponse: {response.content}\\n\\n\")"
   ],
   "metadata": {
    "id": "kcg7EfdNcBDq",
    "ExecuteTime": {
     "end_time": "2025-03-30T18:42:07.910766Z",
     "start_time": "2025-03-30T18:42:05.520698Z"
    }
   },
   "outputs": [
    {
     "name": "stdout",
     "output_type": "stream",
     "text": [
      "Topic: Bayesian methods in machine learning \n",
      "Response: Bayesian methods in machine learning use probability to make predictions. They provide uncertainty estimates, handle small data, and update beliefs. Current research focuses on scalable algorithms and deep learning integration.\n",
      "\n",
      "\n",
      "Topic: Transformers in machine learning \n",
      "Response: Transformers in machine learning are models that process sequential data by learning relationships between words. They excel in natural language processing tasks and are being researched for image and video processing.\n",
      "\n",
      "\n",
      "Topic: Explainable AI \n",
      "Response: Explainable AI is a type of artificial intelligence that can explain its decisions in a way that humans can understand. It helps build trust, improve transparency, and prevent bias. Current research focuses on developing more interpretable models and algorithms.\n",
      "\n",
      "\n"
     ]
    }
   ],
   "execution_count": 8
  },
  {
   "cell_type": "markdown",
   "source": [
    "\n",
    "\n",
    "### Завдання 3: Використання агента для автоматизації процесів\n",
    "Створіть агента, який допоможе автоматично шукати інформацію про останні наукові публікації в різних галузях. Наприклад, агент має знайти 5 останніх публікацій на тему штучного інтелекту.\n",
    "\n",
    "**Кроки:**\n",
    "1. Налаштуйте агента типу ReAct в LangChain для виконання автоматичних запитів.\n",
    "2. Створіть промпт, який спрямовує агента шукати інформацію в інтернеті або в базах даних наукових публікацій.\n",
    "3. Агент повинен видати список публікацій, кожна з яких містить назву, авторів і короткий опис.\n",
    "\n",
    "Для взаємодії з пошуком там необхідно створити `Tool`. В лекції ми використовували `serpapi`. Можна продовжити користуватись ним, або обрати інше АРІ для пошуку (вони в тому числі є безкоштовні). Перелік різних АРІ, доступних в langchain, і орієнтир по вартості запитів можна знайти в окремому документі [тут](https://hannapylieva.notion.site/API-12994835849480a69b2adf2b8441cbb3?pvs=4).\n",
    "\n",
    "Лишаю також нижче приклад використання одного з безкоштовних пошукових АРІ - DuckDuckGo (не потребує створення токена!)  - можливо він вам сподобається :)\n"
   ],
   "metadata": {
    "id": "m9UsL2gXSe-3"
   }
  },
  {
   "cell_type": "code",
   "source": [
    "# !pip install -q langchain_community duckduckgo_search\n",
    "# from langchain_community.tools import DuckDuckGoSearchRun\n",
    "#\n",
    "# search = DuckDuckGoSearchRun()\n",
    "#\n",
    "# search.invoke(\"Obama's first name?\")\n",
    "\n",
    "# !pip install -q langchain_community duckduckgo_search\n",
    "# !which python\n",
    "# !pip show duckduckgo-search"
   ],
   "metadata": {
    "colab": {
     "base_uri": "https://localhost:8080/"
    },
    "id": "Jzj4PHP9XwH-",
    "outputId": "08118bad-e4c6-4873-feb0-e3890dc5c6a4",
    "ExecuteTime": {
     "end_time": "2025-03-30T19:33:11.312194Z",
     "start_time": "2025-03-30T19:33:09.920611Z"
    }
   },
   "outputs": [
    {
     "name": "stdout",
     "output_type": "stream",
     "text": [
      "/opt/anaconda3/bin/python\r\n",
      "Name: duckduckgo_search\r\n",
      "Version: 7.5.5\r\n",
      "Summary: Search for words, documents, images, news, maps and text translation using the DuckDuckGo.com search engine.\r\n",
      "Home-page: https://github.com/deedy5/duckduckgo_search\r\n",
      "Author: deedy5\r\n",
      "Author-email: \r\n",
      "License: MIT License\r\n",
      "Location: /opt/anaconda3/lib/python3.12/site-packages\r\n",
      "Requires: click, lxml, primp\r\n",
      "Required-by: \r\n"
     ]
    }
   ],
   "execution_count": 1
  },
  {
   "cell_type": "code",
   "source": [
    "# !pip install -q langchain_community duckduckgo_search\n",
    "from langchain.agents import initialize_agent, AgentType, Tool\n",
    "from langchain_community.tools import DuckDuckGoSearchRun\n",
    "from langchain_openai import ChatOpenAI\n",
    "from langchain.schema import SystemMessage\n",
    "import json\n",
    "\n",
    "# Load your API key\n",
    "with open(\"creds.json\") as f:\n",
    "    creds = json.load(f)\n",
    "api_key = creds[\"open_ai_api_key\"]\n",
    "\n",
    "# Initialize LLM\n",
    "llm = ChatOpenAI(\n",
    "    openai_api_key=api_key,\n",
    "    model_name=\"gpt-3.5-turbo\",\n",
    "    temperature=0.3\n",
    ")\n",
    "\n",
    "# Create the DuckDuckGo search tool\n",
    "search = DuckDuckGoSearchRun()\n",
    "tools = [\n",
    "    Tool(\n",
    "        name=\"DuckDuckGo_search\",\n",
    "        func=search.run,\n",
    "        description=\"Useful in searching internet for latest news or academic papers.\",\n",
    "    )\n",
    "]\n",
    "\n",
    "system_prompt = SystemMessage(content=\"\"\"\n",
    "You are a helpful research assistant. Your task is to find the 5 most recent research papers about Artificial Intelligence.\n",
    "For each paper, provide:\n",
    "- Title\n",
    "- Authors (if available)\n",
    "- Short summary or description.\n",
    "Use the DuckDuckGo Search tool to find this information.\n",
    "\"\"\")\n",
    "\n",
    "# Initialize agent with ReAct style\n",
    "agent = initialize_agent(\n",
    "    tools=tools,\n",
    "    llm=llm,\n",
    "    agent=AgentType.OPENAI_FUNCTIONS,\n",
    "    verbose=True,\n",
    "    handle_parsing_errors=True,\n",
    ")\n",
    "\n",
    "# Run the agent\n",
    "response = agent.invoke(\"Find 5 recent research papers about Artificial Intelligence\")\n",
    "\n",
    "# print(response)"
   ],
   "metadata": {
    "colab": {
     "base_uri": "https://localhost:8080/",
     "height": 139
    },
    "id": "p56AZ_SnXvTs",
    "outputId": "fcee82cc-03d7-4402-a243-0033596a9ea9",
    "ExecuteTime": {
     "end_time": "2025-03-30T19:44:43.266414Z",
     "start_time": "2025-03-30T19:44:37.586085Z"
    }
   },
   "outputs": [
    {
     "name": "stdout",
     "output_type": "stream",
     "text": [
      "\n",
      "\n",
      "\u001B[1m> Entering new AgentExecutor chain...\u001B[0m\n",
      "\u001B[32;1m\u001B[1;3m\n",
      "Invoking: `DuckDuckGo_search` with `recent research papers about Artificial Intelligence`\n",
      "\n",
      "\n",
      "\u001B[0m\u001B[36;1m\u001B[1;3mFind the latest research papers and news in Artificial Intelligence. Read stories and opinions from top researchers in our research community. ... Uncover the latest and most impactful research in Artificial Intelligence. Explore pioneering discoveries, insightful ideas and new methods from leading researchers in the field. Artificial Intelligence Authors and titles for recent submissions. Thu, 27 Mar 2025 Wed, 26 Mar 2025 ... This is the author's version of the paper accepted at EuroMLSys 2025 Subjects: Machine Learning ... Machine Learning (cs.LG); Artificial Intelligence (cs.AI); Networking and Internet Architecture (cs.NI); Systems and Control ... In recent years, the study of artificial intelligence (AI) has undergone a paradigm shift. This has been propelled by the groundbreaking capabilities of generative models both in supervised and unsupervised learning scenarios. Generative AI has shown state-of-the-art performance in solving perplexing real-world conundrums in fields such as image translation, medical diagnostics, textual ... The field of Artificial Intelligence in arXiv covers all areas of AI except Vision, Robotics, Machine Learning, Multiagent Systems, and Computation and Language (Natural Language Processing), which have separate subject areas. ... Highlight: In this paper, we relate recent and early research results in neurosymbolic AI with the objective of ... The world of artificial intelligence (AI) continues to evolve at an astonishing pace. In 2024, groundbreaking research has pushed the boundaries of AI applications, theory, and deployment. Below, we highlight ten of the most influential AI research papers this year, providing insights into their contributions and practical implications. 1.\u001B[0m\u001B[32;1m\u001B[1;3mI found some recent research papers about Artificial Intelligence:\n",
      "\n",
      "1. Title: \"Generative Models in Artificial Intelligence: State-of-the-Art Performance and Applications\"\n",
      "   Authors: Not specified\n",
      "   Subjects: Machine Learning, Artificial Intelligence, Networking and Internet Architecture, Systems and Control\n",
      "\n",
      "2. Title: \"Paradigm Shift in Artificial Intelligence: Advances in Generative Models\"\n",
      "   Authors: Not specified\n",
      "   Subjects: Artificial Intelligence, Machine Learning\n",
      "\n",
      "3. Title: \"Neurosymbolic AI: Recent Research Results and Future Directions\"\n",
      "   Authors: Not specified\n",
      "   Subjects: Artificial Intelligence\n",
      "\n",
      "4. Title: \"Advancements in Artificial Intelligence: A Review of Recent Research\"\n",
      "   Authors: Not specified\n",
      "   Subjects: Artificial Intelligence\n",
      "\n",
      "5. Title: \"Innovations in AI: Top 10 Influential Research Papers of 2024\"\n",
      "   Authors: Not specified\n",
      "   Subjects: Artificial Intelligence\n",
      "\n",
      "Please note that the authors of these papers are not specified in the search results. You can explore these papers further by searching for their full texts or authors.\u001B[0m\n",
      "\n",
      "\u001B[1m> Finished chain.\u001B[0m\n"
     ]
    }
   ],
   "execution_count": 9
  },
  {
   "cell_type": "markdown",
   "source": [
    "\n",
    "\n",
    "### Завдання 4: Створення агента-помічника для вирішення бізнес-задач\n",
    "\n",
    "Створіть агента, який допомагає вирішувати задачі бізнес-аналітики. Агент має допомогти користувачу створити прогноз по продажам на наступний рік враховуючи рівень інфляції і погодні умови. Агент має вміти використовувати Python і ходити в інтернет аби отримати актуальні дані.\n",
    "\n",
    "**Кроки:**\n",
    "1. Налаштуйте агента, який працюватиме з аналітичними даними, заданими текстом. Користувач пише\n",
    "\n",
    "```\n",
    "Ми експортуємо апельсини з Бразилії. В 2021 експортували 200т, в 2022 - 190т, в 2023 - 210т, в 2024 який ще не закінчився - 220т. Зроби оцінку скільки ми зможемо експортувати апельсинів в 2025 враховуючи погодні умови в Бразилії і попит на апельсини в світі виходячи з економічної ситуації.\n",
    "```\n",
    "\n",
    "2. Створіть запит до агента, що містить чітке завдання – видати результат бізнес аналізу або написати, що він не може цього зробити і запит користувача (просто може бути все одним повідомлленням).\n",
    "\n",
    "3. Запустіть агента і проаналізуйте результати. Що можна покращити?\n"
   ],
   "metadata": {
    "id": "IOqujC6qY_NY"
   }
  },
  {
   "cell_type": "code",
   "metadata": {
    "ExecuteTime": {
     "end_time": "2025-03-30T20:00:23.722622Z",
     "start_time": "2025-03-30T20:00:23.707240Z"
    }
   },
   "source": [
    "# Step 1: Install dependencies (if not yet)\n",
    "# Run this in your terminal or notebook\n",
    "# !pip install langchain langchain-openai langchain_community duckduckgo-search openai\n",
    "\n",
    "# !pip install --upgrade langchain\n",
    "# !pip install langchain-community langchain langchain-openai langchain-community duckduckgo-search openai\n",
    "# !pip show langchain\n",
    "\n",
    "# Step 2: Import libraries\n",
    "import json\n",
    "from langchain_openai import ChatOpenAI\n",
    "from langchain.agents import initialize_agent, AgentType, Tool\n",
    "from langchain_community.tools import DuckDuckGoSearchRun\n",
    "from langchain_experimental.tools import PythonREPLTool\n",
    "\n"
   ],
   "outputs": [],
   "execution_count": 5
  },
  {
   "metadata": {
    "id": "UK6KA9PyRS0L",
    "ExecuteTime": {
     "end_time": "2025-03-30T20:00:33.721253Z",
     "start_time": "2025-03-30T20:00:29.604742Z"
    }
   },
   "cell_type": "code",
   "source": [
    "# Step 3: Load your OpenAI API key securely\n",
    "with open(\"creds.json\") as f:\n",
    "    creds = json.load(f)\n",
    "api_key = creds[\"open_ai_api_key\"]\n",
    "\n",
    "# Step 4: Initialize the LLM (GPT-3.5 or GPT-4)\n",
    "llm = ChatOpenAI(\n",
    "    model_name=\"gpt-3.5-turbo\",     # You can change to \"gpt-4\" if needed\n",
    "    temperature=0.4,                # Moderate creativity\n",
    "    openai_api_key=api_key\n",
    ")\n",
    "\n",
    "# Step 5: Create tools\n",
    "# DuckDuckGo tool for web search (inflation, weather, global demand)\n",
    "search_tool = DuckDuckGoSearchRun()\n",
    "\n",
    "# Python REPL tool for doing in-code data analysis\n",
    "tools = [\n",
    "    Tool(\n",
    "        name=\"duckduckgo_search\",\n",
    "        func=search_tool.run,\n",
    "        description=\"Use this tool to search the internet for data such as inflation, global demand, weather conditions, etc.\"\n",
    "    ),\n",
    "    PythonREPLTool()  # Allows execution of Python code during reasoning\n",
    "]\n",
    "\n",
    "# Step 6: Create the agent with ReAct logic and tools\n",
    "agent = initialize_agent(\n",
    "    tools=tools,\n",
    "    llm=llm,\n",
    "    agent=AgentType.OPENAI_FUNCTIONS,\n",
    "    verbose=True,                # Enables debug output\n",
    "    handle_parsing_errors=True   # Handles model response formatting issues\n",
    ")\n",
    "\n",
    "# Step 7: Define user query in English (business forecasting request)\n",
    "user_query = \"\"\"\n",
    "We export oranges from Brazil. In 2021 we exported 200 tons, in 2022 - 190 tons, in 2023 - 210 tons,\n",
    "in 2024 - 199 tons, and in 2025 (which is still ongoing) - 20 tons so far.\n",
    "\n",
    "Please make a forecast for how many oranges we are likely to export in 2025,\n",
    "considering weather conditions in Brazil and global demand for oranges,\n",
    "based on the current economic situation.\n",
    "\"\"\"\n",
    "\n",
    "# Step 8: Invoke the agent with the query\n",
    "response = agent.invoke(user_query)\n",
    "\n",
    "# Step 9: Output the result\n",
    "print(\"\\n Final Forecast Response:\\n\")\n",
    "print(response)"
   ],
   "outputs": [
    {
     "name": "stdout",
     "output_type": "stream",
     "text": [
      "\n",
      "\n",
      "\u001B[1m> Entering new AgentExecutor chain...\u001B[0m\n",
      "\u001B[32;1m\u001B[1;3m\n",
      "Invoking: `duckduckgo_search` with `Brazil orange export forecast 2025`\n",
      "\n",
      "\n",
      "\u001B[0m\u001B[36;1m\u001B[1;3mFundecitrus and its cooperators released an orange crop forecast on Feb. 10. Total production is forecast to be 228.52 million boxes for 2024-25. This is a 2.4% increase from the December forecast of 223.14 million boxes, but a decrease of 1.7% from the season's initial orange estimate that was released in May. Brazil production is forecast up 9% to 1 million tons. Exports are up. Brazil is by far the largest OJ producer and is projected to account for three-quarters of global OJ exports. Mexico production is projected to increase 4% to 187,000 tons. Exports are up, with the United States expected to remain the top export market. United States ... Not even a decrease of exports in the 2024/25 season will be enough to compensate for the reduction in the volume of fruit processed, which will maintain the demand from the industry at high levels. Moreover, Florida has been registering a decrease in inventories and may need to import more inputs from Brazil, which helps to sustain quotations ... Despite this decrease, Brazil's production is anticipated to recover slightly from the current season, which was the lowest since 1988. Post forecasts orange weight at 160 grams/5.64 ounces in MY 2024/25, three percent lighter than Post's previous estimate of 165 grams for MY 2023/24 due to adverse weather conditions. As the world's largest exporter of orange juice, Brazil has driven a steep drop in the commodity's prices—cutting futures by 50% so far this year alone. In early January, frozen concentrated orange juice (FCOJ) contracts hit a record high of $5.1465 per pound on the New York exchange. ... While Mr. Padilha said the USDA forecast is the ...\u001B[0m\u001B[32;1m\u001B[1;3mBased on the forecast for orange production in Brazil for the 2024-2025 season, it is anticipated that Brazil's orange exports will increase. The current economic situation indicates a recovery in production compared to the previous season, which was the lowest since 1988.\n",
      "\n",
      "Considering the increase in orange production and the sustained demand for oranges from the industry, it is likely that Brazil will export more oranges in 2025 compared to previous years. The global demand for orange juice, especially from the United States, is expected to remain high.\n",
      "\n",
      "Therefore, based on the forecast and the current economic conditions, it is reasonable to expect that Brazil will export a higher quantity of oranges in 2025 compared to previous years.\u001B[0m\n",
      "\n",
      "\u001B[1m> Finished chain.\u001B[0m\n",
      "\n",
      " Final Forecast Response:\n",
      "\n",
      "{'input': '\\nWe export oranges from Brazil. In 2021 we exported 200 tons, in 2022 - 190 tons, in 2023 - 210 tons,\\nin 2024 - 199 tons, and in 2025 (which is still ongoing) - 20 tons so far.\\n\\nPlease make a forecast for how many oranges we are likely to export in 2025,\\nconsidering weather conditions in Brazil and global demand for oranges,\\nbased on the current economic situation.\\n', 'output': \"Based on the forecast for orange production in Brazil for the 2024-2025 season, it is anticipated that Brazil's orange exports will increase. The current economic situation indicates a recovery in production compared to the previous season, which was the lowest since 1988.\\n\\nConsidering the increase in orange production and the sustained demand for oranges from the industry, it is likely that Brazil will export more oranges in 2025 compared to previous years. The global demand for orange juice, especially from the United States, is expected to remain high.\\n\\nTherefore, based on the forecast and the current economic conditions, it is reasonable to expect that Brazil will export a higher quantity of oranges in 2025 compared to previous years.\"}\n"
     ]
    }
   ],
   "execution_count": 6
  }
 ]
}
