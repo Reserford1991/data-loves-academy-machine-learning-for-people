{
 "nbformat": 4,
 "nbformat_minor": 0,
 "metadata": {
  "colab": {
   "provenance": []
  },
  "kernelspec": {
   "name": "python3",
   "display_name": "Python 3 (ipykernel)",
   "language": "python"
  },
  "language_info": {
   "name": "python"
  }
 },
 "cells": [
  {
   "metadata": {
    "ExecuteTime": {
     "end_time": "2024-12-25T16:39:03.918038Z",
     "start_time": "2024-12-25T16:39:03.891900Z"
    }
   },
   "cell_type": "code",
   "source": [
    "import numpy as np\n",
    "from PIL.ImageChops import difference\n",
    "from statsmodels.stats.weightstats import ztest, ttest_ind"
   ],
   "outputs": [
    {
     "ename": "ImportError",
     "evalue": "cannot import name 'ttest_rel' from 'statsmodels.stats.weightstats' (/Library/Frameworks/Python.framework/Versions/3.12/lib/python3.12/site-packages/statsmodels/stats/weightstats.py)",
     "output_type": "error",
     "traceback": [
      "\u001B[0;31m---------------------------------------------------------------------------\u001B[0m",
      "\u001B[0;31mImportError\u001B[0m                               Traceback (most recent call last)",
      "Cell \u001B[0;32mIn[56], line 3\u001B[0m\n\u001B[1;32m      1\u001B[0m \u001B[38;5;28;01mimport\u001B[39;00m \u001B[38;5;21;01mnumpy\u001B[39;00m \u001B[38;5;28;01mas\u001B[39;00m \u001B[38;5;21;01mnp\u001B[39;00m\n\u001B[1;32m      2\u001B[0m \u001B[38;5;28;01mfrom\u001B[39;00m \u001B[38;5;21;01mPIL\u001B[39;00m\u001B[38;5;21;01m.\u001B[39;00m\u001B[38;5;21;01mImageChops\u001B[39;00m \u001B[38;5;28;01mimport\u001B[39;00m difference\n\u001B[0;32m----> 3\u001B[0m \u001B[38;5;28;01mfrom\u001B[39;00m \u001B[38;5;21;01mstatsmodels\u001B[39;00m\u001B[38;5;21;01m.\u001B[39;00m\u001B[38;5;21;01mstats\u001B[39;00m\u001B[38;5;21;01m.\u001B[39;00m\u001B[38;5;21;01mweightstats\u001B[39;00m \u001B[38;5;28;01mimport\u001B[39;00m ztest, ttest_ind, ttest_rel\n",
      "\u001B[0;31mImportError\u001B[0m: cannot import name 'ttest_rel' from 'statsmodels.stats.weightstats' (/Library/Frameworks/Python.framework/Versions/3.12/lib/python3.12/site-packages/statsmodels/stats/weightstats.py)"
     ]
    }
   ],
   "execution_count": 56
  },
  {
   "metadata": {
    "id": "ID3uSQHkQJ2J"
   },
   "cell_type": "markdown",
   "source": [
    "В цьому ДЗ потренуємось виконувати Z-тести для тестування гіпотез в різних задачах. Для коректної імплементації та інтерпретації тестів рекоемндую переглянути спершу документацію:\n",
    "\n",
    "https://www.statsmodels.org/dev/generated/statsmodels.stats.weightstats.ztest.html\n",
    "\n",
    "### Завдання 1: Z-тест для однієї вибірки\n",
    "\n",
    "**Мета**: Перевірити, чи середнє значення вибірки відрізняється від гіпотетичного середнього.\n",
    "\n",
    "**Припущення**: Середній ріст студентів університету вважається 170 см. Ми хочемо перевірити, чи середній ріст випадкової вибірки студентів істотно більший. Вибірка задана в змінній `heights`.\n",
    "\n",
    "Для виконання завдання імпортуйте метод для проведення `ztest`, виконайте Z-тест з Python, виведіть p-value і зробіть заключення, чи справдилось припущення про середній зріст студентів на рівні значущості 0.05?\n",
    "\n",
    "Використовуємо тут Z-тест, оскільки вибірка достатньо велика (більше 30 екземплярів) і можемо вважати, що її стандартне відхилення близьке до ст. відхилення генеральної сукупності, а значить - відоме."
   ]
  },
  {
   "metadata": {
    "id": "TUYNSCDzRE7N",
    "ExecuteTime": {
     "end_time": "2024-12-25T15:09:34.034626Z",
     "start_time": "2024-12-25T15:09:34.032193Z"
    }
   },
   "cell_type": "code",
   "source": [
    "heights = [174, 171, 175, 179, 170, 170, 179, 175, 169, 174, 169, 169, 173, 162, 163, 169, 166,\n",
    "           173, 167, 164, 179, 170, 172, 164, 169, 175, 169, 174, 169, 169, 173, 162, 177]"
   ],
   "outputs": [],
   "execution_count": 2
  },
  {
   "cell_type": "code",
   "source": [
    "students_mean = 170\n",
    "heights_mean = np.mean(heights)\n",
    "sample_size = len(heights)\n",
    "sd_height = np.std(heights)\n",
    "alpha = 0.05\n",
    "null_value = students_mean\n",
    "\n",
    "print(\"Прогнозований сepeдній зріст:\", students_mean)\n",
    "print(\"Cepeдній зріст у вибірці:\", heights_mean)\n",
    "print(\"Розмір вибірки:\", sample_size)\n",
    "print(\"Стандартне відхилення:\", sd_height)\n",
    "print(\"Рівень Значущості:\", f\"{alpha*100:.2f}%\", \"або\", alpha)\n",
    "print(\"Нульова гіпотеза:\", null_value)\n",
    "\n",
    "z_test_score, p_value = ztest(heights, value = null_value, alternative='larger')\n",
    "\n",
    "print(\"\\nЛівосторонній z-test\")\n",
    "print(\"Значення z-тесту:\", z_test_score, \"\\nЗначення p-value:\", p_value)\n",
    "\n",
    "print(\"\\n\")\n",
    "\n",
    "if p_value <  alpha:\n",
    "    print(\"Відхилити Н0.\")\n",
    "else:\n",
    "    print(\"Н0 не може бути відхилена.\")"
   ],
   "metadata": {
    "id": "uTJEZPARYMd4",
    "ExecuteTime": {
     "end_time": "2024-12-25T15:51:53.736600Z",
     "start_time": "2024-12-25T15:51:53.731991Z"
    }
   },
   "outputs": [
    {
     "name": "stdout",
     "output_type": "stream",
     "text": [
      "Прогнозований сepeдній зріст: 170\n",
      "Cepeдній зріст у вибірці: 170.6969696969697\n",
      "Розмір вибірки: 33\n",
      "Стандартне відхилення: 4.648133209409457\n",
      "Рівень Значущості: 5.00% або 0.05\n",
      "Нульова гіпотеза: 170\n",
      "\n",
      "Лівосторонній z-test\n",
      "Значення z-тесту: 0.8482235371587619 \n",
      "Значення p-value: 0.19815674571091746\n",
      "\n",
      "\n",
      "Н0 не може бути відхилена.\n"
     ]
    }
   ],
   "execution_count": 28
  },
  {
   "metadata": {},
   "cell_type": "markdown",
   "source": "Виходячи з наведеного вище коду, середній зріст студентів знаходиться на рівні значущості > 0.05. Це означає що наша гіпотеза ймовірна."
  },
  {
   "cell_type": "markdown",
   "source": [
    "### Завдання 2: Z-тест для двох незалежних вибірок\n",
    "\n",
    "**Завдання 2.1.**\n",
    "\n",
    "**Мета**: Перевірити, чи існує статистична різниця між середніми оцінками двох груп студентів.\n",
    "\n",
    "**Припущення**: Група A отримала новий навчальний курс, а група B продовжувала зі стандартним курсом. Ми перевіряємо, чи є новий курс ефективнішим.\n",
    "\n",
    "Виконайте Z-тест з Python, виведіть p-value і зробіть заключення, чи справдилось припущення щодо студентів на рівні значущості 0.05?"
   ],
   "metadata": {
    "id": "ga4iKM9kQa9Q"
   }
  },
  {
   "metadata": {
    "ExecuteTime": {
     "end_time": "2024-12-25T16:12:44.640117Z",
     "start_time": "2024-12-25T16:12:44.635409Z"
    }
   },
   "cell_type": "code",
   "source": [
    "group_a_scores = [78.55, 72.25, 79.88, 75.0, 76.54, 74.99, 87.26, 77.93, 72.71,\n",
    "                  82.11, 71.9, 79.04, 68.2, 71.36, 78.98, 81.69, 78.86, 77.42,\n",
    "                  76.49, 70.61, 74.4, 75.7, 83.29, 79.72, 69.18, 79.62, 76.07,\n",
    "                  74.62, 81.06, 83.15, 82.66, 73.8, 76.45, 79.66, 82.88, 75.6,\n",
    "                  77.07, 72.47, 72.02, 82.06]\n",
    "\n",
    "group_b_scores = [81.78, 74.64, 80.02, 76.81, 71.77, 76.81, 82.69, 74.82, 82.82,\n",
    "                  61.9, 79.11, 75.44, 73.5, 75.46, 65.06, 73.9, 76.79, 82.39,\n",
    "                  72.41, 70.96, 72.49, 79.58, 76.64, 72.35, 77.57, 75.49, 79.84,\n",
    "                  71.49, 73.36, 73.04, 67.68, 76.48, 76.31, 75.03, 73.83, 67.92,\n",
    "                  72.9, 73.29, 70.99, 74.19]\n",
    "\n",
    "# Calculate means\n",
    "mean_group_a_scores = np.mean(group_a_scores)\n",
    "mean_group_b_scores = np.mean(group_b_scores)\n",
    "\n",
    "# Perform z-test\n",
    "z_test_score, p_value = ztest(group_a_scores, group_b_scores, value = 0)\n",
    "\n",
    "# Output results\n",
    "print(\"Середній бал групи A:\", mean_group_a_scores)\n",
    "print(\"Середній бал групи B:\", mean_group_b_scores)\n",
    "print(\"p-value:\", p_value)\n",
    "\n",
    "# Conclusion based on p-value\n",
    "if p_value < 0.05:\n",
    "       print(\"Відхилити Н0: існує статистично значима різниця між групами.\")\n",
    "else:\n",
    "       print(\"Н0 не може бути відхилена: немає статистично значимої різниці.\")"
   ],
   "outputs": [
    {
     "name": "stdout",
     "output_type": "stream",
     "text": [
      "Середній бал групи A: 77.08125\n",
      "Середній бал групи B: 74.73875000000001\n",
      "p-value: 0.01840564855252801\n",
      "Відхилити Н0: існує статистично значима різниця між групами.\n"
     ]
    }
   ],
   "execution_count": 38
  },
  {
   "metadata": {},
   "cell_type": "markdown",
   "source": "У своїй гіпотезі я припустив, що нема різниці між балами у групах і отримав p-value < 0.05, тобто моя гіпотеза не підтвердилася. Це означає, що між групами є різниця."
  },
  {
   "cell_type": "markdown",
   "source": [
    "**Завдання 2.2.**\n",
    "\n",
    "\n",
    "**Мета**: Побачити, як впливає розмір вибірок на результат тесту.\n",
    "\n",
    "**Завдання**: Уявіть, що з групи А ми маємо тільки перші 5 записів, а з групи В - усі. Таке могло статись, якщо ми вже маємо результати тестів учнів за попередньою програмою, а тести за новою програмою здали наразі лише 5 учнів і ми вирішили не чекати довше.\n",
    "Виберіть перші 5 записів для групи А і проведіть t-test (для цього використовуємо наступний [метод](https://docs.scipy.org/doc/scipy/reference/generated/scipy.stats.ttest_ind.html)). Виведіть значення p-value. Зробіть висновок, який результат ви бачите щодо стат. значущості на рівні 0.05 для цього експерименту?\n",
    "\n",
    "Тут проводимо t-test оскільки одна з вибірок - дуже мала."
   ],
   "metadata": {
    "id": "zOxz2tU0VpJM"
   }
  },
  {
   "cell_type": "code",
   "source": [
    "group_a_5_scores = [78.55, 72.25, 79.88, 75.0, 76.54]\n",
    "\n",
    "group_b_all_scores = [81.78, 74.64, 80.02, 76.81, 71.77, 76.81, 82.69, 74.82, 82.82,\n",
    "                  61.9, 79.11, 75.44, 73.5, 75.46, 65.06, 73.9, 76.79, 82.39,\n",
    "                  72.41, 70.96, 72.49, 79.58, 76.64, 72.35, 77.57, 75.49, 79.84,\n",
    "                  71.49, 73.36, 73.04, 67.68, 76.48, 76.31, 75.03, 73.83, 67.92,\n",
    "                  72.9, 73.29, 70.99, 74.19]\n",
    "\n",
    "mean_group_a_5_scores = np.mean(group_a_5_scores)\n",
    "mean_group_b_all_scores = np.mean(group_b_all_scores)\n",
    "\n",
    "result = ttest_ind(group_a_5_scores, group_b_all_scores)\n",
    "\n",
    "print(\"Середній бал групи A:\", mean_group_a_scores)\n",
    "print(\"Середній бал групи B:\", mean_group_b_scores)\n",
    "print(\"Результат t-тесту:\", result)\n"
   ],
   "metadata": {
    "id": "D9znE6liYQmP",
    "ExecuteTime": {
     "end_time": "2024-12-25T16:20:17.091910Z",
     "start_time": "2024-12-25T16:20:17.088234Z"
    }
   },
   "outputs": [
    {
     "name": "stdout",
     "output_type": "stream",
     "text": [
      "Середній бал групи A: 77.08125\n",
      "Середній бал групи B: 74.73875000000001\n",
      "Результат t-тесту: (0.8167951030410882, 0.4185479477535694, 43.0)\n"
     ]
    }
   ],
   "execution_count": 44
  },
  {
   "metadata": {},
   "cell_type": "markdown",
   "source": "Як бачимо для t-тесту з неповною вибіркою, для першої групи, p-value змінилося і стало 0.41 або 41%. З цього тесту випливає, що у студентів у обох групах однакові бали."
  },
  {
   "cell_type": "markdown",
   "source": [
    "\n",
    "### Завдання 3\\*: Z-тест для двох **пов'язаних** вибірок\n",
    "\n",
    "**Мета**: Перевірити, чи вплинув тренінг на продуктивність працівників, коли всі справробітники проходили тренінг.\n",
    "\n",
    "**Припущення**: Наші працівники проходять однаковий тренінг, і ми хочемо з'ясувати, чи покращилися їхні показники після тренінгу на рівні значущості 0.05. Виконайте Z-тест з Python, виведіть p-value і зробіть заключення, чи поліпшились показники працівників на рівні значущості 0.05?\n",
    "\n",
    "Зверніть увагу, ці вибірки повʼязані між собою, значить не буде коректно виконати z-test між ними, натомість, ми можемо порівняти, чи різниця в результатах (продуктивності співробітників) є стат значущою."
   ],
   "metadata": {
    "id": "3TcRHLLz0SLw"
   }
  },
  {
   "cell_type": "code",
   "source": [
    "before_training = [57.82, 37.63, 36.8 , 55.22, 52.97, 52.5 , 53.46, 43.2 , 52.32,\n",
    "       52.93, 42.86, 68.66, 54.74, 38.09, 56.57, 40.25, 57.87, 61.59,\n",
    "       41.79, 59.63, 54.13, 58.22, 68.97, 47.55, 42.46, 41.1 , 41.84,\n",
    "       49.23, 53.41, 52.77]\n",
    "\n",
    "after_training = [62.47, 40.66, 42.7 , 57.69, 61.41, 56.76, 54.75, 44.06, 56.29,\n",
    "       55.48, 47.28, 72.6 , 57.59, 39.39, 56.54, 42.36, 62.58, 65.01,\n",
    "       42.3 , 62.98, 57.9 , 59.45, 72.28, 50.66, 43.18, 44.82, 45.96,\n",
    "       54.4 , 58.52, 53.01]\n",
    "\n",
    "alpha = 0.05\n",
    "\n",
    "before_training_mean = np.mean(before_training)\n",
    "after_training_mean = np.mean(after_training)\n",
    "\n",
    "print(\"Середній бал перед тренінгом:\", before_training_mean)\n",
    "print(\"Середній бал після тренінгу:\", after_training_mean)\n",
    "\n",
    "null_value = before_training_mean\n",
    "\n",
    "z_test_score, p_value = ztest(after_training, value = null_value, alternative='larger')\n",
    "\n",
    "print(\"\\nЛівосторонній z-test\")\n",
    "print(\"Значення z-тесту:\", z_test_score, \"\\nЗначення p-value:\", p_value)\n",
    "\n",
    "\n",
    "if p_value <  alpha:\n",
    "    print(\"Середній бал підвищився\")\n",
    "else:\n",
    "    print(\"Середній бал не підвищився.\")\n",
    "\n",
    "\n",
    "print(\"\\nВирішення проблеми за допомогою функції ttest_rel\\n\")\n",
    "\n",
    "# alternative solution\n",
    "\n",
    "from scipy.stats import ttest_rel\n",
    "\n",
    "# Perform the paired t-test\n",
    "t_statistic, p_value = ttest_rel(after_training, before_training)\n",
    "\n",
    "# Output results\n",
    "print(\"t-статистика:\", t_statistic)\n",
    "print(\"p-value:\", p_value)\n",
    "\n",
    "# Conclusion based on p-value\n",
    "if p_value < 0.05:\n",
    "    print(\"Відхилити Н0: продуктивність працівників покращилась після тренінгу.\")\n",
    "else:\n",
    "    print(\"Н0 не може бути відхилена: немає статистично значущого покращення.\")"
   ],
   "metadata": {
    "id": "NwCsN91OYSpN",
    "ExecuteTime": {
     "end_time": "2024-12-25T16:43:34.609458Z",
     "start_time": "2024-12-25T16:43:34.603839Z"
    }
   },
   "outputs": [
    {
     "name": "stdout",
     "output_type": "stream",
     "text": [
      "Середній бал перед тренінгом: 50.885999999999996\n",
      "Середній бал після тренінгу: 54.03600000000001\n",
      "\n",
      "Лівосторонній z-test\n",
      "Значення z-тесту: 1.8926750838692235 \n",
      "Значення p-value: 0.02920054593097008\n",
      "Середній бал підвищився\n",
      "\n",
      "Вирішення проблеми за допомогою функції ttest_rel\n",
      "\n",
      "t-статистика: 9.13890009623916\n",
      "p-value: 4.885873625502449e-10\n",
      "Відхилити Н0: продуктивність працівників покращилась після тренінгу.\n"
     ]
    }
   ],
   "execution_count": 59
  }
 ]
}
