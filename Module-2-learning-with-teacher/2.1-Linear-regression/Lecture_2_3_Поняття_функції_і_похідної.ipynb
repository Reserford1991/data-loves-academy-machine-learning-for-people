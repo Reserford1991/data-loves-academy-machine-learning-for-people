{
  "nbformat": 4,
  "nbformat_minor": 0,
  "metadata": {
    "colab": {
      "provenance": [],
      "toc_visible": true
    },
    "kernelspec": {
      "name": "python3",
      "display_name": "Python 3"
    },
    "language_info": {
      "name": "python"
    }
  },
  "cells": [
    {
      "cell_type": "markdown",
      "source": [
        "# Що таке \"функція\"\n",
        "\n",
        "**Функція** — це математичний інструмент, який дозволяє нам встановити залежність між двома наборами значень. Її можна уявити як \"машину\" або правило, куди ви подаєте одне значення, і в результаті отримуєте інше значення. В машинному навчанні модель - це і є функція від незалежних змінних, яка дозволяє обчислювати залежну (робити передбачення).\n",
        "\n",
        "### Поняття функції\n",
        "\n",
        "Уявімо, що у нас є два набори чисел. Перший набір — це дані, які ми маємо (наприклад, години, протягом яких ми вчилися), а другий набір — це дані, які ми хочемо отримати (наприклад, оцінки, які ми можемо отримати в тесті). Функція дозволяє нам визначити, як години вивчення впливають на оцінки.\n",
        "\n",
        "### Формальне визначення\n",
        "\n",
        "Функція $ f $ є правилом, яке кожному елементу з одного набору (називається домен або область визначення функції) ставить у відповідність рівно один елемент з іншого набору (називається кодомен або область значень функції).\n",
        "\n",
        "### Математичний приклад\n",
        "\n",
        "Нехай $ x $ — це кількість годин, протягом яких ви вчитеся. Функція, яка визначає вашу оцінку, може виглядати так:\n",
        "\n",
        "$ f(x) = 10x - 5 $\n",
        "\n",
        "Де $ f(x) $ — це оцінка, яку ви отримаєте. Якщо ви вчитиметесь 1 годину ($ x = 1 $), ваша оцінка буде:\n",
        "\n",
        "$ f(1) = 10 \\cdot 1 - 5 = 5 $\n",
        "\n",
        "Якщо ви вчитиметесь 3 години ($ x = 3 $), ваша оцінка буде:\n",
        "\n",
        "$ f(3) = 10 \\cdot 3 - 5 = 25 $"
      ],
      "metadata": {
        "id": "6XXDRlt_YdV-"
      }
    },
    {
      "cell_type": "code",
      "source": [
        "def f(x):\n",
        "  return np.sin(x)"
      ],
      "metadata": {
        "id": "bzONfH5WlNj9"
      },
      "execution_count": null,
      "outputs": []
    },
    {
      "cell_type": "code",
      "source": [
        "import matplotlib.pyplot as plt\n",
        "import numpy as np\n",
        "\n",
        "xs = np.linspace(0,10,20)\n",
        "plt.plot(xs, f(xs), 'o');"
      ],
      "metadata": {
        "colab": {
          "base_uri": "https://localhost:8080/",
          "height": 430
        },
        "id": "ITShYXf9lQhS",
        "outputId": "98b207e0-8086-4448-d86c-f4ae8261e428"
      },
      "execution_count": null,
      "outputs": [
        {
          "output_type": "display_data",
          "data": {
            "text/plain": [
              "<Figure size 640x480 with 1 Axes>"
            ],
            "image/png": "[encoded data removed]"
          },
          "metadata": {}
        }
      ]
    },
    {
      "cell_type": "markdown",
      "source": [
        "# Похідна функції\n",
        "\n",
        "Похідна — це фундаментальне математичне поняття, яке вимірює, наскільки швидко змінюється одна змінна у відповідь на зміну іншої змінної.\n",
        "Похідна дозволяє аналізувати ріст, спад або кривизну функції.\n",
        "\n",
        "У контексті машинного навчання, похідна допомагає зрозуміти, як зміниться функція втрат, якщо ми трохи змінимо ваги або параметри моделі. Розуміння того, як працює похідна, є ключовим для оптимізації моделей машинного навчання, зокрема за допомогою градієнтного спуску.\n",
        "\n",
        "## Математичне визначення\n",
        "\n",
        "Якщо маємо функцію $ f(x) $, то похідна $ f $ в точці $ x $, позначається як $ f'(x) $, визначається як:\n",
        "\n",
        "$$\n",
        "f'(x) = \\lim_{h \\to 0} \\frac{f(x + h) - f(x)}{h}\n",
        "$$\n",
        "\n",
        "де $ h $ — невелике прирощення в $ x $.\n",
        "\n",
        "Тобто математично похідна функції представляє собою межу відношення приросту функції до приросту змінної, коли приріст змінної наближається до нуля. Це дає нам \"миттєву\" швидкість зміни функції.\n",
        "\n",
        "## Приклад для інтуїтивного розуміння\n",
        "\n",
        "Уявімо, що ви їдете автомобілем, і ваша швидкість змінюється, коли ви рухаєтеся по дорозі. Нехай $ f(x) $ означає ваше положення на шосе в кілометрах в час $ x $, який вимірюється в годинах. Тоді похідна $ f'(x) $, в точці $ x $, даватиме вашу швидкість в кілометрах на годину в цей момент часу. Якщо ви знаєте своє положення в різний час, ви можете обчислити, наскільки швидко ви переміщуєтеся.\n",
        "\n",
        "### Формальний приклад:\n",
        "\n",
        "Нехай $ f(x) = x^2 $. Припустимо, ми хочемо знайти похідну цієї функції при $ x = 3 $.\n",
        "\n",
        "1. **Обчислення за формулою**:\n",
        "   $$\n",
        "   f'(x) = \\lim_{h \\to 0} \\frac{f(x + h) - f(x)}{h}\n",
        "   $$\n",
        "   Підставимо $ f(x) = x^2 $:\n",
        "   $$\n",
        "   f'(3) = \\lim_{h \\to 0} \\frac{(3 + h)^2 - 3^2}{h}\n",
        "   $$\n",
        "   Розкриваємо дужки та спрощуємо вираз:\n",
        "   $$\n",
        "   f'(3) = \\lim_{h \\to 0} \\frac{9 + 6h + h^2 - 9}{h} = \\lim_{h \\to 0} \\frac{6h + h^2}{h}\n",
        "   $$\n",
        "   Спрощуємо:\n",
        "   $$\n",
        "   f'(3) = \\lim_{h \\to 0} 6 + h = 6\n",
        "   $$\n",
        "   Отже, похідна $ f(x) = x^2 $ в точці $ x = 3 $ дорівнює 6.\n",
        "\n",
        "Цей результат можна інтерпретувати так: якщо $ x $ збільшується на маленьку величину, значення $ f(x) = x^2 $ зростає приблизно на $ 6 $ разів швидше за $ x $ у точці $ x = 3 $. Це дає нам інформацію про \"швидкість зміни\" функції у цій точці.\n"
      ],
      "metadata": {
        "id": "HJuT4odNZjrf"
      }
    },
    {
      "cell_type": "code",
      "source": [
        "import numpy as np\n",
        "import matplotlib.pyplot as plt\n",
        "\n",
        "# Визначення функції та її похідної\n",
        "x = np.linspace(0, 5, 100)\n",
        "f = x**2\n",
        "df = 2 * x  # Похідна f'(x) = 2x\n",
        "\n",
        "# Створення графіку\n",
        "plt.figure(figsize=(10, 5))\n",
        "plt.plot(x, f, label='f(x) = x^2', color='blue')\n",
        "plt.plot(x, df, label=\"f'(x) = 2x\", color='green')\n",
        "\n",
        "# Позначення точки та дотичної лінії\n",
        "x_point = 3\n",
        "f_point = x_point**2\n",
        "df_point = 2 * x_point\n",
        "tangent_line = df_point * (x - x_point) + f_point  # Рівняння дотичної: y - y1 = m(x - x1)\n",
        "\n",
        "plt.scatter(x_point, f_point, color='red') # точка на кривій\n",
        "plt.plot(x, tangent_line, '--', color='red', label='Tangent at x = 3') # дотична\n",
        "\n",
        "# Додавання легенди, міток та заголовка\n",
        "plt.title(\"Графік функції та її похідної\")\n",
        "plt.xlabel(\"x\")\n",
        "plt.ylabel(\"y\")\n",
        "plt.legend()\n",
        "plt.grid(True)\n",
        "\n",
        "plt.show()\n"
      ],
      "metadata": {
        "colab": {
          "base_uri": "https://localhost:8080/",
          "height": 487
        },
        "id": "VD-nOecXcy09",
        "outputId": "90438f09-3198-4c34-e2bc-8e424f393491"
      },
      "execution_count": null,
      "outputs": [
        {
          "output_type": "display_data",
          "data": {
            "text/plain": [
              "<Figure size 1000x500 with 1 Axes>"
            ],
            "image/png": "[encoded data removed]"
          },
          "metadata": {}
        }
      ]
    },
    {
      "cell_type": "markdown",
      "source": [
        "## Похідна і тангенс кута нахилу дотичної\n",
        "Графічно, похідна фукнції в точці відповідає тангенсу кута нахилу дотичної лінії до кривої в заданій точці. Цей зв'язок виходить з визначення похідної, як міра зміни функії в малому околі точки.\n",
        "\n",
        "### Виведення формули дотичної\n",
        "\n",
        "Нехай $ f(x) $ — диференційована функція, і нам потрібно знайти рівняння дотичної до її графіка в точці $ x = a $. Рівняння прямої в загальній формі можна записати як:\n",
        "\n",
        "$$\n",
        "y = mx + b\n",
        "$$\n",
        "\n",
        "де $ m $ — нахил прямої, а $ b $ — відрізок прямої на осі $ y $.\n",
        "\n",
        "Для дотичної:\n",
        "- Нахил дотичної, $ m $, дорівнює похідній функції $ f $ в точці $ a $, тобто $ m = f'(a) $.\n",
        "- Ця дотична проходить через точку $ (a, f(a)) $ на графіку.\n",
        "\n",
        "Підставляючи ці значення в рівняння прямої, ми отримаємо:\n",
        "\n",
        "$$\n",
        "f(a) = f'(a) \\cdot a + b\n",
        "$$\n",
        "\n",
        "Звідси можемо виразити $ b $:\n",
        "\n",
        "$$\n",
        "b = f(a) - f'(a) \\cdot a\n",
        "$$\n",
        "\n",
        "Таким чином, рівняння дотичної до функції $ f $ в точці $ a $ буде:\n",
        "\n",
        "$$\n",
        "y = f'(a) \\cdot (x - a) + f(a)\n",
        "$$\n",
        "\n",
        "або в іншій формі:\n",
        "\n",
        "$$\n",
        "y - f(a) = f'(a) \\cdot (x - a)\n",
        "$$\n",
        "\n",
        "Це рівняння показує, що дотична має такий самий нахил, як і зміна функції в точці $ a $, і це нахил точно відповідає значенню похідної функції в цій точці.\n",
        "\n",
        "### Пов'язаність з похідною\n",
        "\n",
        "Формула дотичної використовує похідну для визначення нахилу, оскільки похідна в точці дає швидкість зміни функції в цій точці. Це означає, що похідна описує нахил кривої в цій точці, а дотична є лінією, яка найточніше апроксимує функцію біля цієї точки. Таким чином, дотична слугує як \"локальне лінійне наближення\" функції біля точки дотику.\n",
        "\n",
        "### Значення у машинному навчанні та фізиці:\n",
        "\n",
        "- **Машинне навчання**: В оптимізації, особливо в методах, як-от градієнтний спуск, похідна використовується для визначення напрямку, в якому слід змінювати параметри моделі, щоб мінімізувати функцію втрат.\n",
        "- **Фізика**: У багатьох фізичних законах, таких як закони руху Ньютона, похідні використовуються для опису змін у швидкості, прискоренні або інших динамічних величинах.\n"
      ],
      "metadata": {
        "id": "mNOLas8idY1z"
      }
    },
    {
      "cell_type": "markdown",
      "source": [
        "\n",
        "\n",
        "## Обчислення похідної на Python\n",
        "\n",
        "Розглянемо обчислення похідних для декількох типів функцій за допомогою бібліотеки `SymPy`, яка дозволяє символьно обчислювати похідні.\n",
        "\n"
      ],
      "metadata": {
        "id": "w-VF0mZycx37"
      }
    },
    {
      "cell_type": "code",
      "source": [
        "import sympy as sp\n",
        "\n",
        "# Визначаємо символічну змінну\n",
        "x = sp.symbols('x')\n",
        "\n",
        "# Лінійна функція\n",
        "f_lin = 2 * x + 3\n",
        "derivative_f_lin = sp.diff(f_lin, x)\n",
        "\n",
        "# Квадратична функція\n",
        "f_quad = x**2 + 2*x + 1\n",
        "derivative_f_quad = sp.diff(f_quad, x)\n",
        "\n",
        "# Експоненційна функція\n",
        "f_exp = sp.exp(x)\n",
        "derivative_f_exp = sp.diff(f_exp, x)\n",
        "\n",
        "print(\"Похідна лінійної функції 2x+3:\", derivative_f_lin)\n",
        "print(\"Похідна квадратичної функції x^2 + 2x + 1:\", derivative_f_quad)\n",
        "print(\"Похідна експоненційної функції e^x:\", derivative_f_exp)"
      ],
      "metadata": {
        "colab": {
          "base_uri": "https://localhost:8080/"
        },
        "id": "tskP1GNsajZZ",
        "outputId": "8f61565c-dfd1-422a-f142-b62526f77de8"
      },
      "execution_count": null,
      "outputs": [
        {
          "output_type": "stream",
          "name": "stdout",
          "text": [
            "Похідна лінійної функції 2x+3: 2\n",
            "Похідна квадратичної функції x^2 + 2x + 1: 2*x + 2\n",
            "Похідна експоненційної функції e^x: exp(x)\n"
          ]
        }
      ]
    },
    {
      "cell_type": "markdown",
      "source": [
        "### Правила обчислення похідних\n",
        "\n",
        "Похідна є фундаментальним інструментом у диференціальному численні, який дозволяє аналізувати, як функції змінюються в залежності від їхніх змінних. Ось декілька базових правил для обчислення похідних:\n",
        "\n",
        "1. **Правило сталої (Constant Rule)**:\n",
        "   - Якщо $ f(x) = c $, де $ c $ — константа, тоді $ f'(x) = 0 $.\n",
        "   - Приклад: Якщо $ f(x) = 5 $, то $ f'(x) = 0 $.\n",
        "\n",
        "2. **Правило суми (Sum Rule)**:\n",
        "   - Якщо $ f(x) = u(x) + v(x) $, тоді $ f'(x) = u'(x) + v'(x) $.\n",
        "   - Приклад: Якщо $ f(x) = x^2 + 3x $, то $ f'(x) = 2x + 3 $.\n",
        "\n",
        "3. **Правило добутку (Product Rule)**:\n",
        "   - Якщо $ f(x) = u(x) \\cdot v(x) $, тоді $ f'(x) = u'(x) \\cdot v(x) + u(x) \\cdot v'(x) $.\n",
        "   - Приклад: Якщо $ f(x) = x^2 \\cdot \\sin(x) $, то $ f'(x) = 2x \\sin(x) + x^2 \\cos(x) $.\n",
        "\n",
        "4. **Правило частки (Quotient Rule)**:\n",
        "   - Якщо $ f(x) = \\frac{u(x)}{v(x)} $, тоді $ f'(x) = \\frac{u'(x) \\cdot v(x) - u(x) \\cdot v'(x)}{[v(x)]^2} $.\n",
        "   - Приклад: Якщо $ f(x) = \\frac{x^2}{x+1} $, то $ f'(x) = \\frac{2x \\cdot (x+1) - x^2 \\cdot 1}{(x+1)^2} $.\n",
        "\n",
        "5. **Правило ланцюга (Chain Rule)**:\n",
        "   - Якщо $ f(x) = g(h(x)) $, де $ g $ і $ h $ — функції $ x $, тоді $ f'(x) = g'(h(x)) \\cdot h'(x) $.\n",
        "   - Приклад: Якщо $ f(x) = \\sin(x^2) $, то $ f'(x) = \\cos(x^2) \\cdot 2x $.\n",
        "\n",
        "Ці правила та приклади використовуються для аналізу поведінки функцій і є основою для більш складних застосувань у науці, інженерії та економіці.\n",
        "\n",
        "З доведенням правил можна ознайомитись [тут](https://tutorial.math.lamar.edu/classes/calci/DerivativeProofs.aspx) .\n",
        "\n",
        "Приклади деяких правил на Python:"
      ],
      "metadata": {
        "id": "Zqn4mQoRbV7T"
      }
    },
    {
      "cell_type": "code",
      "source": [
        "x = sp.symbols('x')\n",
        "\n",
        "# Приклад ланцюгового правила\n",
        "f = sp.sin(x**2)\n",
        "df = sp.diff(f, x)\n",
        "print(\"Функція:\", f)\n",
        "print(\"Похідна:\", df)\n",
        "\n",
        "# Приклад правила добутку\n",
        "u = x**2\n",
        "v = sp.sin(x)\n",
        "f_product = u * v\n",
        "df_product = sp.diff(f_product, x)\n",
        "print(\"\\nФункція добутку:\", f_product)\n",
        "print(\"Похідна добутку:\", df_product)"
      ],
      "metadata": {
        "colab": {
          "base_uri": "https://localhost:8080/"
        },
        "id": "b6wGOyBBZjb5",
        "outputId": "94c59860-7978-4064-9a05-e5cb9bedec46"
      },
      "execution_count": null,
      "outputs": [
        {
          "output_type": "stream",
          "name": "stdout",
          "text": [
            "Функція: sin(x**2)\n",
            "Похідна: 2*x*cos(x**2)\n",
            "\n",
            "Функція добутку: x**2*sin(x)\n",
            "Похідна добутку: x**2*cos(x) + 2*x*sin(x)\n"
          ]
        }
      ]
    },
    {
      "cell_type": "markdown",
      "source": [
        "### Часткова похідна\n",
        "\n",
        "**Часткова похідна** функції багатьох змінних є мірою того, як функція змінюється відносно однієї зі своїх змінних, при умові, що всі інші змінні залишаються сталими. Це важливий інструмент в області багатовимірного аналізу, який застосовується у багатьох наукових дисциплінах, включаючи фізику, інженерію та економіку.\n",
        "\n",
        "### Математичне визначення\n",
        "\n",
        "Нехай $ f(x, y, z, \\dots) $ — функція багатьох змінних. Часткова похідна $ f $ по змінній $ x $ позначається як $ \\frac{\\partial f}{\\partial x} $ і визначається як:\n",
        "\n",
        "$$\n",
        "\\frac{\\partial f}{\\partial x} = \\lim_{h \\to 0} \\frac{f(x+h, y, z, \\dots) - f(x, y, z, \\dots)}{h}\n",
        "$$\n",
        "\n",
        "де $ h $ — мале прирощення змінної $ x $, а всі інші змінні залишаються незмінними.\n",
        "\n",
        "### Приклад у машинному навчанні\n",
        "\n",
        "У машинному навчанні часто зустрічається завдання мінімізації функції втрат $ L(\\theta_1, \\theta_2, \\dots, \\theta_n) $, де $ \\theta_i $ — параметри моделі. Часткові похідні функції втрат по кожному параметру вказують, як потрібно змінити параметри, щоб досягти мінімуму функції втрат.\n",
        "\n",
        "**Приклад**: Розглянемо функцію втрат лінійної регресії, де $ L(\\theta_1, \\theta_0) = \\sum_{i=1}^n (y_i - (\\theta_1 x_i + \\theta_0))^2 $, $ y_i $ — істинні значення, а $ x_i $ — вхідні дані.\n",
        "\n",
        "Часткові похідні функції втрат по параметрах $ \\theta_1 $ і $ \\theta_0 $ будуть:\n",
        "$$\n",
        "\\frac{\\partial L}{\\partial \\theta_1} = -2 \\sum_{i=1}^n x_i (y_i - (\\theta_1 x_i + \\theta_0))\n",
        "$$\n",
        "$$\n",
        "\\frac{\\partial L}{\\partial \\theta_0} = -2 \\sum_{i=1}^n (y_i - (\\theta_1 x_i + \\theta_0))\n",
        "$$\n",
        "\n",
        "Ці часткові похідні використовуються для оновлення значень $ \\theta_1 $ і $ \\theta_0 $ в алгоритмі градієнтного спуску, де на кожному кроці параметри оновлюються таким чином:\n",
        "$$\n",
        "\\theta_1 := \\theta_1 - \\alpha \\frac{\\partial L}{\\partial \\theta_1}\n",
        "$$\n",
        "$$\n",
        "\\theta_0 := \\theta_0 - \\alpha \\frac{\\partial L}{\\partial \\theta_0}\n",
        "$$\n",
        "\n",
        "де $ \\alpha $ — швидкість навчання, що визаначає розмір кроку в процесі оптимізації.\n",
        "\n",
        "Такий підхід дозволяє ефективно знаходити оптимальні параметри моделі, мінімізуючи функцію втрат і покращуючи якість прогнозування моделі."
      ],
      "metadata": {
        "id": "Gpa6FwnBecsn"
      }
    },
    {
      "cell_type": "code",
      "source": [],
      "metadata": {
        "id": "kVITiAU6_JeS"
      },
      "execution_count": null,
      "outputs": []
    }
  ]
}