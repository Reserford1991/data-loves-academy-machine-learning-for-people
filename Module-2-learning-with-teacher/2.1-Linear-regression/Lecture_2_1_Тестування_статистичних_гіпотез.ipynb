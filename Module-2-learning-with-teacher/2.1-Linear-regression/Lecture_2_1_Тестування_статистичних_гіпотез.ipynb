{
 "cells": [
  {
   "cell_type": "code",
   "id": "f6e78310",
   "metadata": {
    "id": "f6e78310",
    "jupyter": {
     "is_executing": true
    }
   },
   "source": [
    "!pip install statsmodels --quiet"
   ],
   "outputs": [],
   "execution_count": null
  },
  {
   "cell_type": "markdown",
   "id": "bb40a0b3",
   "metadata": {
    "id": "bb40a0b3"
   },
   "source": [
    "# Z-test"
   ]
  },
  {
   "cell_type": "code",
   "id": "2b0f49d0",
   "metadata": {
    "id": "2b0f49d0",
    "ExecuteTime": {
     "end_time": "2024-12-25T15:01:52.912598Z",
     "start_time": "2024-12-25T15:01:52.405746Z"
    }
   },
   "source": [
    "import numpy as np\n",
    "from statsmodels.stats.weightstats import ztest"
   ],
   "outputs": [],
   "execution_count": 1
  },
  {
   "cell_type": "markdown",
   "id": "9cdfbc15",
   "metadata": {
    "id": "9cdfbc15"
   },
   "source": [
    "## На одній вибірці"
   ]
  },
  {
   "cell_type": "markdown",
   "id": "425bb019",
   "metadata": {
    "ExecuteTime": {
     "end_time": "2021-11-18T22:11:26.527037Z",
     "start_time": "2021-11-18T22:11:26.434988Z"
    },
    "id": "425bb019"
   },
   "source": [
    "Згенеруємо випадковий масив із 50 чисел, що мають середнє значення 110 і стандартне відхилення 15, аналогічно до даних IQ, які ми припускаємо в задачі."
   ]
  },
  {
   "cell_type": "code",
   "id": "b17aef70",
   "metadata": {
    "id": "b17aef70",
    "ExecuteTime": {
     "end_time": "2024-12-25T15:08:00.522843Z",
     "start_time": "2024-12-25T15:08:00.520411Z"
    }
   },
   "source": [
    "mean_iq = 110\n",
    "sd_iq = 15\n",
    "alpha = 0.05\n",
    "null_mean = 100\n",
    "sample_size = 50"
   ],
   "outputs": [],
   "execution_count": 12
  },
  {
   "cell_type": "code",
   "id": "c39b4a39",
   "metadata": {
    "id": "c39b4a39",
    "ExecuteTime": {
     "end_time": "2024-12-25T15:08:02.131888Z",
     "start_time": "2024-12-25T15:08:02.129615Z"
    }
   },
   "source": [
    "# генеруємо дані\n",
    "data = np.random.randn(sample_size) * sd_iq + mean_iq"
   ],
   "outputs": [],
   "execution_count": 13
  },
  {
   "cell_type": "code",
   "execution_count": null,
   "id": "1f7c3d14",
   "metadata": {
    "ExecuteTime": {
     "end_time": "2024-01-12T13:22:04.550800Z",
     "start_time": "2024-01-12T13:22:04.547316Z"
    },
    "id": "1f7c3d14"
   },
   "outputs": [],
   "source": [
    "# альтернативно можна згенерувати дані\n",
    "# data = np.random.normal(mean_iq, sd_iq, sample_size)"
   ]
  },
  {
   "cell_type": "code",
   "id": "3b4aa6e3",
   "metadata": {
    "id": "3b4aa6e3",
    "outputId": "7f20c97b-812c-4e0f-971c-c30cfa15f1ca",
    "colab": {
     "base_uri": "https://localhost:8080/"
    },
    "ExecuteTime": {
     "end_time": "2024-12-25T15:08:04.657175Z",
     "start_time": "2024-12-25T15:08:04.654659Z"
    }
   },
   "source": [
    "# перевірка результатів\n",
    "print(\"Середнє вибірки: {:.2f}\".format(np.mean(data)))\n",
    "print(\"Стандартне відхилення вибірки: {:.2f}\".format(np.std(data)))"
   ],
   "outputs": [
    {
     "name": "stdout",
     "output_type": "stream",
     "text": [
      "Середнє вибірки: 110.39\n",
      "Стандартне відхилення вибірки: 16.20\n"
     ]
    }
   ],
   "execution_count": 14
  },
  {
   "cell_type": "code",
   "id": "6278f27d",
   "metadata": {
    "id": "6278f27d",
    "outputId": "f1adf8a1-4575-47de-fe62-972798be71bf",
    "colab": {
     "base_uri": "https://localhost:8080/"
    },
    "ExecuteTime": {
     "end_time": "2024-12-25T15:02:42.891202Z",
     "start_time": "2024-12-25T15:02:42.887815Z"
    }
   },
   "source": [
    "data"
   ],
   "outputs": [
    {
     "data": {
      "text/plain": [
       "array([118.55211221,  97.91751949, 112.88159922, 120.76308724,\n",
       "       115.60926553,  93.76721799, 136.77665387, 121.1615552 ,\n",
       "        90.82371171, 115.44139578, 118.39116928, 108.51715955,\n",
       "       116.49008799, 126.39547221, 100.07251803,  91.5824517 ,\n",
       "       104.47685045, 102.47451764, 123.64352978, 108.84810931,\n",
       "       120.60602888, 111.24923732, 113.08750584, 106.20023387,\n",
       "       110.80139647, 128.76404402, 124.01930077,  98.9844554 ,\n",
       "       108.34321845,  97.84119461, 120.96512629, 109.86218293,\n",
       "        96.69088396, 107.95436639, 103.86960955, 102.688888  ,\n",
       "       112.00113178,  84.36161844, 130.1976322 , 118.73878128,\n",
       "       120.43682694, 109.69553081,  92.44812223, 108.67217213,\n",
       "       116.82750065,  90.84710458, 101.02659289, 116.33544477,\n",
       "        81.2765162 , 124.090263  ])"
      ]
     },
     "execution_count": 8,
     "metadata": {},
     "output_type": "execute_result"
    }
   ],
   "execution_count": 8
  },
  {
   "cell_type": "markdown",
   "id": "d7fcf34b",
   "metadata": {
    "ExecuteTime": {
     "end_time": "2021-11-18T22:13:57.648731Z",
     "start_time": "2021-11-18T22:13:57.643927Z"
    },
    "id": "d7fcf34b"
   },
   "source": [
    "Тепер проводимо тест. У цій функції ми передали дані, у параметрі значення ми передали середнє значення в нульовій гіпотезі, в альтернативній гіпотезі ми перевіряємо, чи більше середнє значення"
   ]
  },
  {
   "cell_type": "code",
   "id": "c0040f5a",
   "metadata": {
    "id": "c0040f5a",
    "ExecuteTime": {
     "end_time": "2024-12-25T15:08:09.055239Z",
     "start_time": "2024-12-25T15:08:09.052555Z"
    }
   },
   "source": [
    "ztest_Score, p_value = ztest(data, value = null_mean, alternative='larger')"
   ],
   "outputs": [],
   "execution_count": 15
  },
  {
   "cell_type": "code",
   "id": "0b3b3c77",
   "metadata": {
    "id": "0b3b3c77",
    "outputId": "ecb7d98a-55af-48b6-cd63-23da2a8eb21e",
    "colab": {
     "base_uri": "https://localhost:8080/"
    },
    "ExecuteTime": {
     "end_time": "2024-12-25T15:08:10.672298Z",
     "start_time": "2024-12-25T15:08:10.669502Z"
    }
   },
   "source": [
    "ztest_Score, p_value"
   ],
   "outputs": [
    {
     "data": {
      "text/plain": [
       "(4.490319356576474, 3.555823310150445e-06)"
      ]
     },
     "execution_count": 16,
     "metadata": {},
     "output_type": "execute_result"
    }
   ],
   "execution_count": 16
  },
  {
   "cell_type": "markdown",
   "id": "bda82122",
   "metadata": {
    "ExecuteTime": {
     "end_time": "2021-11-18T22:14:40.100021Z",
     "start_time": "2021-11-18T22:14:40.094813Z"
    },
    "id": "bda82122"
   },
   "source": [
    "Функція виводить p_value і z-score, що відповідають цьому значенню, ми порівнюємо p-значення з альфа, якщо воно більше альфа, то ми не приймаємо нульову гіпотезу, інакше ми її відхиляємо."
   ]
  },
  {
   "cell_type": "code",
   "id": "c662cf02",
   "metadata": {
    "id": "c662cf02",
    "outputId": "3e3edc0b-111f-40cc-d078-7692238fad8d",
    "colab": {
     "base_uri": "https://localhost:8080/"
    },
    "ExecuteTime": {
     "end_time": "2024-12-25T15:03:14.016766Z",
     "start_time": "2024-12-25T15:03:14.014503Z"
    }
   },
   "source": [
    "if(p_value <  alpha):\n",
    "    print(\"Відхилити Н0.\")\n",
    "else:\n",
    "    print(\"Н0 не може бути відхилена.\")"
   ],
   "outputs": [
    {
     "name": "stdout",
     "output_type": "stream",
     "text": [
      "Відхилити Н0.\n"
     ]
    }
   ],
   "execution_count": 11
  },
  {
   "cell_type": "markdown",
   "id": "e76e73e1",
   "metadata": {
    "id": "e76e73e1"
   },
   "source": [
    "## На двох вибірках"
   ]
  },
  {
   "cell_type": "markdown",
   "id": "2451ba9b",
   "metadata": {
    "id": "2451ba9b"
   },
   "source": [
    "Порівняємо рівні IQ у двох різних містах."
   ]
  },
  {
   "cell_type": "code",
   "execution_count": null,
   "id": "5220d17e",
   "metadata": {
    "ExecuteTime": {
     "end_time": "2022-12-07T21:57:11.987942Z",
     "start_time": "2022-12-07T21:57:11.970770Z"
    },
    "id": "5220d17e"
   },
   "outputs": [],
   "source": [
    "cityA = [82, 84, 85, 89, 91, 91, 92, 94, 99, 99,\n",
    "         105, 109, 109, 109, 110, 112, 112, 113, 114, 114]\n",
    "\n",
    "cityB = [90, 91, 91, 91, 95, 95, 99, 99, 108, 109,\n",
    "         109, 114, 115, 116, 117, 117, 128, 129, 130, 133]"
   ]
  },
  {
   "cell_type": "code",
   "execution_count": null,
   "id": "037eda6a",
   "metadata": {
    "ExecuteTime": {
     "end_time": "2022-12-07T21:57:42.355858Z",
     "start_time": "2022-12-07T21:57:42.349712Z"
    },
    "id": "037eda6a",
    "colab": {
     "base_uri": "https://localhost:8080/"
    },
    "outputId": "7fb9af19-1abf-4fd8-bd85-892c6f8e97e2"
   },
   "outputs": [
    {
     "output_type": "execute_result",
     "data": {
      "text/plain": [
       "(100.65, 108.8)"
      ]
     },
     "metadata": {},
     "execution_count": 15
    }
   ],
   "source": [
    "np.mean(cityA), np.mean(cityB)"
   ]
  },
  {
   "cell_type": "markdown",
   "id": "29f9d1ba",
   "metadata": {
    "ExecuteTime": {
     "end_time": "2021-11-18T22:29:17.895822Z",
     "start_time": "2021-11-18T22:29:17.861475Z"
    },
    "id": "29f9d1ba"
   },
   "source": [
    "Виконуємо тест."
   ]
  },
  {
   "cell_type": "markdown",
   "id": "09a3e103",
   "metadata": {
    "id": "09a3e103"
   },
   "source": [
    "Важливий параметр методу ztest:\n",
    "- value : float  \n",
    "    In the one sample case, value is the mean of x1 under the Null\n",
    "    hypothesis.\n",
    "    In the two sample case, value is the difference between mean of x1 and\n",
    "    mean of x2 under the Null hypothesis. The test statistic is\n",
    "    `x1_mean - x2_mean - value`.\n",
    "    \n",
    "Метод z-test вертає\n",
    "\n",
    "- tstat : float,\n",
    "    test statistic\n",
    "- pvalue : float,\n",
    "    pvalue of the t-test"
   ]
  },
  {
   "cell_type": "code",
   "source": [
    "ztest(cityA, cityB, alternative='two-sided')"
   ],
   "metadata": {
    "colab": {
     "base_uri": "https://localhost:8080/"
    },
    "id": "58I-GoBnh_nq",
    "outputId": "ebcf54fe-5c06-49a4-b779-0a81d00c7386"
   },
   "id": "58I-GoBnh_nq",
   "execution_count": null,
   "outputs": [
    {
     "output_type": "execute_result",
     "data": {
      "text/plain": [
       "(-1.9953236073282115, 0.046007596761332065)"
      ]
     },
     "metadata": {},
     "execution_count": 8
    }
   ]
  },
  {
   "cell_type": "code",
   "execution_count": null,
   "id": "1072f324",
   "metadata": {
    "ExecuteTime": {
     "end_time": "2022-12-07T21:59:24.319268Z",
     "start_time": "2022-12-07T21:59:24.313768Z"
    },
    "id": "1072f324",
    "colab": {
     "base_uri": "https://localhost:8080/"
    },
    "outputId": "a5936e76-93b2-4a34-fb11-e7dda27f9f8e"
   },
   "outputs": [
    {
     "output_type": "execute_result",
     "data": {
      "text/plain": [
       "(-1.9953236073282115, 0.046007596761332065)"
      ]
     },
     "metadata": {},
     "execution_count": 9
    }
   ],
   "source": [
    "# те саме\n",
    "ztest(cityA, cityB, value=0)"
   ]
  },
  {
   "cell_type": "markdown",
   "id": "c8dd37db",
   "metadata": {
    "ExecuteTime": {
     "end_time": "2021-11-18T22:36:43.559957Z",
     "start_time": "2021-11-18T22:36:43.506713Z"
    },
    "id": "c8dd37db"
   },
   "source": [
    "Статистика для двох вибірок z-критерію становить -1.9953, а відповідне p-value дорівнює 0.0460.\n",
    "\n",
    "Оскільки p-value < 0.05, у нас є достатньо доказів, щоб відкинути нульову гіпотезу. Іншими словами, середній рівень IQ значно різниться між двома містами."
   ]
  }
 ],
 "metadata": {
  "kernelspec": {
   "display_name": "Python 3 (ipykernel)",
   "language": "python",
   "name": "python3"
  },
  "language_info": {
   "codemirror_mode": {
    "name": "ipython",
    "version": 3
   },
   "file_extension": ".py",
   "mimetype": "text/x-python",
   "name": "python",
   "nbconvert_exporter": "python",
   "pygments_lexer": "ipython3",
   "version": "3.10.4"
  },
  "toc": {
   "base_numbering": 1,
   "nav_menu": {},
   "number_sections": true,
   "sideBar": true,
   "skip_h1_title": false,
   "title_cell": "Table of Contents",
   "title_sidebar": "Contents",
   "toc_cell": false,
   "toc_position": {
    "height": "calc(100% - 180px)",
    "left": "10px",
    "top": "150px",
    "width": "358.398px"
   },
   "toc_section_display": true,
   "toc_window_display": true
  },
  "vscode": {
   "interpreter": {
    "hash": "a6511e6b41b26ba86cca7483749cf4dd15bf137a2672e550741a656e19bba82e"
   }
  },
  "colab": {
   "provenance": []
  }
 },
 "nbformat": 4,
 "nbformat_minor": 5
}
