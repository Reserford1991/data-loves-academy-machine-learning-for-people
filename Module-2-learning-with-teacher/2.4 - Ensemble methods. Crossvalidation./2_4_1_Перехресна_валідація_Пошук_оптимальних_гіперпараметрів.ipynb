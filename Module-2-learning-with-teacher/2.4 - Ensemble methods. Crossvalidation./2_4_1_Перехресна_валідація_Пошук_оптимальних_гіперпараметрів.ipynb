{
 "cells": [
  {
   "cell_type": "markdown",
   "id": "45fc3159",
   "metadata": {
    "id": "45fc3159"
   },
   "source": [
    "# Перехресна валідація (Cross Validation)"
   ]
  },
  {
   "cell_type": "markdown",
   "id": "bdeee572",
   "metadata": {
    "ExecuteTime": {
     "end_time": "2022-01-16T18:34:01.804867Z",
     "start_time": "2022-01-16T18:34:01.802355Z"
    },
    "id": "bdeee572"
   },
   "source": [
    "## k-кратна перехресна валідація (k-fold Cross Validation)\n",
    "\n",
    "Ця техніка розбиває дані на k підмножин (folds) і використовує k-1 підмножин для тренування моделі, а одну підмножину для тестування. Процес повторюється k разів, кожного разу використовуючи іншу підмножину для тестування."
   ]
  },
  {
   "cell_type": "code",
   "execution_count": null,
   "id": "c7199bfb",
   "metadata": {
    "ExecuteTime": {
     "end_time": "2022-01-18T18:35:50.894254Z",
     "start_time": "2022-01-18T18:35:50.668667Z"
    },
    "id": "c7199bfb"
   },
   "outputs": [],
   "source": [
    "import numpy as np\n",
    "import pandas as pd\n",
    "from sklearn.model_selection import KFold\n",
    "\n",
    "X = np.array([[101, 202], [303, 404], [102, 204], [306, 408]])\n",
    "y = np.array([1, 2, 3, 4])"
   ]
  },
  {
   "cell_type": "code",
   "execution_count": null,
   "id": "26783a7b",
   "metadata": {
    "ExecuteTime": {
     "end_time": "2022-01-18T18:35:53.003813Z",
     "start_time": "2022-01-18T18:35:52.998265Z"
    },
    "colab": {
     "base_uri": "https://localhost:8080/"
    },
    "id": "26783a7b",
    "outputId": "01991b05-a7a2-462d-a016-ca41e1183be7"
   },
   "outputs": [
    {
     "output_type": "execute_result",
     "data": {
      "text/plain": [
       "array([[101, 202],\n",
       "       [303, 404],\n",
       "       [102, 204],\n",
       "       [306, 408]])"
      ]
     },
     "metadata": {},
     "execution_count": 3
    }
   ],
   "source": [
    "X"
   ]
  },
  {
   "cell_type": "code",
   "source": [
    "?KFold"
   ],
   "metadata": {
    "id": "EIJy5HvuBroL"
   },
   "id": "EIJy5HvuBroL",
   "execution_count": null,
   "outputs": []
  },
  {
   "cell_type": "code",
   "execution_count": null,
   "id": "f9918bc8",
   "metadata": {
    "ExecuteTime": {
     "end_time": "2022-01-18T18:36:24.750490Z",
     "start_time": "2022-01-18T18:36:24.747941Z"
    },
    "id": "f9918bc8"
   },
   "outputs": [],
   "source": [
    "kf = KFold(n_splits=3)"
   ]
  },
  {
   "cell_type": "code",
   "execution_count": null,
   "id": "ea4f7aec",
   "metadata": {
    "ExecuteTime": {
     "end_time": "2022-01-18T18:36:30.423771Z",
     "start_time": "2022-01-18T18:36:30.419272Z"
    },
    "colab": {
     "base_uri": "https://localhost:8080/"
    },
    "id": "ea4f7aec",
    "outputId": "dd452d73-ad69-4d0b-e384-fc00bc6e4161"
   },
   "outputs": [
    {
     "output_type": "execute_result",
     "data": {
      "text/plain": [
       "<generator object _BaseKFold.split at 0x7b0fb03d0510>"
      ]
     },
     "metadata": {},
     "execution_count": 12
    }
   ],
   "source": [
    "kf.split(X)"
   ]
  },
  {
   "cell_type": "code",
   "execution_count": null,
   "id": "85b29505",
   "metadata": {
    "ExecuteTime": {
     "end_time": "2022-01-18T18:36:43.047949Z",
     "start_time": "2022-01-18T18:36:43.043334Z"
    },
    "colab": {
     "base_uri": "https://localhost:8080/"
    },
    "id": "85b29505",
    "outputId": "3e4857e6-1a7f-4b30-bc5b-745d66fc5b00"
   },
   "outputs": [
    {
     "output_type": "stream",
     "name": "stdout",
     "text": [
      "Experiment 0\n",
      "TRAIN: [2 3] TEST: [0 1]\n",
      "X\n",
      "[[102 204]\n",
      " [306 408]] [[101 202]\n",
      " [303 404]]\n",
      "y\n",
      "[3 4] [1 2]\n",
      "Experiment 1\n",
      "TRAIN: [0 1 3] TEST: [2]\n",
      "X\n",
      "[[101 202]\n",
      " [303 404]\n",
      " [306 408]] [[102 204]]\n",
      "y\n",
      "[1 2 4] [3]\n",
      "Experiment 2\n",
      "TRAIN: [0 1 2] TEST: [3]\n",
      "X\n",
      "[[101 202]\n",
      " [303 404]\n",
      " [102 204]] [[306 408]]\n",
      "y\n",
      "[1 2 3] [4]\n"
     ]
    }
   ],
   "source": [
    "for id_, (train_index, test_index) in enumerate(kf.split(X)):\n",
    "    print(f'Experiment {id_}')\n",
    "    print(\"TRAIN:\", train_index, \"TEST:\", test_index)\n",
    "    X_train, X_test = X[train_index], X[test_index]\n",
    "    y_train, y_test = y[train_index], y[test_index]\n",
    "    print(\"X\")\n",
    "    print(X_train, X_test, end='\\n')\n",
    "    print(\"y\")\n",
    "    print(y_train, y_test, end='\\n')"
   ]
  },
  {
   "cell_type": "markdown",
   "id": "631e7777",
   "metadata": {
    "id": "631e7777"
   },
   "source": [
    "## Leave-one-out техніка\n",
    "Варіант кросвалідації, коли кількість розбиттів дорівнює кількості екземплярів в даних."
   ]
  },
  {
   "cell_type": "code",
   "execution_count": null,
   "id": "98820d2c",
   "metadata": {
    "ExecuteTime": {
     "end_time": "2022-01-18T18:37:15.462291Z",
     "start_time": "2022-01-18T18:37:15.455888Z"
    },
    "colab": {
     "base_uri": "https://localhost:8080/"
    },
    "id": "98820d2c",
    "outputId": "965b1d20-1e6c-417a-dbf3-a4a378bd0aea"
   },
   "outputs": [
    {
     "output_type": "stream",
     "name": "stdout",
     "text": [
      "TRAIN: [1 2 3 4] TEST: [0]\n",
      "TRAIN: [0 2 3 4] TEST: [1]\n",
      "TRAIN: [0 1 3 4] TEST: [2]\n",
      "TRAIN: [0 1 2 4] TEST: [3]\n",
      "TRAIN: [0 1 2 3] TEST: [4]\n"
     ]
    }
   ],
   "source": [
    "from sklearn.model_selection import LeaveOneOut\n",
    "\n",
    "X = np.array([[101, 202], [303, 404], [102, 204], [306, 408], [404, 202]])\n",
    "y = np.array([1, 2, 3, 4, 5])\n",
    "loo = LeaveOneOut()\n",
    "\n",
    "for train_index, test_index in loo.split(X):\n",
    "    print(\"TRAIN:\", train_index, \"TEST:\", test_index)\n",
    "    X_train, X_test = X[train_index], X[test_index]\n",
    "    y_train, y_test = y[train_index], y[test_index]"
   ]
  },
  {
   "cell_type": "markdown",
   "id": "5ea213e8",
   "metadata": {
    "id": "5ea213e8"
   },
   "source": [
    "## Стратифікована k-кратна (Stratified k-fold)\n",
    "\n",
    "Ця техніка крос-валідації використовується для збереження пропорції класів у кожній складці (fold), що особливо важливо для незбалансованих наборів даних."
   ]
  },
  {
   "cell_type": "code",
   "execution_count": null,
   "id": "01fb9690",
   "metadata": {
    "ExecuteTime": {
     "end_time": "2022-01-18T18:37:35.309937Z",
     "start_time": "2022-01-18T18:37:35.302342Z"
    },
    "colab": {
     "base_uri": "https://localhost:8080/"
    },
    "id": "01fb9690",
    "outputId": "bc9879f0-c85d-4fc0-c207-d6681003640b"
   },
   "outputs": [
    {
     "output_type": "stream",
     "name": "stdout",
     "text": [
      "TRAIN: [1 3 4 5] TEST: [0 2]\n",
      "TRAIN: [0 2 4 5] TEST: [1 3]\n",
      "TRAIN: [0 1 2 3] TEST: [4 5]\n"
     ]
    }
   ],
   "source": [
    "from sklearn.model_selection import StratifiedKFold\n",
    "\n",
    "X = np.array([[101, 202], [102, 204], [303, 404], [306, 408], [101, 202], [505, 102]])\n",
    "y = np.array([0, 0, 1, 1, 0, 1])\n",
    "skf = StratifiedKFold(n_splits=3)\n",
    "\n",
    "for train_index, test_index in skf.split(X, y):\n",
    "    print(\"TRAIN:\", train_index, \"TEST:\", test_index)\n",
    "    X_train, X_test = X[train_index], X[test_index]\n",
    "    y_train, y_test = y[train_index], y[test_index]"
   ]
  },
  {
   "cell_type": "markdown",
   "id": "46262c04",
   "metadata": {
    "id": "46262c04"
   },
   "source": [
    "# Пошук оптимальних гіперпараметрів"
   ]
  },
  {
   "cell_type": "markdown",
   "id": "93eb0771",
   "metadata": {
    "id": "93eb0771"
   },
   "source": [
    "Завантажимо набір даних."
   ]
  },
  {
   "cell_type": "code",
   "execution_count": null,
   "id": "094e7e77",
   "metadata": {
    "ExecuteTime": {
     "end_time": "2022-01-18T18:42:57.284495Z",
     "start_time": "2022-01-18T18:42:57.214448Z"
    },
    "id": "094e7e77"
   },
   "outputs": [],
   "source": [
    "from sklearn.datasets import fetch_california_housing\n",
    "from sklearn.metrics import mean_squared_error\n",
    "from sklearn.model_selection import train_test_split\n",
    "\n",
    "\n",
    "def get_indices(X):\n",
    "    train_full_id, test_id = train_test_split(X.index, test_size=test_size, shuffle=True, random_state=42)\n",
    "    train_id, val_id = train_test_split(train_full_id, test_size=test_size, shuffle=True, random_state=42)\n",
    "    return train_id, val_id, test_id\n",
    "\n",
    "def get_metrics(y_true, y_predicted, n_digits=5):\n",
    "    params = dict(y_true=y_true, y_pred=y_predicted)\n",
    "    mse = mean_squared_error(**params)\n",
    "    rmse = mean_squared_error(**params, squared=False)\n",
    "    return dict(mse=round(mse, n_digits), rmse=round(rmse, n_digits))"
   ]
  },
  {
   "cell_type": "code",
   "execution_count": null,
   "id": "b06184f5",
   "metadata": {
    "ExecuteTime": {
     "end_time": "2022-01-18T18:42:59.585723Z",
     "start_time": "2022-01-18T18:42:59.567034Z"
    },
    "id": "b06184f5"
   },
   "outputs": [],
   "source": [
    "dataset = fetch_california_housing()\n",
    "df = pd.DataFrame(dataset['data'], columns = dataset['feature_names'])\n",
    "target_col_name = dataset['target_names'][0]\n",
    "df[target_col_name] = dataset['target']\n",
    "del dataset"
   ]
  },
  {
   "cell_type": "code",
   "source": [
    "df.head()"
   ],
   "metadata": {
    "colab": {
     "base_uri": "https://localhost:8080/",
     "height": 206
    },
    "id": "LIyuURAMLckb",
    "outputId": "9ea475b4-3bae-4a92-f472-a771f1e2c995"
   },
   "id": "LIyuURAMLckb",
   "execution_count": null,
   "outputs": [
    {
     "output_type": "execute_result",
     "data": {
      "text/plain": [
       "   MedInc  HouseAge  AveRooms  AveBedrms  Population  AveOccup  Latitude  \\\n",
       "0  8.3252      41.0  6.984127   1.023810       322.0  2.555556     37.88   \n",
       "1  8.3014      21.0  6.238137   0.971880      2401.0  2.109842     37.86   \n",
       "2  7.2574      52.0  8.288136   1.073446       496.0  2.802260     37.85   \n",
       "3  5.6431      52.0  5.817352   1.073059       558.0  2.547945     37.85   \n",
       "4  3.8462      52.0  6.281853   1.081081       565.0  2.181467     37.85   \n",
       "\n",
       "   Longitude  MedHouseVal  \n",
       "0    -122.23        4.526  \n",
       "1    -122.22        3.585  \n",
       "2    -122.24        3.521  \n",
       "3    -122.25        3.413  \n",
       "4    -122.25        3.422  "
      ],
      "text/html": [
       "\n",
       "  <div id=\"df-5267319d-a893-43bd-9939-44e113da1a49\" class=\"colab-df-container\">\n",
       "    <div>\n",
       "<style scoped>\n",
       "    .dataframe tbody tr th:only-of-type {\n",
       "        vertical-align: middle;\n",
       "    }\n",
       "\n",
       "    .dataframe tbody tr th {\n",
       "        vertical-align: top;\n",
       "    }\n",
       "\n",
       "    .dataframe thead th {\n",
       "        text-align: right;\n",
       "    }\n",
       "</style>\n",
       "<table border=\"1\" class=\"dataframe\">\n",
       "  <thead>\n",
       "    <tr style=\"text-align: right;\">\n",
       "      <th></th>\n",
       "      <th>MedInc</th>\n",
       "      <th>HouseAge</th>\n",
       "      <th>AveRooms</th>\n",
       "      <th>AveBedrms</th>\n",
       "      <th>Population</th>\n",
       "      <th>AveOccup</th>\n",
       "      <th>Latitude</th>\n",
       "      <th>Longitude</th>\n",
       "      <th>MedHouseVal</th>\n",
       "    </tr>\n",
       "  </thead>\n",
       "  <tbody>\n",
       "    <tr>\n",
       "      <th>0</th>\n",
       "      <td>8.3252</td>\n",
       "      <td>41.0</td>\n",
       "      <td>6.984127</td>\n",
       "      <td>1.023810</td>\n",
       "      <td>322.0</td>\n",
       "      <td>2.555556</td>\n",
       "      <td>37.88</td>\n",
       "      <td>-122.23</td>\n",
       "      <td>4.526</td>\n",
       "    </tr>\n",
       "    <tr>\n",
       "      <th>1</th>\n",
       "      <td>8.3014</td>\n",
       "      <td>21.0</td>\n",
       "      <td>6.238137</td>\n",
       "      <td>0.971880</td>\n",
       "      <td>2401.0</td>\n",
       "      <td>2.109842</td>\n",
       "      <td>37.86</td>\n",
       "      <td>-122.22</td>\n",
       "      <td>3.585</td>\n",
       "    </tr>\n",
       "    <tr>\n",
       "      <th>2</th>\n",
       "      <td>7.2574</td>\n",
       "      <td>52.0</td>\n",
       "      <td>8.288136</td>\n",
       "      <td>1.073446</td>\n",
       "      <td>496.0</td>\n",
       "      <td>2.802260</td>\n",
       "      <td>37.85</td>\n",
       "      <td>-122.24</td>\n",
       "      <td>3.521</td>\n",
       "    </tr>\n",
       "    <tr>\n",
       "      <th>3</th>\n",
       "      <td>5.6431</td>\n",
       "      <td>52.0</td>\n",
       "      <td>5.817352</td>\n",
       "      <td>1.073059</td>\n",
       "      <td>558.0</td>\n",
       "      <td>2.547945</td>\n",
       "      <td>37.85</td>\n",
       "      <td>-122.25</td>\n",
       "      <td>3.413</td>\n",
       "    </tr>\n",
       "    <tr>\n",
       "      <th>4</th>\n",
       "      <td>3.8462</td>\n",
       "      <td>52.0</td>\n",
       "      <td>6.281853</td>\n",
       "      <td>1.081081</td>\n",
       "      <td>565.0</td>\n",
       "      <td>2.181467</td>\n",
       "      <td>37.85</td>\n",
       "      <td>-122.25</td>\n",
       "      <td>3.422</td>\n",
       "    </tr>\n",
       "  </tbody>\n",
       "</table>\n",
       "</div>\n",
       "    <div class=\"colab-df-buttons\">\n",
       "\n",
       "  <div class=\"colab-df-container\">\n",
       "    <button class=\"colab-df-convert\" onclick=\"convertToInteractive('df-5267319d-a893-43bd-9939-44e113da1a49')\"\n",
       "            title=\"Convert this dataframe to an interactive table.\"\n",
       "            style=\"display:none;\">\n",
       "\n",
       "  <svg xmlns=\"http://www.w3.org/2000/svg\" height=\"24px\" viewBox=\"0 -960 960 960\">\n",
       "    <path d=\"M120-120v-720h720v720H120Zm60-500h600v-160H180v160Zm220 220h160v-160H400v160Zm0 220h160v-160H400v160ZM180-400h160v-160H180v160Zm440 0h160v-160H620v160ZM180-180h160v-160H180v160Zm440 0h160v-160H620v160Z\"/>\n",
       "  </svg>\n",
       "    </button>\n",
       "\n",
       "  <style>\n",
       "    .colab-df-container {\n",
       "      display:flex;\n",
       "      gap: 12px;\n",
       "    }\n",
       "\n",
       "    .colab-df-convert {\n",
       "      background-color: #E8F0FE;\n",
       "      border: none;\n",
       "      border-radius: 50%;\n",
       "      cursor: pointer;\n",
       "      display: none;\n",
       "      fill: #1967D2;\n",
       "      height: 32px;\n",
       "      padding: 0 0 0 0;\n",
       "      width: 32px;\n",
       "    }\n",
       "\n",
       "    .colab-df-convert:hover {\n",
       "      background-color: #E2EBFA;\n",
       "      box-shadow: 0px 1px 2px rgba(60, 64, 67, 0.3), 0px 1px 3px 1px rgba(60, 64, 67, 0.15);\n",
       "      fill: #174EA6;\n",
       "    }\n",
       "\n",
       "    .colab-df-buttons div {\n",
       "      margin-bottom: 4px;\n",
       "    }\n",
       "\n",
       "    [theme=dark] .colab-df-convert {\n",
       "      background-color: #3B4455;\n",
       "      fill: #D2E3FC;\n",
       "    }\n",
       "\n",
       "    [theme=dark] .colab-df-convert:hover {\n",
       "      background-color: #434B5C;\n",
       "      box-shadow: 0px 1px 3px 1px rgba(0, 0, 0, 0.15);\n",
       "      filter: drop-shadow(0px 1px 2px rgba(0, 0, 0, 0.3));\n",
       "      fill: #FFFFFF;\n",
       "    }\n",
       "  </style>\n",
       "\n",
       "    <script>\n",
       "      const buttonEl =\n",
       "        document.querySelector('#df-5267319d-a893-43bd-9939-44e113da1a49 button.colab-df-convert');\n",
       "      buttonEl.style.display =\n",
       "        google.colab.kernel.accessAllowed ? 'block' : 'none';\n",
       "\n",
       "      async function convertToInteractive(key) {\n",
       "        const element = document.querySelector('#df-5267319d-a893-43bd-9939-44e113da1a49');\n",
       "        const dataTable =\n",
       "          await google.colab.kernel.invokeFunction('convertToInteractive',\n",
       "                                                    [key], {});\n",
       "        if (!dataTable) return;\n",
       "\n",
       "        const docLinkHtml = 'Like what you see? Visit the ' +\n",
       "          '<a target=\"_blank\" href=https://colab.research.google.com/notebooks/data_table.ipynb>data table notebook</a>'\n",
       "          + ' to learn more about interactive tables.';\n",
       "        element.innerHTML = '';\n",
       "        dataTable['output_type'] = 'display_data';\n",
       "        await google.colab.output.renderOutput(dataTable, element);\n",
       "        const docLink = document.createElement('div');\n",
       "        docLink.innerHTML = docLinkHtml;\n",
       "        element.appendChild(docLink);\n",
       "      }\n",
       "    </script>\n",
       "  </div>\n",
       "\n",
       "\n",
       "<div id=\"df-66387b0b-1887-4a1e-9e00-ccd30f52e546\">\n",
       "  <button class=\"colab-df-quickchart\" onclick=\"quickchart('df-66387b0b-1887-4a1e-9e00-ccd30f52e546')\"\n",
       "            title=\"Suggest charts\"\n",
       "            style=\"display:none;\">\n",
       "\n",
       "<svg xmlns=\"http://www.w3.org/2000/svg\" height=\"24px\"viewBox=\"0 0 24 24\"\n",
       "     width=\"24px\">\n",
       "    <g>\n",
       "        <path d=\"M19 3H5c-1.1 0-2 .9-2 2v14c0 1.1.9 2 2 2h14c1.1 0 2-.9 2-2V5c0-1.1-.9-2-2-2zM9 17H7v-7h2v7zm4 0h-2V7h2v10zm4 0h-2v-4h2v4z\"/>\n",
       "    </g>\n",
       "</svg>\n",
       "  </button>\n",
       "\n",
       "<style>\n",
       "  .colab-df-quickchart {\n",
       "      --bg-color: #E8F0FE;\n",
       "      --fill-color: #1967D2;\n",
       "      --hover-bg-color: #E2EBFA;\n",
       "      --hover-fill-color: #174EA6;\n",
       "      --disabled-fill-color: #AAA;\n",
       "      --disabled-bg-color: #DDD;\n",
       "  }\n",
       "\n",
       "  [theme=dark] .colab-df-quickchart {\n",
       "      --bg-color: #3B4455;\n",
       "      --fill-color: #D2E3FC;\n",
       "      --hover-bg-color: #434B5C;\n",
       "      --hover-fill-color: #FFFFFF;\n",
       "      --disabled-bg-color: #3B4455;\n",
       "      --disabled-fill-color: #666;\n",
       "  }\n",
       "\n",
       "  .colab-df-quickchart {\n",
       "    background-color: var(--bg-color);\n",
       "    border: none;\n",
       "    border-radius: 50%;\n",
       "    cursor: pointer;\n",
       "    display: none;\n",
       "    fill: var(--fill-color);\n",
       "    height: 32px;\n",
       "    padding: 0;\n",
       "    width: 32px;\n",
       "  }\n",
       "\n",
       "  .colab-df-quickchart:hover {\n",
       "    background-color: var(--hover-bg-color);\n",
       "    box-shadow: 0 1px 2px rgba(60, 64, 67, 0.3), 0 1px 3px 1px rgba(60, 64, 67, 0.15);\n",
       "    fill: var(--button-hover-fill-color);\n",
       "  }\n",
       "\n",
       "  .colab-df-quickchart-complete:disabled,\n",
       "  .colab-df-quickchart-complete:disabled:hover {\n",
       "    background-color: var(--disabled-bg-color);\n",
       "    fill: var(--disabled-fill-color);\n",
       "    box-shadow: none;\n",
       "  }\n",
       "\n",
       "  .colab-df-spinner {\n",
       "    border: 2px solid var(--fill-color);\n",
       "    border-color: transparent;\n",
       "    border-bottom-color: var(--fill-color);\n",
       "    animation:\n",
       "      spin 1s steps(1) infinite;\n",
       "  }\n",
       "\n",
       "  @keyframes spin {\n",
       "    0% {\n",
       "      border-color: transparent;\n",
       "      border-bottom-color: var(--fill-color);\n",
       "      border-left-color: var(--fill-color);\n",
       "    }\n",
       "    20% {\n",
       "      border-color: transparent;\n",
       "      border-left-color: var(--fill-color);\n",
       "      border-top-color: var(--fill-color);\n",
       "    }\n",
       "    30% {\n",
       "      border-color: transparent;\n",
       "      border-left-color: var(--fill-color);\n",
       "      border-top-color: var(--fill-color);\n",
       "      border-right-color: var(--fill-color);\n",
       "    }\n",
       "    40% {\n",
       "      border-color: transparent;\n",
       "      border-right-color: var(--fill-color);\n",
       "      border-top-color: var(--fill-color);\n",
       "    }\n",
       "    60% {\n",
       "      border-color: transparent;\n",
       "      border-right-color: var(--fill-color);\n",
       "    }\n",
       "    80% {\n",
       "      border-color: transparent;\n",
       "      border-right-color: var(--fill-color);\n",
       "      border-bottom-color: var(--fill-color);\n",
       "    }\n",
       "    90% {\n",
       "      border-color: transparent;\n",
       "      border-bottom-color: var(--fill-color);\n",
       "    }\n",
       "  }\n",
       "</style>\n",
       "\n",
       "  <script>\n",
       "    async function quickchart(key) {\n",
       "      const quickchartButtonEl =\n",
       "        document.querySelector('#' + key + ' button');\n",
       "      quickchartButtonEl.disabled = true;  // To prevent multiple clicks.\n",
       "      quickchartButtonEl.classList.add('colab-df-spinner');\n",
       "      try {\n",
       "        const charts = await google.colab.kernel.invokeFunction(\n",
       "            'suggestCharts', [key], {});\n",
       "      } catch (error) {\n",
       "        console.error('Error during call to suggestCharts:', error);\n",
       "      }\n",
       "      quickchartButtonEl.classList.remove('colab-df-spinner');\n",
       "      quickchartButtonEl.classList.add('colab-df-quickchart-complete');\n",
       "    }\n",
       "    (() => {\n",
       "      let quickchartButtonEl =\n",
       "        document.querySelector('#df-66387b0b-1887-4a1e-9e00-ccd30f52e546 button');\n",
       "      quickchartButtonEl.style.display =\n",
       "        google.colab.kernel.accessAllowed ? 'block' : 'none';\n",
       "    })();\n",
       "  </script>\n",
       "</div>\n",
       "\n",
       "    </div>\n",
       "  </div>\n"
      ],
      "application/vnd.google.colaboratory.intrinsic+json": {
       "type": "dataframe",
       "variable_name": "df",
       "summary": "{\n  \"name\": \"df\",\n  \"rows\": 20640,\n  \"fields\": [\n    {\n      \"column\": \"MedInc\",\n      \"properties\": {\n        \"dtype\": \"number\",\n        \"std\": 1.8998217179452688,\n        \"min\": 0.4999,\n        \"max\": 15.0001,\n        \"num_unique_values\": 12928,\n        \"samples\": [\n          5.0286,\n          2.0433,\n          6.1228\n        ],\n        \"semantic_type\": \"\",\n        \"description\": \"\"\n      }\n    },\n    {\n      \"column\": \"HouseAge\",\n      \"properties\": {\n        \"dtype\": \"number\",\n        \"std\": 12.58555761211165,\n        \"min\": 1.0,\n        \"max\": 52.0,\n        \"num_unique_values\": 52,\n        \"samples\": [\n          35.0,\n          25.0,\n          7.0\n        ],\n        \"semantic_type\": \"\",\n        \"description\": \"\"\n      }\n    },\n    {\n      \"column\": \"AveRooms\",\n      \"properties\": {\n        \"dtype\": \"number\",\n        \"std\": 2.4741731394243187,\n        \"min\": 0.8461538461538461,\n        \"max\": 141.9090909090909,\n        \"num_unique_values\": 19392,\n        \"samples\": [\n          6.111269614835948,\n          5.912820512820513,\n          5.7924528301886795\n        ],\n        \"semantic_type\": \"\",\n        \"description\": \"\"\n      }\n    },\n    {\n      \"column\": \"AveBedrms\",\n      \"properties\": {\n        \"dtype\": \"number\",\n        \"std\": 0.473910856795466,\n        \"min\": 0.3333333333333333,\n        \"max\": 34.06666666666667,\n        \"num_unique_values\": 14233,\n        \"samples\": [\n          0.9906542056074766,\n          1.112099644128114,\n          1.0398230088495575\n        ],\n        \"semantic_type\": \"\",\n        \"description\": \"\"\n      }\n    },\n    {\n      \"column\": \"Population\",\n      \"properties\": {\n        \"dtype\": \"number\",\n        \"std\": 1132.462121765341,\n        \"min\": 3.0,\n        \"max\": 35682.0,\n        \"num_unique_values\": 3888,\n        \"samples\": [\n          4169.0,\n          636.0,\n          3367.0\n        ],\n        \"semantic_type\": \"\",\n        \"description\": \"\"\n      }\n    },\n    {\n      \"column\": \"AveOccup\",\n      \"properties\": {\n        \"dtype\": \"number\",\n        \"std\": 10.386049562213618,\n        \"min\": 0.6923076923076923,\n        \"max\": 1243.3333333333333,\n        \"num_unique_values\": 18841,\n        \"samples\": [\n          2.6939799331103678,\n          3.559375,\n          3.297082228116711\n        ],\n        \"semantic_type\": \"\",\n        \"description\": \"\"\n      }\n    },\n    {\n      \"column\": \"Latitude\",\n      \"properties\": {\n        \"dtype\": \"number\",\n        \"std\": 2.1359523974571153,\n        \"min\": 32.54,\n        \"max\": 41.95,\n        \"num_unique_values\": 862,\n        \"samples\": [\n          33.7,\n          34.41,\n          38.24\n        ],\n        \"semantic_type\": \"\",\n        \"description\": \"\"\n      }\n    },\n    {\n      \"column\": \"Longitude\",\n      \"properties\": {\n        \"dtype\": \"number\",\n        \"std\": 2.0035317235025882,\n        \"min\": -124.35,\n        \"max\": -114.31,\n        \"num_unique_values\": 844,\n        \"samples\": [\n          -118.63,\n          -119.86,\n          -121.26\n        ],\n        \"semantic_type\": \"\",\n        \"description\": \"\"\n      }\n    },\n    {\n      \"column\": \"MedHouseVal\",\n      \"properties\": {\n        \"dtype\": \"number\",\n        \"std\": 1.1539561587441387,\n        \"min\": 0.14999,\n        \"max\": 5.00001,\n        \"num_unique_values\": 3842,\n        \"samples\": [\n          1.943,\n          3.79,\n          2.301\n        ],\n        \"semantic_type\": \"\",\n        \"description\": \"\"\n      }\n    }\n  ]\n}"
      }
     },
     "metadata": {},
     "execution_count": 30
    }
   ]
  },
  {
   "cell_type": "code",
   "execution_count": null,
   "id": "acdd21d0",
   "metadata": {
    "ExecuteTime": {
     "end_time": "2022-01-18T18:42:59.727426Z",
     "start_time": "2022-01-18T18:42:59.719306Z"
    },
    "id": "acdd21d0"
   },
   "outputs": [],
   "source": [
    "X = df.drop([target_col_name],axis=1)\n",
    "y = df[target_col_name]"
   ]
  },
  {
   "cell_type": "code",
   "execution_count": null,
   "id": "7442eea8",
   "metadata": {
    "ExecuteTime": {
     "end_time": "2022-01-18T18:43:00.101873Z",
     "start_time": "2022-01-18T18:43:00.095694Z"
    },
    "id": "7442eea8"
   },
   "outputs": [],
   "source": [
    "test_size = 0.2\n",
    "\n",
    "train_id, val_id, test_id = get_indices(X)"
   ]
  },
  {
   "cell_type": "code",
   "source": [
    "len(train_id), len(val_id), len(test_id)"
   ],
   "metadata": {
    "colab": {
     "base_uri": "https://localhost:8080/"
    },
    "id": "kpWEqrhjLizo",
    "outputId": "dfd1e682-99e5-4bd8-d3b2-626e496b1eca"
   },
   "id": "kpWEqrhjLizo",
   "execution_count": null,
   "outputs": [
    {
     "output_type": "execute_result",
     "data": {
      "text/plain": [
       "(13209, 3303, 4128)"
      ]
     },
     "metadata": {},
     "execution_count": 33
    }
   ]
  },
  {
   "cell_type": "markdown",
   "id": "20b2e6ad",
   "metadata": {
    "id": "20b2e6ad"
   },
   "source": [
    "## Пошук по сітці (Grid search)\n",
    "\n",
    "Пошук по сітці (Grid search) - це метод для налаштування гіперпараметрів моделі машинного навчання. Він передбачає перебір усіх можливих комбінацій заданих гіперпараметрів для визначення найкращої комбінації, яка забезпечує найвищу продуктивність моделі."
   ]
  },
  {
   "cell_type": "code",
   "execution_count": null,
   "id": "b62f17e3",
   "metadata": {
    "ExecuteTime": {
     "end_time": "2022-01-18T18:43:01.801190Z",
     "start_time": "2022-01-18T18:43:01.755326Z"
    },
    "id": "b62f17e3"
   },
   "outputs": [],
   "source": [
    "from sklearn.linear_model import Lasso, ElasticNet\n",
    "from sklearn.model_selection import GridSearchCV\n",
    "from sklearn.preprocessing import PolynomialFeatures, StandardScaler\n",
    "from sklearn.pipeline import Pipeline"
   ]
  },
  {
   "cell_type": "code",
   "execution_count": null,
   "id": "5af4a0c6",
   "metadata": {
    "ExecuteTime": {
     "end_time": "2022-01-18T18:43:57.481856Z",
     "start_time": "2022-01-18T18:43:57.478994Z"
    },
    "code_folding": [],
    "id": "5af4a0c6"
   },
   "outputs": [],
   "source": [
    "degree = 2\n",
    "pipeline = Pipeline([\n",
    "    ('scaler', StandardScaler()),\n",
    "    ('poly_features', PolynomialFeatures(degree=degree)),\n",
    "    ('model', Lasso())\n",
    "])"
   ]
  },
  {
   "cell_type": "code",
   "source": [
    "?GridSearchCV"
   ],
   "metadata": {
    "id": "CjVwhnZVMEeJ"
   },
   "id": "CjVwhnZVMEeJ",
   "execution_count": null,
   "outputs": []
  },
  {
   "cell_type": "code",
   "execution_count": null,
   "id": "d537c8d1",
   "metadata": {
    "ExecuteTime": {
     "end_time": "2022-01-18T18:43:58.340047Z",
     "start_time": "2022-01-18T18:43:58.336430Z"
    },
    "colab": {
     "base_uri": "https://localhost:8080/"
    },
    "id": "d537c8d1",
    "outputId": "3c0bbe46-c59c-4069-8398-993d00e58e7d"
   },
   "outputs": [
    {
     "output_type": "execute_result",
     "data": {
      "text/plain": [
       "(100,)"
      ]
     },
     "metadata": {},
     "execution_count": 36
    }
   ],
   "source": [
    "np.arange(0,10,0.1).shape"
   ]
  },
  {
   "cell_type": "code",
   "execution_count": null,
   "id": "7faf2a68",
   "metadata": {
    "ExecuteTime": {
     "end_time": "2022-01-18T18:44:41.493690Z",
     "start_time": "2022-01-18T18:44:41.490939Z"
    },
    "id": "7faf2a68"
   },
   "outputs": [],
   "source": [
    "search = GridSearchCV(\n",
    "    pipeline,\n",
    "    {'model__alpha':np.arange(0,10,0.1)},\n",
    "    cv = 5,\n",
    "    scoring=\"neg_mean_squared_error\",\n",
    "    verbose=3\n",
    ")"
   ]
  },
  {
   "cell_type": "code",
   "execution_count": null,
   "id": "99ed7363",
   "metadata": {
    "ExecuteTime": {
     "end_time": "2022-01-18T18:45:01.582386Z",
     "start_time": "2022-01-18T18:44:46.752731Z"
    },
    "scrolled": true,
    "id": "99ed7363"
   },
   "outputs": [],
   "source": [
    "search.fit(X.loc[train_id], y.loc[train_id])"
   ]
  },
  {
   "cell_type": "code",
   "execution_count": null,
   "id": "fd674e72",
   "metadata": {
    "ExecuteTime": {
     "end_time": "2022-01-18T18:46:05.550255Z",
     "start_time": "2022-01-18T18:46:05.546376Z"
    },
    "colab": {
     "base_uri": "https://localhost:8080/"
    },
    "id": "fd674e72",
    "outputId": "1f0da680-656d-4b64-89e6-b8adee4409fd"
   },
   "outputs": [
    {
     "output_type": "execute_result",
     "data": {
      "text/plain": [
       "{'model__alpha': 0.1}"
      ]
     },
     "metadata": {},
     "execution_count": 43
    }
   ],
   "source": [
    "search.best_params_"
   ]
  },
  {
   "cell_type": "code",
   "execution_count": null,
   "id": "102e953a",
   "metadata": {
    "ExecuteTime": {
     "end_time": "2022-01-18T18:46:17.884899Z",
     "start_time": "2022-01-18T18:46:17.877671Z"
    },
    "colab": {
     "base_uri": "https://localhost:8080/"
    },
    "id": "102e953a",
    "outputId": "6d6ec801-964f-418e-8384-eb3f9d329aa3"
   },
   "outputs": [
    {
     "output_type": "execute_result",
     "data": {
      "text/plain": [
       "array([2.01108779, 1.26290534, 2.07831121, ..., 1.90289166, 1.93371759,\n",
       "       1.91129538])"
      ]
     },
     "metadata": {},
     "execution_count": 45
    }
   ],
   "source": [
    "search.best_estimator_"
   ]
  },
  {
   "cell_type": "code",
   "execution_count": null,
   "id": "5f38eec0",
   "metadata": {
    "ExecuteTime": {
     "end_time": "2022-01-18T18:46:24.539521Z",
     "start_time": "2022-01-18T18:46:24.536972Z"
    },
    "id": "5f38eec0"
   },
   "outputs": [],
   "source": [
    "coefficients = search.best_estimator_.named_steps['model'].coef_"
   ]
  },
  {
   "cell_type": "markdown",
   "id": "3e62676b",
   "metadata": {
    "id": "3e62676b"
   },
   "source": [
    "Видимо, серед коефіцієнтів у нас вийшло багато нулів і фактично значущими залишилися лише декілька."
   ]
  },
  {
   "cell_type": "code",
   "execution_count": null,
   "id": "0485cdfe",
   "metadata": {
    "ExecuteTime": {
     "end_time": "2022-01-18T18:46:28.124753Z",
     "start_time": "2022-01-18T18:46:28.120400Z"
    },
    "colab": {
     "base_uri": "https://localhost:8080/"
    },
    "id": "0485cdfe",
    "outputId": "748a63c5-ff3a-485c-c8c3-c0d275087b7c"
   },
   "outputs": [
    {
     "output_type": "execute_result",
     "data": {
      "text/plain": [
       "array([ 0.  ,  0.71,  0.1 , -0.  , -0.  , -0.  , -0.  , -0.  , -0.  ,\n",
       "       -0.  ,  0.  ,  0.  , -0.  , -0.  , -0.  ,  0.  , -0.  ,  0.  ,\n",
       "        0.  ,  0.  ,  0.  , -0.  ,  0.  , -0.  ,  0.  , -0.  ,  0.  ,\n",
       "        0.  , -0.  , -0.  , -0.  ,  0.  ,  0.  , -0.  , -0.  , -0.  ,\n",
       "        0.  ,  0.  , -0.  , -0.  , -0.  , -0.  , -0.02,  0.  ,  0.  ])"
      ]
     },
     "metadata": {},
     "execution_count": 47
    }
   ],
   "source": [
    "coefficients.round(2)"
   ]
  },
  {
   "cell_type": "markdown",
   "id": "fe784c35",
   "metadata": {
    "id": "fe784c35"
   },
   "source": [
    "Давайте дізнаємось, які коефіцієнти є найбільш значущими:"
   ]
  },
  {
   "cell_type": "code",
   "execution_count": null,
   "id": "587bf6ec",
   "metadata": {
    "ExecuteTime": {
     "end_time": "2021-10-15T17:44:08.026658Z",
     "start_time": "2021-10-15T17:44:08.024268Z"
    },
    "id": "587bf6ec"
   },
   "outputs": [],
   "source": [
    "# dir(search.best_estimator_.named_steps['poly_features'])"
   ]
  },
  {
   "cell_type": "code",
   "execution_count": null,
   "id": "e4dc5d77",
   "metadata": {
    "ExecuteTime": {
     "end_time": "2022-01-18T18:46:54.585789Z",
     "start_time": "2022-01-18T18:46:54.580437Z"
    },
    "id": "e4dc5d77"
   },
   "outputs": [],
   "source": [
    "feature_names = search.best_estimator_.named_steps['poly_features'].get_feature_names_out()\n",
    "coef_df = pd.DataFrame(zip(feature_names, coefficients.round(3)), columns=['feature_name', 'coef'])"
   ]
  },
  {
   "cell_type": "code",
   "execution_count": null,
   "id": "ad1645cc",
   "metadata": {
    "ExecuteTime": {
     "end_time": "2022-01-18T18:46:57.372538Z",
     "start_time": "2022-01-18T18:46:57.360199Z"
    },
    "colab": {
     "base_uri": "https://localhost:8080/",
     "height": 363
    },
    "id": "ad1645cc",
    "outputId": "d66a6aa9-e72f-466f-d7ba-511f9c88f0f4"
   },
   "outputs": [
    {
     "output_type": "execute_result",
     "data": {
      "text/plain": [
       "   feature_name   coef\n",
       "1            x0  0.706\n",
       "2            x1  0.105\n",
       "33        x3 x6 -0.000\n",
       "24         x2^2  0.000\n",
       "25        x2 x3 -0.000\n",
       "26        x2 x4  0.000\n",
       "27        x2 x5  0.000\n",
       "28        x2 x6 -0.000\n",
       "29        x2 x7 -0.000\n",
       "30         x3^2 -0.000"
      ],
      "text/html": [
       "\n",
       "  <div id=\"df-204a7854-d626-4938-9e31-01152d872ff4\" class=\"colab-df-container\">\n",
       "    <div>\n",
       "<style scoped>\n",
       "    .dataframe tbody tr th:only-of-type {\n",
       "        vertical-align: middle;\n",
       "    }\n",
       "\n",
       "    .dataframe tbody tr th {\n",
       "        vertical-align: top;\n",
       "    }\n",
       "\n",
       "    .dataframe thead th {\n",
       "        text-align: right;\n",
       "    }\n",
       "</style>\n",
       "<table border=\"1\" class=\"dataframe\">\n",
       "  <thead>\n",
       "    <tr style=\"text-align: right;\">\n",
       "      <th></th>\n",
       "      <th>feature_name</th>\n",
       "      <th>coef</th>\n",
       "    </tr>\n",
       "  </thead>\n",
       "  <tbody>\n",
       "    <tr>\n",
       "      <th>1</th>\n",
       "      <td>x0</td>\n",
       "      <td>0.706</td>\n",
       "    </tr>\n",
       "    <tr>\n",
       "      <th>2</th>\n",
       "      <td>x1</td>\n",
       "      <td>0.105</td>\n",
       "    </tr>\n",
       "    <tr>\n",
       "      <th>33</th>\n",
       "      <td>x3 x6</td>\n",
       "      <td>-0.000</td>\n",
       "    </tr>\n",
       "    <tr>\n",
       "      <th>24</th>\n",
       "      <td>x2^2</td>\n",
       "      <td>0.000</td>\n",
       "    </tr>\n",
       "    <tr>\n",
       "      <th>25</th>\n",
       "      <td>x2 x3</td>\n",
       "      <td>-0.000</td>\n",
       "    </tr>\n",
       "    <tr>\n",
       "      <th>26</th>\n",
       "      <td>x2 x4</td>\n",
       "      <td>0.000</td>\n",
       "    </tr>\n",
       "    <tr>\n",
       "      <th>27</th>\n",
       "      <td>x2 x5</td>\n",
       "      <td>0.000</td>\n",
       "    </tr>\n",
       "    <tr>\n",
       "      <th>28</th>\n",
       "      <td>x2 x6</td>\n",
       "      <td>-0.000</td>\n",
       "    </tr>\n",
       "    <tr>\n",
       "      <th>29</th>\n",
       "      <td>x2 x7</td>\n",
       "      <td>-0.000</td>\n",
       "    </tr>\n",
       "    <tr>\n",
       "      <th>30</th>\n",
       "      <td>x3^2</td>\n",
       "      <td>-0.000</td>\n",
       "    </tr>\n",
       "  </tbody>\n",
       "</table>\n",
       "</div>\n",
       "    <div class=\"colab-df-buttons\">\n",
       "\n",
       "  <div class=\"colab-df-container\">\n",
       "    <button class=\"colab-df-convert\" onclick=\"convertToInteractive('df-204a7854-d626-4938-9e31-01152d872ff4')\"\n",
       "            title=\"Convert this dataframe to an interactive table.\"\n",
       "            style=\"display:none;\">\n",
       "\n",
       "  <svg xmlns=\"http://www.w3.org/2000/svg\" height=\"24px\" viewBox=\"0 -960 960 960\">\n",
       "    <path d=\"M120-120v-720h720v720H120Zm60-500h600v-160H180v160Zm220 220h160v-160H400v160Zm0 220h160v-160H400v160ZM180-400h160v-160H180v160Zm440 0h160v-160H620v160ZM180-180h160v-160H180v160Zm440 0h160v-160H620v160Z\"/>\n",
       "  </svg>\n",
       "    </button>\n",
       "\n",
       "  <style>\n",
       "    .colab-df-container {\n",
       "      display:flex;\n",
       "      gap: 12px;\n",
       "    }\n",
       "\n",
       "    .colab-df-convert {\n",
       "      background-color: #E8F0FE;\n",
       "      border: none;\n",
       "      border-radius: 50%;\n",
       "      cursor: pointer;\n",
       "      display: none;\n",
       "      fill: #1967D2;\n",
       "      height: 32px;\n",
       "      padding: 0 0 0 0;\n",
       "      width: 32px;\n",
       "    }\n",
       "\n",
       "    .colab-df-convert:hover {\n",
       "      background-color: #E2EBFA;\n",
       "      box-shadow: 0px 1px 2px rgba(60, 64, 67, 0.3), 0px 1px 3px 1px rgba(60, 64, 67, 0.15);\n",
       "      fill: #174EA6;\n",
       "    }\n",
       "\n",
       "    .colab-df-buttons div {\n",
       "      margin-bottom: 4px;\n",
       "    }\n",
       "\n",
       "    [theme=dark] .colab-df-convert {\n",
       "      background-color: #3B4455;\n",
       "      fill: #D2E3FC;\n",
       "    }\n",
       "\n",
       "    [theme=dark] .colab-df-convert:hover {\n",
       "      background-color: #434B5C;\n",
       "      box-shadow: 0px 1px 3px 1px rgba(0, 0, 0, 0.15);\n",
       "      filter: drop-shadow(0px 1px 2px rgba(0, 0, 0, 0.3));\n",
       "      fill: #FFFFFF;\n",
       "    }\n",
       "  </style>\n",
       "\n",
       "    <script>\n",
       "      const buttonEl =\n",
       "        document.querySelector('#df-204a7854-d626-4938-9e31-01152d872ff4 button.colab-df-convert');\n",
       "      buttonEl.style.display =\n",
       "        google.colab.kernel.accessAllowed ? 'block' : 'none';\n",
       "\n",
       "      async function convertToInteractive(key) {\n",
       "        const element = document.querySelector('#df-204a7854-d626-4938-9e31-01152d872ff4');\n",
       "        const dataTable =\n",
       "          await google.colab.kernel.invokeFunction('convertToInteractive',\n",
       "                                                    [key], {});\n",
       "        if (!dataTable) return;\n",
       "\n",
       "        const docLinkHtml = 'Like what you see? Visit the ' +\n",
       "          '<a target=\"_blank\" href=https://colab.research.google.com/notebooks/data_table.ipynb>data table notebook</a>'\n",
       "          + ' to learn more about interactive tables.';\n",
       "        element.innerHTML = '';\n",
       "        dataTable['output_type'] = 'display_data';\n",
       "        await google.colab.output.renderOutput(dataTable, element);\n",
       "        const docLink = document.createElement('div');\n",
       "        docLink.innerHTML = docLinkHtml;\n",
       "        element.appendChild(docLink);\n",
       "      }\n",
       "    </script>\n",
       "  </div>\n",
       "\n",
       "\n",
       "<div id=\"df-3903f0c5-22e4-4c9e-8b48-3123c64181d5\">\n",
       "  <button class=\"colab-df-quickchart\" onclick=\"quickchart('df-3903f0c5-22e4-4c9e-8b48-3123c64181d5')\"\n",
       "            title=\"Suggest charts\"\n",
       "            style=\"display:none;\">\n",
       "\n",
       "<svg xmlns=\"http://www.w3.org/2000/svg\" height=\"24px\"viewBox=\"0 0 24 24\"\n",
       "     width=\"24px\">\n",
       "    <g>\n",
       "        <path d=\"M19 3H5c-1.1 0-2 .9-2 2v14c0 1.1.9 2 2 2h14c1.1 0 2-.9 2-2V5c0-1.1-.9-2-2-2zM9 17H7v-7h2v7zm4 0h-2V7h2v10zm4 0h-2v-4h2v4z\"/>\n",
       "    </g>\n",
       "</svg>\n",
       "  </button>\n",
       "\n",
       "<style>\n",
       "  .colab-df-quickchart {\n",
       "      --bg-color: #E8F0FE;\n",
       "      --fill-color: #1967D2;\n",
       "      --hover-bg-color: #E2EBFA;\n",
       "      --hover-fill-color: #174EA6;\n",
       "      --disabled-fill-color: #AAA;\n",
       "      --disabled-bg-color: #DDD;\n",
       "  }\n",
       "\n",
       "  [theme=dark] .colab-df-quickchart {\n",
       "      --bg-color: #3B4455;\n",
       "      --fill-color: #D2E3FC;\n",
       "      --hover-bg-color: #434B5C;\n",
       "      --hover-fill-color: #FFFFFF;\n",
       "      --disabled-bg-color: #3B4455;\n",
       "      --disabled-fill-color: #666;\n",
       "  }\n",
       "\n",
       "  .colab-df-quickchart {\n",
       "    background-color: var(--bg-color);\n",
       "    border: none;\n",
       "    border-radius: 50%;\n",
       "    cursor: pointer;\n",
       "    display: none;\n",
       "    fill: var(--fill-color);\n",
       "    height: 32px;\n",
       "    padding: 0;\n",
       "    width: 32px;\n",
       "  }\n",
       "\n",
       "  .colab-df-quickchart:hover {\n",
       "    background-color: var(--hover-bg-color);\n",
       "    box-shadow: 0 1px 2px rgba(60, 64, 67, 0.3), 0 1px 3px 1px rgba(60, 64, 67, 0.15);\n",
       "    fill: var(--button-hover-fill-color);\n",
       "  }\n",
       "\n",
       "  .colab-df-quickchart-complete:disabled,\n",
       "  .colab-df-quickchart-complete:disabled:hover {\n",
       "    background-color: var(--disabled-bg-color);\n",
       "    fill: var(--disabled-fill-color);\n",
       "    box-shadow: none;\n",
       "  }\n",
       "\n",
       "  .colab-df-spinner {\n",
       "    border: 2px solid var(--fill-color);\n",
       "    border-color: transparent;\n",
       "    border-bottom-color: var(--fill-color);\n",
       "    animation:\n",
       "      spin 1s steps(1) infinite;\n",
       "  }\n",
       "\n",
       "  @keyframes spin {\n",
       "    0% {\n",
       "      border-color: transparent;\n",
       "      border-bottom-color: var(--fill-color);\n",
       "      border-left-color: var(--fill-color);\n",
       "    }\n",
       "    20% {\n",
       "      border-color: transparent;\n",
       "      border-left-color: var(--fill-color);\n",
       "      border-top-color: var(--fill-color);\n",
       "    }\n",
       "    30% {\n",
       "      border-color: transparent;\n",
       "      border-left-color: var(--fill-color);\n",
       "      border-top-color: var(--fill-color);\n",
       "      border-right-color: var(--fill-color);\n",
       "    }\n",
       "    40% {\n",
       "      border-color: transparent;\n",
       "      border-right-color: var(--fill-color);\n",
       "      border-top-color: var(--fill-color);\n",
       "    }\n",
       "    60% {\n",
       "      border-color: transparent;\n",
       "      border-right-color: var(--fill-color);\n",
       "    }\n",
       "    80% {\n",
       "      border-color: transparent;\n",
       "      border-right-color: var(--fill-color);\n",
       "      border-bottom-color: var(--fill-color);\n",
       "    }\n",
       "    90% {\n",
       "      border-color: transparent;\n",
       "      border-bottom-color: var(--fill-color);\n",
       "    }\n",
       "  }\n",
       "</style>\n",
       "\n",
       "  <script>\n",
       "    async function quickchart(key) {\n",
       "      const quickchartButtonEl =\n",
       "        document.querySelector('#' + key + ' button');\n",
       "      quickchartButtonEl.disabled = true;  // To prevent multiple clicks.\n",
       "      quickchartButtonEl.classList.add('colab-df-spinner');\n",
       "      try {\n",
       "        const charts = await google.colab.kernel.invokeFunction(\n",
       "            'suggestCharts', [key], {});\n",
       "      } catch (error) {\n",
       "        console.error('Error during call to suggestCharts:', error);\n",
       "      }\n",
       "      quickchartButtonEl.classList.remove('colab-df-spinner');\n",
       "      quickchartButtonEl.classList.add('colab-df-quickchart-complete');\n",
       "    }\n",
       "    (() => {\n",
       "      let quickchartButtonEl =\n",
       "        document.querySelector('#df-3903f0c5-22e4-4c9e-8b48-3123c64181d5 button');\n",
       "      quickchartButtonEl.style.display =\n",
       "        google.colab.kernel.accessAllowed ? 'block' : 'none';\n",
       "    })();\n",
       "  </script>\n",
       "</div>\n",
       "\n",
       "    </div>\n",
       "  </div>\n"
      ],
      "application/vnd.google.colaboratory.intrinsic+json": {
       "type": "dataframe",
       "summary": "{\n  \"name\": \"coef_df\",\n  \"rows\": 10,\n  \"fields\": [\n    {\n      \"column\": \"feature_name\",\n      \"properties\": {\n        \"dtype\": \"string\",\n        \"num_unique_values\": 10,\n        \"samples\": [\n          \"x2 x7\",\n          \"x1\",\n          \"x2 x4\"\n        ],\n        \"semantic_type\": \"\",\n        \"description\": \"\"\n      }\n    },\n    {\n      \"column\": \"coef\",\n      \"properties\": {\n        \"dtype\": \"number\",\n        \"std\": 0.22203325576738875,\n        \"min\": -0.0,\n        \"max\": 0.706,\n        \"num_unique_values\": 3,\n        \"samples\": [\n          0.706,\n          0.105,\n          -0.0\n        ],\n        \"semantic_type\": \"\",\n        \"description\": \"\"\n      }\n    }\n  ]\n}"
      }
     },
     "metadata": {},
     "execution_count": 49
    }
   ],
   "source": [
    "coef_df.sort_values('coef', ascending=False)[:10]"
   ]
  },
  {
   "cell_type": "markdown",
   "id": "41de6a55",
   "metadata": {
    "id": "41de6a55"
   },
   "source": [
    "Словник з назвами ознак:"
   ]
  },
  {
   "cell_type": "code",
   "execution_count": null,
   "id": "045a7034",
   "metadata": {
    "ExecuteTime": {
     "end_time": "2022-01-18T18:47:19.801260Z",
     "start_time": "2022-01-18T18:47:19.796077Z"
    },
    "colab": {
     "base_uri": "https://localhost:8080/"
    },
    "id": "045a7034",
    "outputId": "c36a5914-b69a-4f17-920d-af3395824e0b"
   },
   "outputs": [
    {
     "output_type": "execute_result",
     "data": {
      "text/plain": [
       "{0: 'MedInc',\n",
       " 1: 'HouseAge',\n",
       " 2: 'AveRooms',\n",
       " 3: 'AveBedrms',\n",
       " 4: 'Population',\n",
       " 5: 'AveOccup',\n",
       " 6: 'Latitude',\n",
       " 7: 'Longitude'}"
      ]
     },
     "metadata": {},
     "execution_count": 50
    }
   ],
   "source": [
    "X.columns.to_frame().reset_index(drop=True).to_dict()[0]"
   ]
  },
  {
   "cell_type": "markdown",
   "id": "bed984c2",
   "metadata": {
    "id": "bed984c2"
   },
   "source": [
    "Видно, що все одно найважливіша ознака - MedInc без будь-яких ступенів."
   ]
  },
  {
   "cell_type": "code",
   "execution_count": null,
   "id": "78cdf1f8",
   "metadata": {
    "ExecuteTime": {
     "end_time": "2022-01-18T18:48:24.935894Z",
     "start_time": "2022-01-18T18:48:24.932104Z"
    },
    "colab": {
     "base_uri": "https://localhost:8080/"
    },
    "id": "78cdf1f8",
    "outputId": "f66c760f-ce3a-491d-d8c7-3efe675c018c"
   },
   "outputs": [
    {
     "output_type": "execute_result",
     "data": {
      "text/plain": [
       "-0.6640858768504454"
      ]
     },
     "metadata": {},
     "execution_count": 51
    }
   ],
   "source": [
    "search.best_score_"
   ]
  },
  {
   "cell_type": "code",
   "execution_count": null,
   "id": "b9c2a0d9",
   "metadata": {
    "ExecuteTime": {
     "end_time": "2022-01-18T18:48:33.892470Z",
     "start_time": "2022-01-18T18:48:33.871980Z"
    },
    "id": "b9c2a0d9"
   },
   "outputs": [],
   "source": [
    "best_model = search.best_estimator_\n",
    "\n",
    "y_train_pred = best_model.predict(X.loc[train_id])\n",
    "y_val_pred = best_model.predict(X.loc[val_id])\n",
    "train_metrics = get_metrics(y.loc[train_id], y_train_pred)\n",
    "val_metrics = get_metrics(y.loc[val_id], y_val_pred)"
   ]
  },
  {
   "cell_type": "code",
   "execution_count": null,
   "id": "c094057a",
   "metadata": {
    "ExecuteTime": {
     "end_time": "2022-01-18T18:48:34.738818Z",
     "start_time": "2022-01-18T18:48:34.734775Z"
    },
    "colab": {
     "base_uri": "https://localhost:8080/"
    },
    "id": "c094057a",
    "outputId": "d44be2b7-15ff-49a3-d906-f4e94b9aeecd"
   },
   "outputs": [
    {
     "output_type": "execute_result",
     "data": {
      "text/plain": [
       "({'mse': 0.66241, 'rmse': 0.81389}, {'mse': 0.69114, 'rmse': 0.83135})"
      ]
     },
     "metadata": {},
     "execution_count": 53
    }
   ],
   "source": [
    "train_metrics, val_metrics"
   ]
  },
  {
   "cell_type": "markdown",
   "id": "b91467fd",
   "metadata": {
    "id": "b91467fd"
   },
   "source": [
    "## Випадковий пошук (Random Search)\n",
    "\n",
    "Випадковий пошук - це метод гіперпараметричної оптимізації, який випадковим чином вибирає комбінації гіперпараметрів з визначеного простору."
   ]
  },
  {
   "cell_type": "code",
   "execution_count": null,
   "id": "7c8430d7",
   "metadata": {
    "ExecuteTime": {
     "end_time": "2022-01-18T18:50:01.050464Z",
     "start_time": "2022-01-18T18:50:01.047510Z"
    },
    "id": "7c8430d7"
   },
   "outputs": [],
   "source": [
    "from sklearn.model_selection import RandomizedSearchCV"
   ]
  },
  {
   "cell_type": "code",
   "execution_count": null,
   "id": "207d5678",
   "metadata": {
    "ExecuteTime": {
     "end_time": "2022-01-18T18:50:05.819210Z",
     "start_time": "2022-01-18T18:50:05.816044Z"
    },
    "id": "207d5678"
   },
   "outputs": [],
   "source": [
    "params = dict()\n",
    "\n",
    "# значения для alpha: 100 значений між e^-5 и e^5\n",
    "params['alpha'] =  np.logspace(-5, 5, 100, endpoint=True)\n",
    "\n",
    "# значения для l1_ratio: 100 значений между 0 и 1\n",
    "params['l1_ratio'] = np.arange(0, 1, 0.01)"
   ]
  },
  {
   "cell_type": "code",
   "execution_count": null,
   "id": "88bd9527",
   "metadata": {
    "ExecuteTime": {
     "end_time": "2022-01-18T18:50:58.572086Z",
     "start_time": "2022-01-18T18:50:58.568284Z"
    },
    "colab": {
     "base_uri": "https://localhost:8080/"
    },
    "id": "88bd9527",
    "outputId": "8ea491a1-29ea-4ca3-95ce-76a4e3e1a14b"
   },
   "outputs": [
    {
     "output_type": "execute_result",
     "data": {
      "text/plain": [
       "10000"
      ]
     },
     "metadata": {},
     "execution_count": 55
    }
   ],
   "source": [
    "len(params['alpha'])*len(params['l1_ratio'])"
   ]
  },
  {
   "cell_type": "code",
   "execution_count": null,
   "id": "2d84b59b",
   "metadata": {
    "ExecuteTime": {
     "end_time": "2022-01-18T18:50:21.254973Z",
     "start_time": "2022-01-18T18:50:21.252510Z"
    },
    "id": "2d84b59b"
   },
   "outputs": [],
   "source": [
    "model = ElasticNet()"
   ]
  },
  {
   "cell_type": "code",
   "source": [
    "?RandomizedSearchCV"
   ],
   "metadata": {
    "id": "Q_eGMLAnOOpB"
   },
   "id": "Q_eGMLAnOOpB",
   "execution_count": null,
   "outputs": []
  },
  {
   "cell_type": "markdown",
   "source": [
    "Які стандартні методи оцінки якості моделі доступні в `RandomizedSearchCV` та `GridSearchCV`: https://scikit-learn.org/stable/modules/model_evaluation.html#scoring-parameter"
   ],
   "metadata": {
    "id": "htfcdstiRUTt"
   },
   "id": "htfcdstiRUTt"
  },
  {
   "cell_type": "code",
   "execution_count": null,
   "id": "473e5391",
   "metadata": {
    "ExecuteTime": {
     "end_time": "2022-01-18T18:51:27.776908Z",
     "start_time": "2022-01-18T18:51:27.773647Z"
    },
    "id": "473e5391"
   },
   "outputs": [],
   "source": [
    "search = RandomizedSearchCV(\n",
    "    model,\n",
    "    params,\n",
    "    n_iter = 100,\n",
    "    cv=5,\n",
    "    scoring=\"neg_mean_squared_error\",\n",
    "    verbose=3,\n",
    "    refit=True\n",
    ")"
   ]
  },
  {
   "cell_type": "code",
   "execution_count": null,
   "id": "99b3892a",
   "metadata": {
    "ExecuteTime": {
     "end_time": "2022-01-18T18:51:58.379326Z",
     "start_time": "2022-01-18T18:51:43.519382Z"
    },
    "scrolled": true,
    "id": "99b3892a"
   },
   "outputs": [],
   "source": [
    "search.fit(X.loc[train_id], y.loc[train_id])"
   ]
  },
  {
   "cell_type": "code",
   "execution_count": null,
   "id": "96beb86f",
   "metadata": {
    "ExecuteTime": {
     "end_time": "2022-01-18T18:51:58.388759Z",
     "start_time": "2022-01-18T18:51:58.381314Z"
    },
    "colab": {
     "base_uri": "https://localhost:8080/",
     "height": 92
    },
    "id": "96beb86f",
    "outputId": "9ad9779f-2ff4-422f-809a-9c0f08a715f0"
   },
   "outputs": [
    {
     "output_type": "display_data",
     "data": {
      "text/plain": [
       "ElasticNet(alpha=0.00210490414451202, l1_ratio=0.18)"
      ],
      "text/html": [
       "<style>#sk-container-id-4 {color: black;background-color: white;}#sk-container-id-4 pre{padding: 0;}#sk-container-id-4 div.sk-toggleable {background-color: white;}#sk-container-id-4 label.sk-toggleable__label {cursor: pointer;display: block;width: 100%;margin-bottom: 0;padding: 0.3em;box-sizing: border-box;text-align: center;}#sk-container-id-4 label.sk-toggleable__label-arrow:before {content: \"▸\";float: left;margin-right: 0.25em;color: #696969;}#sk-container-id-4 label.sk-toggleable__label-arrow:hover:before {color: black;}#sk-container-id-4 div.sk-estimator:hover label.sk-toggleable__label-arrow:before {color: black;}#sk-container-id-4 div.sk-toggleable__content {max-height: 0;max-width: 0;overflow: hidden;text-align: left;background-color: #f0f8ff;}#sk-container-id-4 div.sk-toggleable__content pre {margin: 0.2em;color: black;border-radius: 0.25em;background-color: #f0f8ff;}#sk-container-id-4 input.sk-toggleable__control:checked~div.sk-toggleable__content {max-height: 200px;max-width: 100%;overflow: auto;}#sk-container-id-4 input.sk-toggleable__control:checked~label.sk-toggleable__label-arrow:before {content: \"▾\";}#sk-container-id-4 div.sk-estimator input.sk-toggleable__control:checked~label.sk-toggleable__label {background-color: #d4ebff;}#sk-container-id-4 div.sk-label input.sk-toggleable__control:checked~label.sk-toggleable__label {background-color: #d4ebff;}#sk-container-id-4 input.sk-hidden--visually {border: 0;clip: rect(1px 1px 1px 1px);clip: rect(1px, 1px, 1px, 1px);height: 1px;margin: -1px;overflow: hidden;padding: 0;position: absolute;width: 1px;}#sk-container-id-4 div.sk-estimator {font-family: monospace;background-color: #f0f8ff;border: 1px dotted black;border-radius: 0.25em;box-sizing: border-box;margin-bottom: 0.5em;}#sk-container-id-4 div.sk-estimator:hover {background-color: #d4ebff;}#sk-container-id-4 div.sk-parallel-item::after {content: \"\";width: 100%;border-bottom: 1px solid gray;flex-grow: 1;}#sk-container-id-4 div.sk-label:hover label.sk-toggleable__label {background-color: #d4ebff;}#sk-container-id-4 div.sk-serial::before {content: \"\";position: absolute;border-left: 1px solid gray;box-sizing: border-box;top: 0;bottom: 0;left: 50%;z-index: 0;}#sk-container-id-4 div.sk-serial {display: flex;flex-direction: column;align-items: center;background-color: white;padding-right: 0.2em;padding-left: 0.2em;position: relative;}#sk-container-id-4 div.sk-item {position: relative;z-index: 1;}#sk-container-id-4 div.sk-parallel {display: flex;align-items: stretch;justify-content: center;background-color: white;position: relative;}#sk-container-id-4 div.sk-item::before, #sk-container-id-4 div.sk-parallel-item::before {content: \"\";position: absolute;border-left: 1px solid gray;box-sizing: border-box;top: 0;bottom: 0;left: 50%;z-index: -1;}#sk-container-id-4 div.sk-parallel-item {display: flex;flex-direction: column;z-index: 1;position: relative;background-color: white;}#sk-container-id-4 div.sk-parallel-item:first-child::after {align-self: flex-end;width: 50%;}#sk-container-id-4 div.sk-parallel-item:last-child::after {align-self: flex-start;width: 50%;}#sk-container-id-4 div.sk-parallel-item:only-child::after {width: 0;}#sk-container-id-4 div.sk-dashed-wrapped {border: 1px dashed gray;margin: 0 0.4em 0.5em 0.4em;box-sizing: border-box;padding-bottom: 0.4em;background-color: white;}#sk-container-id-4 div.sk-label label {font-family: monospace;font-weight: bold;display: inline-block;line-height: 1.2em;}#sk-container-id-4 div.sk-label-container {text-align: center;}#sk-container-id-4 div.sk-container {/* jupyter's `normalize.less` sets `[hidden] { display: none; }` but bootstrap.min.css set `[hidden] { display: none !important; }` so we also need the `!important` here to be able to override the default hidden behavior on the sphinx rendered scikit-learn.org. See: https://github.com/scikit-learn/scikit-learn/issues/21755 */display: inline-block !important;position: relative;}#sk-container-id-4 div.sk-text-repr-fallback {display: none;}</style><div id=\"sk-container-id-4\" class=\"sk-top-container\"><div class=\"sk-text-repr-fallback\"><pre>ElasticNet(alpha=0.00210490414451202, l1_ratio=0.18)</pre><b>In a Jupyter environment, please rerun this cell to show the HTML representation or trust the notebook. <br />On GitHub, the HTML representation is unable to render, please try loading this page with nbviewer.org.</b></div><div class=\"sk-container\" hidden><div class=\"sk-item\"><div class=\"sk-estimator sk-toggleable\"><input class=\"sk-toggleable__control sk-hidden--visually\" id=\"sk-estimator-id-13\" type=\"checkbox\" checked><label for=\"sk-estimator-id-13\" class=\"sk-toggleable__label sk-toggleable__label-arrow\">ElasticNet</label><div class=\"sk-toggleable__content\"><pre>ElasticNet(alpha=0.00210490414451202, l1_ratio=0.18)</pre></div></div></div></div></div>"
      ]
     },
     "metadata": {}
    },
    {
     "output_type": "display_data",
     "data": {
      "text/plain": [
       "-0.5162179630417014"
      ]
     },
     "metadata": {}
    }
   ],
   "source": [
    "display(search.best_estimator_, search.best_score_)"
   ]
  },
  {
   "cell_type": "code",
   "execution_count": null,
   "id": "3d243a19",
   "metadata": {
    "colab": {
     "base_uri": "https://localhost:8080/",
     "height": 74
    },
    "id": "3d243a19",
    "outputId": "a70f73cc-95b2-4d0f-ab31-42123129dcef"
   },
   "outputs": [
    {
     "output_type": "execute_result",
     "data": {
      "text/plain": [
       "ElasticNet()"
      ],
      "text/html": [
       "<style>#sk-container-id-5 {color: black;background-color: white;}#sk-container-id-5 pre{padding: 0;}#sk-container-id-5 div.sk-toggleable {background-color: white;}#sk-container-id-5 label.sk-toggleable__label {cursor: pointer;display: block;width: 100%;margin-bottom: 0;padding: 0.3em;box-sizing: border-box;text-align: center;}#sk-container-id-5 label.sk-toggleable__label-arrow:before {content: \"▸\";float: left;margin-right: 0.25em;color: #696969;}#sk-container-id-5 label.sk-toggleable__label-arrow:hover:before {color: black;}#sk-container-id-5 div.sk-estimator:hover label.sk-toggleable__label-arrow:before {color: black;}#sk-container-id-5 div.sk-toggleable__content {max-height: 0;max-width: 0;overflow: hidden;text-align: left;background-color: #f0f8ff;}#sk-container-id-5 div.sk-toggleable__content pre {margin: 0.2em;color: black;border-radius: 0.25em;background-color: #f0f8ff;}#sk-container-id-5 input.sk-toggleable__control:checked~div.sk-toggleable__content {max-height: 200px;max-width: 100%;overflow: auto;}#sk-container-id-5 input.sk-toggleable__control:checked~label.sk-toggleable__label-arrow:before {content: \"▾\";}#sk-container-id-5 div.sk-estimator input.sk-toggleable__control:checked~label.sk-toggleable__label {background-color: #d4ebff;}#sk-container-id-5 div.sk-label input.sk-toggleable__control:checked~label.sk-toggleable__label {background-color: #d4ebff;}#sk-container-id-5 input.sk-hidden--visually {border: 0;clip: rect(1px 1px 1px 1px);clip: rect(1px, 1px, 1px, 1px);height: 1px;margin: -1px;overflow: hidden;padding: 0;position: absolute;width: 1px;}#sk-container-id-5 div.sk-estimator {font-family: monospace;background-color: #f0f8ff;border: 1px dotted black;border-radius: 0.25em;box-sizing: border-box;margin-bottom: 0.5em;}#sk-container-id-5 div.sk-estimator:hover {background-color: #d4ebff;}#sk-container-id-5 div.sk-parallel-item::after {content: \"\";width: 100%;border-bottom: 1px solid gray;flex-grow: 1;}#sk-container-id-5 div.sk-label:hover label.sk-toggleable__label {background-color: #d4ebff;}#sk-container-id-5 div.sk-serial::before {content: \"\";position: absolute;border-left: 1px solid gray;box-sizing: border-box;top: 0;bottom: 0;left: 50%;z-index: 0;}#sk-container-id-5 div.sk-serial {display: flex;flex-direction: column;align-items: center;background-color: white;padding-right: 0.2em;padding-left: 0.2em;position: relative;}#sk-container-id-5 div.sk-item {position: relative;z-index: 1;}#sk-container-id-5 div.sk-parallel {display: flex;align-items: stretch;justify-content: center;background-color: white;position: relative;}#sk-container-id-5 div.sk-item::before, #sk-container-id-5 div.sk-parallel-item::before {content: \"\";position: absolute;border-left: 1px solid gray;box-sizing: border-box;top: 0;bottom: 0;left: 50%;z-index: -1;}#sk-container-id-5 div.sk-parallel-item {display: flex;flex-direction: column;z-index: 1;position: relative;background-color: white;}#sk-container-id-5 div.sk-parallel-item:first-child::after {align-self: flex-end;width: 50%;}#sk-container-id-5 div.sk-parallel-item:last-child::after {align-self: flex-start;width: 50%;}#sk-container-id-5 div.sk-parallel-item:only-child::after {width: 0;}#sk-container-id-5 div.sk-dashed-wrapped {border: 1px dashed gray;margin: 0 0.4em 0.5em 0.4em;box-sizing: border-box;padding-bottom: 0.4em;background-color: white;}#sk-container-id-5 div.sk-label label {font-family: monospace;font-weight: bold;display: inline-block;line-height: 1.2em;}#sk-container-id-5 div.sk-label-container {text-align: center;}#sk-container-id-5 div.sk-container {/* jupyter's `normalize.less` sets `[hidden] { display: none; }` but bootstrap.min.css set `[hidden] { display: none !important; }` so we also need the `!important` here to be able to override the default hidden behavior on the sphinx rendered scikit-learn.org. See: https://github.com/scikit-learn/scikit-learn/issues/21755 */display: inline-block !important;position: relative;}#sk-container-id-5 div.sk-text-repr-fallback {display: none;}</style><div id=\"sk-container-id-5\" class=\"sk-top-container\"><div class=\"sk-text-repr-fallback\"><pre>ElasticNet()</pre><b>In a Jupyter environment, please rerun this cell to show the HTML representation or trust the notebook. <br />On GitHub, the HTML representation is unable to render, please try loading this page with nbviewer.org.</b></div><div class=\"sk-container\" hidden><div class=\"sk-item\"><div class=\"sk-estimator sk-toggleable\"><input class=\"sk-toggleable__control sk-hidden--visually\" id=\"sk-estimator-id-14\" type=\"checkbox\" checked><label for=\"sk-estimator-id-14\" class=\"sk-toggleable__label sk-toggleable__label-arrow\">ElasticNet</label><div class=\"sk-toggleable__content\"><pre>ElasticNet()</pre></div></div></div></div></div>"
      ]
     },
     "metadata": {},
     "execution_count": 62
    }
   ],
   "source": [
    "ElasticNet()"
   ]
  },
  {
   "cell_type": "code",
   "execution_count": null,
   "id": "01e16604",
   "metadata": {
    "ExecuteTime": {
     "end_time": "2022-01-18T18:52:08.161155Z",
     "start_time": "2022-01-18T18:52:08.148270Z"
    },
    "id": "01e16604"
   },
   "outputs": [],
   "source": [
    "best_model = search.best_estimator_\n",
    "\n",
    "y_train_pred = best_model.predict(X.loc[train_id])\n",
    "y_val_pred = best_model.predict(X.loc[val_id])\n",
    "train_metrics = get_metrics(y.loc[train_id], y_train_pred)\n",
    "val_metrics = get_metrics(y.loc[val_id], y_val_pred)"
   ]
  },
  {
   "cell_type": "code",
   "execution_count": null,
   "id": "bd3d9b04",
   "metadata": {
    "ExecuteTime": {
     "end_time": "2022-01-18T18:52:10.117085Z",
     "start_time": "2022-01-18T18:52:10.113246Z"
    },
    "colab": {
     "base_uri": "https://localhost:8080/"
    },
    "id": "bd3d9b04",
    "outputId": "2e3f2cf0-17e8-4e10-c05a-b6531a6b3549"
   },
   "outputs": [
    {
     "output_type": "execute_result",
     "data": {
      "text/plain": [
       "({'mse': 0.51302, 'rmse': 0.71626}, {'mse': 0.53882, 'rmse': 0.73405})"
      ]
     },
     "metadata": {},
     "execution_count": 64
    }
   ],
   "source": [
    "train_metrics, val_metrics"
   ]
  },
  {
   "cell_type": "markdown",
   "id": "7b66d165",
   "metadata": {
    "id": "7b66d165"
   },
   "source": [
    "Нам вдалось якісно покращити модель. Ура!"
   ]
  }
 ],
 "metadata": {
  "kernelspec": {
   "display_name": "Python 3 (ipykernel)",
   "language": "python",
   "name": "python3"
  },
  "language_info": {
   "codemirror_mode": {
    "name": "ipython",
    "version": 3
   },
   "file_extension": ".py",
   "mimetype": "text/x-python",
   "name": "python",
   "nbconvert_exporter": "python",
   "pygments_lexer": "ipython3",
   "version": "3.12.0"
  },
  "toc": {
   "base_numbering": 1,
   "nav_menu": {},
   "number_sections": true,
   "sideBar": true,
   "skip_h1_title": false,
   "title_cell": "Table of Contents",
   "title_sidebar": "Contents",
   "toc_cell": false,
   "toc_position": {},
   "toc_section_display": true,
   "toc_window_display": false
  },
  "colab": {
   "provenance": []
  }
 },
 "nbformat": 4,
 "nbformat_minor": 5
}
