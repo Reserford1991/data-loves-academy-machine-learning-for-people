{
 "nbformat": 4,
 "nbformat_minor": 0,
 "metadata": {
  "colab": {
   "provenance": []
  },
  "kernelspec": {
   "name": "python3",
   "display_name": "Python 3 (ipykernel)",
   "language": "python"
  },
  "language_info": {
   "name": "python"
  }
 },
 "cells": [
  {
   "metadata": {
    "ExecuteTime": {
     "end_time": "2025-01-01T18:57:48.146082Z",
     "start_time": "2025-01-01T18:57:48.143715Z"
    }
   },
   "cell_type": "code",
   "source": [
    "import numpy as np\n",
    "import random"
   ],
   "outputs": [],
   "execution_count": 4
  },
  {
   "metadata": {
    "id": "efug1V4CM0lT"
   },
   "cell_type": "markdown",
   "source": [
    "### Завдання 1: Створення матриць та векторів\n",
    "1. Створіть `numpy` вектор `vector` розмірністю 10 з випадковими дійсними значеннями в діапазоні від 0 до 1. Можна скористатись двома альтернативними варіантами:\n",
    "  1.1. Генерація випадкових чисел з модулем [`random.uniform`](https://docs.python.org/3/library/random.html).\n",
    "\n",
    "   2.1 Створення вектора з допомогою метода `numpy` [np.random.rand](https://numpy.org/doc/stable/reference/random/generated/numpy.random.rand.html)\n",
    "\n",
    "2. Створіть матрицю `matrix` типу `numpy.array` розмірності 3x3 з наступними значеннями\n",
    "\n",
    "  $$\n",
    "  matrix = \\begin{bmatrix}\n",
    "  11 & 14 & 17 \\\\\n",
    "  20 & 23 & 26 \\\\\n",
    "  29 & 32 & 35\n",
    "  \\end{bmatrix}\n",
    "  $$\n",
    "\n",
    "  будь-яким відомими Вам способом.\n",
    "\n",
    "Виведіть на екран вектор і матрицю, а також їх розміри.\n"
   ]
  },
  {
   "metadata": {
    "id": "jxA_lG2_VIMe",
    "ExecuteTime": {
     "end_time": "2025-01-01T19:39:50.858874Z",
     "start_time": "2025-01-01T19:39:50.855135Z"
    }
   },
   "cell_type": "code",
   "source": [
    "vector_random_uniform = np.round([random.uniform(0, 1) for _ in range(10)], 2)\n",
    "print('Генерація випадкових чисел з модулем random.uniform:', vector_random_uniform)\n",
    "\n",
    "print('\\n')\n",
    "\n",
    "vector_random_rand = np.round(np.random.rand(10), 2)\n",
    "print('Створення вектора з допомогою метода np.random.rand: ', vector_random_rand)\n",
    "\n",
    "matrix = np.array([\n",
    "            [11, 14, 17],\n",
    "            [20, 23, 26],\n",
    "            [29, 32, 35]\n",
    "        ])\n",
    "\n",
    "print('\\n')\n",
    "\n",
    "print('Матриця:', matrix)\n",
    "\n",
    "print('\\n')\n"
   ],
   "outputs": [
    {
     "name": "stdout",
     "output_type": "stream",
     "text": [
      "Генерація випадкових чисел з модулем random.uniform: [0.72 0.38 0.01 0.49 0.71 0.94 0.   0.76 0.27 0.99]\n",
      "\n",
      "\n",
      "Створення вектора з допомогою метода np.random.rand:  [0.67 0.69 0.19 0.67 0.78 0.24 0.76 0.79 0.72 0.71]\n",
      "\n",
      "\n",
      "Матриця: [[11 14 17]\n",
      " [20 23 26]\n",
      " [29 32 35]]\n",
      "\n",
      "\n"
     ]
    }
   ],
   "execution_count": 53
  },
  {
   "cell_type": "markdown",
   "source": [
    "\n",
    "### Завдання 2: Операції над векторами та матрицями\n",
    "Виконайте кожну з зазначених операцій над зазначеними оʼєктами і виведіть результат на екран:\n",
    "1. Додайте до кожного значення вектора `vector` число 10 і округліть кожне значення до 2 знаків після коми без використання циклів.\n",
    "2. Помножте кожен елемент матриці з першого завдання на 2 без використання циклів.\n",
    "3. Створіть новий вектор, який містить квадрат кожного `vector` без циклів.\n"
   ],
   "metadata": {
    "id": "TSJ1P4OuOVe2"
   }
  },
  {
   "cell_type": "code",
   "source": [
    "vector_random_rand_plus_10 = np.round(10 + vector_random_rand, 2)\n",
    "\n",
    "print('Вектор + 10:', vector_random_rand_plus_10)\n",
    "print('\\n')\n",
    "\n",
    "matrix_mult_2 = matrix * 2\n",
    "\n",
    "print('Матриця помножена на 2:', matrix_mult_2)\n",
    "print('\\n')\n",
    "\n",
    "vector_squared = vector_random_rand ** 2\n",
    "\n",
    "print('Вектор в квадраті:', vector_squared)\n",
    "print('\\n')"
   ],
   "metadata": {
    "id": "nAAojtyUVJXN",
    "ExecuteTime": {
     "end_time": "2025-01-01T19:39:54.702Z",
     "start_time": "2025-01-01T19:39:54.697223Z"
    }
   },
   "outputs": [
    {
     "name": "stdout",
     "output_type": "stream",
     "text": [
      "Вектор + 10: [10.67 10.69 10.19 10.67 10.78 10.24 10.76 10.79 10.72 10.71]\n",
      "\n",
      "\n",
      "Матриця помножена на 2: [[22 28 34]\n",
      " [40 46 52]\n",
      " [58 64 70]]\n",
      "\n",
      "\n",
      "Вектор в квадраті: [0.4489 0.4761 0.0361 0.4489 0.6084 0.0576 0.5776 0.6241 0.5184 0.5041]\n",
      "\n",
      "\n"
     ]
    }
   ],
   "execution_count": 55
  },
  {
   "cell_type": "markdown",
   "source": [
    "\n",
    "### Завдання 3: Множення матриць\n",
    "1. Задані дві матриці `A` і `B`розмірностями 3x2 та 2х3. Виконайте їхнє множення, щоб отримати матрицю 2x2. Виведіть результуючу матрицю `result_matrix` на екран.\n",
    "\n",
    "2. Заданий вектор `C` розмірністю 2х1. Подумайте спочатку, яку розмірність Ви отрмаєте, коли домножите `result_matrix` на вектор `C` і який результат буде. А потім виконайте множення і виведіть результат на екран.\n",
    "\n",
    "3. Задана матриця `D` розмірністю 2х2. Подумайте спочатку, яку розмірність Ви отрмаєте, коли домножите `result_matrix` на матрицю `D` і який результат буде. А потім виконайте множення і виведіть результат на екран."
   ],
   "metadata": {
    "id": "u6RvWVfhPy-k"
   }
  },
  {
   "cell_type": "code",
   "source": [
    "A = np.array(\n",
    "    [[0.18, 0.53],\n",
    "     [0.75, 0.47],\n",
    "     [0.35, 0.21]])\n",
    "\n",
    "B = np.array(\n",
    "    [[0.17, 0.58, 0.75],\n",
    "     [0.38, 0.11, 0.15]])\n",
    "\n",
    "C = np.array([[0], [1]])\n",
    "\n",
    "D = np.array([[0,1], [1,0]])\n",
    "\n",
    "print(A)\n",
    "print('\\n')\n",
    "print(B)\n",
    "print('\\n')\n",
    "print(C)\n",
    "print('\\n')\n",
    "print(D)\n",
    "print('\\n')"
   ],
   "metadata": {
    "id": "RwXfPzlbSJ44",
    "ExecuteTime": {
     "end_time": "2025-01-01T19:39:56.476654Z",
     "start_time": "2025-01-01T19:39:56.472980Z"
    }
   },
   "outputs": [
    {
     "name": "stdout",
     "output_type": "stream",
     "text": [
      "[[0.18 0.53]\n",
      " [0.75 0.47]\n",
      " [0.35 0.21]]\n",
      "\n",
      "\n",
      "[[0.17 0.58 0.75]\n",
      " [0.38 0.11 0.15]]\n",
      "\n",
      "\n",
      "[[0]\n",
      " [1]]\n",
      "\n",
      "\n",
      "[[0 1]\n",
      " [1 0]]\n",
      "\n",
      "\n"
     ]
    }
   ],
   "execution_count": 56
  },
  {
   "cell_type": "code",
   "source": [
    "result_matrix = np.dot(A[:2], B[:, :2])\n",
    "print('Множення матриць:', result_matrix)\n",
    "print('\\n')\n",
    "\n",
    "result_matrix_C = np.dot(result_matrix, C)\n",
    "print('Множення матриці на вектор 1:', result_matrix_C)\n",
    "print('\\n')\n",
    "\n",
    "result_matrix_D = np.dot(result_matrix, D)\n",
    "print('Множення матриці на вектор 2:', result_matrix_D)\n",
    "print('\\n')"
   ],
   "metadata": {
    "id": "z7-boTbhVKkj",
    "ExecuteTime": {
     "end_time": "2025-01-01T19:39:58.607019Z",
     "start_time": "2025-01-01T19:39:58.603654Z"
    }
   },
   "outputs": [
    {
     "name": "stdout",
     "output_type": "stream",
     "text": [
      "Множення матриць: [[0.232  0.1627]\n",
      " [0.3061 0.4867]]\n",
      "\n",
      "\n",
      "Множення матриці на вектор 1: [[0.1627]\n",
      " [0.4867]]\n",
      "\n",
      "\n",
      "Множення матриці на вектор 2: [[0.1627 0.232 ]\n",
      " [0.4867 0.3061]]\n",
      "\n",
      "\n"
     ]
    }
   ],
   "execution_count": 57
  },
  {
   "cell_type": "markdown",
   "source": [
    "\n",
    "### Завдання 4: Транспонування матриць\n",
    "1. Транспонуйте `result_matrix`.\n",
    "2. Зробіть транспонування вектора `vector` і виведіть форму нової структури. Чи бачите ви зміну?\n",
    "3. Використайте операцію `numpy.expand_dims` над вектором `vector` з аргументом axis=1. Запишіть отриманий результат в змінну `column_vector` і виведіть на екран. Порівняйте з `vector`.\n",
    "4. Зробіть транспонування `column_vector`, виведіть результат на екран разом з розмірностями отриманої структури.\n",
    "\n",
    "\n"
   ],
   "metadata": {
    "id": "wohp0_cxSGpl"
   }
  },
  {
   "cell_type": "code",
   "source": [
    "result_matrix_T = result_matrix.T\n",
    "print('Транспонування матриці на вектор result_matrix:', result_matrix_T)\n",
    "print('\\n')\n",
    "\n",
    "vector_random_uniform_T = vector_random_uniform.T\n",
    "print('Оригінальний вектор:', vector_random_uniform, vector_random_uniform.shape)\n",
    "print('Транспонований вектор result_matrix:', vector_random_uniform_T, vector_random_uniform_T.shape)\n",
    "print('Після транспонування вектор не змінився.')\n",
    "print('\\n')\n",
    "\n",
    "column_vector = np.expand_dims(vector_random_uniform, axis=1)\n",
    "print('Оригінальний вектор:', vector_random_uniform, vector_random_uniform.shape)\n",
    "print('Новий вектор:', column_vector, column_vector.shape)\n",
    "print('\\n')\n",
    "\n",
    "column_vector_T = column_vector.T\n",
    "print('Оригінальний вектор:', column_vector, column_vector.shape)\n",
    "print('Трансопонований вектор:', column_vector_T, column_vector_T.shape)\n",
    "print('\\n')\n"
   ],
   "metadata": {
    "id": "4hFcq1baVLii",
    "ExecuteTime": {
     "end_time": "2025-01-01T19:47:24.627529Z",
     "start_time": "2025-01-01T19:47:24.623178Z"
    }
   },
   "outputs": [
    {
     "name": "stdout",
     "output_type": "stream",
     "text": [
      "Транспонування матриці на вектор result_matrix: [[0.232  0.3061]\n",
      " [0.1627 0.4867]]\n",
      "\n",
      "\n",
      "Оригінальний вектор: [0.72 0.38 0.01 0.49 0.71 0.94 0.   0.76 0.27 0.99] (10,)\n",
      "Транспонований вектор result_matrix: [0.72 0.38 0.01 0.49 0.71 0.94 0.   0.76 0.27 0.99] (10,)\n",
      "Після транспонування вектор не змінився.\n",
      "\n",
      "\n",
      "Оригінальний вектор: [0.72 0.38 0.01 0.49 0.71 0.94 0.   0.76 0.27 0.99] (10,)\n",
      "Новий вектор: [[0.72]\n",
      " [0.38]\n",
      " [0.01]\n",
      " [0.49]\n",
      " [0.71]\n",
      " [0.94]\n",
      " [0.  ]\n",
      " [0.76]\n",
      " [0.27]\n",
      " [0.99]] (10, 1)\n",
      "\n",
      "\n",
      "Оригінальний вектор: [[0.72]\n",
      " [0.38]\n",
      " [0.01]\n",
      " [0.49]\n",
      " [0.71]\n",
      " [0.94]\n",
      " [0.  ]\n",
      " [0.76]\n",
      " [0.27]\n",
      " [0.99]] (10, 1)\n",
      "Трансопонований вектор: [[0.72 0.38 0.01 0.49 0.71 0.94 0.   0.76 0.27 0.99]] (1, 10)\n",
      "\n",
      "\n"
     ]
    }
   ],
   "execution_count": 64
  }
 ]
}
