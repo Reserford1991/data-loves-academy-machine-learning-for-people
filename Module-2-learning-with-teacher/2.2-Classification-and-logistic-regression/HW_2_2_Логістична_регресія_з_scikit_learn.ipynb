{
 "nbformat": 4,
 "nbformat_minor": 0,
 "metadata": {
  "colab": {
   "provenance": []
  },
  "kernelspec": {
   "name": "python3",
   "display_name": "Python 3 (ipykernel)",
   "language": "python"
  },
  "language_info": {
   "name": "python"
  }
 },
 "cells": [
  {
   "cell_type": "markdown",
   "source": [
    "В цьому домашньому завданні ми побудуємо рішення задачі логістичної регресії і створимо ваш перший submission на змагання на Kaggle. Усі кроки були розглянуті в лекції та містяться в ноутбуці `Логістична регресія з ScikitLearn. Повна ML задача.ipynb`, але тепер ми їх адаптуємо до іншої задачі - все як в реальному житті, коли ви знайшли код у відкритих джерелах і адаптуєте на проєкті 😉\n",
    "\n",
    "**Погнали! 🚀🚀🚀**\n",
    "\n",
    "-----------\n",
    "\n",
    "\n",
    "\n",
    "0. Завантажте дані `train.csv`, `test.csv`, `sample_submission.csv` зі змагання на Kaggle [\"Bank Customer Churn Prediction (DLU Course)\"](https://www.kaggle.com/t/7c080c5d8ec64364a93cf4e8f880b6a0). Для завантаження потрібно долучитись до змагання (натиснути кнопку \"Join\").\n",
    "\n",
    "1. Зчитайте дані `train.csv` в pandas dataframe та розбийте їх на train і validation піднабори.\n",
    "\n",
    "  * Є такий параметр в методі train_test_split як stratified. Можливо він буде Вам корисним при розбитті даних в цій задачі. Пропоную Вам почитати про нього в документації і спробувати скористатись."
   ],
   "metadata": {
    "id": "gJ2A6t3mdEed"
   }
  },
  {
   "cell_type": "code",
   "source": [
    "import pandas as pd\n",
    "import numpy as np\n",
    "import matplotlib.pyplot as plt\n",
    "import seaborn as sns\n",
    "from sklearn.preprocessing import OneHotEncoder\n",
    "from sklearn.model_selection import train_test_split\n",
    "import warnings\n",
    "warnings.filterwarnings(\"ignore\")\n",
    "from sklearn.preprocessing import StandardScaler\n",
    "\n",
    "clients_df = pd.read_csv('csv/train.csv')\n",
    "\n",
    "clients_df.head()"
   ],
   "metadata": {
    "id": "2J2bS-kL2cHV",
    "ExecuteTime": {
     "end_time": "2025-01-20T20:33:45.080862Z",
     "start_time": "2025-01-20T20:33:45.056319Z"
    }
   },
   "outputs": [
    {
     "data": {
      "text/plain": [
       "   id  CustomerId   Surname  CreditScore Geography  Gender   Age  Tenure  \\\n",
       "0   0  15779985.0   Nwankwo        678.0    France    Male  29.0     4.0   \n",
       "1   1  15650086.0     Ch'in        687.0    France  Female  34.0     1.0   \n",
       "2   2  15733602.0  Thompson        682.0    France  Female  52.0     6.0   \n",
       "3   3  15645794.0   Macleod        753.0   Germany    Male  44.0     6.0   \n",
       "4   4  15633840.0      Hsia        544.0   Germany  Female  55.0     0.0   \n",
       "\n",
       "     Balance  NumOfProducts  HasCrCard  IsActiveMember  EstimatedSalary  \\\n",
       "0       0.00            3.0        1.0             0.0        180626.36   \n",
       "1       0.00            2.0        0.0             1.0         63736.17   \n",
       "2       0.00            3.0        0.0             0.0        179655.87   \n",
       "3   83347.25            2.0        1.0             0.0        161407.48   \n",
       "4  107747.57            1.0        1.0             0.0        176580.86   \n",
       "\n",
       "   Exited  \n",
       "0     0.0  \n",
       "1     0.0  \n",
       "2     1.0  \n",
       "3     0.0  \n",
       "4     1.0  "
      ],
      "text/html": [
       "<div>\n",
       "<style scoped>\n",
       "    .dataframe tbody tr th:only-of-type {\n",
       "        vertical-align: middle;\n",
       "    }\n",
       "\n",
       "    .dataframe tbody tr th {\n",
       "        vertical-align: top;\n",
       "    }\n",
       "\n",
       "    .dataframe thead th {\n",
       "        text-align: right;\n",
       "    }\n",
       "</style>\n",
       "<table border=\"1\" class=\"dataframe\">\n",
       "  <thead>\n",
       "    <tr style=\"text-align: right;\">\n",
       "      <th></th>\n",
       "      <th>id</th>\n",
       "      <th>CustomerId</th>\n",
       "      <th>Surname</th>\n",
       "      <th>CreditScore</th>\n",
       "      <th>Geography</th>\n",
       "      <th>Gender</th>\n",
       "      <th>Age</th>\n",
       "      <th>Tenure</th>\n",
       "      <th>Balance</th>\n",
       "      <th>NumOfProducts</th>\n",
       "      <th>HasCrCard</th>\n",
       "      <th>IsActiveMember</th>\n",
       "      <th>EstimatedSalary</th>\n",
       "      <th>Exited</th>\n",
       "    </tr>\n",
       "  </thead>\n",
       "  <tbody>\n",
       "    <tr>\n",
       "      <th>0</th>\n",
       "      <td>0</td>\n",
       "      <td>15779985.0</td>\n",
       "      <td>Nwankwo</td>\n",
       "      <td>678.0</td>\n",
       "      <td>France</td>\n",
       "      <td>Male</td>\n",
       "      <td>29.0</td>\n",
       "      <td>4.0</td>\n",
       "      <td>0.00</td>\n",
       "      <td>3.0</td>\n",
       "      <td>1.0</td>\n",
       "      <td>0.0</td>\n",
       "      <td>180626.36</td>\n",
       "      <td>0.0</td>\n",
       "    </tr>\n",
       "    <tr>\n",
       "      <th>1</th>\n",
       "      <td>1</td>\n",
       "      <td>15650086.0</td>\n",
       "      <td>Ch'in</td>\n",
       "      <td>687.0</td>\n",
       "      <td>France</td>\n",
       "      <td>Female</td>\n",
       "      <td>34.0</td>\n",
       "      <td>1.0</td>\n",
       "      <td>0.00</td>\n",
       "      <td>2.0</td>\n",
       "      <td>0.0</td>\n",
       "      <td>1.0</td>\n",
       "      <td>63736.17</td>\n",
       "      <td>0.0</td>\n",
       "    </tr>\n",
       "    <tr>\n",
       "      <th>2</th>\n",
       "      <td>2</td>\n",
       "      <td>15733602.0</td>\n",
       "      <td>Thompson</td>\n",
       "      <td>682.0</td>\n",
       "      <td>France</td>\n",
       "      <td>Female</td>\n",
       "      <td>52.0</td>\n",
       "      <td>6.0</td>\n",
       "      <td>0.00</td>\n",
       "      <td>3.0</td>\n",
       "      <td>0.0</td>\n",
       "      <td>0.0</td>\n",
       "      <td>179655.87</td>\n",
       "      <td>1.0</td>\n",
       "    </tr>\n",
       "    <tr>\n",
       "      <th>3</th>\n",
       "      <td>3</td>\n",
       "      <td>15645794.0</td>\n",
       "      <td>Macleod</td>\n",
       "      <td>753.0</td>\n",
       "      <td>Germany</td>\n",
       "      <td>Male</td>\n",
       "      <td>44.0</td>\n",
       "      <td>6.0</td>\n",
       "      <td>83347.25</td>\n",
       "      <td>2.0</td>\n",
       "      <td>1.0</td>\n",
       "      <td>0.0</td>\n",
       "      <td>161407.48</td>\n",
       "      <td>0.0</td>\n",
       "    </tr>\n",
       "    <tr>\n",
       "      <th>4</th>\n",
       "      <td>4</td>\n",
       "      <td>15633840.0</td>\n",
       "      <td>Hsia</td>\n",
       "      <td>544.0</td>\n",
       "      <td>Germany</td>\n",
       "      <td>Female</td>\n",
       "      <td>55.0</td>\n",
       "      <td>0.0</td>\n",
       "      <td>107747.57</td>\n",
       "      <td>1.0</td>\n",
       "      <td>1.0</td>\n",
       "      <td>0.0</td>\n",
       "      <td>176580.86</td>\n",
       "      <td>1.0</td>\n",
       "    </tr>\n",
       "  </tbody>\n",
       "</table>\n",
       "</div>"
      ]
     },
     "execution_count": 61,
     "metadata": {},
     "output_type": "execute_result"
    }
   ],
   "execution_count": 61
  },
  {
   "metadata": {
    "ExecuteTime": {
     "end_time": "2025-01-20T20:33:45.184299Z",
     "start_time": "2025-01-20T20:33:45.177318Z"
    }
   },
   "cell_type": "code",
   "source": "clients_df.info()",
   "outputs": [
    {
     "name": "stdout",
     "output_type": "stream",
     "text": [
      "<class 'pandas.core.frame.DataFrame'>\n",
      "RangeIndex: 15000 entries, 0 to 14999\n",
      "Data columns (total 14 columns):\n",
      " #   Column           Non-Null Count  Dtype  \n",
      "---  ------           --------------  -----  \n",
      " 0   id               15000 non-null  int64  \n",
      " 1   CustomerId       15000 non-null  float64\n",
      " 2   Surname          15000 non-null  object \n",
      " 3   CreditScore      15000 non-null  float64\n",
      " 4   Geography        15000 non-null  object \n",
      " 5   Gender           15000 non-null  object \n",
      " 6   Age              15000 non-null  float64\n",
      " 7   Tenure           15000 non-null  float64\n",
      " 8   Balance          15000 non-null  float64\n",
      " 9   NumOfProducts    15000 non-null  float64\n",
      " 10  HasCrCard        15000 non-null  float64\n",
      " 11  IsActiveMember   15000 non-null  float64\n",
      " 12  EstimatedSalary  15000 non-null  float64\n",
      " 13  Exited           15000 non-null  float64\n",
      "dtypes: float64(10), int64(1), object(3)\n",
      "memory usage: 1.6+ MB\n"
     ]
    }
   ],
   "execution_count": 62
  },
  {
   "metadata": {},
   "cell_type": "markdown",
   "source": "Мені не подобається, що CustomerId - це float, тому я зміню його на int."
  },
  {
   "metadata": {
    "ExecuteTime": {
     "end_time": "2025-01-20T20:33:45.274655Z",
     "start_time": "2025-01-20T20:33:45.268119Z"
    }
   },
   "cell_type": "code",
   "source": [
    "# clients_df['CustomerId'] = clients_df['CustomerId'].astype(int)\n",
    "clients_df.drop(['CustomerId'], axis=1, inplace=True)\n",
    "clients_df.head()"
   ],
   "outputs": [
    {
     "data": {
      "text/plain": [
       "   id   Surname  CreditScore Geography  Gender   Age  Tenure    Balance  \\\n",
       "0   0   Nwankwo        678.0    France    Male  29.0     4.0       0.00   \n",
       "1   1     Ch'in        687.0    France  Female  34.0     1.0       0.00   \n",
       "2   2  Thompson        682.0    France  Female  52.0     6.0       0.00   \n",
       "3   3   Macleod        753.0   Germany    Male  44.0     6.0   83347.25   \n",
       "4   4      Hsia        544.0   Germany  Female  55.0     0.0  107747.57   \n",
       "\n",
       "   NumOfProducts  HasCrCard  IsActiveMember  EstimatedSalary  Exited  \n",
       "0            3.0        1.0             0.0        180626.36     0.0  \n",
       "1            2.0        0.0             1.0         63736.17     0.0  \n",
       "2            3.0        0.0             0.0        179655.87     1.0  \n",
       "3            2.0        1.0             0.0        161407.48     0.0  \n",
       "4            1.0        1.0             0.0        176580.86     1.0  "
      ],
      "text/html": [
       "<div>\n",
       "<style scoped>\n",
       "    .dataframe tbody tr th:only-of-type {\n",
       "        vertical-align: middle;\n",
       "    }\n",
       "\n",
       "    .dataframe tbody tr th {\n",
       "        vertical-align: top;\n",
       "    }\n",
       "\n",
       "    .dataframe thead th {\n",
       "        text-align: right;\n",
       "    }\n",
       "</style>\n",
       "<table border=\"1\" class=\"dataframe\">\n",
       "  <thead>\n",
       "    <tr style=\"text-align: right;\">\n",
       "      <th></th>\n",
       "      <th>id</th>\n",
       "      <th>Surname</th>\n",
       "      <th>CreditScore</th>\n",
       "      <th>Geography</th>\n",
       "      <th>Gender</th>\n",
       "      <th>Age</th>\n",
       "      <th>Tenure</th>\n",
       "      <th>Balance</th>\n",
       "      <th>NumOfProducts</th>\n",
       "      <th>HasCrCard</th>\n",
       "      <th>IsActiveMember</th>\n",
       "      <th>EstimatedSalary</th>\n",
       "      <th>Exited</th>\n",
       "    </tr>\n",
       "  </thead>\n",
       "  <tbody>\n",
       "    <tr>\n",
       "      <th>0</th>\n",
       "      <td>0</td>\n",
       "      <td>Nwankwo</td>\n",
       "      <td>678.0</td>\n",
       "      <td>France</td>\n",
       "      <td>Male</td>\n",
       "      <td>29.0</td>\n",
       "      <td>4.0</td>\n",
       "      <td>0.00</td>\n",
       "      <td>3.0</td>\n",
       "      <td>1.0</td>\n",
       "      <td>0.0</td>\n",
       "      <td>180626.36</td>\n",
       "      <td>0.0</td>\n",
       "    </tr>\n",
       "    <tr>\n",
       "      <th>1</th>\n",
       "      <td>1</td>\n",
       "      <td>Ch'in</td>\n",
       "      <td>687.0</td>\n",
       "      <td>France</td>\n",
       "      <td>Female</td>\n",
       "      <td>34.0</td>\n",
       "      <td>1.0</td>\n",
       "      <td>0.00</td>\n",
       "      <td>2.0</td>\n",
       "      <td>0.0</td>\n",
       "      <td>1.0</td>\n",
       "      <td>63736.17</td>\n",
       "      <td>0.0</td>\n",
       "    </tr>\n",
       "    <tr>\n",
       "      <th>2</th>\n",
       "      <td>2</td>\n",
       "      <td>Thompson</td>\n",
       "      <td>682.0</td>\n",
       "      <td>France</td>\n",
       "      <td>Female</td>\n",
       "      <td>52.0</td>\n",
       "      <td>6.0</td>\n",
       "      <td>0.00</td>\n",
       "      <td>3.0</td>\n",
       "      <td>0.0</td>\n",
       "      <td>0.0</td>\n",
       "      <td>179655.87</td>\n",
       "      <td>1.0</td>\n",
       "    </tr>\n",
       "    <tr>\n",
       "      <th>3</th>\n",
       "      <td>3</td>\n",
       "      <td>Macleod</td>\n",
       "      <td>753.0</td>\n",
       "      <td>Germany</td>\n",
       "      <td>Male</td>\n",
       "      <td>44.0</td>\n",
       "      <td>6.0</td>\n",
       "      <td>83347.25</td>\n",
       "      <td>2.0</td>\n",
       "      <td>1.0</td>\n",
       "      <td>0.0</td>\n",
       "      <td>161407.48</td>\n",
       "      <td>0.0</td>\n",
       "    </tr>\n",
       "    <tr>\n",
       "      <th>4</th>\n",
       "      <td>4</td>\n",
       "      <td>Hsia</td>\n",
       "      <td>544.0</td>\n",
       "      <td>Germany</td>\n",
       "      <td>Female</td>\n",
       "      <td>55.0</td>\n",
       "      <td>0.0</td>\n",
       "      <td>107747.57</td>\n",
       "      <td>1.0</td>\n",
       "      <td>1.0</td>\n",
       "      <td>0.0</td>\n",
       "      <td>176580.86</td>\n",
       "      <td>1.0</td>\n",
       "    </tr>\n",
       "  </tbody>\n",
       "</table>\n",
       "</div>"
      ]
     },
     "execution_count": 63,
     "metadata": {},
     "output_type": "execute_result"
    }
   ],
   "execution_count": 63
  },
  {
   "metadata": {
    "ExecuteTime": {
     "end_time": "2025-01-20T20:33:45.388934Z",
     "start_time": "2025-01-20T20:33:45.383531Z"
    }
   },
   "cell_type": "code",
   "source": "clients_df.info()",
   "outputs": [
    {
     "name": "stdout",
     "output_type": "stream",
     "text": [
      "<class 'pandas.core.frame.DataFrame'>\n",
      "RangeIndex: 15000 entries, 0 to 14999\n",
      "Data columns (total 13 columns):\n",
      " #   Column           Non-Null Count  Dtype  \n",
      "---  ------           --------------  -----  \n",
      " 0   id               15000 non-null  int64  \n",
      " 1   Surname          15000 non-null  object \n",
      " 2   CreditScore      15000 non-null  float64\n",
      " 3   Geography        15000 non-null  object \n",
      " 4   Gender           15000 non-null  object \n",
      " 5   Age              15000 non-null  float64\n",
      " 6   Tenure           15000 non-null  float64\n",
      " 7   Balance          15000 non-null  float64\n",
      " 8   NumOfProducts    15000 non-null  float64\n",
      " 9   HasCrCard        15000 non-null  float64\n",
      " 10  IsActiveMember   15000 non-null  float64\n",
      " 11  EstimatedSalary  15000 non-null  float64\n",
      " 12  Exited           15000 non-null  float64\n",
      "dtypes: float64(9), int64(1), object(3)\n",
      "memory usage: 1.5+ MB\n"
     ]
    }
   ],
   "execution_count": 64
  },
  {
   "metadata": {
    "ExecuteTime": {
     "end_time": "2025-01-20T20:33:45.463999Z",
     "start_time": "2025-01-20T20:33:45.459114Z"
    }
   },
   "cell_type": "code",
   "source": [
    "use_sample = False\n",
    "\n",
    "train_val_df, test_df = train_test_split(clients_df, test_size=0.2, random_state=42)\n",
    "train_df, val_df = train_test_split(clients_df, test_size=0.25, random_state=42)"
   ],
   "outputs": [],
   "execution_count": 65
  },
  {
   "metadata": {
    "ExecuteTime": {
     "end_time": "2025-01-20T20:33:45.540856Z",
     "start_time": "2025-01-20T20:33:45.538860Z"
    }
   },
   "cell_type": "code",
   "source": [
    "print('train_df.shape:', train_df.shape)\n",
    "print('val_df.shape:', val_df.shape)\n",
    "print('test_df.shape:', test_df.shape)"
   ],
   "outputs": [
    {
     "name": "stdout",
     "output_type": "stream",
     "text": [
      "train_df.shape: (11250, 13)\n",
      "val_df.shape: (3750, 13)\n",
      "test_df.shape: (3000, 13)\n"
     ]
    }
   ],
   "execution_count": 66
  },
  {
   "cell_type": "markdown",
   "source": [
    "2. Визначіть назви колонок, які сформують вхідні незалежні дані, в змінній `input_cols` та назву колонки , яка є цільовою, в змінній `target_col`. Використовуючи `input_cols` та `target_col` створіть набори даних `train_inputs`, `train_targets`, `val_inputs`, `val_targets` - де `inputs` - вхідні дані (датафрейм), `targets` - дані цільової колонки відповідного піднабору."
   ],
   "metadata": {
    "id": "YmhrsCrThfKp"
   }
  },
  {
   "cell_type": "code",
   "source": [
    "input_cols = list(train_df.columns)[1:-1]\n",
    "target_col = 'Exited'\n",
    "\n",
    "print(input_cols)\n",
    "print(target_col)\n",
    "\n",
    "train_inputs = train_df[input_cols].copy()\n",
    "train_targets = train_df[target_col].copy()\n",
    "\n",
    "val_inputs = val_df[input_cols].copy()\n",
    "val_targets = val_df[target_col].copy()\n",
    "\n",
    "test_inputs = test_df[input_cols].copy()\n",
    "test_targets = test_df[target_col].copy()"
   ],
   "metadata": {
    "id": "BB1PSRP92d2y",
    "ExecuteTime": {
     "end_time": "2025-01-20T20:33:45.667425Z",
     "start_time": "2025-01-20T20:33:45.662899Z"
    }
   },
   "outputs": [
    {
     "name": "stdout",
     "output_type": "stream",
     "text": [
      "['Surname', 'CreditScore', 'Geography', 'Gender', 'Age', 'Tenure', 'Balance', 'NumOfProducts', 'HasCrCard', 'IsActiveMember', 'EstimatedSalary']\n",
      "Exited\n"
     ]
    }
   ],
   "execution_count": 67
  },
  {
   "cell_type": "markdown",
   "source": [
    "3. Визначіть з допомогою `pandas.DataFrame.select_dtypes` назви колонок, які є числовими і категоріальними. Запишіть результати в `numeric_cols` та `categorical_cols` відповідно."
   ],
   "metadata": {
    "id": "BqhiVXa-iY5P"
   }
  },
  {
   "cell_type": "code",
   "source": [
    "numeric_cols = train_inputs.select_dtypes(include=np.number).columns.tolist()\n",
    "categorical_cols = train_inputs.select_dtypes('object').columns.tolist()\n",
    "\n",
    "numeric_cols, categorical_cols"
   ],
   "metadata": {
    "id": "pz6Et14-2eRH",
    "ExecuteTime": {
     "end_time": "2025-01-20T20:33:45.740366Z",
     "start_time": "2025-01-20T20:33:45.736676Z"
    }
   },
   "outputs": [
    {
     "data": {
      "text/plain": [
       "(['CreditScore',\n",
       "  'Age',\n",
       "  'Tenure',\n",
       "  'Balance',\n",
       "  'NumOfProducts',\n",
       "  'HasCrCard',\n",
       "  'IsActiveMember',\n",
       "  'EstimatedSalary'],\n",
       " ['Surname', 'Geography', 'Gender'])"
      ]
     },
     "execution_count": 68,
     "metadata": {},
     "output_type": "execute_result"
    }
   ],
   "execution_count": 68
  },
  {
   "cell_type": "markdown",
   "source": [
    "4. Зробіть підготовку даних в категоріальних і числових колонках для входу в модель виходячи з освоєного на даний момент на курсі. Варіанти пеердобробки, з якими ми вже знайомі:\n",
    "  - масштабування числових ознак,\n",
    "  - заповнення пропущених значень, якщо вони є,\n",
    "  - кодування категоріальних ознак, вилучення ознак, якщо ми вважаємо, що ці дані нерелевантні для моделі аби ми не бачимо способу як їх так закодувати, аби подати на вхід моделі.\n",
    "\n",
    "  Тут є багато варіантів, як Ви побудуєте передобробку, важливо аби\n",
    "  1) передобробка мала сенс (немає сенсу заповнювати дані константою, яку ми не зрозуміло звідки взяли)   \n",
    "  2) має бути виконана принаймні одна дія передобробки\n",
    "  3) обробка маэ бути виконана коректно і для тренувальних, і для вал. даних\n",
    "  4) чим вищий у Вас врешті вийде ROС AUC скор, тим більше шансів перемогти у змаганні :)\n",
    "\n",
    "  Опишіть рішення проведення кожного з кроків передобробки. Для чого ви його робите? По завершенню виведіть по 5 значен з `train_inputs`, `val_inputs` використовуючи `display()`."
   ],
   "metadata": {
    "id": "gz3W57xXlIO2"
   }
  },
  {
   "metadata": {},
   "cell_type": "markdown",
   "source": [
    "****Пройдуся по колонкам по порядку.****\n",
    "\n",
    "Почну з колонки `Surname`\n",
    "\n",
    "Ця колонка містить прізвища клієнтів.\n",
    "Підказка від CahtGPT o1 наступна:\n",
    "\n",
    "Using bank clients’ surnames in a machine learning model is generally not recommended, and in many cases, may be inappropriate or even legally problematic. Here are several considerations:\n",
    "\n",
    "\n",
    "1. Privacy & Compliance\n",
    "\t•\tPersonally Identifiable Information (PII): A surname can be considered PII, especially if paired with other attributes (e.g., account details, address). Collecting or using it for modeling could violate privacy regulations (GDPR in the EU, various data protection laws in other regions) unless you have explicit consent and a legally valid reason.\n",
    "\t•\tData Minimization Principle: Many privacy regulations encourage collecting and using only the data that is strictly necessary for the stated purpose. If surnames aren’t strictly necessary, including them can contravene these principles.\n",
    "\n",
    "2. Potential for Bias & Discrimination\n",
    "\t•\tEthical Risks: A surname can be correlated with ethnicity, religion, or region of origin. This can inadvertently introduce bias into your model. Even if your model’s goal is purely predictive (e.g., credit risk, churn), the presence of sensitive data could lead to discriminatory outcomes.\n",
    "\t•\tRegulatory Oversight: In many jurisdictions, using features that might enable direct or proxy discrimination (e.g., race, nationality, religious background) can be subject to strict regulations.\n",
    "\n",
    "3. Limited Predictive Value\n",
    "\t•\tNo Strong Signal: In most banking/financial contexts, a surname rarely offers a stable, causal link to a business or risk-related metric. You might see spurious correlations, but these are not robust or ethically valid signals for a model.\n",
    "\t•\tFeature Engineering: Typically, data such as account history, transaction patterns, income, credit history, etc., provide more direct and meaningful predictive power. Relying on surnames is rarely beneficial and can degrade the model’s ethical and legal standing.\n",
    "\n",
    "4. Best Practices & Alternatives\n",
    "\t1.\tRemove or Anonymize: In many data pipelines, personally identifiable information—like full names—should be hashed or removed entirely before training.\n",
    "\t2.\tFocus on Relevant Attributes: Use demographic or behavioral features that are both lawful to use and predictively relevant (e.g., credit score, transaction frequency).\n",
    "\t3. Compliance Check: Always consult with legal and compliance teams if you’re unsure about using a particular feature to ensure it meets all applicable regulatory requirements.\n",
    "\n",
    "Summary\n",
    "\n",
    "While there is no absolute technical barrier to including surnames in a dataset, it is almost always inadvisable for privacy, ethical, and regulatory reasons. If you do incorporate such data, you should carefully consider why it is necessary, confirm it is legally permitted, and account for potential bias that it might introduce. A far safer (and typically more effective) approach is to use non-personal, relevant features that align with both data protection laws and ethical modeling standards.\n",
    "\n",
    "Я прислухаюсь до поради. Бо на роботі вже не раз стикався з тим, що персональні дані клієнтів не можна ніде зберігати та кому-небудь передавати."
   ]
  },
  {
   "metadata": {
    "ExecuteTime": {
     "end_time": "2025-01-20T20:33:45.793036Z",
     "start_time": "2025-01-20T20:33:45.787234Z"
    }
   },
   "cell_type": "code",
   "source": [
    "if 'Surname' in train_inputs:\n",
    "    train_inputs.drop(['Surname'], axis=1, inplace=True)\n",
    "if 'Surname' in val_inputs:\n",
    "    val_inputs.drop(['Surname'], axis=1, inplace=True)\n",
    "if 'Surname' in test_inputs:\n",
    "    test_inputs.drop(['Surname'], axis=1, inplace=True)\n",
    "if 'Surname' in categorical_cols:\n",
    "    categorical_cols.remove('Surname')\n",
    "\n",
    "print(train_inputs.info())"
   ],
   "outputs": [
    {
     "name": "stdout",
     "output_type": "stream",
     "text": [
      "<class 'pandas.core.frame.DataFrame'>\n",
      "Index: 11250 entries, 7410 to 7270\n",
      "Data columns (total 10 columns):\n",
      " #   Column           Non-Null Count  Dtype  \n",
      "---  ------           --------------  -----  \n",
      " 0   CreditScore      11250 non-null  float64\n",
      " 1   Geography        11250 non-null  object \n",
      " 2   Gender           11250 non-null  object \n",
      " 3   Age              11250 non-null  float64\n",
      " 4   Tenure           11250 non-null  float64\n",
      " 5   Balance          11250 non-null  float64\n",
      " 6   NumOfProducts    11250 non-null  float64\n",
      " 7   HasCrCard        11250 non-null  float64\n",
      " 8   IsActiveMember   11250 non-null  float64\n",
      " 9   EstimatedSalary  11250 non-null  float64\n",
      "dtypes: float64(8), object(2)\n",
      "memory usage: 966.8+ KB\n",
      "None\n"
     ]
    }
   ],
   "execution_count": 69
  },
  {
   "metadata": {},
   "cell_type": "markdown",
   "source": "****Переходимо до колонок `Gender` та `Geography`****"
  },
  {
   "metadata": {
    "ExecuteTime": {
     "end_time": "2025-01-20T20:33:45.855175Z",
     "start_time": "2025-01-20T20:33:45.852406Z"
    }
   },
   "cell_type": "code",
   "source": "train_inputs['Gender'].unique()",
   "outputs": [
    {
     "data": {
      "text/plain": [
       "array(['Female', 'Male'], dtype=object)"
      ]
     },
     "execution_count": 70,
     "metadata": {},
     "output_type": "execute_result"
    }
   ],
   "execution_count": 70
  },
  {
   "metadata": {},
   "cell_type": "markdown",
   "source": "Є тільки 2 поли: Чоловічий та жіночий"
  },
  {
   "metadata": {
    "ExecuteTime": {
     "end_time": "2025-01-20T20:33:45.922748Z",
     "start_time": "2025-01-20T20:33:45.919800Z"
    }
   },
   "cell_type": "code",
   "source": "train_inputs['Geography'].unique()",
   "outputs": [
    {
     "data": {
      "text/plain": [
       "array(['Germany', 'France', 'Spain'], dtype=object)"
      ]
     },
     "execution_count": 71,
     "metadata": {},
     "output_type": "execute_result"
    }
   ],
   "execution_count": 71
  },
  {
   "metadata": {},
   "cell_type": "markdown",
   "source": "Як бачимо тут тільки 3 унікальних значення. Тому можемо використати OneHotEncoder"
  },
  {
   "metadata": {
    "ExecuteTime": {
     "end_time": "2025-01-20T20:33:45.964744Z",
     "start_time": "2025-01-20T20:33:45.961136Z"
    }
   },
   "cell_type": "code",
   "source": [
    "encoder = OneHotEncoder(sparse_output=False, handle_unknown='ignore')\n",
    "encoder.fit(train_inputs[categorical_cols])\n",
    "\n",
    "encoder.categories_"
   ],
   "outputs": [
    {
     "data": {
      "text/plain": [
       "[array(['France', 'Germany', 'Spain'], dtype=object),\n",
       " array(['Female', 'Male'], dtype=object)]"
      ]
     },
     "execution_count": 72,
     "metadata": {},
     "output_type": "execute_result"
    }
   ],
   "execution_count": 72
  },
  {
   "metadata": {
    "ExecuteTime": {
     "end_time": "2025-01-20T20:33:46.002439Z",
     "start_time": "2025-01-20T20:33:46.000463Z"
    }
   },
   "cell_type": "code",
   "source": [
    "encoded_cols = list(encoder.get_feature_names_out(categorical_cols))\n",
    "print(encoded_cols)"
   ],
   "outputs": [
    {
     "name": "stdout",
     "output_type": "stream",
     "text": [
      "['Geography_France', 'Geography_Germany', 'Geography_Spain', 'Gender_Female', 'Gender_Male']\n"
     ]
    }
   ],
   "execution_count": 73
  },
  {
   "metadata": {
    "ExecuteTime": {
     "end_time": "2025-01-20T20:33:46.186558Z",
     "start_time": "2025-01-20T20:33:46.179404Z"
    }
   },
   "cell_type": "code",
   "source": "encoder.transform(train_inputs[categorical_cols])[:10]",
   "outputs": [
    {
     "data": {
      "text/plain": [
       "array([[0., 1., 0., 1., 0.],\n",
       "       [1., 0., 0., 0., 1.],\n",
       "       [1., 0., 0., 1., 0.],\n",
       "       [0., 0., 1., 0., 1.],\n",
       "       [0., 0., 1., 0., 1.],\n",
       "       [0., 0., 1., 0., 1.],\n",
       "       [1., 0., 0., 0., 1.],\n",
       "       [1., 0., 0., 0., 1.],\n",
       "       [0., 0., 1., 0., 1.],\n",
       "       [0., 1., 0., 1., 0.]])"
      ]
     },
     "execution_count": 74,
     "metadata": {},
     "output_type": "execute_result"
    }
   ],
   "execution_count": 74
  },
  {
   "metadata": {
    "ExecuteTime": {
     "end_time": "2025-01-20T20:33:46.461064Z",
     "start_time": "2025-01-20T20:33:46.442918Z"
    }
   },
   "cell_type": "code",
   "source": [
    "train_inputs[encoded_cols] = encoder.transform(train_inputs[categorical_cols])\n",
    "val_inputs[encoded_cols] = encoder.transform(val_inputs[categorical_cols])\n",
    "test_inputs[encoded_cols] = encoder.transform(test_inputs[categorical_cols])\n",
    "\n",
    "# Також приберу оригінальні колонки, щоб вони не заважали навчанню моделі\n",
    "if 'Geography' in train_inputs:\n",
    "    train_inputs.drop(['Geography'], axis=1, inplace=True)\n",
    "if 'Geography' in val_inputs:\n",
    "    val_inputs.drop(['Geography'], axis=1, inplace=True)\n",
    "if 'Geography' in test_inputs:\n",
    "    test_inputs.drop(['Geography'], axis=1, inplace=True)\n",
    "\n",
    "if 'Gender' in train_inputs:\n",
    "    train_inputs.drop(['Gender'], axis=1, inplace=True)\n",
    "if 'Gender' in val_inputs:\n",
    "    val_inputs.drop(['Gender'], axis=1, inplace=True)\n",
    "if 'Gender' in test_inputs:\n",
    "    test_inputs.drop(['Gender'], axis=1, inplace=True)\n",
    "\n",
    "pd.set_option('display.max_columns', None)\n",
    "train_inputs"
   ],
   "outputs": [
    {
     "data": {
      "text/plain": [
       "       CreditScore   Age  Tenure    Balance  NumOfProducts  HasCrCard  \\\n",
       "7410         669.0  29.0     6.0  125961.74            2.0        1.0   \n",
       "10894        818.0  28.0     7.0       0.00            2.0        1.0   \n",
       "1934         591.0  34.0     7.0       0.00            2.0        1.0   \n",
       "11539        554.0  35.0     3.0       0.00            2.0        1.0   \n",
       "2952         663.0  39.0     8.0       0.00            2.0        1.0   \n",
       "...            ...   ...     ...        ...            ...        ...   \n",
       "5191         589.0  29.0     8.0  151607.56            1.0        1.0   \n",
       "13418        615.0  31.0     5.0  145973.88            2.0        1.0   \n",
       "5390         703.0  33.0     1.0  116947.76            2.0        1.0   \n",
       "860          597.0  31.0    10.0  123870.07            1.0        1.0   \n",
       "7270         542.0  41.0     5.0       0.00            1.0        1.0   \n",
       "\n",
       "       IsActiveMember  EstimatedSalary  Geography_France  Geography_Germany  \\\n",
       "7410              0.0        158887.09               0.0                1.0   \n",
       "10894             0.0        102908.96               1.0                0.0   \n",
       "1934              1.0        120852.85               1.0                0.0   \n",
       "11539             1.0          9984.40               0.0                0.0   \n",
       "2952              0.0        123982.02               0.0                0.0   \n",
       "...               ...              ...               ...                ...   \n",
       "5191              0.0         90888.86               0.0                0.0   \n",
       "13418             1.0         65612.12               0.0                1.0   \n",
       "5390              0.0        134600.94               0.0                1.0   \n",
       "860               1.0        161519.77               1.0                0.0   \n",
       "7270              0.0        169915.02               1.0                0.0   \n",
       "\n",
       "       Geography_Spain  Gender_Female  Gender_Male  \n",
       "7410               0.0            1.0          0.0  \n",
       "10894              0.0            0.0          1.0  \n",
       "1934               0.0            1.0          0.0  \n",
       "11539              1.0            0.0          1.0  \n",
       "2952               1.0            0.0          1.0  \n",
       "...                ...            ...          ...  \n",
       "5191               1.0            0.0          1.0  \n",
       "13418              0.0            0.0          1.0  \n",
       "5390               0.0            1.0          0.0  \n",
       "860                0.0            0.0          1.0  \n",
       "7270               0.0            1.0          0.0  \n",
       "\n",
       "[11250 rows x 13 columns]"
      ],
      "text/html": [
       "<div>\n",
       "<style scoped>\n",
       "    .dataframe tbody tr th:only-of-type {\n",
       "        vertical-align: middle;\n",
       "    }\n",
       "\n",
       "    .dataframe tbody tr th {\n",
       "        vertical-align: top;\n",
       "    }\n",
       "\n",
       "    .dataframe thead th {\n",
       "        text-align: right;\n",
       "    }\n",
       "</style>\n",
       "<table border=\"1\" class=\"dataframe\">\n",
       "  <thead>\n",
       "    <tr style=\"text-align: right;\">\n",
       "      <th></th>\n",
       "      <th>CreditScore</th>\n",
       "      <th>Age</th>\n",
       "      <th>Tenure</th>\n",
       "      <th>Balance</th>\n",
       "      <th>NumOfProducts</th>\n",
       "      <th>HasCrCard</th>\n",
       "      <th>IsActiveMember</th>\n",
       "      <th>EstimatedSalary</th>\n",
       "      <th>Geography_France</th>\n",
       "      <th>Geography_Germany</th>\n",
       "      <th>Geography_Spain</th>\n",
       "      <th>Gender_Female</th>\n",
       "      <th>Gender_Male</th>\n",
       "    </tr>\n",
       "  </thead>\n",
       "  <tbody>\n",
       "    <tr>\n",
       "      <th>7410</th>\n",
       "      <td>669.0</td>\n",
       "      <td>29.0</td>\n",
       "      <td>6.0</td>\n",
       "      <td>125961.74</td>\n",
       "      <td>2.0</td>\n",
       "      <td>1.0</td>\n",
       "      <td>0.0</td>\n",
       "      <td>158887.09</td>\n",
       "      <td>0.0</td>\n",
       "      <td>1.0</td>\n",
       "      <td>0.0</td>\n",
       "      <td>1.0</td>\n",
       "      <td>0.0</td>\n",
       "    </tr>\n",
       "    <tr>\n",
       "      <th>10894</th>\n",
       "      <td>818.0</td>\n",
       "      <td>28.0</td>\n",
       "      <td>7.0</td>\n",
       "      <td>0.00</td>\n",
       "      <td>2.0</td>\n",
       "      <td>1.0</td>\n",
       "      <td>0.0</td>\n",
       "      <td>102908.96</td>\n",
       "      <td>1.0</td>\n",
       "      <td>0.0</td>\n",
       "      <td>0.0</td>\n",
       "      <td>0.0</td>\n",
       "      <td>1.0</td>\n",
       "    </tr>\n",
       "    <tr>\n",
       "      <th>1934</th>\n",
       "      <td>591.0</td>\n",
       "      <td>34.0</td>\n",
       "      <td>7.0</td>\n",
       "      <td>0.00</td>\n",
       "      <td>2.0</td>\n",
       "      <td>1.0</td>\n",
       "      <td>1.0</td>\n",
       "      <td>120852.85</td>\n",
       "      <td>1.0</td>\n",
       "      <td>0.0</td>\n",
       "      <td>0.0</td>\n",
       "      <td>1.0</td>\n",
       "      <td>0.0</td>\n",
       "    </tr>\n",
       "    <tr>\n",
       "      <th>11539</th>\n",
       "      <td>554.0</td>\n",
       "      <td>35.0</td>\n",
       "      <td>3.0</td>\n",
       "      <td>0.00</td>\n",
       "      <td>2.0</td>\n",
       "      <td>1.0</td>\n",
       "      <td>1.0</td>\n",
       "      <td>9984.40</td>\n",
       "      <td>0.0</td>\n",
       "      <td>0.0</td>\n",
       "      <td>1.0</td>\n",
       "      <td>0.0</td>\n",
       "      <td>1.0</td>\n",
       "    </tr>\n",
       "    <tr>\n",
       "      <th>2952</th>\n",
       "      <td>663.0</td>\n",
       "      <td>39.0</td>\n",
       "      <td>8.0</td>\n",
       "      <td>0.00</td>\n",
       "      <td>2.0</td>\n",
       "      <td>1.0</td>\n",
       "      <td>0.0</td>\n",
       "      <td>123982.02</td>\n",
       "      <td>0.0</td>\n",
       "      <td>0.0</td>\n",
       "      <td>1.0</td>\n",
       "      <td>0.0</td>\n",
       "      <td>1.0</td>\n",
       "    </tr>\n",
       "    <tr>\n",
       "      <th>...</th>\n",
       "      <td>...</td>\n",
       "      <td>...</td>\n",
       "      <td>...</td>\n",
       "      <td>...</td>\n",
       "      <td>...</td>\n",
       "      <td>...</td>\n",
       "      <td>...</td>\n",
       "      <td>...</td>\n",
       "      <td>...</td>\n",
       "      <td>...</td>\n",
       "      <td>...</td>\n",
       "      <td>...</td>\n",
       "      <td>...</td>\n",
       "    </tr>\n",
       "    <tr>\n",
       "      <th>5191</th>\n",
       "      <td>589.0</td>\n",
       "      <td>29.0</td>\n",
       "      <td>8.0</td>\n",
       "      <td>151607.56</td>\n",
       "      <td>1.0</td>\n",
       "      <td>1.0</td>\n",
       "      <td>0.0</td>\n",
       "      <td>90888.86</td>\n",
       "      <td>0.0</td>\n",
       "      <td>0.0</td>\n",
       "      <td>1.0</td>\n",
       "      <td>0.0</td>\n",
       "      <td>1.0</td>\n",
       "    </tr>\n",
       "    <tr>\n",
       "      <th>13418</th>\n",
       "      <td>615.0</td>\n",
       "      <td>31.0</td>\n",
       "      <td>5.0</td>\n",
       "      <td>145973.88</td>\n",
       "      <td>2.0</td>\n",
       "      <td>1.0</td>\n",
       "      <td>1.0</td>\n",
       "      <td>65612.12</td>\n",
       "      <td>0.0</td>\n",
       "      <td>1.0</td>\n",
       "      <td>0.0</td>\n",
       "      <td>0.0</td>\n",
       "      <td>1.0</td>\n",
       "    </tr>\n",
       "    <tr>\n",
       "      <th>5390</th>\n",
       "      <td>703.0</td>\n",
       "      <td>33.0</td>\n",
       "      <td>1.0</td>\n",
       "      <td>116947.76</td>\n",
       "      <td>2.0</td>\n",
       "      <td>1.0</td>\n",
       "      <td>0.0</td>\n",
       "      <td>134600.94</td>\n",
       "      <td>0.0</td>\n",
       "      <td>1.0</td>\n",
       "      <td>0.0</td>\n",
       "      <td>1.0</td>\n",
       "      <td>0.0</td>\n",
       "    </tr>\n",
       "    <tr>\n",
       "      <th>860</th>\n",
       "      <td>597.0</td>\n",
       "      <td>31.0</td>\n",
       "      <td>10.0</td>\n",
       "      <td>123870.07</td>\n",
       "      <td>1.0</td>\n",
       "      <td>1.0</td>\n",
       "      <td>1.0</td>\n",
       "      <td>161519.77</td>\n",
       "      <td>1.0</td>\n",
       "      <td>0.0</td>\n",
       "      <td>0.0</td>\n",
       "      <td>0.0</td>\n",
       "      <td>1.0</td>\n",
       "    </tr>\n",
       "    <tr>\n",
       "      <th>7270</th>\n",
       "      <td>542.0</td>\n",
       "      <td>41.0</td>\n",
       "      <td>5.0</td>\n",
       "      <td>0.00</td>\n",
       "      <td>1.0</td>\n",
       "      <td>1.0</td>\n",
       "      <td>0.0</td>\n",
       "      <td>169915.02</td>\n",
       "      <td>1.0</td>\n",
       "      <td>0.0</td>\n",
       "      <td>0.0</td>\n",
       "      <td>1.0</td>\n",
       "      <td>0.0</td>\n",
       "    </tr>\n",
       "  </tbody>\n",
       "</table>\n",
       "<p>11250 rows × 13 columns</p>\n",
       "</div>"
      ]
     },
     "execution_count": 75,
     "metadata": {},
     "output_type": "execute_result"
    }
   ],
   "execution_count": 75
  },
  {
   "metadata": {},
   "cell_type": "markdown",
   "source": "Тепер перейдемо до колонки `CreditScore`"
  },
  {
   "metadata": {
    "ExecuteTime": {
     "end_time": "2025-01-20T20:35:29.943603Z",
     "start_time": "2025-01-20T20:35:29.940525Z"
    }
   },
   "cell_type": "code",
   "source": "train_inputs['CreditScore']",
   "outputs": [
    {
     "data": {
      "text/plain": [
       "7410     669.0\n",
       "10894    818.0\n",
       "1934     591.0\n",
       "11539    554.0\n",
       "2952     663.0\n",
       "         ...  \n",
       "5191     589.0\n",
       "13418    615.0\n",
       "5390     703.0\n",
       "860      597.0\n",
       "7270     542.0\n",
       "Name: CreditScore, Length: 11250, dtype: float64"
      ]
     },
     "execution_count": 79,
     "metadata": {},
     "output_type": "execute_result"
    }
   ],
   "execution_count": 79
  },
  {
   "metadata": {},
   "cell_type": "markdown",
   "source": "Побудуємо графік розподілу цієї величини."
  },
  {
   "metadata": {
    "ExecuteTime": {
     "end_time": "2025-01-20T20:42:41.239713Z",
     "start_time": "2025-01-20T20:42:41.162448Z"
    }
   },
   "cell_type": "code",
   "source": [
    "plt.hist(train_inputs['CreditScore'], bins=30, edgecolor='black')\n",
    "plt.xlabel('CreditScore')\n",
    "plt.ylabel('Count')\n",
    "plt.title('Distribution of Credit Scores')\n",
    "plt.show()"
   ],
   "outputs": [
    {
     "data": {
      "text/plain": [
       "<Figure size 640x480 with 1 Axes>"
      ],
      "image/png": "[encoded data removed]"
     },
     "metadata": {},
     "output_type": "display_data"
    }
   ],
   "execution_count": 86
  },
  {
   "metadata": {
    "ExecuteTime": {
     "end_time": "2025-01-20T20:42:49.791564Z",
     "start_time": "2025-01-20T20:42:49.540417Z"
    }
   },
   "cell_type": "code",
   "source": [
    "sns.kdeplot(data=train_inputs, x='CreditScore', shade=True)\n",
    "plt.title('CreditScore Density')\n",
    "plt.show()"
   ],
   "outputs": [
    {
     "data": {
      "text/plain": [
       "<Figure size 640x480 with 1 Axes>"
      ],
      "image/png": "[encoded data removed]"
     },
     "metadata": {},
     "output_type": "display_data"
    }
   ],
   "execution_count": 87
  },
  {
   "metadata": {
    "ExecuteTime": {
     "end_time": "2025-01-20T20:42:05.420801Z",
     "start_time": "2025-01-20T20:42:05.352841Z"
    }
   },
   "cell_type": "code",
   "source": [
    "sns.boxplot(data=train_inputs, x='CreditScore')\n",
    "plt.title('Box Plot of CreditScore')\n",
    "plt.show()"
   ],
   "outputs": [
    {
     "data": {
      "text/plain": [
       "<Figure size 640x480 with 1 Axes>"
      ],
      "image/png": "[encoded data removed]"
     },
     "metadata": {},
     "output_type": "display_data"
    }
   ],
   "execution_count": 85
  },
  {
   "metadata": {
    "ExecuteTime": {
     "end_time": "2025-01-20T20:49:02.691355Z",
     "start_time": "2025-01-20T20:49:02.627911Z"
    }
   },
   "cell_type": "code",
   "source": [
    "# Step 1: Create a boolean Series: True if CreditScore is null, else False\n",
    "credit_null = train_inputs['CreditScore'].isnull()\n",
    "\n",
    "# Step 2: Convert that to counts\n",
    "counts = credit_null.value_counts()  # how many True, how many False\n",
    "\n",
    "# Step 3: Plot as a simple bar chart\n",
    "counts.plot(kind='bar', color=['orange','green'])\n",
    "plt.xticks([0,1], ['Not Null', 'Null'], rotation=0)  # rename ticks for clarity\n",
    "plt.title('Null vs Not Null for CreditScore')\n",
    "plt.ylabel('Count')\n",
    "plt.show()"
   ],
   "outputs": [
    {
     "data": {
      "text/plain": [
       "<Figure size 640x480 with 1 Axes>"
      ],
      "image/png": "[encoded data removed]"
     },
     "metadata": {},
     "output_type": "display_data"
    }
   ],
   "execution_count": 88
  },
  {
   "metadata": {},
   "cell_type": "code",
   "outputs": [],
   "execution_count": null,
   "source": ""
  },
  {
   "metadata": {},
   "cell_type": "markdown",
   "source": [
    "Як бачимо, розподіл CreditScore відповідає нормальному з невеликими викидами. Нульових значень немає\n",
    "\n",
    "Тому можемо виконати нормалізацію колонки."
   ]
  },
  {
   "metadata": {},
   "cell_type": "code",
   "outputs": [],
   "execution_count": null,
   "source": [
    "# scaler = StandardScaler()\n",
    "# scaler.fit(train_inputs['CreditScore'])\n",
    "#\n",
    "# train_inputs['CreditScore_scaled'] = scaler.fit_transform(df[['CreditScore']])"
   ]
  },
  {
   "cell_type": "markdown",
   "source": [
    "5. Збережіть дані, що містяться в змінних `train_inputs`, `train_targets`, `val_inputs`, `val_targets` на диск в форматі `parquet`. В кінці виведіть список файлів в папці, в яку Ви зберегли файли і перевірте, чи файли збереглись. Вивести список файлів можна з `os.listdir(your_dir)` або `!ls your_dir`"
   ],
   "metadata": {
    "id": "Gk-NVTdyoAtu"
   }
  },
  {
   "cell_type": "code",
   "source": [],
   "metadata": {
    "id": "DteIwTkN2hve",
    "ExecuteTime": {
     "end_time": "2025-01-20T20:33:46.651598Z",
     "start_time": "2025-01-20T20:33:46.649913Z"
    }
   },
   "outputs": [],
   "execution_count": null
  },
  {
   "cell_type": "markdown",
   "source": [
    "6. З підготовлених вхіжних даних створіть `X_train`, `X_val` набори, які містять лише колонки, які підуть на вхід моделі. Навчіть модель бінарної класифікації з допомогою `LogisticRegression` в `scikit-learn`."
   ],
   "metadata": {
    "id": "D5_3RjSdowGF"
   }
  },
  {
   "cell_type": "code",
   "source": [],
   "metadata": {
    "id": "VZUkPF-e2irB",
    "ExecuteTime": {
     "end_time": "2025-01-20T20:33:46.750581Z",
     "start_time": "2025-01-20T20:33:46.748906Z"
    }
   },
   "outputs": [],
   "execution_count": null
  },
  {
   "cell_type": "markdown",
   "source": [
    "7. Виведіть Confusion matrix, ROC Curve, метрику AUROC та метрику F1 Score для порога класифікації 0.5 для побудованої моделі на тренувальних та валідаційних даних. Що можете сказати про якіст моделі? Вона хороша, погана, задовільна?"
   ],
   "metadata": {
    "id": "37s-m8G2pL4J"
   }
  },
  {
   "cell_type": "code",
   "source": [],
   "metadata": {
    "id": "I02ENkyJ2jhn",
    "ExecuteTime": {
     "end_time": "2025-01-20T20:33:46.789229Z",
     "start_time": "2025-01-20T20:33:46.787559Z"
    }
   },
   "outputs": [],
   "execution_count": null
  },
  {
   "cell_type": "markdown",
   "source": [
    "8. Створіть передбачення моделі, яка передбачає завжди мажоритарний клас (той, якого більше в тренувальних даних). Порахуйте Accuracy на тренувальних та валідаційних даних для цієї моделі і тої, що ми натренували в п.6. Зробіть заключення про якість нашої моделі: якість хороша, погана, задовільна?"
   ],
   "metadata": {
    "id": "3aLarTs4rWIJ"
   }
  },
  {
   "cell_type": "code",
   "source": [],
   "metadata": {
    "id": "0szMoWzd2k_Y",
    "ExecuteTime": {
     "end_time": "2025-01-20T20:33:46.874250Z",
     "start_time": "2025-01-20T20:33:46.872731Z"
    }
   },
   "outputs": [],
   "execution_count": null
  },
  {
   "cell_type": "markdown",
   "source": [
    "9. Збережіть модель і інші обʼєкти, які ви хотіли б зберегти, з використанням бібліотеки joblib в файл `log_reg.joblib`. Потім завантажте модель з файлу в змінну `model_2` (цим ми тренуємось завантажувати модель з файлу на майбутнє)."
   ],
   "metadata": {
    "id": "l_3QF-hAuFgA"
   }
  },
  {
   "cell_type": "code",
   "source": [],
   "metadata": {
    "id": "FpeQ2qLm2oBU",
    "ExecuteTime": {
     "end_time": "2025-01-20T20:33:46.944008Z",
     "start_time": "2025-01-20T20:33:46.942734Z"
    }
   },
   "outputs": [],
   "execution_count": null
  },
  {
   "cell_type": "markdown",
   "source": [
    "10. Ознайомтесь з роботою наведеної функції `predict_raw_df`. Ця функція робить підготовку даних (масштабування числових колонок і кодування категоріальних) і виводить ймовірності належності до класу 1 для кожного рядка в наданому наборі.\n",
    "\n",
    "Доповніть або внесіть зміни у функцію з врахуванням вашого препроцесингу даних."
   ],
   "metadata": {
    "id": "E_b1hrHUvQpb"
   }
  },
  {
   "cell_type": "code",
   "source": [
    "# def predict_raw_df(scaler, encoder, numeric_cols, categorical_cols, input_df: pd.DataFrame):\n",
    "#     input_df[numeric_cols] = scaler.transform(input_df[numeric_cols])\n",
    "#     input_df[encoded_cols] = encoder.transform(input_df[categorical_cols])\n",
    "#     X_input = input_df[numeric_cols + encoded_cols]\n",
    "#     prob = model.predict_proba(X_input)[:,1]\n",
    "#     return prob"
   ],
   "metadata": {
    "id": "n8bLQDa3viLC",
    "ExecuteTime": {
     "end_time": "2025-01-20T20:33:46.994311Z",
     "start_time": "2025-01-20T20:33:46.992579Z"
    }
   },
   "outputs": [],
   "execution_count": 76
  },
  {
   "cell_type": "code",
   "source": "# predict_raw_df(scaler, encoder, numeric_cols, categorical_cols, raw_df[:5])",
   "metadata": {
    "id": "n3tx_nQ0vw7W",
    "collapsed": true,
    "ExecuteTime": {
     "end_time": "2025-01-20T20:33:47.076015Z",
     "start_time": "2025-01-20T20:33:47.074014Z"
    }
   },
   "outputs": [],
   "execution_count": 77
  },
  {
   "cell_type": "markdown",
   "source": [
    "11. Зчитайте дані з `test.csv` в змінну `test_raw_df`. Зробіть передбачення для кожного рядка даних з функцією з попереднього завдання і запишіть результат в нову колонку `Exited` в датафреймі `test_raw_df`."
   ],
   "metadata": {
    "id": "W8rRDFfExV40"
   }
  },
  {
   "cell_type": "code",
   "source": [],
   "metadata": {
    "id": "LyWEdGWx2u6d",
    "ExecuteTime": {
     "end_time": "2025-01-20T20:33:47.091841Z",
     "start_time": "2025-01-20T20:33:47.090403Z"
    }
   },
   "outputs": [],
   "execution_count": null
  },
  {
   "cell_type": "markdown",
   "source": [
    "12. Зчитайте файл 'sample_submission.csv' і зповніть колонку `Exited` передбаченими вашою моделлю значеннями для кожного відповідного `id` клієнта.\n",
    "Виведіть перші 5 рядків фінального датасету, збережіть результат в файл `submission_log_reg.csv` (УВАГА! не запишіть випадково ще індекси рядків!) і здайте цей файл на Kaggle зі свого профіля натиснувши `Submit Prediction`."
   ],
   "metadata": {
    "id": "ZHZciHxEx7IZ"
   }
  },
  {
   "cell_type": "code",
   "source": [],
   "metadata": {
    "id": "HjkKnrll2wNA",
    "ExecuteTime": {
     "end_time": "2025-01-20T20:33:47.137934Z",
     "start_time": "2025-01-20T20:33:47.136561Z"
    }
   },
   "outputs": [],
   "execution_count": null
  }
 ]
}
