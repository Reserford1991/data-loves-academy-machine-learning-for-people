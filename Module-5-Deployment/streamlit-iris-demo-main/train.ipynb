{
 "cells": [
  {
   "cell_type": "code",
   "execution_count": 1,
   "metadata": {
    "pycharm": {
     "name": "#%%\n"
    }
   },
   "outputs": [
    {
     "name": "stdout",
     "output_type": "stream",
     "text": [
      "Точність: 0.91\n"
     ]
    }
   ],
   "source": [
    "import pandas as pd\n",
    "from sklearn.model_selection import train_test_split\n",
    "from sklearn.ensemble import RandomForestClassifier\n",
    "from sklearn.metrics import accuracy_score\n",
    "\n",
    "# Завантаження набору даних Iris\n",
    "iris_df = pd.read_csv(\"data/iris.csv\")\n",
    "\n",
    "# Перемішування набору даних\n",
    "seed = 42  # Визначаємо seed для відтворюваності\n",
    "iris_df = iris_df.sample(frac=1, random_state=seed)\n",
    "\n",
    "# Вибір ознак та цільової змінної\n",
    "X = iris_df[['SepalLengthCm', 'SepalWidthCm', 'PetalLengthCm', 'PetalWidthCm']]\n",
    "y = iris_df['Species']\n",
    "\n",
    "# Розділення даних на тренувальну та тестову вибірки (70% тренування і 30% тестування)\n",
    "X_train, X_test, y_train, y_test = train_test_split(\n",
    "    X, y, test_size=0.3, random_state=seed, stratify=y)\n",
    "\n",
    "# Створення екземпляра класифікатора випадкових лісів\n",
    "clf = RandomForestClassifier(n_estimators=100)\n",
    "\n",
    "# Тренування класифікатора на тренувальних даних\n",
    "clf.fit(X_train, y_train)\n",
    "\n",
    "# Прогнозування на тестовому наборі\n",
    "y_pred = clf.predict(X_test)\n",
    "\n",
    "# Обчислення точності\n",
    "accuracy = accuracy_score(y_test, y_pred)\n",
    "print(f\"Точність: {accuracy:.2f}\")\n"
   ]
  },
  {
   "cell_type": "code",
   "execution_count": 3,
   "metadata": {},
   "outputs": [
    {
     "data": {
      "text/plain": [
       "['models/rf_model.joblib']"
      ]
     },
     "execution_count": 3,
     "metadata": {},
     "output_type": "execute_result"
    }
   ],
   "source": [
    "import joblib\n",
    "\n",
    "joblib.dump(clf, \"models/rf_model.joblib\")"
   ]
  },
  {
   "cell_type": "code",
   "execution_count": 39,
   "metadata": {},
   "outputs": [
    {
     "name": "stderr",
     "output_type": "stream",
     "text": [
      "/Users/hannapylieva/opt/anaconda3/envs/py312/lib/python3.12/site-packages/sklearn/base.py:493: UserWarning: X does not have valid feature names, but RandomForestClassifier was fitted with feature names\n",
      "  warnings.warn(\n"
     ]
    },
    {
     "data": {
      "text/plain": [
       "array(['Iris-versicolor'], dtype=object)"
      ]
     },
     "execution_count": 39,
     "metadata": {},
     "output_type": "execute_result"
    }
   ],
   "source": [
    "import numpy as np\n",
    "\n",
    "clf.predict(np.expand_dims(X.iloc[0].values, axis=0))"
   ]
  }
 ],
 "metadata": {
  "kernelspec": {
   "display_name": "Python 3",
   "language": "python",
   "name": "python3"
  },
  "language_info": {
   "codemirror_mode": {
    "name": "ipython",
    "version": 3
   },
   "file_extension": ".py",
   "mimetype": "text/x-python",
   "name": "python",
   "nbconvert_exporter": "python",
   "pygments_lexer": "ipython3",
   "version": "3.12.10"
  }
 },
 "nbformat": 4,
 "nbformat_minor": 4
}
