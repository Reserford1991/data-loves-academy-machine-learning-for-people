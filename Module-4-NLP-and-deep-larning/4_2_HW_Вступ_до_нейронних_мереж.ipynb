{
 "nbformat": 4,
 "nbformat_minor": 0,
 "metadata": {
  "colab": {
   "provenance": []
  },
  "kernelspec": {
   "name": "python3",
   "display_name": "Python 3"
  },
  "language_info": {
   "name": "python"
  }
 },
 "cells": [
  {
   "cell_type": "markdown",
   "source": [
    "**Секція 1. Логістична регресія з нуля.**\n",
    "\n",
    "Будемо крок за кроком будувати модель лог регресії з нуля для передбачення, чи буде врожай більше за 80 яблук (задача подібна до лекційної, але на класифікацію).\n",
    "\n",
    "Давайте нагадаємо основні формули для логістичної регресії.\n",
    "\n",
    "### Функція гіпотези - обчислення передбачення у логістичній регресії:\n",
    "\n",
    "$$\n",
    "\\hat{y} = \\sigma(x W^T + b) = \\frac{1}{1 + e^{-(x W^T + b)}}\n",
    "$$\n",
    "\n",
    "Де:\n",
    "- $ \\hat{y} $ — це ймовірність \"позитивного\" класу.\n",
    "- $ x $ — це вектор (або матриця для набору прикладів) вхідних даних.\n",
    "- $ W $ — це вектор (або матриця) вагових коефіцієнтів моделі.\n",
    "- $ b $ — це зміщення (bias).\n",
    "- $ \\sigma(z) $ — це сигмоїдна функція активації.\n",
    "\n",
    "### Як обчислюється сигмоїдна функція:\n",
    "\n",
    "Сигмоїдна функція $ \\sigma(z) $ має вигляд:\n",
    "\n",
    "$$\n",
    "\\sigma(z) = \\frac{1}{1 + e^{-z}}\n",
    "$$\n",
    "\n",
    "Ця функція перетворює будь-яке дійсне значення $ z $ в інтервал від 0 до 1, що дозволяє інтерпретувати вихід як ймовірність для логістичної регресії.\n",
    "\n",
    "### Формула функції втрат для логістичної регресії (бінарна крос-ентропія):\n",
    "\n",
    "Функція втрат крос-ентропії оцінює, наскільки добре модель передбачає класи, порівнюючи передбачені ймовірності $ \\hat{y} $ із справжніми мітками $ y $. Формула наступна:\n",
    "\n",
    "$$\n",
    "L(y, \\hat{y}) = - \\left[ y \\cdot \\log(\\hat{y}) + (1 - y) \\cdot \\log(1 - \\hat{y}) \\right]\n",
    "$$\n",
    "\n",
    "Де:\n",
    "- $ y $ — це справжнє значення (мітка класу, 0 або 1).\n",
    "- $ \\hat{y} $ — це передбачене значення (ймовірність).\n",
    "\n"
   ],
   "metadata": {
    "id": "lbLHTNfSclli"
   }
  },
  {
   "cell_type": "markdown",
   "source": [
    "1.\n",
    "Тут вже наведений код для ініціювання набору даних в форматі numpy. Перетворіть `inputs`, `targets` на `torch` тензори. Виведіть результат на екран."
   ],
   "metadata": {
    "id": "GtOYB-RHfc_r"
   }
  },
  {
   "cell_type": "code",
   "source": [
    "import torch\n",
    "import numpy as np\n",
    "from sklearn.model_selection import learning_curve"
   ],
   "metadata": {
    "id": "3BNXSR-VdYKQ",
    "ExecuteTime": {
     "end_time": "2025-04-27T17:55:08.961625Z",
     "start_time": "2025-04-27T17:55:08.959545Z"
    }
   },
   "outputs": [],
   "execution_count": 148
  },
  {
   "cell_type": "code",
   "metadata": {
    "id": "QLKZ77x4v_-v",
    "ExecuteTime": {
     "end_time": "2025-04-27T17:55:08.988030Z",
     "start_time": "2025-04-27T17:55:08.985880Z"
    }
   },
   "source": [
    "# Вхідні дані (temp, rainfall, humidity)\n",
    "inputs = np.array([[73, 67, 43],\n",
    "                   [91, 88, 64],\n",
    "                   [87, 134, 58],\n",
    "                   [102, 43, 37],\n",
    "                   [69, 96, 70]], dtype='float32')\n",
    "\n",
    "# Таргети (apples > 80)\n",
    "targets = np.array([[0],\n",
    "                    [1],\n",
    "                    [1],\n",
    "                    [0],\n",
    "                    [1]], dtype='float32')"
   ],
   "outputs": [],
   "execution_count": 149
  },
  {
   "cell_type": "code",
   "source": [
    "inputs_tensor = torch.from_numpy(inputs)\n",
    "targets_tensor = torch.from_numpy(targets)"
   ],
   "metadata": {
    "id": "KjoeaDrk6fO7",
    "ExecuteTime": {
     "end_time": "2025-04-27T17:55:09.003572Z",
     "start_time": "2025-04-27T17:55:09.001597Z"
    }
   },
   "outputs": [],
   "execution_count": 150
  },
  {
   "cell_type": "markdown",
   "source": [
    "2. Ініціюйте ваги `w`, `b` для моделі логістичної регресії потрібної форми зважаючи на розмірності даних випадковими значеннями з нормального розподілу. Лишаю тут код для фіксації `random_seed`."
   ],
   "metadata": {
    "id": "iKzbJKfOgGV8"
   }
  },
  {
   "cell_type": "code",
   "source": [
    "torch.random.manual_seed(42)\n",
    "n_features = inputs_tensor.shape[1]\n",
    "\n",
    "w = torch.randn(n_features, 1, requires_grad=True)\n",
    "b = torch.randn(1, requires_grad=True)\n",
    "\n",
    "print(w.shape)\n",
    "print(b.shape)"
   ],
   "metadata": {
    "id": "aXhKw6Tdj1-d",
    "ExecuteTime": {
     "end_time": "2025-04-27T17:55:09.024722Z",
     "start_time": "2025-04-27T17:55:09.019836Z"
    }
   },
   "outputs": [
    {
     "name": "stdout",
     "output_type": "stream",
     "text": [
      "torch.Size([3, 1])\n",
      "torch.Size([1])\n"
     ]
    }
   ],
   "execution_count": 151
  },
  {
   "cell_type": "markdown",
   "source": [
    "3. Напишіть функцію `model`, яка буде обчислювати функцію гіпотези в логістичній регресії і дозволяти робити передбачення на основі введеного рядка даних і коефіцієнтів в змінних `w`, `b`.\n",
    "\n",
    "  **Важливий момент**, що функція `model` робить обчислення на `torch.tensors`, тож для математичних обчислень використовуємо фукнціонал `torch`, наприклад:\n",
    "  - обчсилення $e^x$: `torch.exp(x)`\n",
    "  - обчсилення $log(x)$: `torch.log(x)`\n",
    "  - обчислення середнього значення вектору `x`: `torch.mean(x)`\n",
    "\n",
    "  Використайте функцію `model` для обчислення передбачень з поточними значеннями `w`, `b`.Виведіть результат обчислень на екран.\n",
    "\n",
    "  Проаналізуйте передбачення. Чи не викликають вони у вас підозр? І якщо викликають, то чим це може бути зумовлено?"
   ],
   "metadata": {
    "id": "nYGxNGTaf5s6"
   }
  },
  {
   "cell_type": "code",
   "source": [
    "def model (x, w, b):\n",
    "    z = torch.matmul(x, w) + b\n",
    "    y_hat = 1 / (1 + torch.exp(-z))\n",
    "    return y_hat\n",
    "\n",
    "predictions = model(inputs_tensor, w, b)\n",
    "print(predictions)"
   ],
   "metadata": {
    "id": "pSz2j4Fh6jBv",
    "ExecuteTime": {
     "end_time": "2025-04-27T17:55:09.066272Z",
     "start_time": "2025-04-27T17:55:09.063343Z"
    }
   },
   "outputs": [
    {
     "name": "stdout",
     "output_type": "stream",
     "text": [
      "tensor([[1.],\n",
      "        [1.],\n",
      "        [1.],\n",
      "        [1.],\n",
      "        [1.]], grad_fn=<MulBackward0>)\n"
     ]
    }
   ],
   "execution_count": 152
  },
  {
   "metadata": {},
   "cell_type": "markdown",
   "source": "It looks not OK. Probable reason could be wrong `w` and `b` initialization - probably they were too big."
  },
  {
   "cell_type": "markdown",
   "source": [
    "4. Напишіть функцію `binary_cross_entropy`, яка приймає на вхід передбачення моделі `predicted_probs` та справжні мітки в даних `true_labels` і обчислює значення втрат (loss)  за формулою бінарної крос-ентропії для кожного екземпляра та вертає середні втрати по всьому набору даних.\n",
    "  Використайте функцію `binary_cross_entropy` для обчислення втрат для поточних передбачень моделі."
   ],
   "metadata": {
    "id": "O2AGM0Mb2yHa"
   }
  },
  {
   "cell_type": "code",
   "source": [
    "def binary_cross_entropy(predicted_probs, true_labels):\n",
    "    # Clamp predictions to avoid log(0) error\n",
    "    eps = 1e-7\n",
    "    predicted_probs = torch.clamp(predicted_probs, eps, 1 - eps)\n",
    "\n",
    "    # Compute binary cross-entropy loss\n",
    "    loss = - (true_labels * torch.log(predicted_probs) + (1 - true_labels) * torch.log(1 - predicted_probs))\n",
    "\n",
    "    # Return average loss\n",
    "    return torch.mean(loss)\n",
    "\n",
    "# Calculate loss:\n",
    "loss = binary_cross_entropy(predictions, targets_tensor)\n",
    "print(f\"Binary Cross-Entropy Loss: {loss.item():.4f}\")"
   ],
   "metadata": {
    "id": "1bWlovvx6kZS",
    "ExecuteTime": {
     "end_time": "2025-04-27T17:55:09.119408Z",
     "start_time": "2025-04-27T17:55:09.116592Z"
    }
   },
   "outputs": [
    {
     "name": "stdout",
     "output_type": "stream",
     "text": [
      "Binary Cross-Entropy Loss: 6.3770\n"
     ]
    }
   ],
   "execution_count": 153
  },
  {
   "cell_type": "markdown",
   "source": [
    "5. Зробіть зворотнє поширення помилки і виведіть градієнти за параметрами `w`, `b`. Проаналізуйте їх значення. Як гадаєте, чому вони саме такі?"
   ],
   "metadata": {
    "id": "ZFKpQxdHi1__"
   }
  },
  {
   "cell_type": "code",
   "source": [
    "loss.backward()\n",
    "\n",
    "print(\"Gradient w.r.t weights (w):\")\n",
    "print(w.grad)\n",
    "\n",
    "print(\"\\nGradient w.r.t bias (b):\")\n",
    "print(b.grad)"
   ],
   "metadata": {
    "id": "YAbXUNSJ6mCl",
    "ExecuteTime": {
     "end_time": "2025-04-27T17:55:09.169382Z",
     "start_time": "2025-04-27T17:55:09.166677Z"
    }
   },
   "outputs": [
    {
     "name": "stdout",
     "output_type": "stream",
     "text": [
      "Gradient w.r.t weights (w):\n",
      "tensor([[0.],\n",
      "        [0.],\n",
      "        [0.]])\n",
      "\n",
      "Gradient w.r.t bias (b):\n",
      "tensor([0.])\n"
     ]
    }
   ],
   "execution_count": 154
  },
  {
   "cell_type": "markdown",
   "source": [
    "**Що сталось?**\n",
    "\n",
    "В цій задачі, коли ми ініціювали значення випадковими значеннями з нормального розподілу, насправді ці значення не були дуже гарними стартовими значеннями і привели до того, що градієнти стали дуже малими або навіть рівними нулю (це призводить до того, що градієнти \"зникають\"), і відповідно при оновленні ваг у нас не буде нічого змінюватись. Це називається `gradient vanishing`. Це відбувається через **насичення сигмоїдної функції активації.**\n",
    "\n",
    "У нашій задачі ми використовуємо сигмоїдну функцію активації, яка має такий вигляд:\n",
    "\n",
    "   $$\n",
    "   \\sigma(z) = \\frac{1}{1 + e^{-z}}\n",
    "   $$\n",
    "\n",
    "\n",
    "Коли значення $z$ дуже велике або дуже мале, сигмоїдна функція починає \"насичуватись\". Це означає, що для великих позитивних $z$ сигмоїда наближається до 1, а для великих негативних — до 0. В цих діапазонах градієнти починають стрімко зменшуватись і наближаються до нуля (бо градієнт - це похідна, похідна на проміжку функції, де вона паралельна осі ОХ, дорівнює 0), що робить оновлення ваг неможливим.\n",
    "\n",
    "![](https://editor.analyticsvidhya.com/uploads/27889vaegp.png)\n",
    "\n",
    "У логістичній регресії $ z = x \\cdot w + b $. Якщо ваги $w, b$ - великі, значення $z$ також буде великим, і сигмоїда перейде в насичену область, де градієнти дуже малі.\n",
    "\n",
    "Саме це сталося в нашій задачі, де великі випадкові значення ваг викликали насичення сигмоїдної функції. Це в свою чергу призводить до того, що під час зворотного поширення помилки (backpropagation) модель оновлює ваги дуже повільно або зовсім не оновлює. Це називається проблемою **зникнення градієнтів** (gradient vanishing problem).\n",
    "\n",
    "**Що ж робити?**\n",
    "Ініціювати ваги маленькими значеннями навколо нуля. Наприклад ми можемо просто в існуючій ініціалізації ваги розділити на 1000. Можна також використати інший спосіб ініціалізації вагів - інформація про це [тут](https://www.geeksforgeeks.org/initialize-weights-in-pytorch/).\n",
    "\n",
    "Як це робити - показую нижче. **Виконайте код та знову обчисліть передбачення, лосс і виведіть градієнти.**\n",
    "\n",
    "А я пишу пояснення, чому просто не зробити\n",
    "\n",
    "```\n",
    "w = torch.randn(1, 3, requires_grad=True)/1000\n",
    "b = torch.randn(1, requires_grad=True)/1000\n",
    "```\n",
    "\n",
    "Нам потрібно, аби тензори вагів були листовими (leaf tensors).\n",
    "\n",
    "1. **Що таке листовий тензор**\n",
    "Листовий тензор — це тензор, який був створений користувачем безпосередньо і з якого починається обчислювальний граф. Якщо такий тензор має `requires_grad=True`, PyTorch буде відслідковувати всі операції, виконані над ним, щоб правильно обчислювати градієнти під час навчання.\n",
    "\n",
    "2. **Чому ми використовуємо `w.data` замість звичайних операцій**\n",
    "Якщо ми просто виконали б операції, такі як `(w - 0.5) / 100`, ми б отримали **новий тензор**, який вже не був би листовим тензором, оскільки ці операції створюють **новий** тензор, а не модифікують існуючий.\n",
    "\n",
    "  Проте, щоб залишити наші тензори ваги `w` та зміщення `b` листовими і продовжити можливість відстеження градієнтів під час тренування, ми використовуємо атрибут `.data`. Цей атрибут дозволяє **виконувати операції in-place (прямо на існуючому тензорі)** без зміни самого об'єкта тензора. Отже, тензор залишається листовим, і PyTorch може коректно обчислювати його градієнти.\n",
    "\n",
    "3. **Чому важливо залишити тензор листовим**\n",
    "Якщо тензор більше не є листовим (наприклад, через проведення операцій, що створюють нові тензори), ви не зможете отримати градієнти за допомогою `w.grad` чи `b.grad` після виклику `loss.backward()`. Це може призвести до втрати можливості оновлення параметрів під час тренування моделі. В нашому випадку ми хочемо, щоб тензори `w` та `b` накопичували градієнти, тому вони повинні залишатись листовими.\n",
    "\n",
    "**Висновок:**\n",
    "Ми використовуємо `.data`, щоб виконати операції зміни значень на ваги і зміщення **in-place**, залишаючи їх листовими тензорами, які можуть накопичувати градієнти під час навчання. Це дозволяє коректно працювати механізму зворотного поширення помилки (backpropagation) і оновлювати ваги моделі."
   ],
   "metadata": {
    "id": "nDN1t1RujQsK"
   }
  },
  {
   "cell_type": "markdown",
   "source": [
    "5. Виконайте код та знову обчисліть передбачення, лосс і знайдіть градієнти та виведіть всі ці тензори на екран."
   ],
   "metadata": {
    "id": "rOPSQyttpVjO"
   }
  },
  {
   "cell_type": "code",
   "source": [
    "torch.random.manual_seed(1)\n",
    "w = torch.randn(n_features, 1, requires_grad=True)\n",
    "b = torch.randn(1, requires_grad=True)\n",
    "\n",
    "# in-place операції\n",
    "w.data = w.data / 1000\n",
    "b.data = b.data / 1000"
   ],
   "metadata": {
    "id": "-EBOJ3tsnRaD",
    "ExecuteTime": {
     "end_time": "2025-04-27T17:55:09.216087Z",
     "start_time": "2025-04-27T17:55:09.213416Z"
    }
   },
   "outputs": [],
   "execution_count": 155
  },
  {
   "cell_type": "code",
   "source": [
    "predictions = model(inputs_tensor, w, b)\n",
    "print(predictions)\n",
    "\n",
    "# Calculate loss:\n",
    "loss = binary_cross_entropy(predictions, targets_tensor)\n",
    "print(f\"Binary Cross-Entropy Loss: {loss.item():.4f}\")"
   ],
   "metadata": {
    "id": "-JwXiSpX6orh",
    "ExecuteTime": {
     "end_time": "2025-04-27T17:55:09.247402Z",
     "start_time": "2025-04-27T17:55:09.244271Z"
    }
   },
   "outputs": [
    {
     "name": "stdout",
     "output_type": "stream",
     "text": [
      "tensor([[0.5174],\n",
      "        [0.5220],\n",
      "        [0.5244],\n",
      "        [0.5204],\n",
      "        [0.5190]], grad_fn=<MulBackward0>)\n",
      "Binary Cross-Entropy Loss: 0.6829\n"
     ]
    }
   ],
   "execution_count": 156
  },
  {
   "cell_type": "markdown",
   "source": [
    "6. Напишіть алгоритм градієнтного спуску, який буде навчати модель з використанням написаних раніше функцій і виконуючи оновлення ваг. Алгоритм має включати наступні кроки:\n",
    "\n",
    "  - Генерація прогнозів\n",
    "  - Обчислення втрат\n",
    "  - Обчислення градієнтів (gradients) loss-фукнції відносно ваг і зсувів\n",
    "  - Налаштування ваг шляхом віднімання невеликої величини, пропорційної градієнту (`learning_rate` домножений на градієнт)\n",
    "  - Скидання градієнтів на нуль\n",
    "\n",
    "Виконайте градієнтний спуск протягом 1000 епох, обчисліть фінальні передбачення і проаналізуйте, чи вони точні?"
   ],
   "metadata": {
    "id": "RCdi44IT334o"
   }
  },
  {
   "cell_type": "code",
   "source": [
    "w = torch.randn(n_features, 1) * 0.01\n",
    "w.requires_grad_()\n",
    "b = torch.randn(1) * 0.01\n",
    "b.requires_grad_()\n",
    "\n",
    "inputs_tensor = (inputs_tensor - inputs_tensor.mean(dim=0)) / inputs_tensor.std(dim=0)\n",
    "\n",
    "learning_rate = 1.0\n",
    "num_epochs = 1000\n",
    "\n",
    "for epoch in range(num_epochs):\n",
    "    predictions = model(inputs_tensor, w, b)\n",
    "    loss = binary_cross_entropy(predictions, targets_tensor)\n",
    "    loss.backward()\n",
    "\n",
    "    with torch.no_grad():\n",
    "        w -= learning_rate * w.grad\n",
    "        b -= learning_rate * b.grad\n",
    "\n",
    "    w.grad.zero_()\n",
    "    b.grad.zero_()\n",
    "\n",
    "    if(epoch+1) % 100 == 0:\n",
    "        print(f\"Epoch {epoch+1}/{num_epochs}, Loss: {loss.item():.4f}\")\n",
    "\n",
    "final_predictions = model(inputs_tensor, w, b)\n",
    "print(final_predictions)"
   ],
   "metadata": {
    "id": "mObHPyE06qsO",
    "ExecuteTime": {
     "end_time": "2025-04-27T17:55:09.398397Z",
     "start_time": "2025-04-27T17:55:09.291407Z"
    }
   },
   "outputs": [
    {
     "name": "stdout",
     "output_type": "stream",
     "text": [
      "Epoch 100/1000, Loss: 0.0110\n",
      "Epoch 200/1000, Loss: 0.0055\n",
      "Epoch 300/1000, Loss: 0.0037\n",
      "Epoch 400/1000, Loss: 0.0027\n",
      "Epoch 500/1000, Loss: 0.0022\n",
      "Epoch 600/1000, Loss: 0.0018\n",
      "Epoch 700/1000, Loss: 0.0016\n",
      "Epoch 800/1000, Loss: 0.0014\n",
      "Epoch 900/1000, Loss: 0.0012\n",
      "Epoch 1000/1000, Loss: 0.0011\n",
      "tensor([[1.9320e-03],\n",
      "        [9.9782e-01],\n",
      "        [9.9970e-01],\n",
      "        [2.6456e-04],\n",
      "        [9.9922e-01]], grad_fn=<MulBackward0>)\n"
     ]
    }
   ],
   "execution_count": 157
  },
  {
   "cell_type": "markdown",
   "source": [
    "**Секція 2. Створення лог регресії з використанням функціоналу `torch.nn`.**\n",
    "\n",
    "Давайте повторно реалізуємо ту ж модель, використовуючи деякі вбудовані функції та класи з PyTorch.\n",
    "\n",
    "Даних у нас буде побільше - тож, визначаємо нові масиви."
   ],
   "metadata": {
    "id": "fuRhlyF9qAia"
   }
  },
  {
   "cell_type": "code",
   "source": [
    "# Вхідні дані (temp, rainfall, humidity)\n",
    "inputs = np.array([[73, 67, 43],\n",
    "                   [91, 88, 64],\n",
    "                   [87, 134, 58],\n",
    "                   [102, 43, 37],\n",
    "                   [69, 96, 70],\n",
    "                   [73, 67, 43],\n",
    "                   [91, 88, 64],\n",
    "                   [87, 134, 58],\n",
    "                   [102, 43, 37],\n",
    "                   [69, 96, 70],\n",
    "                   [73, 67, 43],\n",
    "                   [91, 88, 64],\n",
    "                   [87, 134, 58],\n",
    "                   [102, 43, 37],\n",
    "                   [69, 96, 70]], dtype='float32')\n",
    "\n",
    "# Таргети (apples > 80)\n",
    "targets = np.array([[0],\n",
    "                    [1],\n",
    "                    [1],\n",
    "                    [0],\n",
    "                    [1],\n",
    "                    [0],\n",
    "                    [1],\n",
    "                    [1],\n",
    "                    [0],\n",
    "                    [1],\n",
    "                    [0],\n",
    "                    [1],\n",
    "                    [1],\n",
    "                    [0],\n",
    "                    [1]], dtype='float32')"
   ],
   "metadata": {
    "id": "IX8Bhm74rV4M",
    "ExecuteTime": {
     "end_time": "2025-04-27T17:55:09.416561Z",
     "start_time": "2025-04-27T17:55:09.413952Z"
    }
   },
   "outputs": [],
   "execution_count": 158
  },
  {
   "cell_type": "markdown",
   "source": [
    "7. Завантажте вхідні дані та мітки в PyTorch тензори та з них створіть датасет, який поєднує вхідні дані з мітками, використовуючи клас `TensorDataset`. Виведіть перші 3 елементи в датасеті.\n",
    "\n"
   ],
   "metadata": {
    "id": "7X2dV30KtAPu"
   }
  },
  {
   "cell_type": "code",
   "source": [
    "from torch.utils.data import TensorDataset\n",
    "\n",
    "inputs_tensor = torch.from_numpy(inputs)\n",
    "targets_tensor = torch.from_numpy(targets)\n",
    "\n",
    "inputs_tensor = (inputs_tensor - inputs_tensor.mean(dim=0)) / inputs_tensor.std(dim=0)\n",
    "\n",
    "dataset = TensorDataset(inputs_tensor, targets_tensor)"
   ],
   "metadata": {
    "id": "chrvMfBs6vjo",
    "ExecuteTime": {
     "end_time": "2025-04-27T17:55:09.429630Z",
     "start_time": "2025-04-27T17:55:09.427276Z"
    }
   },
   "outputs": [],
   "execution_count": 159
  },
  {
   "cell_type": "markdown",
   "source": [
    "8. Визначте data loader з класом **DataLoader** для підготовленого датасету `train_ds`, встановіть розмір батчу на 5 та увімкніть перемішування даних для ефективного навчання моделі. Виведіть перший елемент в дата лоадері."
   ],
   "metadata": {
    "id": "4nMFaa8suOd3"
   }
  },
  {
   "cell_type": "code",
   "source": [
    "from torch.utils.data import DataLoader\n",
    "\n",
    "batch_size = 5\n",
    "train_dl = DataLoader(\n",
    "    dataset=dataset,\n",
    "    batch_size=batch_size,\n",
    "    shuffle=True\n",
    ")\n",
    "\n",
    "for batch_inputs, batch_targets in train_dl:\n",
    "    print(\"Batch inputs:\", batch_inputs)\n",
    "    print(\"Batch targets:\", batch_targets)\n",
    "    break"
   ],
   "metadata": {
    "id": "ZCsRo5Mx6wEI",
    "ExecuteTime": {
     "end_time": "2025-04-27T17:55:09.447753Z",
     "start_time": "2025-04-27T17:55:09.444388Z"
    }
   },
   "outputs": [
    {
     "name": "stdout",
     "output_type": "stream",
     "text": [
      "Batch inputs: tensor([[ 1.4099, -1.3543, -1.3448],\n",
      "        [ 0.5287,  0.0763,  0.7420],\n",
      "        [-0.9132, -0.5913, -0.8811],\n",
      "        [ 0.2083,  1.5387,  0.2782],\n",
      "        [ 0.2083,  1.5387,  0.2782]])\n",
      "Batch targets: tensor([[0.],\n",
      "        [1.],\n",
      "        [0.],\n",
      "        [1.],\n",
      "        [1.]])\n"
     ]
    }
   ],
   "execution_count": 160
  },
  {
   "cell_type": "markdown",
   "source": [
    "9. Створіть клас `LogReg` для логістичної регресії, наслідуючи модуль `torch.nn.Module` за прикладом в лекції (в частині про FeedForward мережі).\n",
    "\n",
    "  У нас модель складається з лінійної комбінації вхідних значень і застосування фукнції сигмоїда. Тож, нейромережа буде складатись з лінійного шару `nn.Linear` і використання активації `nn.Sigmid`. У створеному класі мають бути реалізовані методи `__init__` з ініціалізацією шарів і метод `forward` для виконання прямого проходу моделі через лінійний шар і функцію активації.\n",
    "\n",
    "  Створіть екземпляр класу `LogReg` в змінній `model`."
   ],
   "metadata": {
    "id": "ymcQOo_hum6I"
   }
  },
  {
   "cell_type": "code",
   "source": [
    "import torch.nn as nn\n",
    "\n",
    "class LogReg(nn.Module):\n",
    "    def __init__(self, input_dim):\n",
    "        super(LogReg, self).__init__()\n",
    "        self.linear = nn.Linear(input_dim, 1)\n",
    "        self.sigmoid = nn.Sigmoid()\n",
    "\n",
    "    def forward(self, x):\n",
    "        out = self.linear(x)\n",
    "        out = self.sigmoid(out)\n",
    "        return out\n",
    "\n",
    "input_dim = inputs_tensor.shape[1]\n",
    "model = LogReg(input_dim)\n",
    "\n",
    "print(model)"
   ],
   "metadata": {
    "id": "EyAwhTBW6xxz",
    "ExecuteTime": {
     "end_time": "2025-04-27T17:56:43.393164Z",
     "start_time": "2025-04-27T17:56:43.388865Z"
    }
   },
   "outputs": [
    {
     "name": "stdout",
     "output_type": "stream",
     "text": [
      "LogReg(\n",
      "  (linear): Linear(in_features=3, out_features=1, bias=True)\n",
      "  (sigmoid): Sigmoid()\n",
      ")\n"
     ]
    }
   ],
   "execution_count": 165
  },
  {
   "cell_type": "markdown",
   "source": [
    "10. Задайте оптимізатор `Stockastic Gradient Descent` в змінній `opt` для навчання моделі логістичної регресії. А також визначіть в змінній `loss` функцію втрат `binary_cross_entropy` з модуля `torch.nn.functional` для обчислення втрат моделі. Обчисліть втрати для поточних передбачень і міток, а потім виведіть їх. Зробіть висновок, чи моделі вдалось навчитись?"
   ],
   "metadata": {
    "id": "RflV7xeVyoJy"
   }
  },
  {
   "cell_type": "code",
   "source": [
    "import torch.optim as optim\n",
    "import torch.nn.functional as F\n",
    "\n",
    "opt = optim.SGD(model.parameters(), lr=0.01)\n",
    "loss_fn = F.binary_cross_entropy\n",
    "\n",
    "for xb, yb, in train_dl:\n",
    "    preds = model(xb)\n",
    "    break\n",
    "\n",
    "initial_loss = loss_fn(preds, yb)\n",
    "\n",
    "print(f\"Initial loss: {initial_loss.item():.4f}\")"
   ],
   "metadata": {
    "id": "3QCATPU_6yfa",
    "ExecuteTime": {
     "end_time": "2025-04-27T17:56:45.160534Z",
     "start_time": "2025-04-27T17:56:45.155634Z"
    }
   },
   "outputs": [
    {
     "name": "stdout",
     "output_type": "stream",
     "text": [
      "Initial loss: 0.7307\n"
     ]
    }
   ],
   "execution_count": 166
  },
  {
   "metadata": {},
   "cell_type": "markdown",
   "source": [
    "The initial loss was 0.7307.\n",
    "\n",
    "This value is quite high, which is expected because the model weights are random, and no training has been performed yet. Therefore, the model has not learned yet.\n",
    "\n",
    "We need to perform several epochs of training with gradient descent to reduce the loss and improve predictions."
   ]
  },
  {
   "cell_type": "markdown",
   "source": [
    "11. Візьміть з лекції функцію для тренування моделі з відстеженням значень втрат і навчіть щойно визначену модель на 1000 епохах. Виведіть після цього графік зміни loss, фінальні передбачення і значення таргетів."
   ],
   "metadata": {
    "id": "ch-WrYnKzMzq"
   }
  },
  {
   "cell_type": "code",
   "source": [
    "def fit_return_loss(num_epochs, model, loss_fn, opt, train_dl):\n",
    "    losses = []\n",
    "    for epoch in range(num_epochs):\n",
    "        # Ініціалізуємо акумулятор для втрат\n",
    "        total_loss = 0\n",
    "\n",
    "        for xb, yb in train_dl:\n",
    "            # Генеруємо передбачення\n",
    "            pred = model(xb)\n",
    "\n",
    "            # Обчислюємо втрати\n",
    "            loss = loss_fn(pred, yb)\n",
    "\n",
    "            # Виконуємо градієнтний спуск\n",
    "            loss.backward()\n",
    "            opt.step()\n",
    "            opt.zero_grad()\n",
    "\n",
    "            # Накопичуємо втрати\n",
    "            total_loss += loss.item()\n",
    "\n",
    "        # Обчислюємо середні втрати для епохи\n",
    "        avg_loss = total_loss / len(train_dl)\n",
    "        losses.append(avg_loss)\n",
    "\n",
    "        # Виводимо підсумок епохи\n",
    "        if (epoch + 1) % 10 == 0:\n",
    "          print(f'Epoch [{epoch+1}/{num_epochs}], Loss: {avg_loss:.4f}')\n",
    "    return losses\n",
    "\n",
    "# 1. Train the model\n",
    "num_epochs = 1000\n",
    "losses = fit_return_loss(num_epochs, model, loss_fn, opt, train_dl)\n",
    "\n",
    "# 2. Plot the loss\n",
    "import matplotlib.pyplot as plt\n",
    "\n",
    "plt.plot(losses)\n",
    "plt.xlabel('Epoch')\n",
    "plt.ylabel('Loss')\n",
    "plt.title('Training Loss over Epochs')\n",
    "plt.grid()\n",
    "plt.show()\n",
    "\n",
    "# 3. Final predictions\n",
    "for xb, yb in train_dl:\n",
    "    final_preds = model(xb)\n",
    "    break\n",
    "\n",
    "print(\"Final predictions:\", final_preds.detach().numpy().round())\n",
    "print(\"True targets:\", yb.numpy())"
   ],
   "metadata": {
    "id": "cEHQH9qE626k",
    "ExecuteTime": {
     "end_time": "2025-04-27T18:01:54.011108Z",
     "start_time": "2025-04-27T18:01:53.191343Z"
    }
   },
   "outputs": [
    {
     "name": "stdout",
     "output_type": "stream",
     "text": [
      "Epoch [10/1000], Loss: 0.6210\n",
      "Epoch [20/1000], Loss: 0.5285\n",
      "Epoch [30/1000], Loss: 0.4567\n",
      "Epoch [40/1000], Loss: 0.4005\n",
      "Epoch [50/1000], Loss: 0.3557\n",
      "Epoch [60/1000], Loss: 0.3196\n",
      "Epoch [70/1000], Loss: 0.2897\n",
      "Epoch [80/1000], Loss: 0.2649\n",
      "Epoch [90/1000], Loss: 0.2438\n",
      "Epoch [100/1000], Loss: 0.2259\n",
      "Epoch [110/1000], Loss: 0.2105\n",
      "Epoch [120/1000], Loss: 0.1970\n",
      "Epoch [130/1000], Loss: 0.1851\n",
      "Epoch [140/1000], Loss: 0.1747\n",
      "Epoch [150/1000], Loss: 0.1653\n",
      "Epoch [160/1000], Loss: 0.1569\n",
      "Epoch [170/1000], Loss: 0.1494\n",
      "Epoch [180/1000], Loss: 0.1425\n",
      "Epoch [190/1000], Loss: 0.1363\n",
      "Epoch [200/1000], Loss: 0.1306\n",
      "Epoch [210/1000], Loss: 0.1253\n",
      "Epoch [220/1000], Loss: 0.1205\n",
      "Epoch [230/1000], Loss: 0.1160\n",
      "Epoch [240/1000], Loss: 0.1119\n",
      "Epoch [250/1000], Loss: 0.1080\n",
      "Epoch [260/1000], Loss: 0.1044\n",
      "Epoch [270/1000], Loss: 0.1011\n",
      "Epoch [280/1000], Loss: 0.0979\n",
      "Epoch [290/1000], Loss: 0.0949\n",
      "Epoch [300/1000], Loss: 0.0922\n",
      "Epoch [310/1000], Loss: 0.0895\n",
      "Epoch [320/1000], Loss: 0.0871\n",
      "Epoch [330/1000], Loss: 0.0847\n",
      "Epoch [340/1000], Loss: 0.0825\n",
      "Epoch [350/1000], Loss: 0.0804\n",
      "Epoch [360/1000], Loss: 0.0784\n",
      "Epoch [370/1000], Loss: 0.0765\n",
      "Epoch [380/1000], Loss: 0.0747\n",
      "Epoch [390/1000], Loss: 0.0730\n",
      "Epoch [400/1000], Loss: 0.0713\n",
      "Epoch [410/1000], Loss: 0.0697\n",
      "Epoch [420/1000], Loss: 0.0682\n",
      "Epoch [430/1000], Loss: 0.0668\n",
      "Epoch [440/1000], Loss: 0.0654\n",
      "Epoch [450/1000], Loss: 0.0641\n",
      "Epoch [460/1000], Loss: 0.0628\n",
      "Epoch [470/1000], Loss: 0.0616\n",
      "Epoch [480/1000], Loss: 0.0604\n",
      "Epoch [490/1000], Loss: 0.0593\n",
      "Epoch [500/1000], Loss: 0.0582\n",
      "Epoch [510/1000], Loss: 0.0571\n",
      "Epoch [520/1000], Loss: 0.0561\n",
      "Epoch [530/1000], Loss: 0.0552\n",
      "Epoch [540/1000], Loss: 0.0542\n",
      "Epoch [550/1000], Loss: 0.0533\n",
      "Epoch [560/1000], Loss: 0.0524\n",
      "Epoch [570/1000], Loss: 0.0516\n",
      "Epoch [580/1000], Loss: 0.0507\n",
      "Epoch [590/1000], Loss: 0.0499\n",
      "Epoch [600/1000], Loss: 0.0492\n",
      "Epoch [610/1000], Loss: 0.0484\n",
      "Epoch [620/1000], Loss: 0.0477\n",
      "Epoch [630/1000], Loss: 0.0470\n",
      "Epoch [640/1000], Loss: 0.0463\n",
      "Epoch [650/1000], Loss: 0.0456\n",
      "Epoch [660/1000], Loss: 0.0450\n",
      "Epoch [670/1000], Loss: 0.0443\n",
      "Epoch [680/1000], Loss: 0.0437\n",
      "Epoch [690/1000], Loss: 0.0431\n",
      "Epoch [700/1000], Loss: 0.0426\n",
      "Epoch [710/1000], Loss: 0.0420\n",
      "Epoch [720/1000], Loss: 0.0414\n",
      "Epoch [730/1000], Loss: 0.0409\n",
      "Epoch [740/1000], Loss: 0.0404\n",
      "Epoch [750/1000], Loss: 0.0399\n",
      "Epoch [760/1000], Loss: 0.0394\n",
      "Epoch [770/1000], Loss: 0.0389\n",
      "Epoch [780/1000], Loss: 0.0384\n",
      "Epoch [790/1000], Loss: 0.0380\n",
      "Epoch [800/1000], Loss: 0.0375\n",
      "Epoch [810/1000], Loss: 0.0371\n",
      "Epoch [820/1000], Loss: 0.0366\n",
      "Epoch [830/1000], Loss: 0.0362\n",
      "Epoch [840/1000], Loss: 0.0358\n",
      "Epoch [850/1000], Loss: 0.0354\n",
      "Epoch [860/1000], Loss: 0.0350\n",
      "Epoch [870/1000], Loss: 0.0346\n",
      "Epoch [880/1000], Loss: 0.0343\n",
      "Epoch [890/1000], Loss: 0.0339\n",
      "Epoch [900/1000], Loss: 0.0335\n",
      "Epoch [910/1000], Loss: 0.0332\n",
      "Epoch [920/1000], Loss: 0.0328\n",
      "Epoch [930/1000], Loss: 0.0325\n",
      "Epoch [940/1000], Loss: 0.0322\n",
      "Epoch [950/1000], Loss: 0.0318\n",
      "Epoch [960/1000], Loss: 0.0315\n",
      "Epoch [970/1000], Loss: 0.0312\n",
      "Epoch [980/1000], Loss: 0.0309\n",
      "Epoch [990/1000], Loss: 0.0306\n",
      "Epoch [1000/1000], Loss: 0.0303\n"
     ]
    },
    {
     "data": {
      "text/plain": [
       "<Figure size 640x480 with 1 Axes>"
      ],
      "image/png": "[encoded data removed]"
     },
     "metadata": {},
     "output_type": "display_data"
    },
    {
     "name": "stdout",
     "output_type": "stream",
     "text": [
      "Final predictions: [[1.]\n",
      " [0.]\n",
      " [0.]\n",
      " [1.]\n",
      " [0.]]\n",
      "True targets: [[1.]\n",
      " [0.]\n",
      " [0.]\n",
      " [1.]\n",
      " [0.]]\n"
     ]
    }
   ],
   "execution_count": 167
  }
 ]
}
