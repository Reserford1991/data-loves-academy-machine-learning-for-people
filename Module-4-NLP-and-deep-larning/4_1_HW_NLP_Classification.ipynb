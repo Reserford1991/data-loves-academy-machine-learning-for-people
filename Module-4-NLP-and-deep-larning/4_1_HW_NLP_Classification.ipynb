{
 "nbformat": 4,
 "nbformat_minor": 0,
 "metadata": {
  "colab": {
   "provenance": []
  },
  "kernelspec": {
   "name": "python3",
   "display_name": "Python 3"
  },
  "language_info": {
   "name": "python"
  }
 },
 "cells": [
  {
   "metadata": {
    "ExecuteTime": {
     "end_time": "2025-04-25T18:04:28.492604Z",
     "start_time": "2025-04-25T18:04:28.491053Z"
    }
   },
   "cell_type": "code",
   "source": [
    "import warnings\n",
    "warnings.filterwarnings(\"ignore\")"
   ],
   "outputs": [],
   "execution_count": 1
  },
  {
   "metadata": {
    "id": "Zl1UHn4aRLMg"
   },
   "cell_type": "markdown",
   "source": [
    "# Домашнє завдання: Побудова класифікатора сентименту на основі набору даних Tweet Sentiment Extraction\n",
    "\n",
    "**Мета:** Провести аналіз набору даних, виконати векторизацію текстових даних за допомогою методів bag-of-words та TF-IDF, порівняти їх, побудувати класифікатор та провести аналіз помилок.\n",
    "\n",
    "**Набір даних:**\n",
    "Дані беремо з цього змагання на Kaggle: https://www.kaggle.com/competitions/tweet-sentiment-extraction/data?select=train.csv\n",
    "\n",
    "Оригінальне змагання має дещо іншу задачу, але ми будемо поки будувати саме класифікатор.\n",
    "\n",
    "### Завдання 1. Завантаження та ознайомлення з набором даних\n",
    "\n",
    "- Завантажте набір даних `train.csv` з посилання та ознайомтеся з його структурою.\n",
    "- Виведіть перші 5 рядків та основну статистику: кількість записів, типи колонок, кількість пропущених значень.\n",
    "- Видаліть записи, в яких є пропущені значення.\n",
    "\n"
   ]
  },
  {
   "metadata": {
    "ExecuteTime": {
     "end_time": "2025-04-25T18:04:28.592526Z",
     "start_time": "2025-04-25T18:04:28.533232Z"
    }
   },
   "cell_type": "code",
   "source": [
    "import pandas as pd\n",
    "\n",
    "tweets_df = pd.read_csv('csv/tweet_sentiment_train.csv.zip', compression='zip')\n",
    "\n",
    "tweets_df.head()"
   ],
   "outputs": [
    {
     "data": {
      "text/plain": [
       "       textID                                               text  \\\n",
       "0  cb774db0d1                I`d have responded, if I were going   \n",
       "1  549e992a42      Sooo SAD I will miss you here in San Diego!!!   \n",
       "2  088c60f138                          my boss is bullying me...   \n",
       "3  9642c003ef                     what interview! leave me alone   \n",
       "4  358bd9e861   Sons of ****, why couldn`t they put them on t...   \n",
       "\n",
       "                         selected_text sentiment  \n",
       "0  I`d have responded, if I were going   neutral  \n",
       "1                             Sooo SAD  negative  \n",
       "2                          bullying me  negative  \n",
       "3                       leave me alone  negative  \n",
       "4                        Sons of ****,  negative  "
      ],
      "text/html": [
       "<div>\n",
       "<style scoped>\n",
       "    .dataframe tbody tr th:only-of-type {\n",
       "        vertical-align: middle;\n",
       "    }\n",
       "\n",
       "    .dataframe tbody tr th {\n",
       "        vertical-align: top;\n",
       "    }\n",
       "\n",
       "    .dataframe thead th {\n",
       "        text-align: right;\n",
       "    }\n",
       "</style>\n",
       "<table border=\"1\" class=\"dataframe\">\n",
       "  <thead>\n",
       "    <tr style=\"text-align: right;\">\n",
       "      <th></th>\n",
       "      <th>textID</th>\n",
       "      <th>text</th>\n",
       "      <th>selected_text</th>\n",
       "      <th>sentiment</th>\n",
       "    </tr>\n",
       "  </thead>\n",
       "  <tbody>\n",
       "    <tr>\n",
       "      <th>0</th>\n",
       "      <td>cb774db0d1</td>\n",
       "      <td>I`d have responded, if I were going</td>\n",
       "      <td>I`d have responded, if I were going</td>\n",
       "      <td>neutral</td>\n",
       "    </tr>\n",
       "    <tr>\n",
       "      <th>1</th>\n",
       "      <td>549e992a42</td>\n",
       "      <td>Sooo SAD I will miss you here in San Diego!!!</td>\n",
       "      <td>Sooo SAD</td>\n",
       "      <td>negative</td>\n",
       "    </tr>\n",
       "    <tr>\n",
       "      <th>2</th>\n",
       "      <td>088c60f138</td>\n",
       "      <td>my boss is bullying me...</td>\n",
       "      <td>bullying me</td>\n",
       "      <td>negative</td>\n",
       "    </tr>\n",
       "    <tr>\n",
       "      <th>3</th>\n",
       "      <td>9642c003ef</td>\n",
       "      <td>what interview! leave me alone</td>\n",
       "      <td>leave me alone</td>\n",
       "      <td>negative</td>\n",
       "    </tr>\n",
       "    <tr>\n",
       "      <th>4</th>\n",
       "      <td>358bd9e861</td>\n",
       "      <td>Sons of ****, why couldn`t they put them on t...</td>\n",
       "      <td>Sons of ****,</td>\n",
       "      <td>negative</td>\n",
       "    </tr>\n",
       "  </tbody>\n",
       "</table>\n",
       "</div>"
      ]
     },
     "execution_count": 2,
     "metadata": {},
     "output_type": "execute_result"
    }
   ],
   "execution_count": 2
  },
  {
   "metadata": {
    "ExecuteTime": {
     "end_time": "2025-04-25T18:04:28.664770Z",
     "start_time": "2025-04-25T18:04:28.641295Z"
    }
   },
   "cell_type": "code",
   "source": "tweets_df.describe()",
   "outputs": [
    {
     "data": {
      "text/plain": [
       "            textID                                  text selected_text  \\\n",
       "count        27481                                 27480         27480   \n",
       "unique       27481                                 27480         22463   \n",
       "top     cb774db0d1   I`d have responded, if I were going          good   \n",
       "freq             1                                     1           199   \n",
       "\n",
       "       sentiment  \n",
       "count      27481  \n",
       "unique         3  \n",
       "top      neutral  \n",
       "freq       11118  "
      ],
      "text/html": [
       "<div>\n",
       "<style scoped>\n",
       "    .dataframe tbody tr th:only-of-type {\n",
       "        vertical-align: middle;\n",
       "    }\n",
       "\n",
       "    .dataframe tbody tr th {\n",
       "        vertical-align: top;\n",
       "    }\n",
       "\n",
       "    .dataframe thead th {\n",
       "        text-align: right;\n",
       "    }\n",
       "</style>\n",
       "<table border=\"1\" class=\"dataframe\">\n",
       "  <thead>\n",
       "    <tr style=\"text-align: right;\">\n",
       "      <th></th>\n",
       "      <th>textID</th>\n",
       "      <th>text</th>\n",
       "      <th>selected_text</th>\n",
       "      <th>sentiment</th>\n",
       "    </tr>\n",
       "  </thead>\n",
       "  <tbody>\n",
       "    <tr>\n",
       "      <th>count</th>\n",
       "      <td>27481</td>\n",
       "      <td>27480</td>\n",
       "      <td>27480</td>\n",
       "      <td>27481</td>\n",
       "    </tr>\n",
       "    <tr>\n",
       "      <th>unique</th>\n",
       "      <td>27481</td>\n",
       "      <td>27480</td>\n",
       "      <td>22463</td>\n",
       "      <td>3</td>\n",
       "    </tr>\n",
       "    <tr>\n",
       "      <th>top</th>\n",
       "      <td>cb774db0d1</td>\n",
       "      <td>I`d have responded, if I were going</td>\n",
       "      <td>good</td>\n",
       "      <td>neutral</td>\n",
       "    </tr>\n",
       "    <tr>\n",
       "      <th>freq</th>\n",
       "      <td>1</td>\n",
       "      <td>1</td>\n",
       "      <td>199</td>\n",
       "      <td>11118</td>\n",
       "    </tr>\n",
       "  </tbody>\n",
       "</table>\n",
       "</div>"
      ]
     },
     "execution_count": 3,
     "metadata": {},
     "output_type": "execute_result"
    }
   ],
   "execution_count": 3
  },
  {
   "metadata": {
    "ExecuteTime": {
     "end_time": "2025-04-25T18:04:28.789661Z",
     "start_time": "2025-04-25T18:04:28.784017Z"
    }
   },
   "cell_type": "code",
   "source": "tweets_df.isnull().sum()",
   "outputs": [
    {
     "data": {
      "text/plain": [
       "textID           0\n",
       "text             1\n",
       "selected_text    1\n",
       "sentiment        0\n",
       "dtype: int64"
      ]
     },
     "execution_count": 4,
     "metadata": {},
     "output_type": "execute_result"
    }
   ],
   "execution_count": 4
  },
  {
   "metadata": {
    "ExecuteTime": {
     "end_time": "2025-04-25T18:04:28.929112Z",
     "start_time": "2025-04-25T18:04:28.919819Z"
    }
   },
   "cell_type": "code",
   "source": [
    "tweets_df = tweets_df.dropna()\n",
    "tweets_df.isnull().sum()"
   ],
   "outputs": [
    {
     "data": {
      "text/plain": [
       "textID           0\n",
       "text             0\n",
       "selected_text    0\n",
       "sentiment        0\n",
       "dtype: int64"
      ]
     },
     "execution_count": 5,
     "metadata": {},
     "output_type": "execute_result"
    }
   ],
   "execution_count": 5
  },
  {
   "cell_type": "markdown",
   "source": [
    "### Завдання 2. Exploratory Data Analysis\n",
    "\n",
    "- Проведіть аналіз кількості класів та розподілу міток. Класи знаходяться в колонці `sentiment`.\n",
    "- Візуалізуйте розподіл довжин текстів в символах та зробіть висновок про довжини постів: якої довжини постів найбільше, що бачите з розподілу?\n",
    "\n"
   ],
   "metadata": {
    "id": "BXox7UCZUU5J"
   }
  },
  {
   "cell_type": "code",
   "source": [
    "import matplotlib.pyplot as plt\n",
    "import seaborn as sns\n",
    "\n",
    "#Labels discounts\n",
    "label_counts = tweets_df['sentiment'].value_counts()\n",
    "print(label_counts)\n",
    "\n",
    "\n",
    "#Labels discounts plot\n",
    "plt.figure(figsize = (10,10))\n",
    "sns.barplot(x=label_counts.index, y=label_counts.values)\n",
    "plt.title(\"Distribution of sentiment labels\")\n",
    "plt.xlabel(\"Sentiment\")\n",
    "plt.ylabel(\"Number of Tweets\")\n",
    "plt.grid(True)\n",
    "plt.show()\n",
    "\n",
    "#Create new column - tweet text length\n",
    "tweets_df['text_length'] = tweets_df['text'].apply(len)\n",
    "\n",
    "plt.figure(figsize = (10,10))\n",
    "sns.histplot(tweets_df['text_length'])\n",
    "plt.title(\"Tweets length\")\n",
    "plt.xlabel(\"Length of Tweet (characters)\")\n",
    "plt.ylabel(\"Number of Tweets\")\n",
    "plt.grid(True)\n",
    "plt.show()\n"
   ],
   "metadata": {
    "id": "aPm_wCjpde0s",
    "ExecuteTime": {
     "end_time": "2025-04-25T18:04:29.375426Z",
     "start_time": "2025-04-25T18:04:29.072492Z"
    }
   },
   "outputs": [
    {
     "name": "stdout",
     "output_type": "stream",
     "text": [
      "sentiment\n",
      "neutral     11117\n",
      "positive     8582\n",
      "negative     7781\n",
      "Name: count, dtype: int64\n"
     ]
    },
    {
     "data": {
      "text/plain": [
       "<Figure size 1000x1000 with 1 Axes>"
      ],
      "image/png": "[encoded data removed]"
     },
     "metadata": {},
     "output_type": "display_data"
    },
    {
     "data": {
      "text/plain": [
       "<Figure size 1000x1000 with 1 Axes>"
      ],
      "image/png": "[encoded data removed]"
     },
     "metadata": {},
     "output_type": "display_data"
    }
   ],
   "execution_count": 6
  },
  {
   "metadata": {},
   "cell_type": "markdown",
   "source": [
    "#### As we can see, the most frequent sentiment label of tweets is neutral.\n",
    "\n",
    "#### As for lengths of tweets, they are distributed almost normally and the most popular tweet length is around 40 symbols."
   ]
  },
  {
   "cell_type": "markdown",
   "source": [
    "### Завдання 3. Попередня обробка текстових даних та векторизація з bag of words\n",
    "\n",
    "\n",
    "Наша задача тут отримати вектори методом bag of words колонки `text`, виконавши попередню обробку тексту.\n",
    "Попередня обробка має включати\n",
    "- видалення stopwords необхідної мови\n",
    "- токенізація (розбиття текстів на фрагменти по 1 слову)\n",
    "- стеммінг слів зі `SnowballStemmer`.\n",
    "- самостійно задайте кількість слів в словнику для `sklearn.feature_extraction.text.CountVectorizer`. Можливо для цього доведеться виконати додатковий аналіз.\n",
    "\n",
    "Ви також можете додати сюди додаткові методи очистки текстів, наприклад, видалення деяких символів чи груп символів, якщо в процесі роботи побачите, що хочете щось видалити.\n",
    "\n",
    "Напишіть код аби виконати це завдання. Перед цим рекомендую детально ознайомитись з тим, що робить обʼєкт `sklearn.feature_extraction.text.CountVectorizer` за замовченням.\n",
    "\n",
    "Це завдання можна виконати двома способами - один - максимально подібно до того, як ми це робили в лекції, другий - дещо інакше перегрупувавши етапи обробки тексту.\n",
    "\n",
    "\n"
   ],
   "metadata": {
    "id": "KfiU4hNDWncB"
   }
  },
  {
   "cell_type": "code",
   "source": [
    "import re\n",
    "from sklearn.feature_extraction.text import CountVectorizer\n",
    "from nltk.corpus import stopwords\n",
    "from nltk.stem import SnowballStemmer\n",
    "from nltk.tokenize import word_tokenize\n",
    "\n",
    "#Download nltk resources\n",
    "import nltk\n",
    "nltk.download('punkt', quiet=True)\n",
    "nltk.download('punkt_tab', quiet=True)\n",
    "nltk.download('stopwords', quiet=True)\n",
    "\n",
    "#Choose language for stopwords and stemming\n",
    "language = 'english'\n",
    "stemmer = SnowballStemmer(language)\n",
    "stop_words = set(stopwords.words(language))\n",
    "\n",
    "#Define custom tokenizer for preprocessing\n",
    "def custom_tokenizer(text):\n",
    "    text = text.lower()                                     # 1. Lowercase\n",
    "    text = re.sub(r'[^\\w\\s]', '', text)                     # 2. Remove punctuation\n",
    "    tokens = word_tokenize(text)                            # 3. Tokenize text\n",
    "    tokens = [w for w in tokens if not w.isdigit() and w not in stop_words]     # 4. Remove stopwords\n",
    "    stems = [stemmer.stem(w) for w in tokens]               # 5. Stemming\n",
    "    return stems\n",
    "\n",
    "# Initialize CountVectorizer with your custom tokenizer\n",
    "vectorizer = CountVectorizer(\n",
    "    tokenizer=custom_tokenizer,\n",
    "    lowercase=False                 # already done that in custom_tokenizer\n",
    "    )\n",
    "\n",
    "# Apply vectorization to 'text' column\n",
    "X_bow = vectorizer.fit_transform(tweets_df['text'])\n",
    "\n",
    "# Convert to DataFrame (optional, to see the word frequencies)\n",
    "X_bow_df = pd.DataFrame(X_bow.toarray(), columns=vectorizer.get_feature_names_out())\n",
    "\n",
    "X_bow_df.head()"
   ],
   "metadata": {
    "id": "BRUG111tdhB0",
    "ExecuteTime": {
     "end_time": "2025-04-25T21:09:36.148895Z",
     "start_time": "2025-04-25T21:09:33.871309Z"
    }
   },
   "outputs": [
    {
     "data": {
      "text/plain": [
       "   079ï½  07i  0_o  0f  0kenjoy  0n  0rpm  0ut  10000th  1000th  ...  \\\n",
       "0      0    0    0   0        0   0     0    0        0       0  ...   \n",
       "1      0    0    0   0        0   0     0    0        0       0  ...   \n",
       "2      0    0    0   0        0   0     0    0        0       0  ...   \n",
       "3      0    0    0   0        0   0     0    0        0       0  ...   \n",
       "4      0    0    0   0        0   0     0    0        0       0  ...   \n",
       "\n",
       "   ï½stupidityï½  ï½tearï½  ï½timo  ï½ureo  ï½whi  ï½whyyi  ï½you  ï½ï½  \\\n",
       "0              0         0       0       0      0        0      0     0   \n",
       "1              0         0       0       0      0        0      0     0   \n",
       "2              0         0       0       0      0        0      0     0   \n",
       "3              0         0       0       0      0        0      0     0   \n",
       "4              0         0       0       0      0        0      0     0   \n",
       "\n",
       "   ï½ï½h  ï½ï½ï½ï½  \n",
       "0      0         0  \n",
       "1      0         0  \n",
       "2      0         0  \n",
       "3      0         0  \n",
       "4      0         0  \n",
       "\n",
       "[5 rows x 24044 columns]"
      ],
      "text/html": [
       "<div>\n",
       "<style scoped>\n",
       "    .dataframe tbody tr th:only-of-type {\n",
       "        vertical-align: middle;\n",
       "    }\n",
       "\n",
       "    .dataframe tbody tr th {\n",
       "        vertical-align: top;\n",
       "    }\n",
       "\n",
       "    .dataframe thead th {\n",
       "        text-align: right;\n",
       "    }\n",
       "</style>\n",
       "<table border=\"1\" class=\"dataframe\">\n",
       "  <thead>\n",
       "    <tr style=\"text-align: right;\">\n",
       "      <th></th>\n",
       "      <th>079ï½</th>\n",
       "      <th>07i</th>\n",
       "      <th>0_o</th>\n",
       "      <th>0f</th>\n",
       "      <th>0kenjoy</th>\n",
       "      <th>0n</th>\n",
       "      <th>0rpm</th>\n",
       "      <th>0ut</th>\n",
       "      <th>10000th</th>\n",
       "      <th>1000th</th>\n",
       "      <th>...</th>\n",
       "      <th>ï½stupidityï½</th>\n",
       "      <th>ï½tearï½</th>\n",
       "      <th>ï½timo</th>\n",
       "      <th>ï½ureo</th>\n",
       "      <th>ï½whi</th>\n",
       "      <th>ï½whyyi</th>\n",
       "      <th>ï½you</th>\n",
       "      <th>ï½ï½</th>\n",
       "      <th>ï½ï½h</th>\n",
       "      <th>ï½ï½ï½ï½</th>\n",
       "    </tr>\n",
       "  </thead>\n",
       "  <tbody>\n",
       "    <tr>\n",
       "      <th>0</th>\n",
       "      <td>0</td>\n",
       "      <td>0</td>\n",
       "      <td>0</td>\n",
       "      <td>0</td>\n",
       "      <td>0</td>\n",
       "      <td>0</td>\n",
       "      <td>0</td>\n",
       "      <td>0</td>\n",
       "      <td>0</td>\n",
       "      <td>0</td>\n",
       "      <td>...</td>\n",
       "      <td>0</td>\n",
       "      <td>0</td>\n",
       "      <td>0</td>\n",
       "      <td>0</td>\n",
       "      <td>0</td>\n",
       "      <td>0</td>\n",
       "      <td>0</td>\n",
       "      <td>0</td>\n",
       "      <td>0</td>\n",
       "      <td>0</td>\n",
       "    </tr>\n",
       "    <tr>\n",
       "      <th>1</th>\n",
       "      <td>0</td>\n",
       "      <td>0</td>\n",
       "      <td>0</td>\n",
       "      <td>0</td>\n",
       "      <td>0</td>\n",
       "      <td>0</td>\n",
       "      <td>0</td>\n",
       "      <td>0</td>\n",
       "      <td>0</td>\n",
       "      <td>0</td>\n",
       "      <td>...</td>\n",
       "      <td>0</td>\n",
       "      <td>0</td>\n",
       "      <td>0</td>\n",
       "      <td>0</td>\n",
       "      <td>0</td>\n",
       "      <td>0</td>\n",
       "      <td>0</td>\n",
       "      <td>0</td>\n",
       "      <td>0</td>\n",
       "      <td>0</td>\n",
       "    </tr>\n",
       "    <tr>\n",
       "      <th>2</th>\n",
       "      <td>0</td>\n",
       "      <td>0</td>\n",
       "      <td>0</td>\n",
       "      <td>0</td>\n",
       "      <td>0</td>\n",
       "      <td>0</td>\n",
       "      <td>0</td>\n",
       "      <td>0</td>\n",
       "      <td>0</td>\n",
       "      <td>0</td>\n",
       "      <td>...</td>\n",
       "      <td>0</td>\n",
       "      <td>0</td>\n",
       "      <td>0</td>\n",
       "      <td>0</td>\n",
       "      <td>0</td>\n",
       "      <td>0</td>\n",
       "      <td>0</td>\n",
       "      <td>0</td>\n",
       "      <td>0</td>\n",
       "      <td>0</td>\n",
       "    </tr>\n",
       "    <tr>\n",
       "      <th>3</th>\n",
       "      <td>0</td>\n",
       "      <td>0</td>\n",
       "      <td>0</td>\n",
       "      <td>0</td>\n",
       "      <td>0</td>\n",
       "      <td>0</td>\n",
       "      <td>0</td>\n",
       "      <td>0</td>\n",
       "      <td>0</td>\n",
       "      <td>0</td>\n",
       "      <td>...</td>\n",
       "      <td>0</td>\n",
       "      <td>0</td>\n",
       "      <td>0</td>\n",
       "      <td>0</td>\n",
       "      <td>0</td>\n",
       "      <td>0</td>\n",
       "      <td>0</td>\n",
       "      <td>0</td>\n",
       "      <td>0</td>\n",
       "      <td>0</td>\n",
       "    </tr>\n",
       "    <tr>\n",
       "      <th>4</th>\n",
       "      <td>0</td>\n",
       "      <td>0</td>\n",
       "      <td>0</td>\n",
       "      <td>0</td>\n",
       "      <td>0</td>\n",
       "      <td>0</td>\n",
       "      <td>0</td>\n",
       "      <td>0</td>\n",
       "      <td>0</td>\n",
       "      <td>0</td>\n",
       "      <td>...</td>\n",
       "      <td>0</td>\n",
       "      <td>0</td>\n",
       "      <td>0</td>\n",
       "      <td>0</td>\n",
       "      <td>0</td>\n",
       "      <td>0</td>\n",
       "      <td>0</td>\n",
       "      <td>0</td>\n",
       "      <td>0</td>\n",
       "      <td>0</td>\n",
       "    </tr>\n",
       "  </tbody>\n",
       "</table>\n",
       "<p>5 rows × 24044 columns</p>\n",
       "</div>"
      ]
     },
     "execution_count": 33,
     "metadata": {},
     "output_type": "execute_result"
    }
   ],
   "execution_count": 33
  },
  {
   "cell_type": "markdown",
   "source": [
    "### Завдання 4. Побудова класифікатора\n",
    "\n",
    "- Розділіть індекси даних на навчальний та тестовий набори в обраному співвівдношенні. Використовуючи отримані індекси сфомуйте набори для тренування класифікатора `X_train_bow, X_test_bow, y_train, y_test`.\n",
    "- Навчіть класифікатор (наприклад, Logistic Regression, Decision Tree або один з алгоритмів бустингу) на даних, векторизованих методом bag-of-words. Спробуйте кілька моделей і оберіть найбільш точну :)\n",
    "- Виведіть інформацію, яка дає можливість оцінити якість класифікації.\n",
    "- Оцініть якість фінальної класифікації: вона хороша чи не дуже?\n",
    "\n"
   ],
   "metadata": {
    "id": "v0RHDwO7OBIJ"
   }
  },
  {
   "cell_type": "code",
   "source": [
    "from sklearn.model_selection import train_test_split\n",
    "from sklearn.linear_model import LogisticRegression\n",
    "from sklearn.tree import DecisionTreeClassifier\n",
    "from sklearn.ensemble import HistGradientBoostingClassifier\n",
    "from sklearn.metrics import classification_report, accuracy_score, confusion_matrix\n",
    "\n",
    "y = tweets_df['sentiment']      # sentiment column\n",
    "X_train_bow, X_test_bow, y_train, y_test = train_test_split(X_bow_df, y, test_size=0.2, random_state=42)"
   ],
   "metadata": {
    "ExecuteTime": {
     "end_time": "2025-04-25T19:55:51.153149Z",
     "start_time": "2025-04-25T19:55:50.228890Z"
    }
   },
   "outputs": [],
   "execution_count": 16
  },
  {
   "metadata": {
    "ExecuteTime": {
     "end_time": "2025-04-25T19:35:49.000572Z",
     "start_time": "2025-04-25T19:34:51.581649Z"
    }
   },
   "cell_type": "code",
   "source": [
    "lr = LogisticRegression(max_iter=1000)\n",
    "lr.fit(X_train_bow, y_train)\n",
    "y_pred_lr = lr.predict(X_test_bow)"
   ],
   "outputs": [],
   "execution_count": 11
  },
  {
   "metadata": {
    "ExecuteTime": {
     "end_time": "2025-04-25T19:42:20.594918Z",
     "start_time": "2025-04-25T19:36:33.234892Z"
    }
   },
   "cell_type": "code",
   "source": [
    "tree = DecisionTreeClassifier()\n",
    "tree.fit(X_train_bow, y_train)\n",
    "y_pred_tree = tree.predict(X_test_bow)"
   ],
   "outputs": [],
   "execution_count": 12
  },
  {
   "metadata": {
    "ExecuteTime": {
     "end_time": "2025-04-25T20:04:47.869406Z",
     "start_time": "2025-04-25T20:03:16.752192Z"
    }
   },
   "cell_type": "code",
   "source": [
    "hgb = HistGradientBoostingClassifier(\n",
    "    max_iter=100,\n",
    "    max_depth=3,\n",
    "    learning_rate=0.1,\n",
    "    random_state=42\n",
    ")\n",
    "\n",
    "hgb.fit(X_train_bow.values, y_train)     # Use .values\n",
    "y_pred_hgb = hgb.predict(X_test_bow.values)"
   ],
   "outputs": [],
   "execution_count": 20
  },
  {
   "metadata": {
    "ExecuteTime": {
     "end_time": "2025-04-25T21:18:58.569988Z",
     "start_time": "2025-04-25T21:18:58.466491Z"
    }
   },
   "cell_type": "code",
   "source": [
    "def evaluate_model(y_true, y_pred, model_name):\n",
    "    print(f\"\\nEvaluation for model: {model_name}\")\n",
    "    print(f\"Accuracy: {accuracy_score(y_true, y_pred)}\")\n",
    "    print(\"\\nClassification report:\", classification_report(y_true, y_pred))\n",
    "    print(f\"Confusion matrix:\\n{confusion_matrix(y_true, y_pred)}\")\n",
    "\n",
    "evaluate_model(y_test, y_pred_tree, \"Logistic Regression\\n\")\n",
    "evaluate_model(y_test, y_pred_tree, \"Decision Tree\\n\")\n",
    "evaluate_model(y_test, y_pred_hgb, \"Histogram Gradient Boosting Classifier\\n\")"
   ],
   "outputs": [
    {
     "name": "stdout",
     "output_type": "stream",
     "text": [
      "\n",
      "Evaluation for model: Logistic Regression\n",
      "\n",
      "Accuracy: 0.6590247452692868\n",
      "\n",
      "Classification report:               precision    recall  f1-score   support\n",
      "\n",
      "    negative       0.63      0.62      0.62      1572\n",
      "     neutral       0.65      0.65      0.65      2236\n",
      "    positive       0.71      0.70      0.70      1688\n",
      "\n",
      "    accuracy                           0.66      5496\n",
      "   macro avg       0.66      0.66      0.66      5496\n",
      "weighted avg       0.66      0.66      0.66      5496\n",
      "\n",
      "Confusion matrix:\n",
      "[[ 980  452  140]\n",
      " [ 426 1454  356]\n",
      " [ 158  342 1188]]\n",
      "\n",
      "Evaluation for model: Decision Tree\n",
      "\n",
      "Accuracy: 0.6590247452692868\n",
      "\n",
      "Classification report:               precision    recall  f1-score   support\n",
      "\n",
      "    negative       0.63      0.62      0.62      1572\n",
      "     neutral       0.65      0.65      0.65      2236\n",
      "    positive       0.71      0.70      0.70      1688\n",
      "\n",
      "    accuracy                           0.66      5496\n",
      "   macro avg       0.66      0.66      0.66      5496\n",
      "weighted avg       0.66      0.66      0.66      5496\n",
      "\n",
      "Confusion matrix:\n",
      "[[ 980  452  140]\n",
      " [ 426 1454  356]\n",
      " [ 158  342 1188]]\n",
      "\n",
      "Evaluation for model: Histogram Gradient Boosting Classifier\n",
      "\n",
      "Accuracy: 0.663391557496361\n",
      "\n",
      "Classification report:               precision    recall  f1-score   support\n",
      "\n",
      "    negative       0.76      0.45      0.56      1572\n",
      "     neutral       0.58      0.82      0.68      2236\n",
      "    positive       0.78      0.66      0.71      1688\n",
      "\n",
      "    accuracy                           0.66      5496\n",
      "   macro avg       0.71      0.64      0.65      5496\n",
      "weighted avg       0.69      0.66      0.66      5496\n",
      "\n",
      "Confusion matrix:\n",
      "[[ 704  780   88]\n",
      " [ 179 1835  222]\n",
      " [  45  536 1107]]\n"
     ]
    }
   ],
   "execution_count": 38
  },
  {
   "metadata": {},
   "cell_type": "markdown",
   "source": "#### As we can see, the best result were shown using Histogram Gradient Boosting Classifier"
  },
  {
   "cell_type": "markdown",
   "source": [
    "### Завдання 5. Аналіз впливовості слів в отриманого класифікатора\n",
    "\n",
    "- Для обраної вами моделі проведіть аналіз важливості слів (ознак): які слова (токени) найбільше впливають для визначення сентименту? Чи це логічно на ваш погляд, що саме ці символи впливають найбільше/найменще?\n"
   ],
   "metadata": {
    "id": "53hZa4bKP5Cx"
   }
  },
  {
   "cell_type": "code",
   "source": [
    "# Extract importances\n",
    "importances = tree.feature_importances_\n",
    "\n",
    "# Create DataFrame with feature names\n",
    "feature_importances_df = pd.DataFrame({\n",
    "    'feature': vectorizer.get_feature_names_out(),\n",
    "    'importance': importances\n",
    "})\n",
    "\n",
    "# Sort features by importance\n",
    "feature_importances_df = feature_importances_df.sort_values(by='importance', ascending=False)\n",
    "\n",
    "# Show top 20 most important words\n",
    "feature_importances_df.head(20)\n",
    "\n",
    "import matplotlib.pyplot as plt\n",
    "import seaborn as sns\n",
    "\n",
    "top_n = 20\n",
    "plt.figure(figsize=(10, 6))\n",
    "sns.barplot(\n",
    "    data=feature_importances_df.head(top_n),\n",
    "    x='importance',\n",
    "    y='feature',\n",
    "    palette='viridis'\n",
    ")\n",
    "plt.title(f\"Top {top_n} Important Words for Sentiment Prediction (Decision Tree)\")\n",
    "plt.xlabel(\"Feature Importance\")\n",
    "plt.ylabel(\"Words\")\n",
    "plt.show()"
   ],
   "metadata": {
    "id": "z0YBHvG4dmKb",
    "ExecuteTime": {
     "end_time": "2025-04-25T21:09:40.354619Z",
     "start_time": "2025-04-25T21:09:40.110848Z"
    }
   },
   "outputs": [
    {
     "data": {
      "text/plain": [
       "<Figure size 1000x600 with 1 Axes>"
      ],
      "image/png": "[encoded data removed]"
     },
     "metadata": {},
     "output_type": "display_data"
    }
   ],
   "execution_count": 34
  },
  {
   "metadata": {},
   "cell_type": "markdown",
   "source": "I would agree that word 'love' has the biggest importance on sentiment."
  },
  {
   "cell_type": "markdown",
   "source": [
    "### Завдання 6. Векторизація текстів з допомогою TF-IDF. Тренування класифікатора, аналіз точності і впливовості слів.\n",
    "\n",
    "- Проведіть векторизацію текстів з векторизатором TfidfVectorizer. Реалізуйте векторизацію так, аби препроцесинг включав всі ті самі кроки, що і в випадку використання векторизації Bag of Words.\n",
    "\n",
    "- Натренуйте той самий класифікатор на TF-IDF векторах, виконавши розбивку набору даних на train, test так, аби в трейні були всі ті самі записи, що і були в попередньому завданні (це важливо для порівняння результатів).\n",
    "\n",
    "- Проаналізуйте якість класифікації вивівши потрібні для цього метрики. Чи стала якість класифікації кращою?\n",
    "\n",
    "- Які токени найбільше впливають на результат при тренуваннні класифікатора з TF-IDF векторами? Порівняйте з найважливішими токенами при Bag of Words векторизації. Яку векторизацію ви б обрали для фінальної імплементації рішення? Обґрунтуйте свій вибір.\n",
    "\n"
   ],
   "metadata": {
    "id": "FvJlvr9JRhzq"
   }
  },
  {
   "cell_type": "code",
   "source": [
    "from sklearn.feature_extraction.text import TfidfVectorizer\n",
    "\n",
    "tfidf_vectorizer = TfidfVectorizer(\n",
    "    tokenizer=custom_tokenizer,\n",
    "    max_features=5000,        # (same as Bag-of-Words)\n",
    "    lowercase=False           # because already lowercased in tokenizer\n",
    ")\n",
    "\n",
    "X_tfidf = tfidf_vectorizer.fit_transform(tweets_df['text'])\n",
    "\n",
    "# Use the same train_test_split we used for Bag of Words:\n",
    "# (make sure the train indices are the same)\n",
    "# Now your TF-IDF train and test are aligned with BoW\n",
    "X_train_tfidf = X_tfidf[X_train_bow.index]\n",
    "X_test_tfidf = X_tfidf[X_test_bow.index]\n",
    "\n",
    "tree_tfidf = DecisionTreeClassifier(random_state=42)\n",
    "tree_tfidf.fit(X_train_tfidf, y_train)\n",
    "\n",
    "y_pred_tree_tfidf = tree_tfidf.predict(X_test_tfidf)\n",
    "\n",
    "evaluate_model(y_test, y_pred_tree_tfidf, \"Decision Tree with TF-IDF\")\n",
    "\n",
    "importances_tfidf = tree_tfidf.feature_importances_\n",
    "\n",
    "feature_importances_tfidf_df = pd.DataFrame({\n",
    "    'feature': tfidf_vectorizer.get_feature_names_out(),\n",
    "    'importance': importances_tfidf\n",
    "}).sort_values(by='importance', ascending=False)\n",
    "\n",
    "feature_importances_tfidf_df.head(20)"
   ],
   "metadata": {
    "id": "huUPpVhMdodx",
    "ExecuteTime": {
     "end_time": "2025-04-25T21:17:23.644608Z",
     "start_time": "2025-04-25T21:17:18.926252Z"
    }
   },
   "outputs": [
    {
     "name": "stdout",
     "output_type": "stream",
     "text": [
      "Evaluation for model: Decision Tree with TF-IDF\n",
      "Accuracy: 0.6530203784570596\n",
      "\n",
      "Classification report:               precision    recall  f1-score   support\n",
      "\n",
      "    negative       0.62      0.60      0.61      1572\n",
      "     neutral       0.64      0.64      0.64      2236\n",
      "    positive       0.69      0.72      0.71      1688\n",
      "\n",
      "    accuracy                           0.65      5496\n",
      "   macro avg       0.65      0.65      0.65      5496\n",
      "weighted avg       0.65      0.65      0.65      5496\n",
      "\n",
      "Confusion matrix:\n",
      "[[ 945  469  158]\n",
      " [ 431 1421  384]\n",
      " [ 138  327 1223]]\n"
     ]
    },
    {
     "data": {
      "text/plain": [
       "     feature  importance\n",
       "2626    love    0.026922\n",
       "1987   happi    0.024570\n",
       "4356   thank    0.023954\n",
       "1877    good    0.020649\n",
       "2843    miss    0.016955\n",
       "3701     sad    0.013981\n",
       "1915   great    0.011855\n",
       "2120    hope    0.010846\n",
       "4029   sorri    0.010607\n",
       "2000    hate    0.010391\n",
       "3031    nice    0.010276\n",
       "355   awesom    0.009583\n",
       "4198    suck    0.008646\n",
       "381      bad    0.007988\n",
       "1601    feel    0.007781\n",
       "2171    hurt    0.007254\n",
       "1760     fun    0.007199\n",
       "2202      im    0.006865\n",
       "4829    wish    0.006621\n",
       "1861      go    0.006613"
      ],
      "text/html": [
       "<div>\n",
       "<style scoped>\n",
       "    .dataframe tbody tr th:only-of-type {\n",
       "        vertical-align: middle;\n",
       "    }\n",
       "\n",
       "    .dataframe tbody tr th {\n",
       "        vertical-align: top;\n",
       "    }\n",
       "\n",
       "    .dataframe thead th {\n",
       "        text-align: right;\n",
       "    }\n",
       "</style>\n",
       "<table border=\"1\" class=\"dataframe\">\n",
       "  <thead>\n",
       "    <tr style=\"text-align: right;\">\n",
       "      <th></th>\n",
       "      <th>feature</th>\n",
       "      <th>importance</th>\n",
       "    </tr>\n",
       "  </thead>\n",
       "  <tbody>\n",
       "    <tr>\n",
       "      <th>2626</th>\n",
       "      <td>love</td>\n",
       "      <td>0.026922</td>\n",
       "    </tr>\n",
       "    <tr>\n",
       "      <th>1987</th>\n",
       "      <td>happi</td>\n",
       "      <td>0.024570</td>\n",
       "    </tr>\n",
       "    <tr>\n",
       "      <th>4356</th>\n",
       "      <td>thank</td>\n",
       "      <td>0.023954</td>\n",
       "    </tr>\n",
       "    <tr>\n",
       "      <th>1877</th>\n",
       "      <td>good</td>\n",
       "      <td>0.020649</td>\n",
       "    </tr>\n",
       "    <tr>\n",
       "      <th>2843</th>\n",
       "      <td>miss</td>\n",
       "      <td>0.016955</td>\n",
       "    </tr>\n",
       "    <tr>\n",
       "      <th>3701</th>\n",
       "      <td>sad</td>\n",
       "      <td>0.013981</td>\n",
       "    </tr>\n",
       "    <tr>\n",
       "      <th>1915</th>\n",
       "      <td>great</td>\n",
       "      <td>0.011855</td>\n",
       "    </tr>\n",
       "    <tr>\n",
       "      <th>2120</th>\n",
       "      <td>hope</td>\n",
       "      <td>0.010846</td>\n",
       "    </tr>\n",
       "    <tr>\n",
       "      <th>4029</th>\n",
       "      <td>sorri</td>\n",
       "      <td>0.010607</td>\n",
       "    </tr>\n",
       "    <tr>\n",
       "      <th>2000</th>\n",
       "      <td>hate</td>\n",
       "      <td>0.010391</td>\n",
       "    </tr>\n",
       "    <tr>\n",
       "      <th>3031</th>\n",
       "      <td>nice</td>\n",
       "      <td>0.010276</td>\n",
       "    </tr>\n",
       "    <tr>\n",
       "      <th>355</th>\n",
       "      <td>awesom</td>\n",
       "      <td>0.009583</td>\n",
       "    </tr>\n",
       "    <tr>\n",
       "      <th>4198</th>\n",
       "      <td>suck</td>\n",
       "      <td>0.008646</td>\n",
       "    </tr>\n",
       "    <tr>\n",
       "      <th>381</th>\n",
       "      <td>bad</td>\n",
       "      <td>0.007988</td>\n",
       "    </tr>\n",
       "    <tr>\n",
       "      <th>1601</th>\n",
       "      <td>feel</td>\n",
       "      <td>0.007781</td>\n",
       "    </tr>\n",
       "    <tr>\n",
       "      <th>2171</th>\n",
       "      <td>hurt</td>\n",
       "      <td>0.007254</td>\n",
       "    </tr>\n",
       "    <tr>\n",
       "      <th>1760</th>\n",
       "      <td>fun</td>\n",
       "      <td>0.007199</td>\n",
       "    </tr>\n",
       "    <tr>\n",
       "      <th>2202</th>\n",
       "      <td>im</td>\n",
       "      <td>0.006865</td>\n",
       "    </tr>\n",
       "    <tr>\n",
       "      <th>4829</th>\n",
       "      <td>wish</td>\n",
       "      <td>0.006621</td>\n",
       "    </tr>\n",
       "    <tr>\n",
       "      <th>1861</th>\n",
       "      <td>go</td>\n",
       "      <td>0.006613</td>\n",
       "    </tr>\n",
       "  </tbody>\n",
       "</table>\n",
       "</div>"
      ]
     },
     "execution_count": 35,
     "metadata": {},
     "output_type": "execute_result"
    }
   ],
   "execution_count": 35
  },
  {
   "metadata": {},
   "cell_type": "markdown",
   "source": "#### Here we can see, that accuracy has become slightly worse in comparison with BoW decision tree."
  },
  {
   "cell_type": "markdown",
   "source": [
    "### Завдання 7. Аналіз помилок класифікації з векторизацією TF-IDF.\n",
    "\n",
    "- Проаналізуйте, на яких екземплярах помиляється класифікатор при векторизації TF-IDF.\n",
    "- На основі аналізу запропонуйте 3 шляхи поліпшення якості класифікації."
   ],
   "metadata": {
    "id": "3zsp9KftOqyS"
   }
  },
  {
   "cell_type": "code",
   "source": [
    "wrong_predictions = (y_test != y_pred_tree_tfidf)\n",
    "wrong_indices = y_test[wrong_predictions].index\n",
    "\n",
    "# Create a dataframe with the mistakes\n",
    "mistakes_df = tweets_df.loc[wrong_indices].copy()\n",
    "mistakes_df['true_label'] = y_test.loc[wrong_indices]\n",
    "mistakes_df['predicted_label'] = y_pred_tree_tfidf[wrong_predictions]\n",
    "\n",
    "# Show 10 random mistakes\n",
    "mistakes_df[['text', 'true_label', 'predicted_label']].sample(10, random_state=42)"
   ],
   "metadata": {
    "id": "RbnvtiL8Y-D-",
    "ExecuteTime": {
     "end_time": "2025-04-25T21:21:30.835942Z",
     "start_time": "2025-04-25T21:21:30.825699Z"
    }
   },
   "outputs": [
    {
     "data": {
      "text/plain": [
       "                                                    text true_label  \\\n",
       "7890                            No free ice cream though   negative   \n",
       "4035   contemplating whether or not I will go to prom...    neutral   \n",
       "13626   he thinks he`s a gangsterrr  his **** don`t e...   negative   \n",
       "26805  Getting AxKit running on Ubuntu 8.04 is making...   negative   \n",
       "10245  Feet hurt...finally in bed...will not forget t...   negative   \n",
       "22133  _O Awesome! My family owns it...The Flowers.. ...   positive   \n",
       "517     He says he feels mama tucking him in at night...   negative   \n",
       "8957   Woke up to the sound of my neighbor getting a ...    neutral   \n",
       "3674    i misss youhhhhhhh ci! Tell dem japenese ppl ...   negative   \n",
       "19450   oh you crazy kids and your stress. try effed ...    neutral   \n",
       "\n",
       "      predicted_label  \n",
       "7890          neutral  \n",
       "4035         positive  \n",
       "13626         neutral  \n",
       "26805         neutral  \n",
       "10245         neutral  \n",
       "22133         neutral  \n",
       "517           neutral  \n",
       "8957         negative  \n",
       "3674          neutral  \n",
       "19450        negative  "
      ],
      "text/html": [
       "<div>\n",
       "<style scoped>\n",
       "    .dataframe tbody tr th:only-of-type {\n",
       "        vertical-align: middle;\n",
       "    }\n",
       "\n",
       "    .dataframe tbody tr th {\n",
       "        vertical-align: top;\n",
       "    }\n",
       "\n",
       "    .dataframe thead th {\n",
       "        text-align: right;\n",
       "    }\n",
       "</style>\n",
       "<table border=\"1\" class=\"dataframe\">\n",
       "  <thead>\n",
       "    <tr style=\"text-align: right;\">\n",
       "      <th></th>\n",
       "      <th>text</th>\n",
       "      <th>true_label</th>\n",
       "      <th>predicted_label</th>\n",
       "    </tr>\n",
       "  </thead>\n",
       "  <tbody>\n",
       "    <tr>\n",
       "      <th>7890</th>\n",
       "      <td>No free ice cream though</td>\n",
       "      <td>negative</td>\n",
       "      <td>neutral</td>\n",
       "    </tr>\n",
       "    <tr>\n",
       "      <th>4035</th>\n",
       "      <td>contemplating whether or not I will go to prom...</td>\n",
       "      <td>neutral</td>\n",
       "      <td>positive</td>\n",
       "    </tr>\n",
       "    <tr>\n",
       "      <th>13626</th>\n",
       "      <td>he thinks he`s a gangsterrr  his **** don`t e...</td>\n",
       "      <td>negative</td>\n",
       "      <td>neutral</td>\n",
       "    </tr>\n",
       "    <tr>\n",
       "      <th>26805</th>\n",
       "      <td>Getting AxKit running on Ubuntu 8.04 is making...</td>\n",
       "      <td>negative</td>\n",
       "      <td>neutral</td>\n",
       "    </tr>\n",
       "    <tr>\n",
       "      <th>10245</th>\n",
       "      <td>Feet hurt...finally in bed...will not forget t...</td>\n",
       "      <td>negative</td>\n",
       "      <td>neutral</td>\n",
       "    </tr>\n",
       "    <tr>\n",
       "      <th>22133</th>\n",
       "      <td>_O Awesome! My family owns it...The Flowers.. ...</td>\n",
       "      <td>positive</td>\n",
       "      <td>neutral</td>\n",
       "    </tr>\n",
       "    <tr>\n",
       "      <th>517</th>\n",
       "      <td>He says he feels mama tucking him in at night...</td>\n",
       "      <td>negative</td>\n",
       "      <td>neutral</td>\n",
       "    </tr>\n",
       "    <tr>\n",
       "      <th>8957</th>\n",
       "      <td>Woke up to the sound of my neighbor getting a ...</td>\n",
       "      <td>neutral</td>\n",
       "      <td>negative</td>\n",
       "    </tr>\n",
       "    <tr>\n",
       "      <th>3674</th>\n",
       "      <td>i misss youhhhhhhh ci! Tell dem japenese ppl ...</td>\n",
       "      <td>negative</td>\n",
       "      <td>neutral</td>\n",
       "    </tr>\n",
       "    <tr>\n",
       "      <th>19450</th>\n",
       "      <td>oh you crazy kids and your stress. try effed ...</td>\n",
       "      <td>neutral</td>\n",
       "      <td>negative</td>\n",
       "    </tr>\n",
       "  </tbody>\n",
       "</table>\n",
       "</div>"
      ]
     },
     "execution_count": 40,
     "metadata": {},
     "output_type": "execute_result"
    }
   ],
   "execution_count": 40
  },
  {
   "metadata": {},
   "cell_type": "markdown",
   "source": [
    "After analyzing misclassified examples, we observe that:\n",
    "\n",
    "   - Some tweets were very short, making it hard to detect sentiment.\n",
    "   - Some tweets used sarcasm or irony, which simple models don’t understand.\n",
    "   - Some texts contained unusual characters or typos.\n",
    "\n",
    "Ways to improve:\n",
    "\n",
    "   - Improve text preprocessing by normalizing spelling and handling special characters better.\n",
    "   - Use more powerful models such as Gradient Boosting, or fine-tune pre-trained language models like BERT.\n",
    "   - Enrich the dataset with external data or perform data augmentation to handle more diverse linguistic patterns."
   ]
  },
  {
   "cell_type": "markdown",
   "source": [
    "І на фінал кернел для натхнення і ознайомлення з рішенням оригінальної задачі. Багато цікавих візуалізацій і аналізу є тут, а також тут розвʼязується саме проблема named entitty recognition і можна ознайомитись як це робиться - вона дещо складніша по своїй суті ніж класифікація, подумайте, чому:\n",
    "\n",
    "https://www.kaggle.com/code/tanulsingh077/twitter-sentiment-extaction-analysis-eda-and-model"
   ],
   "metadata": {
    "id": "lFi4VWwjRS3h"
   }
  },
  {
   "metadata": {},
   "cell_type": "code",
   "outputs": [],
   "execution_count": null,
   "source": ""
  }
 ]
}
