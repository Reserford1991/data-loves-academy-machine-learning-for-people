{
 "cells": [
  {
   "cell_type": "markdown",
   "metadata": {
    "id": "xBxqzN1eJHO0"
   },
   "source": [
    "# Імпорт необхідних бібліотек"
   ]
  },
  {
   "cell_type": "code",
   "metadata": {
    "execution": {
     "iopub.execute_input": "2021-07-13T08:25:13.705346Z",
     "iopub.status.busy": "2021-07-13T08:25:13.705053Z",
     "iopub.status.idle": "2021-07-13T08:25:14.62265Z",
     "shell.execute_reply": "2021-07-13T08:25:14.622037Z",
     "shell.execute_reply.started": "2021-07-13T08:25:13.705321Z"
    },
    "id": "EFrTCGKmJHO1"
   },
   "source": [
    "import numpy as np\n",
    "import pandas as pd\n",
    "import matplotlib.pyplot as plt\n",
    "import seaborn as sns\n",
    "\n",
    "pd.set_option('display.max.rows',130)\n",
    "pd.set_option('display.max.columns',130)\n",
    "pd.set_option('float_format', '{:.2f}'.format)"
   ],
   "outputs": [],
   "execution_count": null
  },
  {
   "cell_type": "markdown",
   "metadata": {
    "id": "UqkFbukQJHO1"
   },
   "source": [
    "# Імпорт даних"
   ]
  },
  {
   "cell_type": "markdown",
   "metadata": {
    "id": "UVZF6gws2aZo"
   },
   "source": [
    "Вмонтуємо наш диск, якщо Ви працюєте в Google Colab. Якщо працюєте локально, пропустіть наступну клітинку."
   ]
  },
  {
   "cell_type": "code",
   "metadata": {
    "colab": {
     "base_uri": "https://localhost:8080/"
    },
    "id": "UPDUbZtYW8S5",
    "outputId": "9c697562-e4a5-4cd0-ab60-2e6f709eec11"
   },
   "source": [
    "# from google.colab import drive\n",
    "# drive.mount('/content/drive')"
   ],
   "outputs": [],
   "execution_count": null
  },
  {
   "cell_type": "markdown",
   "metadata": {
    "id": "Ke1f9Q2N2ndh"
   },
   "source": [
    "Знайдемо, де лежать наші файли з даними. В мене вони знаходяться тут:"
   ]
  },
  {
   "cell_type": "code",
   "metadata": {
    "colab": {
     "base_uri": "https://localhost:8080/"
    },
    "id": "zWZKk7wwXDah",
    "outputId": "ffec5953-1bd9-4824-f09a-d92768abc9d7"
   },
   "source": [
    "# !ls drive/MyDrive/Machine\\ Learning\\ для\\ людей/data/credit"
   ],
   "outputs": [],
   "execution_count": null
  },
  {
   "cell_type": "markdown",
   "metadata": {
    "id": "2hucePnm2rlZ"
   },
   "source": [
    "Зчитуємо дані."
   ]
  },
  {
   "cell_type": "code",
   "metadata": {
    "execution": {
     "iopub.execute_input": "2021-07-13T08:25:14.62397Z",
     "iopub.status.busy": "2021-07-13T08:25:14.623608Z",
     "iopub.status.idle": "2021-07-13T08:25:20.157433Z",
     "shell.execute_reply": "2021-07-13T08:25:20.156773Z",
     "shell.execute_reply.started": "2021-07-13T08:25:14.623945Z"
    },
    "id": "Yi1QKBE5JHO1"
   },
   "source": [
    "df = pd.read_csv(\"application_data.csv.zip\")"
   ],
   "outputs": [],
   "execution_count": null
  },
  {
   "cell_type": "code",
   "metadata": {
    "colab": {
     "base_uri": "https://localhost:8080/",
     "height": 295
    },
    "execution": {
     "iopub.execute_input": "2021-07-13T08:25:20.159076Z",
     "iopub.status.busy": "2021-07-13T08:25:20.158721Z",
     "iopub.status.idle": "2021-07-13T08:25:20.237509Z",
     "shell.execute_reply": "2021-07-13T08:25:20.236919Z",
     "shell.execute_reply.started": "2021-07-13T08:25:20.15905Z"
    },
    "id": "0d078OkxJHO2",
    "outputId": "962abcff-601d-471f-b7ae-6074ce4c7582"
   },
   "source": [
    "# Огляд декількох записів з датафрейму\n",
    "df.head()"
   ],
   "outputs": [],
   "execution_count": null
  },
  {
   "cell_type": "markdown",
   "metadata": {
    "id": "JOoyJ7GeJHO2"
   },
   "source": [
    "# Перевірка структури даних"
   ]
  },
  {
   "cell_type": "code",
   "metadata": {
    "colab": {
     "base_uri": "https://localhost:8080/"
    },
    "execution": {
     "iopub.execute_input": "2021-07-13T08:25:20.238974Z",
     "iopub.status.busy": "2021-07-13T08:25:20.238598Z",
     "iopub.status.idle": "2021-07-13T08:25:20.744842Z",
     "shell.execute_reply": "2021-07-13T08:25:20.743944Z",
     "shell.execute_reply.started": "2021-07-13T08:25:20.238946Z"
    },
    "id": "cGp-gCtuJHO3",
    "outputId": "8046bba5-6531-481e-d8f3-0bb133c3b66e"
   },
   "source": [
    "df.info(verbose = True, show_counts = True)"
   ],
   "outputs": [],
   "execution_count": null
  },
  {
   "cell_type": "code",
   "metadata": {
    "colab": {
     "base_uri": "https://localhost:8080/"
    },
    "execution": {
     "iopub.execute_input": "2021-07-13T08:25:20.746238Z",
     "iopub.status.busy": "2021-07-13T08:25:20.74596Z",
     "iopub.status.idle": "2021-07-13T08:25:20.752196Z",
     "shell.execute_reply": "2021-07-13T08:25:20.751091Z",
     "shell.execute_reply.started": "2021-07-13T08:25:20.746211Z"
    },
    "id": "cpydzGOcJHO3",
    "outputId": "bdbdefc6-4479-4895-82d3-7311c4ff1b96"
   },
   "source": [
    "df.shape"
   ],
   "outputs": [],
   "execution_count": null
  },
  {
   "cell_type": "markdown",
   "metadata": {
    "id": "X49HeIauJHO3"
   },
   "source": [
    "Маємо ~307k рядків та 122 колонки."
   ]
  },
  {
   "cell_type": "markdown",
   "metadata": {
    "id": "CVlarW6CJHO4"
   },
   "source": [
    "## Статистичний звіт для числових змінних"
   ]
  },
  {
   "metadata": {},
   "cell_type": "code",
   "source": "df.describe()",
   "outputs": [],
   "execution_count": null
  },
  {
   "cell_type": "markdown",
   "metadata": {
    "id": "2cu2dRrmJHO4"
   },
   "source": [
    "# Аналіз категоріальних змінних"
   ]
  },
  {
   "cell_type": "code",
   "metadata": {
    "colab": {
     "base_uri": "https://localhost:8080/"
    },
    "execution": {
     "iopub.execute_input": "2021-07-13T08:25:22.002494Z",
     "iopub.status.busy": "2021-07-13T08:25:22.002111Z",
     "iopub.status.idle": "2021-07-13T08:25:22.045101Z",
     "shell.execute_reply": "2021-07-13T08:25:22.044381Z",
     "shell.execute_reply.started": "2021-07-13T08:25:22.002459Z"
    },
    "id": "pP3aCeYEJHO4",
    "outputId": "61a6fa36-974d-4a21-a020-1d8bcb8f241b"
   },
   "source": [
    "df.select_dtypes(include = \"object\").columns"
   ],
   "outputs": [],
   "execution_count": null
  },
  {
   "cell_type": "code",
   "metadata": {
    "colab": {
     "base_uri": "https://localhost:8080/"
    },
    "execution": {
     "iopub.execute_input": "2021-07-13T08:25:22.047597Z",
     "iopub.status.busy": "2021-07-13T08:25:22.047332Z",
     "iopub.status.idle": "2021-07-13T08:25:22.08876Z",
     "shell.execute_reply": "2021-07-13T08:25:22.087939Z",
     "shell.execute_reply.started": "2021-07-13T08:25:22.047572Z"
    },
    "id": "l80TNKrxJHO4",
    "outputId": "5dbed3d1-e59c-4444-e719-4cea79caf566"
   },
   "source": [
    "# Перевірка кількості категоріальних змінних\n",
    "len(df.select_dtypes(include = \"object\").columns)"
   ],
   "outputs": [],
   "execution_count": null
  },
  {
   "cell_type": "markdown",
   "metadata": {
    "id": "cR-wTxeeJHO5"
   },
   "source": [
    "Дані містять 16 `categorical` змінних"
   ]
  },
  {
   "cell_type": "markdown",
   "metadata": {
    "id": "mndn7f-AJHO5"
   },
   "source": [
    "# Аналіз числових змінних"
   ]
  },
  {
   "cell_type": "code",
   "metadata": {
    "id": "2DgxDoX7c-a-"
   },
   "source": [
    "number_df = df.select_dtypes(include=\"number\")"
   ],
   "outputs": [],
   "execution_count": null
  },
  {
   "cell_type": "code",
   "metadata": {
    "colab": {
     "base_uri": "https://localhost:8080/"
    },
    "execution": {
     "iopub.execute_input": "2021-07-13T08:25:22.090731Z",
     "iopub.status.busy": "2021-07-13T08:25:22.090444Z",
     "iopub.status.idle": "2021-07-13T08:25:22.167607Z",
     "shell.execute_reply": "2021-07-13T08:25:22.166565Z",
     "shell.execute_reply.started": "2021-07-13T08:25:22.090705Z"
    },
    "id": "aWKKRjVtJHO5",
    "outputId": "a3f1c33e-b0c1-449c-bdbc-53e6ba796a9c"
   },
   "source": [
    "number_df.columns"
   ],
   "outputs": [],
   "execution_count": null
  },
  {
   "cell_type": "code",
   "metadata": {
    "colab": {
     "base_uri": "https://localhost:8080/"
    },
    "execution": {
     "iopub.execute_input": "2021-07-13T08:25:22.169414Z",
     "iopub.status.busy": "2021-07-13T08:25:22.169097Z",
     "iopub.status.idle": "2021-07-13T08:25:22.250794Z",
     "shell.execute_reply": "2021-07-13T08:25:22.249835Z",
     "shell.execute_reply.started": "2021-07-13T08:25:22.169386Z"
    },
    "id": "0Gw5f2RdJHO5",
    "outputId": "27c439b2-9790-4419-c261-e3ca44c53835",
    "scrolled": true
   },
   "source": [
    "# Перевірка кількості числових змінних\n",
    "len(number_df.columns)"
   ],
   "outputs": [],
   "execution_count": null
  },
  {
   "cell_type": "markdown",
   "metadata": {
    "id": "0W8cbgnHJHO5"
   },
   "source": [
    "Дані міcтять 106 `numerical` змінних"
   ]
  },
  {
   "cell_type": "code",
   "metadata": {
    "colab": {
     "base_uri": "https://localhost:8080/",
     "height": 226
    },
    "execution": {
     "iopub.execute_input": "2021-07-13T08:25:22.252582Z",
     "iopub.status.busy": "2021-07-13T08:25:22.252286Z",
     "iopub.status.idle": "2021-07-13T08:25:22.425276Z",
     "shell.execute_reply": "2021-07-13T08:25:22.424372Z",
     "shell.execute_reply.started": "2021-07-13T08:25:22.252556Z"
    },
    "id": "4jn0WVzNJHO5",
    "outputId": "46a60703-a07e-42e1-eea7-324976b2bbc7",
    "scrolled": true
   },
   "source": [
    "number_df.head()"
   ],
   "outputs": [],
   "execution_count": null
  },
  {
   "cell_type": "markdown",
   "metadata": {
    "id": "QChGGf3jJHO5"
   },
   "source": [
    "# Робота з некоректними типами даних"
   ]
  },
  {
   "cell_type": "markdown",
   "metadata": {
    "id": "LnRPrSqcJHO6"
   },
   "source": [
    "Перевірка, чи немає у нас стовпця з неправильним типом даних"
   ]
  },
  {
   "cell_type": "code",
   "metadata": {
    "colab": {
     "base_uri": "https://localhost:8080/"
    },
    "execution": {
     "iopub.execute_input": "2021-07-13T08:25:22.426668Z",
     "iopub.status.busy": "2021-07-13T08:25:22.426394Z",
     "iopub.status.idle": "2021-07-13T08:25:22.437809Z",
     "shell.execute_reply": "2021-07-13T08:25:22.436796Z",
     "shell.execute_reply.started": "2021-07-13T08:25:22.426641Z"
    },
    "id": "d5kI_qq2JHO6",
    "outputId": "084eb852-d715-4aa3-9848-8198bf1b359d"
   },
   "source": [
    "df.dtypes"
   ],
   "outputs": [],
   "execution_count": null
  },
  {
   "cell_type": "markdown",
   "metadata": {
    "id": "vGIKONcJJHO6"
   },
   "source": [
    "Дивлячись на дані та відповідні їм типи даних, можна змінити\n",
    "\n",
    "1.   Елемент списку\n",
    "2.   Елемент списку\n",
    "\n",
    "тип стовпчика SKU."
   ]
  },
  {
   "cell_type": "code",
   "metadata": {
    "id": "nBsdubuedm_2"
   },
   "source": "df['SK_ID_CURR'] = df['SK_ID_CURR'].astype(\"str\")",
   "outputs": [],
   "execution_count": null
  },
  {
   "cell_type": "markdown",
   "metadata": {
    "id": "N6iqMw3tdzD7"
   },
   "source": [
    "Також ми можемо змінити всі стовпці `flag` на тип даних, який є більш економний для зберігання."
   ]
  },
  {
   "cell_type": "markdown",
   "metadata": {
    "id": "NcsS7h8ogdTo"
   },
   "source": [
    "Ось скільки пам'яті в Мб займають наші дані зараз."
   ]
  },
  {
   "cell_type": "code",
   "metadata": {
    "colab": {
     "base_uri": "https://localhost:8080/"
    },
    "id": "-ipM8FQGeOoK",
    "outputId": "892312e0-efbb-4207-c340-2173385bc548"
   },
   "source": [
    "df.memory_usage().sum()/1024/1024"
   ],
   "outputs": [],
   "execution_count": null
  },
  {
   "cell_type": "markdown",
   "metadata": {
    "id": "2QCw34JagYt3"
   },
   "source": [
    "Отже, ми можемо потенційно заощадити 57 Мб пам'яті! І трансформувати наш фрейм даних буде простіше. Давайте змінимо тип.\n"
   ]
  },
  {
   "cell_type": "code",
   "metadata": {
    "id": "IwutODE3d83T"
   },
   "source": [
    "flag_cols = ['flag' in col.lower() for col in df.columns]"
   ],
   "outputs": [],
   "execution_count": null
  },
  {
   "cell_type": "code",
   "metadata": {
    "colab": {
     "base_uri": "https://localhost:8080/",
     "height": 226
    },
    "id": "_PAwJI-ifQuS",
    "outputId": "91a93bf6-8ba7-425f-b23c-f63bbfaad68b"
   },
   "source": [
    "df[df.columns[flag_cols]].head()"
   ],
   "outputs": [],
   "execution_count": null
  },
  {
   "cell_type": "code",
   "metadata": {
    "colab": {
     "base_uri": "https://localhost:8080/"
    },
    "id": "ecM5t39GeGwc",
    "outputId": "a414b879-cd49-46f7-94a1-861aa25e7273"
   },
   "source": [
    "df[df.columns[flag_cols]].nunique()"
   ],
   "outputs": [],
   "execution_count": null
  },
  {
   "cell_type": "markdown",
   "metadata": {
    "id": "6cGeY6wVfAFF"
   },
   "source": [
    "Типи даних в pandas взяті з numpy, і ось тут список всіх типів даних в numpy:\n",
    "\n",
    "https://numpy.org/doc/stable/user/basics.types.html\n",
    "\n",
    "Кожен тип даних займає певну кількість байт у пам'яті. Давайте з'ясуємо, скільки займає 1 тип int8 та 1 тип int64 і скільки пам'яті ми заощадимо, якщо змінимо тип."
   ]
  },
  {
   "cell_type": "code",
   "metadata": {
    "id": "8TWm4JWme-9_"
   },
   "source": [
    "import numpy as np\n",
    "from sys import getsizeof"
   ],
   "outputs": [],
   "execution_count": null
  },
  {
   "cell_type": "code",
   "metadata": {
    "colab": {
     "base_uri": "https://localhost:8080/"
    },
    "id": "LKHLb97lfoOX",
    "outputId": "efb71611-bed5-4401-e4d7-3c32d6fbf177"
   },
   "source": [
    "getsizeof(np.int64(1))"
   ],
   "outputs": [],
   "execution_count": null
  },
  {
   "cell_type": "code",
   "metadata": {
    "colab": {
     "base_uri": "https://localhost:8080/"
    },
    "id": "m5kRatWcfXCi",
    "outputId": "05e783a1-b279-4342-b5da-7f149826a44d"
   },
   "source": [
    "getsizeof(np.int8(1))"
   ],
   "outputs": [],
   "execution_count": null
  },
  {
   "cell_type": "code",
   "metadata": {
    "colab": {
     "base_uri": "https://localhost:8080/"
    },
    "id": "hf6vMkEtfvbG",
    "outputId": "ea72cf2d-3645-450b-fdb9-928498c13819"
   },
   "source": [
    "7 * df.shape[0] * sum(flag_cols) / 1024 / 1024"
   ],
   "outputs": [],
   "execution_count": null
  },
  {
   "cell_type": "code",
   "metadata": {
    "id": "2MTF_qDShNUC"
   },
   "source": [
    "str_flag_cols = ['FLAG_OWN_CAR', 'FLAG_OWN_REALTY']"
   ],
   "outputs": [],
   "execution_count": null
  },
  {
   "cell_type": "code",
   "metadata": {
    "id": "YmK5rVacgwYf"
   },
   "source": [
    "for col in str_flag_cols:\n",
    "  df[col] = np.where(df[col]=='Y', 1, 0)"
   ],
   "outputs": [],
   "execution_count": null
  },
  {
   "cell_type": "code",
   "metadata": {
    "colab": {
     "base_uri": "https://localhost:8080/"
    },
    "id": "1e9eqlElhbbt",
    "outputId": "4c721aa1-283f-400c-d24b-65c7ac85eb9d"
   },
   "source": [
    "df[str_flag_cols].nunique()"
   ],
   "outputs": [],
   "execution_count": null
  },
  {
   "cell_type": "code",
   "metadata": {
    "id": "6-U5COi-gmh5"
   },
   "source": [
    "df[df.columns[flag_cols]] = df[df.columns[flag_cols]].astype('int8')"
   ],
   "outputs": [],
   "execution_count": null
  },
  {
   "cell_type": "code",
   "metadata": {
    "colab": {
     "base_uri": "https://localhost:8080/"
    },
    "id": "05TeeLppia2D",
    "outputId": "c60788ca-9feb-490c-9158-cd366030686a"
   },
   "source": [
    "df.memory_usage().sum()/1024/1024"
   ],
   "outputs": [],
   "execution_count": null
  },
  {
   "cell_type": "markdown",
   "metadata": {
    "id": "OFzUNjBNJHO6"
   },
   "source": [
    "# Робота з пропущеними значеннями"
   ]
  },
  {
   "cell_type": "markdown",
   "metadata": {
    "id": "M4zMalCr4VOL"
   },
   "source": [
    "Найпростіше емпіричне правило для опрацювання пропущених значень: якщо пропущених значень більше за 40% - видаляємо колонку, якщо менше за 40% - аналізуємо, як можна заповнити і чи треба.\n",
    "\n",
    "Зазвичай, якщо відсоток пропущених даних більший за 10 і немає чіткої (яка значно виділяється) моди (найчастішого) значення в даних, то лишаємо дані як є до використання методів машинного навчання. Далі якщо метод вимагає заповення пропущених значень, можемо експериментувати із заповеннями. Також хорошою практикою є створити окрему колонку-флаг (0/1), яка вказує, де були пропущені значення - це буде додаткова ознака для моделі.\n"
   ]
  },
  {
   "cell_type": "markdown",
   "metadata": {
    "id": "gozIWOQGJHO6"
   },
   "source": [
    "Перевіримо, чи немає нульових значень в нашому наборі даних"
   ]
  },
  {
   "cell_type": "code",
   "metadata": {
    "colab": {
     "base_uri": "https://localhost:8080/"
    },
    "execution": {
     "iopub.execute_input": "2021-07-13T08:25:22.531885Z",
     "iopub.status.busy": "2021-07-13T08:25:22.531538Z",
     "iopub.status.idle": "2021-07-13T08:25:22.991604Z",
     "shell.execute_reply": "2021-07-13T08:25:22.990736Z",
     "shell.execute_reply.started": "2021-07-13T08:25:22.531847Z"
    },
    "id": "_XDVLOs1JHO6",
    "outputId": "465d0c4c-5290-4bb0-fbce-d7cf208be534"
   },
   "source": [
    "df.isnull().values.any()"
   ],
   "outputs": [],
   "execution_count": null
  },
  {
   "cell_type": "markdown",
   "metadata": {
    "id": "o76CTh7eJHO7"
   },
   "source": [
    "Порахуємо загальну кількість нульових значень в наборі даних"
   ]
  },
  {
   "cell_type": "code",
   "metadata": {
    "colab": {
     "base_uri": "https://localhost:8080/"
    },
    "execution": {
     "iopub.execute_input": "2021-07-13T08:25:22.993202Z",
     "iopub.status.busy": "2021-07-13T08:25:22.992721Z",
     "iopub.status.idle": "2021-07-13T08:25:23.471931Z",
     "shell.execute_reply": "2021-07-13T08:25:23.471048Z",
     "shell.execute_reply.started": "2021-07-13T08:25:22.993132Z"
    },
    "id": "KsSWN9F8JHO7",
    "outputId": "79ba1601-8e47-4924-9696-5901edbb5d70"
   },
   "source": [
    "df.isnull().values.sum()"
   ],
   "outputs": [],
   "execution_count": null
  },
  {
   "cell_type": "markdown",
   "metadata": {
    "id": "L3f7Be4RJHO7"
   },
   "source": [
    "Сформуємо список із стовпців з нульовими значеннями"
   ]
  },
  {
   "cell_type": "code",
   "metadata": {
    "colab": {
     "base_uri": "https://localhost:8080/"
    },
    "execution": {
     "iopub.execute_input": "2021-07-13T08:25:23.473588Z",
     "iopub.status.busy": "2021-07-13T08:25:23.473197Z",
     "iopub.status.idle": "2021-07-13T08:25:23.901028Z",
     "shell.execute_reply": "2021-07-13T08:25:23.900166Z",
     "shell.execute_reply.started": "2021-07-13T08:25:23.473548Z"
    },
    "id": "f3tbvutrJHO7",
    "outputId": "65b8ca2e-20e7-4473-e227-8bf1f1aa27c7"
   },
   "source": [
    "df.columns[df.isnull().any()]"
   ],
   "outputs": [],
   "execution_count": null
  },
  {
   "cell_type": "code",
   "metadata": {
    "colab": {
     "base_uri": "https://localhost:8080/"
    },
    "execution": {
     "iopub.execute_input": "2021-07-13T08:25:23.902325Z",
     "iopub.status.busy": "2021-07-13T08:25:23.902068Z",
     "iopub.status.idle": "2021-07-13T08:25:24.327355Z",
     "shell.execute_reply": "2021-07-13T08:25:24.326419Z",
     "shell.execute_reply.started": "2021-07-13T08:25:23.902301Z"
    },
    "id": "PVmjCdxpJHO7",
    "outputId": "8e1b884f-4185-4ac2-ccf0-9bf1a93207c4",
    "scrolled": true
   },
   "source": [
    "len(df.columns[df.isnull().any()])"
   ],
   "outputs": [],
   "execution_count": null
  },
  {
   "cell_type": "markdown",
   "metadata": {
    "id": "lY7iWOSxJHO7"
   },
   "source": [
    "Усього `67` стовпців мають одне або більше NULL-значень в даних"
   ]
  },
  {
   "cell_type": "markdown",
   "metadata": {
    "id": "6w0-3IioJHO7"
   },
   "source": [
    "## Кількість та відсоток пропущених значень у стовпцях"
   ]
  },
  {
   "cell_type": "code",
   "metadata": {
    "execution": {
     "iopub.execute_input": "2021-07-13T08:25:24.329002Z",
     "iopub.status.busy": "2021-07-13T08:25:24.328626Z",
     "iopub.status.idle": "2021-07-13T08:25:25.282233Z",
     "shell.execute_reply": "2021-07-13T08:25:25.281356Z",
     "shell.execute_reply.started": "2021-07-13T08:25:24.328963Z"
    },
    "id": "PtfvMyDkJHPB"
   },
   "source": [
    "null_count = df.isnull().sum()\n",
    "null_percentage = round((df.isnull().sum()/df.shape[0])*100, 2)"
   ],
   "outputs": [],
   "execution_count": null
  },
  {
   "cell_type": "code",
   "metadata": {
    "execution": {
     "iopub.execute_input": "2021-07-13T08:25:25.283981Z",
     "iopub.status.busy": "2021-07-13T08:25:25.283586Z",
     "iopub.status.idle": "2021-07-13T08:25:25.292971Z",
     "shell.execute_reply": "2021-07-13T08:25:25.292007Z",
     "shell.execute_reply.started": "2021-07-13T08:25:25.283934Z"
    },
    "id": "uXmpXKf4JHPB"
   },
   "source": [
    "null_df = pd.DataFrame({'column_name' : df.columns,'null_count' : null_count,'null_percentage': null_percentage})\n",
    "null_df.reset_index(drop = True, inplace = True)"
   ],
   "outputs": [],
   "execution_count": null
  },
  {
   "cell_type": "code",
   "metadata": {
    "colab": {
     "base_uri": "https://localhost:8080/",
     "height": 1000
    },
    "execution": {
     "iopub.execute_input": "2021-07-13T08:25:25.295491Z",
     "iopub.status.busy": "2021-07-13T08:25:25.295097Z",
     "iopub.status.idle": "2021-07-13T08:25:25.320404Z",
     "shell.execute_reply": "2021-07-13T08:25:25.319721Z",
     "shell.execute_reply.started": "2021-07-13T08:25:25.295455Z"
    },
    "id": "sMoDxIndJHPB",
    "outputId": "d2fc2120-f20d-4e07-d967-b669654f6766"
   },
   "source": [
    "null_df.sort_values(by = 'null_percentage', ascending = False)"
   ],
   "outputs": [],
   "execution_count": null
  },
  {
   "cell_type": "markdown",
   "metadata": {
    "id": "rVgRZYTLJHPB"
   },
   "source": [
    "## Видалення стовпців з NULL значеннями > 40%"
   ]
  },
  {
   "cell_type": "markdown",
   "metadata": {
    "id": "PxvYVHrWJHPB"
   },
   "source": [
    "Сформуємо список стовпців з NULL значеннями > 40% у список. Ми видалимо ці стовпці з датафрейму, оскільки в них занадто багато пропущених значень."
   ]
  },
  {
   "cell_type": "code",
   "metadata": {
    "execution": {
     "iopub.execute_input": "2021-07-13T08:25:25.321766Z",
     "iopub.status.busy": "2021-07-13T08:25:25.321411Z",
     "iopub.status.idle": "2021-07-13T08:25:25.330563Z",
     "shell.execute_reply": "2021-07-13T08:25:25.329577Z",
     "shell.execute_reply.started": "2021-07-13T08:25:25.321739Z"
    },
    "id": "1X06jQS9JHPB"
   },
   "source": [
    "columns_to_be_deleted = null_df[null_df['null_percentage'] > 40].column_name.to_list()"
   ],
   "outputs": [],
   "execution_count": null
  },
  {
   "cell_type": "code",
   "metadata": {
    "colab": {
     "base_uri": "https://localhost:8080/"
    },
    "execution": {
     "iopub.execute_input": "2021-07-13T08:25:25.348835Z",
     "iopub.status.busy": "2021-07-13T08:25:25.348549Z",
     "iopub.status.idle": "2021-07-13T08:25:25.353936Z",
     "shell.execute_reply": "2021-07-13T08:25:25.35302Z",
     "shell.execute_reply.started": "2021-07-13T08:25:25.348806Z"
    },
    "id": "GdvFHBJVJHPC",
    "outputId": "6e4d0fab-0d39-48ba-d2f2-553687561f27"
   },
   "source": [
    "len(columns_to_be_deleted)"
   ],
   "outputs": [],
   "execution_count": null
  },
  {
   "cell_type": "markdown",
   "metadata": {
    "id": "zZDMfF-zJHPC"
   },
   "source": [
    "Всього потрібно видалити `49` стовпців. Видалення їх з основного датафрейму **`df`**"
   ]
  },
  {
   "cell_type": "code",
   "metadata": {
    "execution": {
     "iopub.execute_input": "2021-07-13T08:25:25.356427Z",
     "iopub.status.busy": "2021-07-13T08:25:25.356126Z",
     "iopub.status.idle": "2021-07-13T08:25:25.431792Z",
     "shell.execute_reply": "2021-07-13T08:25:25.431084Z",
     "shell.execute_reply.started": "2021-07-13T08:25:25.356402Z"
    },
    "id": "t1oTE8lTJHPC"
   },
   "source": [
    "df.drop(columns = columns_to_be_deleted, inplace = True)"
   ],
   "outputs": [],
   "execution_count": null
  },
  {
   "cell_type": "markdown",
   "metadata": {
    "id": "5spy57mRJHPC"
   },
   "source": [
    "Перевірка підрахунку стовпців після видалення. Мало б залишитись лише `73` стовпці"
   ]
  },
  {
   "cell_type": "code",
   "metadata": {
    "colab": {
     "base_uri": "https://localhost:8080/"
    },
    "execution": {
     "iopub.execute_input": "2021-07-13T08:25:25.433002Z",
     "iopub.status.busy": "2021-07-13T08:25:25.432778Z",
     "iopub.status.idle": "2021-07-13T08:25:25.43874Z",
     "shell.execute_reply": "2021-07-13T08:25:25.437813Z",
     "shell.execute_reply.started": "2021-07-13T08:25:25.432979Z"
    },
    "id": "3ePhhPJlJHPC",
    "outputId": "0a39842a-8ba7-4745-8a55-b5632097f66a"
   },
   "source": [
    "df.shape"
   ],
   "outputs": [],
   "execution_count": null
  },
  {
   "cell_type": "markdown",
   "metadata": {
    "id": "OFYObMBZJHPC"
   },
   "source": [
    "## Перевірка стовпців з NULL значеннями < 40%"
   ]
  },
  {
   "cell_type": "markdown",
   "metadata": {
    "id": "wfH4zj-AJHPC"
   },
   "source": [
    "Створення датафрейму `null_df_under40` зі стовпцями, де відсоток пропущених значеннь менше 40%"
   ]
  },
  {
   "cell_type": "code",
   "metadata": {
    "execution": {
     "iopub.execute_input": "2021-07-13T08:25:25.440618Z",
     "iopub.status.busy": "2021-07-13T08:25:25.440206Z",
     "iopub.status.idle": "2021-07-13T08:25:25.449377Z",
     "shell.execute_reply": "2021-07-13T08:25:25.448579Z",
     "shell.execute_reply.started": "2021-07-13T08:25:25.440566Z"
    },
    "id": "OPB6RSGEJHPD"
   },
   "source": [
    "null_df_under40 = null_df[null_df['null_percentage'] < 40]"
   ],
   "outputs": [],
   "execution_count": null
  },
  {
   "cell_type": "code",
   "metadata": {
    "colab": {
     "base_uri": "https://localhost:8080/",
     "height": 1000
    },
    "execution": {
     "iopub.execute_input": "2021-07-13T08:25:25.451079Z",
     "iopub.status.busy": "2021-07-13T08:25:25.450697Z",
     "iopub.status.idle": "2021-07-13T08:25:25.475249Z",
     "shell.execute_reply": "2021-07-13T08:25:25.474417Z",
     "shell.execute_reply.started": "2021-07-13T08:25:25.45104Z"
    },
    "id": "OBCOEyG1JHPD",
    "outputId": "6abef2e8-00e9-49b4-9a63-6668fc03c992"
   },
   "source": [
    "null_df_under40.sort_values(by = 'null_percentage', ascending = False)"
   ],
   "outputs": [],
   "execution_count": null
  },
  {
   "cell_type": "markdown",
   "metadata": {
    "id": "P--lfIpL3Gpt"
   },
   "source": [
    "Опрацюємо кожну з колонок."
   ]
  },
  {
   "cell_type": "markdown",
   "metadata": {
    "id": "CuwEkOngJHPD"
   },
   "source": [
    "### Аналіз стовпця `OCCUPATION_TYPE`\n",
    "\n",
    "- нульові значення = 31.35%"
   ]
  },
  {
   "cell_type": "code",
   "metadata": {
    "colab": {
     "base_uri": "https://localhost:8080/"
    },
    "execution": {
     "iopub.execute_input": "2021-07-13T08:25:25.476563Z",
     "iopub.status.busy": "2021-07-13T08:25:25.476327Z",
     "iopub.status.idle": "2021-07-13T08:25:25.542625Z",
     "shell.execute_reply": "2021-07-13T08:25:25.541836Z",
     "shell.execute_reply.started": "2021-07-13T08:25:25.47654Z"
    },
    "id": "_ALKgHvtJHPD",
    "outputId": "cf319195-7ffc-4e71-e05b-8762cf6478fc",
    "scrolled": true
   },
   "source": [
    "df['OCCUPATION_TYPE'].value_counts()"
   ],
   "outputs": [],
   "execution_count": null
  },
  {
   "cell_type": "markdown",
   "metadata": {
    "id": "R3XxyBEHJHPD"
   },
   "source": [
    "Заміна NULL-значень на категорією `Unknown`"
   ]
  },
  {
   "cell_type": "code",
   "metadata": {
    "execution": {
     "iopub.execute_input": "2021-07-13T08:25:25.544045Z",
     "iopub.status.busy": "2021-07-13T08:25:25.543598Z",
     "iopub.status.idle": "2021-07-13T08:25:25.58032Z",
     "shell.execute_reply": "2021-07-13T08:25:25.579575Z",
     "shell.execute_reply.started": "2021-07-13T08:25:25.544013Z"
    },
    "id": "Yt6WuOd8JHPE"
   },
   "source": "df.fillna({'OCCUPATION_TYPE': 'Unknown'}, inplace=True)",
   "outputs": [],
   "execution_count": null
  },
  {
   "cell_type": "code",
   "metadata": {
    "colab": {
     "base_uri": "https://localhost:8080/",
     "height": 598
    },
    "execution": {
     "iopub.execute_input": "2021-07-13T08:25:25.581889Z",
     "iopub.status.busy": "2021-07-13T08:25:25.58144Z",
     "iopub.status.idle": "2021-07-13T08:25:26.169224Z",
     "shell.execute_reply": "2021-07-13T08:25:26.168388Z",
     "shell.execute_reply.started": "2021-07-13T08:25:25.581849Z"
    },
    "id": "-JfsvKOXJHPE",
    "outputId": "eff7a86f-a065-4aa5-ca61-a0c6d7e66adc"
   },
   "source": [
    "plt.figure(figsize = (10,5))\n",
    "sns.countplot(data = df, x = \"OCCUPATION_TYPE\")\n",
    "plt.xticks(rotation = 90)\n",
    "plt.show()"
   ],
   "outputs": [],
   "execution_count": null
  },
  {
   "cell_type": "markdown",
   "metadata": {
    "id": "NUCHCfQ_JHPE"
   },
   "source": [
    "**Спостереження**\n",
    "- Якщо поглянути на графік, то найбільшу кількість заявників на кредит мають `Laborers`\n",
    "- Для імпутації краще залишити дані як є (пропущені значення становлять 31,35%) і не проводити імпутацію за якоюсь константою, як-от мода або мін/макс медіана, якщо це числовий стовпчик, оскільки це може викривити дані в подальших розрахунках.\n",
    "\n",
    "Існує також можливість імпутації за допомогою більш \"розумних\" методів, але ми вивчимо їх пізніше, а зараз ми робимо те, що можемо, за допомогою деяких найпростіших перетворень."
   ]
  },
  {
   "cell_type": "markdown",
   "metadata": {
    "id": "unKx5lozJHPE"
   },
   "source": [
    "### Аналіз стовпця `EXT_SOURCE_3`\n",
    "\n",
    "- пропущені значення = 19.83%"
   ]
  },
  {
   "cell_type": "code",
   "metadata": {
    "colab": {
     "base_uri": "https://localhost:8080/"
    },
    "execution": {
     "iopub.execute_input": "2021-07-13T08:25:26.170719Z",
     "iopub.status.busy": "2021-07-13T08:25:26.170402Z",
     "iopub.status.idle": "2021-07-13T08:25:26.183998Z",
     "shell.execute_reply": "2021-07-13T08:25:26.183219Z",
     "shell.execute_reply.started": "2021-07-13T08:25:26.170694Z"
    },
    "id": "mJspZKQsJHPE",
    "outputId": "a782ba8f-0b04-4b68-8c13-d44b579fbc40"
   },
   "source": [
    "df.EXT_SOURCE_3.value_counts().head()"
   ],
   "outputs": [],
   "execution_count": null
  },
  {
   "cell_type": "code",
   "metadata": {
    "colab": {
     "base_uri": "https://localhost:8080/",
     "height": 411
    },
    "execution": {
     "iopub.execute_input": "2021-07-13T08:25:26.18534Z",
     "iopub.status.busy": "2021-07-13T08:25:26.18506Z",
     "iopub.status.idle": "2021-07-13T08:25:26.28829Z",
     "shell.execute_reply": "2021-07-13T08:25:26.287264Z",
     "shell.execute_reply.started": "2021-07-13T08:25:26.185314Z"
    },
    "id": "UX_K2CEBJHPE",
    "outputId": "c53d72d0-8715-4284-83dd-40f6586266a5"
   },
   "source": [
    "sns.boxplot(df.EXT_SOURCE_3)\n",
    "plt.show()"
   ],
   "outputs": [],
   "execution_count": null
  },
  {
   "cell_type": "markdown",
   "metadata": {
    "id": "tcorUP0XJHPF"
   },
   "source": [
    "Отримання процентильних значень для `EXT_SOURCE_3`"
   ]
  },
  {
   "cell_type": "code",
   "metadata": {
    "colab": {
     "base_uri": "https://localhost:8080/"
    },
    "execution": {
     "iopub.execute_input": "2021-07-13T08:25:26.289784Z",
     "iopub.status.busy": "2021-07-13T08:25:26.289453Z",
     "iopub.status.idle": "2021-07-13T08:25:26.305374Z",
     "shell.execute_reply": "2021-07-13T08:25:26.30462Z",
     "shell.execute_reply.started": "2021-07-13T08:25:26.289756Z"
    },
    "id": "-8MjkiMfJHPF",
    "outputId": "3bafde1f-ff81-4e68-ef23-5ff4d689c5bd"
   },
   "source": [
    "df.EXT_SOURCE_3.quantile(q = [0.25,0.5,0.75,1])"
   ],
   "outputs": [],
   "execution_count": null
  },
  {
   "cell_type": "markdown",
   "metadata": {
    "id": "W7quC6YOJHPF"
   },
   "source": [
    "Найбільш повторюване значення в `EXT_SOURCE_3"
   ]
  },
  {
   "cell_type": "code",
   "metadata": {
    "colab": {
     "base_uri": "https://localhost:8080/"
    },
    "execution": {
     "iopub.execute_input": "2021-07-13T08:25:26.30654Z",
     "iopub.status.busy": "2021-07-13T08:25:26.306315Z",
     "iopub.status.idle": "2021-07-13T08:25:26.31592Z",
     "shell.execute_reply": "2021-07-13T08:25:26.315065Z",
     "shell.execute_reply.started": "2021-07-13T08:25:26.306519Z"
    },
    "id": "ZAkz1kyjJHPF",
    "outputId": "dd737802-8391-4977-99bb-6f9bc2653d39"
   },
   "source": [
    "df.EXT_SOURCE_3.mode()[0]"
   ],
   "outputs": [],
   "execution_count": null
  },
  {
   "cell_type": "markdown",
   "metadata": {
    "id": "HZlWxfPgJHPF"
   },
   "source": [
    "Перевірка середнього значення `EXT_SOURCE_3`"
   ]
  },
  {
   "cell_type": "code",
   "metadata": {
    "colab": {
     "base_uri": "https://localhost:8080/"
    },
    "execution": {
     "iopub.execute_input": "2021-07-13T08:25:26.317315Z",
     "iopub.status.busy": "2021-07-13T08:25:26.316911Z",
     "iopub.status.idle": "2021-07-13T08:25:26.325212Z",
     "shell.execute_reply": "2021-07-13T08:25:26.324117Z",
     "shell.execute_reply.started": "2021-07-13T08:25:26.317278Z"
    },
    "id": "PSyDOGrAJHPF",
    "outputId": "62c2cc16-78fe-4ccc-fb72-80f2485af236"
   },
   "source": [
    "df.EXT_SOURCE_3.mean()"
   ],
   "outputs": [],
   "execution_count": null
  },
  {
   "cell_type": "markdown",
   "metadata": {
    "id": "pXpJRdfzJHPG"
   },
   "source": [
    "**Спостереження**\n",
    "-  Дивлячись на діагараму розмаху, медіана становить 0,535276\n",
    "-  Найчастіше повторюване значення - 0,74630\n",
    "-  Середнє значення - 0,51085\n",
    "-  Хоча середнє та медіана є ближчими і можуть бути використані для імпутації, оскільки відсутнє відсоткове значення є більшим (19,83%), краще залишити дані як є і не проводити імпутації. Якщо метод вимагає імпутації, ми можемо імпутувати дані за допомогою медіани і створити ще один стовпчик, в якому буде позначено, які значення були імпутовані."
   ]
  },
  {
   "metadata": {
    "id": "tTIM9m2nJHPG"
   },
   "cell_type": "markdown",
   "source": [
    "# ДЗ 1. Аналіз стовпців `AMT_REQ_CREDIT_BUREAU` з пропущеними значеннями\n",
    "\n",
    "Виведіть середнє, моду, медіану та відсоток відсутніх даних для настуних колонок:\n",
    "\n",
    "- `AMT_REQ_CREDIT_BUREAU_YEAR`\n",
    "-\t`AMT_REQ_CREDIT_BUREAU_MON`\n",
    "-\t`AMT_REQ_CREDIT_BUREAU_WEEK`\n",
    "\n",
    "На основі виведених даних напишіть висновок про те, чи варто заповнювати пусті значення і якщо так, то яким чином?\n",
    "\n",
    "## Аналіз стовпця `AMT_REQ_CREDIT_BUREAU_YEAR`\n",
    "\n",
    "- нульові значення = 13.50%\n",
    "\n",
    "Виведіть середнє, моду, медіану та відсоток відсутніх даних.\n",
    "\n",
    "На основі виведених даних напишіть висновок про те, чи варто заповнювати пусті значення і якщо так, то яким чином?"
   ]
  },
  {
   "metadata": {},
   "cell_type": "code",
   "source": "df['AMT_REQ_CREDIT_BUREAU_YEAR'].value_counts()",
   "outputs": [],
   "execution_count": null
  },
  {
   "metadata": {},
   "cell_type": "code",
   "source": "df['AMT_REQ_CREDIT_BUREAU_YEAR'].head()",
   "outputs": [],
   "execution_count": null
  },
  {
   "metadata": {},
   "cell_type": "code",
   "source": [
    "sns.boxplot(df.AMT_REQ_CREDIT_BUREAU_YEAR)\n",
    "plt.show()"
   ],
   "outputs": [],
   "execution_count": null
  },
  {
   "metadata": {},
   "cell_type": "code",
   "source": "df.AMT_REQ_CREDIT_BUREAU_YEAR.quantile(q = [0.25,0.5,0.75,1])",
   "outputs": [],
   "execution_count": null
  },
  {
   "metadata": {},
   "cell_type": "code",
   "source": [
    "plt.figure(figsize = (10,5))\n",
    "sns.countplot(data = df, x = \"AMT_REQ_CREDIT_BUREAU_YEAR\")\n",
    "plt.xticks(rotation = 90)\n",
    "plt.show()"
   ],
   "outputs": [],
   "execution_count": null
  },
  {
   "metadata": {},
   "cell_type": "code",
   "source": "df.AMT_REQ_CREDIT_BUREAU_YEAR.mode()[0]",
   "outputs": [],
   "execution_count": null
  },
  {
   "metadata": {},
   "cell_type": "code",
   "source": "df.AMT_REQ_CREDIT_BUREAU_YEAR.mean()",
   "outputs": [],
   "execution_count": null
  },
  {
   "metadata": {},
   "cell_type": "markdown",
   "source": [
    "**Спостереження**\n",
    "-  Дивлячись на діагараму розмаху, медіана становить 1.00\n",
    "-  Найчастіше повторюване значення - 0,0\n",
    "-  Середнє значення - 1.899974435321363\n",
    "- На боксплоті видно, що є багато викидів, які становлять невеликий відсоток даних, але впливають на середнє\n",
    "-  Cереднє та медіана дуже відрізняються одне від одного. Тому для імпутації краще використати медіану. Оскільки відсутнє відсоткове значення становить 13,50%, краще залишити дані як є і не проводити імпутації. Якщо метод вимагає імпутації, ми можемо імпутувати дані за допомогою мемдіани, тому що вона менш чутлива до викидів і створити ще один стовпчик, в якому буде позначено, які значення були імпутовані."
   ]
  },
  {
   "metadata": {},
   "cell_type": "markdown",
   "source": [
    "## Аналіз стовпця `AMT_REQ_CREDIT_BUREAU_MON`\n",
    "\n",
    "- нульові значення = 13.50%\n",
    "\n",
    "Виведіть середнє, моду, медіану та відсоток відсутніх даних.\n",
    "На основі виведених даних напишіть висновок про те, чи варто заповнювати пусті значення і якщо так, то яким чином?\n"
   ]
  },
  {
   "metadata": {
    "ExecuteTime": {
     "end_time": "2024-12-17T20:00:28.500455Z",
     "start_time": "2024-12-17T20:00:28.495697Z"
    }
   },
   "cell_type": "code",
   "source": "df['AMT_REQ_CREDIT_BUREAU_MON'].value_counts()",
   "outputs": [
    {
     "data": {
      "text/plain": [
       "AMT_REQ_CREDIT_BUREAU_MON\n",
       "0.00     222233\n",
       "1.00      33147\n",
       "2.00       5386\n",
       "3.00       1991\n",
       "4.00       1076\n",
       "5.00        602\n",
       "6.00        343\n",
       "7.00        298\n",
       "9.00        206\n",
       "8.00        185\n",
       "10.00       132\n",
       "11.00       119\n",
       "12.00        77\n",
       "13.00        72\n",
       "14.00        40\n",
       "15.00        35\n",
       "16.00        23\n",
       "17.00        14\n",
       "18.00         6\n",
       "19.00         3\n",
       "24.00         1\n",
       "23.00         1\n",
       "27.00         1\n",
       "22.00         1\n",
       "Name: count, dtype: int64"
      ]
     },
     "execution_count": 109,
     "metadata": {},
     "output_type": "execute_result"
    }
   ],
   "execution_count": 109
  },
  {
   "metadata": {
    "ExecuteTime": {
     "end_time": "2024-12-17T20:00:29.975309Z",
     "start_time": "2024-12-17T20:00:29.972593Z"
    }
   },
   "cell_type": "code",
   "source": "df['AMT_REQ_CREDIT_BUREAU_MON'].head()",
   "outputs": [
    {
     "data": {
      "text/plain": [
       "0   0.00\n",
       "1   0.00\n",
       "2   0.00\n",
       "3    NaN\n",
       "4   0.00\n",
       "Name: AMT_REQ_CREDIT_BUREAU_MON, dtype: float64"
      ]
     },
     "execution_count": 110,
     "metadata": {},
     "output_type": "execute_result"
    }
   ],
   "execution_count": 110
  },
  {
   "metadata": {
    "ExecuteTime": {
     "end_time": "2024-12-17T20:00:33.304686Z",
     "start_time": "2024-12-17T20:00:32.971558Z"
    }
   },
   "cell_type": "code",
   "source": [
    "sns.boxplot(df.AMT_REQ_CREDIT_BUREAU_MON)\n",
    "plt.show()"
   ],
   "outputs": [
    {
     "data": {
      "text/plain": [
       "<Figure size 640x480 with 1 Axes>"
      ],
      "image/png": "[encoded data removed]"
     },
     "metadata": {},
     "output_type": "display_data"
    }
   ],
   "execution_count": 111
  },
  {
   "metadata": {
    "ExecuteTime": {
     "end_time": "2024-12-17T20:02:33.052979Z",
     "start_time": "2024-12-17T20:02:33.045281Z"
    }
   },
   "cell_type": "code",
   "source": "df.AMT_REQ_CREDIT_BUREAU_MON.quantile(q = [0.25,0.5,0.75, 0.8, 0.9, 0.91, 0.92, 0.93, 0.94, 0.95, 0.96, 0.97, 0.98, 0.99,  1])",
   "outputs": [
    {
     "data": {
      "text/plain": [
       "0.25    0.00\n",
       "0.50    0.00\n",
       "0.75    0.00\n",
       "0.80    0.00\n",
       "0.90    1.00\n",
       "0.91    1.00\n",
       "0.92    1.00\n",
       "0.93    1.00\n",
       "0.94    1.00\n",
       "0.95    1.00\n",
       "0.96    1.00\n",
       "0.97    2.00\n",
       "0.98    2.00\n",
       "0.99    4.00\n",
       "1.00   27.00\n",
       "Name: AMT_REQ_CREDIT_BUREAU_MON, dtype: float64"
      ]
     },
     "execution_count": 121,
     "metadata": {},
     "output_type": "execute_result"
    }
   ],
   "execution_count": 121
  },
  {
   "metadata": {
    "ExecuteTime": {
     "end_time": "2024-12-17T20:00:36.827089Z",
     "start_time": "2024-12-17T20:00:36.456149Z"
    }
   },
   "cell_type": "code",
   "source": [
    "plt.figure(figsize = (10,5))\n",
    "sns.countplot(data = df, x = \"AMT_REQ_CREDIT_BUREAU_MON\")\n",
    "plt.xticks(rotation = 90)\n",
    "plt.show()"
   ],
   "outputs": [
    {
     "data": {
      "text/plain": [
       "<Figure size 1000x500 with 1 Axes>"
      ],
      "image/png": "[encoded data removed]"
     },
     "metadata": {},
     "output_type": "display_data"
    }
   ],
   "execution_count": 113
  },
  {
   "metadata": {
    "ExecuteTime": {
     "end_time": "2024-12-17T20:00:41.154025Z",
     "start_time": "2024-12-17T20:00:41.149481Z"
    }
   },
   "cell_type": "code",
   "source": "df.AMT_REQ_CREDIT_BUREAU_MON.mode()[0]",
   "outputs": [
    {
     "data": {
      "text/plain": [
       "0.0"
      ]
     },
     "execution_count": 114,
     "metadata": {},
     "output_type": "execute_result"
    }
   ],
   "execution_count": 114
  },
  {
   "metadata": {
    "ExecuteTime": {
     "end_time": "2024-12-17T20:00:44.537845Z",
     "start_time": "2024-12-17T20:00:44.534591Z"
    }
   },
   "cell_type": "code",
   "source": "df.AMT_REQ_CREDIT_BUREAU_MON.mean()",
   "outputs": [
    {
     "data": {
      "text/plain": [
       "0.26739526000781977"
      ]
     },
     "execution_count": 116,
     "metadata": {},
     "output_type": "execute_result"
    }
   ],
   "execution_count": 116
  },
  {
   "metadata": {},
   "cell_type": "markdown",
   "source": [
    "**Спостереження**\n",
    "-  Дивлячись на діагараму розмаху, медіана становить 0.0\n",
    "-  Найчастіше повторюване значення - 0,0\n",
    "-  Середнє значення - 0.26739526000781977\n",
    "- На боксплоті виндо, що є багато викидів, які становлять невеликий відсоток даних, але впливають на середнє. По суті дані повністю складаються з викидів, а найчастіше значення - 0. Також видно, що більша частина ненульових значень знаходиться у 0.99 персентилі.\n",
    "-  Cереднє та медіана відрізняються одне від одного. Тому для імпутації краще використати медіану. Оскільки відсутнє відсоткове значення становить 13,50%, краще залишити дані як є і не проводити імпутації. Якщо метод вимагає імпутації, ми можемо імпутувати дані за допомогою мемдіани, тому що вона менш чутлива до викидів і створити ще один стовпчик, в якому буде позначено, які значення були імпутовані."
   ]
  },
  {
   "metadata": {},
   "cell_type": "markdown",
   "source": [
    "## Аналіз стовпця `AMT_REQ_CREDIT_BUREAU_WEEK`\n",
    "\n",
    "- нульові значення = 13.50%\n",
    "\n",
    "Виведіть середнє, моду, медіану та відсоток відсутніх даних.\n",
    "На основі виведених даних напишіть висновок про те, чи варто заповнювати пусті значення і якщо так, то яким чином?"
   ]
  },
  {
   "metadata": {
    "ExecuteTime": {
     "end_time": "2024-12-17T19:59:10.390734Z",
     "start_time": "2024-12-17T19:59:10.385892Z"
    }
   },
   "cell_type": "code",
   "source": "df['AMT_REQ_CREDIT_BUREAU_WEEK'].value_counts()",
   "outputs": [
    {
     "data": {
      "text/plain": [
       "AMT_REQ_CREDIT_BUREAU_WEEK\n",
       "0.00    257456\n",
       "1.00      8208\n",
       "2.00       199\n",
       "3.00        58\n",
       "4.00        34\n",
       "6.00        20\n",
       "5.00        10\n",
       "8.00         5\n",
       "7.00         2\n",
       "Name: count, dtype: int64"
      ]
     },
     "execution_count": 106,
     "metadata": {},
     "output_type": "execute_result"
    }
   ],
   "execution_count": 106
  },
  {
   "metadata": {
    "ExecuteTime": {
     "end_time": "2024-12-17T19:59:50.273402Z",
     "start_time": "2024-12-17T19:59:50.270467Z"
    }
   },
   "cell_type": "code",
   "source": "df['AMT_REQ_CREDIT_BUREAU_WEEK'].head()",
   "outputs": [
    {
     "data": {
      "text/plain": [
       "0   0.00\n",
       "1   0.00\n",
       "2   0.00\n",
       "3    NaN\n",
       "4   0.00\n",
       "Name: AMT_REQ_CREDIT_BUREAU_WEEK, dtype: float64"
      ]
     },
     "execution_count": 107,
     "metadata": {},
     "output_type": "execute_result"
    }
   ],
   "execution_count": 107
  },
  {
   "metadata": {
    "ExecuteTime": {
     "end_time": "2024-12-17T20:00:55.558363Z",
     "start_time": "2024-12-17T20:00:55.234702Z"
    }
   },
   "cell_type": "code",
   "source": [
    "sns.boxplot(df.AMT_REQ_CREDIT_BUREAU_WEEK)\n",
    "plt.show()"
   ],
   "outputs": [
    {
     "data": {
      "text/plain": [
       "<Figure size 640x480 with 1 Axes>"
      ],
      "image/png": "[encoded data removed]"
     },
     "metadata": {},
     "output_type": "display_data"
    }
   ],
   "execution_count": 117
  },
  {
   "metadata": {
    "ExecuteTime": {
     "end_time": "2024-12-17T20:03:05.777123Z",
     "start_time": "2024-12-17T20:03:05.770124Z"
    }
   },
   "cell_type": "code",
   "source": "df.AMT_REQ_CREDIT_BUREAU_WEEK.quantile(q = [0.25,0.5,0.75, 0.8, 0.9, 0.91, 0.92, 0.93, 0.94, 0.95, 0.96, 0.97, 0.98, 0.99,  1])",
   "outputs": [
    {
     "data": {
      "text/plain": [
       "0.25   0.00\n",
       "0.50   0.00\n",
       "0.75   0.00\n",
       "0.80   0.00\n",
       "0.90   0.00\n",
       "0.91   0.00\n",
       "0.92   0.00\n",
       "0.93   0.00\n",
       "0.94   0.00\n",
       "0.95   0.00\n",
       "0.96   0.00\n",
       "0.97   1.00\n",
       "0.98   1.00\n",
       "0.99   1.00\n",
       "1.00   8.00\n",
       "Name: AMT_REQ_CREDIT_BUREAU_WEEK, dtype: float64"
      ]
     },
     "execution_count": 122,
     "metadata": {},
     "output_type": "execute_result"
    }
   ],
   "execution_count": 122
  },
  {
   "metadata": {
    "ExecuteTime": {
     "end_time": "2024-12-17T20:03:11.689744Z",
     "start_time": "2024-12-17T20:03:11.352939Z"
    }
   },
   "cell_type": "code",
   "source": [
    "plt.figure(figsize = (10,5))\n",
    "sns.countplot(data = df, x = \"AMT_REQ_CREDIT_BUREAU_WEEK\")\n",
    "plt.xticks(rotation = 90)\n",
    "plt.show()"
   ],
   "outputs": [
    {
     "data": {
      "text/plain": [
       "<Figure size 1000x500 with 1 Axes>"
      ],
      "image/png": "[encoded data removed]"
     },
     "metadata": {},
     "output_type": "display_data"
    }
   ],
   "execution_count": 123
  },
  {
   "metadata": {
    "ExecuteTime": {
     "end_time": "2024-12-17T20:03:45.841762Z",
     "start_time": "2024-12-17T20:03:45.837540Z"
    }
   },
   "cell_type": "code",
   "source": "df.AMT_REQ_CREDIT_BUREAU_WEEK.mode()[0]",
   "outputs": [
    {
     "data": {
      "text/plain": [
       "0.0"
      ]
     },
     "execution_count": 124,
     "metadata": {},
     "output_type": "execute_result"
    }
   ],
   "execution_count": 124
  },
  {
   "metadata": {
    "ExecuteTime": {
     "end_time": "2024-12-17T20:05:13.795633Z",
     "start_time": "2024-12-17T20:05:13.791986Z"
    }
   },
   "cell_type": "code",
   "source": "df.AMT_REQ_CREDIT_BUREAU_WEEK.mean()",
   "outputs": [
    {
     "data": {
      "text/plain": [
       "0.0343619356973142"
      ]
     },
     "execution_count": 127,
     "metadata": {},
     "output_type": "execute_result"
    }
   ],
   "execution_count": 127
  },
  {
   "metadata": {},
   "cell_type": "markdown",
   "source": [
    "**Спостереження**\n",
    "-  Дивлячись на діагараму розмаху, медіана становить 0.0\n",
    "-  Найчастіше повторюване значення - 0,0\n",
    "-  Середнє значення - 0.0343619356973142\n",
    "- На боксплоті виндо, що є багато викидів, які становлять великий відсоток даних, і впливають на середнє. По суті дані повністю складаються з викидів, а найчастіше значення - 0. Також видно, що більша частина ненульових значень знаходиться у 0.99 персентилі.\n",
    "-  Cереднє та медіана відрізняються одне від одного. Тому для імпутації краще використати медіану. Оскільки відсутнє відсоткове значення становить 13,50%, краще залишити дані як є і не проводити імпутації. Якщо метод вимагає імпутації, ми можемо імпутувати дані за допомогою мемдіани, тому що вона менш чутлива до викидів і створити ще один стовпчик, в якому буде позначено, які значення були імпутовані."
   ]
  },
  {
   "cell_type": "markdown",
   "metadata": {
    "id": "3aZg3tGzJHPH"
   },
   "source": [
    "## Перевірка стовпців зі значеннями NULL > 0% та < 1%"
   ]
  },
  {
   "cell_type": "markdown",
   "metadata": {
    "id": "qM33jrAcJHPH"
   },
   "source": [
    "Створення датафрейму `null_df_under1` з відсотком пропущених значень > 0% та < 1% у кожному стовпці"
   ]
  },
  {
   "cell_type": "code",
   "metadata": {
    "execution": {
     "iopub.execute_input": "2021-07-13T08:25:26.448877Z",
     "iopub.status.busy": "2021-07-13T08:25:26.448637Z",
     "iopub.status.idle": "2021-07-13T08:25:26.453681Z",
     "shell.execute_reply": "2021-07-13T08:25:26.452999Z",
     "shell.execute_reply.started": "2021-07-13T08:25:26.448853Z"
    },
    "id": "BSuxThMaJHPH"
   },
   "source": [
    "null_df_under1 = null_df[(null_df['null_percentage'] > 0) & (null_df['null_percentage'] < 1)]"
   ],
   "outputs": [],
   "execution_count": null
  },
  {
   "cell_type": "code",
   "metadata": {
    "colab": {
     "base_uri": "https://localhost:8080/",
     "height": 269
    },
    "execution": {
     "iopub.execute_input": "2021-07-13T08:25:26.455005Z",
     "iopub.status.busy": "2021-07-13T08:25:26.454556Z",
     "iopub.status.idle": "2021-07-13T08:25:26.473616Z",
     "shell.execute_reply": "2021-07-13T08:25:26.472642Z",
     "shell.execute_reply.started": "2021-07-13T08:25:26.45497Z"
    },
    "id": "KjJxXxiZJHPH",
    "outputId": "b67faa72-8751-41bc-9589-963231111569"
   },
   "source": [
    "null_df_under1.sort_values(by = 'null_percentage', ascending = False)"
   ],
   "outputs": [],
   "execution_count": null
  },
  {
   "cell_type": "markdown",
   "metadata": {
    "id": "pW8vYIhOJHPH"
   },
   "source": [
    "### Аналіз стовпця `NAME_TYPE_SUITE`"
   ]
  },
  {
   "cell_type": "code",
   "metadata": {
    "colab": {
     "base_uri": "https://localhost:8080/",
     "height": 81
    },
    "id": "XBxkfzre_NN-",
    "outputId": "f3657f95-7306-4b47-84ca-4d3444c8247c"
   },
   "source": [
    "null_df_under1[null_df_under1.column_name == 'NAME_TYPE_SUITE']"
   ],
   "outputs": [],
   "execution_count": null
  },
  {
   "cell_type": "code",
   "metadata": {
    "colab": {
     "base_uri": "https://localhost:8080/"
    },
    "execution": {
     "iopub.execute_input": "2021-07-13T08:25:26.474932Z",
     "iopub.status.busy": "2021-07-13T08:25:26.474667Z",
     "iopub.status.idle": "2021-07-13T08:25:26.55107Z",
     "shell.execute_reply": "2021-07-13T08:25:26.550214Z",
     "shell.execute_reply.started": "2021-07-13T08:25:26.474908Z"
    },
    "id": "leQMIzE1JHPI",
    "outputId": "6163b60e-7d57-41ac-9835-a388a3e25ae0",
    "scrolled": true
   },
   "source": [
    "df['NAME_TYPE_SUITE'].value_counts()"
   ],
   "outputs": [],
   "execution_count": null
  },
  {
   "cell_type": "code",
   "metadata": {
    "colab": {
     "base_uri": "https://localhost:8080/",
     "height": 563
    },
    "execution": {
     "iopub.execute_input": "2021-07-13T08:25:26.552492Z",
     "iopub.status.busy": "2021-07-13T08:25:26.55223Z",
     "iopub.status.idle": "2021-07-13T08:25:27.03497Z",
     "shell.execute_reply": "2021-07-13T08:25:27.033996Z",
     "shell.execute_reply.started": "2021-07-13T08:25:26.552466Z"
    },
    "id": "By7LCmMRJHPI",
    "outputId": "abb59aa5-6ef6-4abd-cf46-b7a89e42ce48"
   },
   "source": [
    "plt.figure(figsize = (10,5))\n",
    "sns.countplot(data = df, x = \"NAME_TYPE_SUITE\")\n",
    "plt.xticks(rotation = 90)\n",
    "plt.show()"
   ],
   "outputs": [],
   "execution_count": null
  },
  {
   "cell_type": "markdown",
   "metadata": {
    "id": "amtb69ZYJHPI"
   },
   "source": [
    "**Спостереження**\n",
    "-   Дивлячись на графік, категорія `Unaccompanied` має найбільшу кількість заявників на отримання кредиту. Отже, більшість позичальників наважуються звертатися за кредитом без супроводу.\n",
    "- Ми можемо продовжити імпутацію `Unaccompanied` в датафреймі, але краше надати перевагу другому варіанту.\n",
    "- Ми також могли б імпутувати дані зі значенням `NA`, оскільки ця колонка є категоричною.\n",
    "- Аналогічно, якщо в колонці не вистачає менше 1% даних, ми можемо її опустити. Але якщо ми вилучимо всі дані в усіх стовпчиках, де пропущено <=1% даних, ми можемо вилучити занадто багато даних. Тому я здебільшого зберігаю дані настільки, наскільки це можливо."
   ]
  },
  {
   "cell_type": "code",
   "metadata": {
    "id": "Npc-SFPG0n0E"
   },
   "source": [
    "df['NAME_TYPE_SUITE'].fillna('NA', inplace=True)"
   ],
   "outputs": [],
   "execution_count": null
  },
  {
   "cell_type": "markdown",
   "metadata": {
    "id": "-xDa-2KNJHPI"
   },
   "source": [
    "### Аналіз стовпця `OBS_30_CNT_SOCIAL_CIRCLE`"
   ]
  },
  {
   "cell_type": "code",
   "metadata": {
    "colab": {
     "base_uri": "https://localhost:8080/",
     "height": 81
    },
    "id": "Yd4LalNK_GaB",
    "outputId": "ad179a6e-bcd3-4391-9908-d4ddf5bb1ac4"
   },
   "source": [
    "null_df_under1[null_df_under1.column_name == 'OBS_30_CNT_SOCIAL_CIRCLE']"
   ],
   "outputs": [],
   "execution_count": null
  },
  {
   "cell_type": "code",
   "metadata": {
    "colab": {
     "base_uri": "https://localhost:8080/"
    },
    "execution": {
     "iopub.execute_input": "2021-07-13T08:25:27.036414Z",
     "iopub.status.busy": "2021-07-13T08:25:27.036137Z",
     "iopub.status.idle": "2021-07-13T08:25:27.049287Z",
     "shell.execute_reply": "2021-07-13T08:25:27.048385Z",
     "shell.execute_reply.started": "2021-07-13T08:25:27.036388Z"
    },
    "id": "Vcg25JXUJHPI",
    "outputId": "ac615a2d-2638-423f-c16a-c15ad0ae2377"
   },
   "source": [
    "df.OBS_30_CNT_SOCIAL_CIRCLE.value_counts().head(10)"
   ],
   "outputs": [],
   "execution_count": null
  },
  {
   "cell_type": "code",
   "metadata": {
    "colab": {
     "base_uri": "https://localhost:8080/",
     "height": 411
    },
    "execution": {
     "iopub.execute_input": "2021-07-13T08:25:27.051142Z",
     "iopub.status.busy": "2021-07-13T08:25:27.050796Z",
     "iopub.status.idle": "2021-07-13T08:25:27.202939Z",
     "shell.execute_reply": "2021-07-13T08:25:27.202186Z",
     "shell.execute_reply.started": "2021-07-13T08:25:27.051105Z"
    },
    "id": "bIlBhfh3JHPI",
    "outputId": "ead436b4-fc4c-47a1-e8d7-cce53d7529d9"
   },
   "source": [
    "sns.boxplot(df.OBS_30_CNT_SOCIAL_CIRCLE)\n",
    "plt.show()"
   ],
   "outputs": [],
   "execution_count": null
  },
  {
   "cell_type": "markdown",
   "metadata": {
    "id": "K7UICjm7JHPJ"
   },
   "source": [
    "Розрахунок перцентилів `OBS_30_CNT_SOCIAL_CIRCLE`"
   ]
  },
  {
   "cell_type": "code",
   "metadata": {
    "colab": {
     "base_uri": "https://localhost:8080/"
    },
    "execution": {
     "iopub.execute_input": "2021-07-13T08:25:27.204357Z",
     "iopub.status.busy": "2021-07-13T08:25:27.204056Z",
     "iopub.status.idle": "2021-07-13T08:25:27.219769Z",
     "shell.execute_reply": "2021-07-13T08:25:27.218843Z",
     "shell.execute_reply.started": "2021-07-13T08:25:27.204333Z"
    },
    "id": "t4Wt1qUjJHPJ",
    "outputId": "95034420-442f-47e3-f448-f3514375be8f"
   },
   "source": [
    "df.OBS_30_CNT_SOCIAL_CIRCLE.quantile(q = [0.25,0.5,0.75,1])"
   ],
   "outputs": [],
   "execution_count": null
  },
  {
   "cell_type": "markdown",
   "metadata": {
    "id": "N9VDMbtOJHPJ"
   },
   "source": [
    "Найбільш повторюване значення в `OBS_30_CNT_SOCIAL_CIRCLE`"
   ]
  },
  {
   "cell_type": "code",
   "metadata": {
    "colab": {
     "base_uri": "https://localhost:8080/"
    },
    "execution": {
     "iopub.execute_input": "2021-07-13T08:25:27.221422Z",
     "iopub.status.busy": "2021-07-13T08:25:27.221055Z",
     "iopub.status.idle": "2021-07-13T08:25:27.233883Z",
     "shell.execute_reply": "2021-07-13T08:25:27.233018Z",
     "shell.execute_reply.started": "2021-07-13T08:25:27.221387Z"
    },
    "id": "yAOzFSW_JHPJ",
    "outputId": "ad19bc1f-6f0e-413d-c7e6-9ec41156ae90"
   },
   "source": [
    "df.OBS_30_CNT_SOCIAL_CIRCLE.mode()[0]"
   ],
   "outputs": [],
   "execution_count": null
  },
  {
   "cell_type": "markdown",
   "metadata": {
    "id": "g0BvAET4JHPJ"
   },
   "source": [
    "Середнє значення `OBS_30_CNT_SOCIAL_CIRCLE`"
   ]
  },
  {
   "cell_type": "code",
   "metadata": {
    "colab": {
     "base_uri": "https://localhost:8080/"
    },
    "execution": {
     "iopub.execute_input": "2021-07-13T08:25:27.235307Z",
     "iopub.status.busy": "2021-07-13T08:25:27.235051Z",
     "iopub.status.idle": "2021-07-13T08:25:27.241062Z",
     "shell.execute_reply": "2021-07-13T08:25:27.240057Z",
     "shell.execute_reply.started": "2021-07-13T08:25:27.235284Z"
    },
    "id": "W0BJi_yPJHPJ",
    "outputId": "55cb3e10-51fb-4962-a861-610b4d3b2ba0"
   },
   "source": [
    "df.OBS_30_CNT_SOCIAL_CIRCLE.mean()"
   ],
   "outputs": [],
   "execution_count": null
  },
  {
   "cell_type": "markdown",
   "metadata": {
    "id": "lLhbxe0CJHPJ"
   },
   "source": [
    "**Спостереження**\n",
    "- Дивлячись на діаграму розмаху, медіана дорівнює 0.0\n",
    "- Найчастіше повторюване значення - 0.0\n",
    "- Середнє значення - 1,4222\n",
    "- Є два викидні значення на рівні 50 та 350.\n",
    "- Медіана і мода близькі (з огляду на діапазон даних у цьому стовпчику) і можуть бути використані для імпутації. Це не призведе до зміщення, оскільки відсоток пропущених значень невеликий (0,33%)"
   ]
  },
  {
   "cell_type": "code",
   "metadata": {
    "id": "vVdBYg-u0wSs"
   },
   "source": [
    "df['OBS_30_CNT_SOCIAL_CIRCLE'].fillna(df['OBS_30_CNT_SOCIAL_CIRCLE'].median(), inplace=True)"
   ],
   "outputs": [],
   "execution_count": null
  },
  {
   "cell_type": "markdown",
   "metadata": {
    "id": "dG_J1FMt7kUc"
   },
   "source": [
    "# ДЗ 2. Аналіз і заповнення пустих значень у колонках з малим відсотком пропущених\n",
    "\n",
    "За прикладом вище проведіть аналіз пропущених значень в колонках\n",
    "- EXT_SOURCE_2\n",
    "- AMT_GOODS_PRICE\n",
    "\n",
    "Для швидшого аналізу рекомендую написати фукнцію, яку Ви зможете викликати для кожної з колонок.\n",
    "\n",
    "Зробіть висновок, що робити з пропущеними значеннями в кожному випадку і виконанайте ту дію, яку зазначили."
   ]
  },
  {
   "cell_type": "code",
   "metadata": {
    "id": "Bu1crK6Aa5ZN"
   },
   "source": [],
   "outputs": [],
   "execution_count": null
  },
  {
   "cell_type": "markdown",
   "metadata": {
    "id": "HaLbzQSSJHPR"
   },
   "source": [
    "# Робота з неправильними/невідомими значеннями даних"
   ]
  },
  {
   "cell_type": "markdown",
   "metadata": {
    "id": "y3JDgPD5JHPR"
   },
   "source": [
    "### Аналіз стовпця `CODE_GENDER`"
   ]
  },
  {
   "cell_type": "markdown",
   "metadata": {
    "id": "GYFDkp-uJHPR"
   },
   "source": [
    "Перевірка діапазону значень"
   ]
  },
  {
   "cell_type": "code",
   "metadata": {
    "colab": {
     "base_uri": "https://localhost:8080/"
    },
    "execution": {
     "iopub.execute_input": "2021-07-13T08:25:28.365335Z",
     "iopub.status.busy": "2021-07-13T08:25:28.364978Z",
     "iopub.status.idle": "2021-07-13T08:25:28.435592Z",
     "shell.execute_reply": "2021-07-13T08:25:28.434775Z",
     "shell.execute_reply.started": "2021-07-13T08:25:28.365298Z"
    },
    "id": "Dx-4yNbiJHPR",
    "outputId": "68c62355-76e3-4359-8c81-c3a07c463eb6"
   },
   "source": [
    "df['CODE_GENDER'].value_counts()"
   ],
   "outputs": [],
   "execution_count": null
  },
  {
   "cell_type": "markdown",
   "metadata": {
    "id": "lJJZXgSVJHPR"
   },
   "source": [
    "Стать має бути тільки чоловіча або жіноча. Значення `XNA` може вказувати на те, що значення не було надано заявником або пропущено кредитним спеціалістом, який перевіряє заявку"
   ]
  },
  {
   "cell_type": "code",
   "metadata": {
    "colab": {
     "base_uri": "https://localhost:8080/",
     "height": 247
    },
    "execution": {
     "iopub.execute_input": "2021-07-13T08:25:28.437102Z",
     "iopub.status.busy": "2021-07-13T08:25:28.436753Z",
     "iopub.status.idle": "2021-07-13T08:25:28.520439Z",
     "shell.execute_reply": "2021-07-13T08:25:28.519772Z",
     "shell.execute_reply.started": "2021-07-13T08:25:28.437074Z"
    },
    "id": "RbVikpxsJHPS",
    "outputId": "107e014f-2a13-4b8a-c070-983a9fc703f3"
   },
   "source": [
    "df[df['CODE_GENDER'] == 'XNA']"
   ],
   "outputs": [],
   "execution_count": null
  },
  {
   "cell_type": "markdown",
   "metadata": {
    "id": "gCPNXkdVJHPS"
   },
   "source": [
    "Оскільки дані виглядають достовірними, ми перевіримо можливість застосування методу імпутації.\n",
    "- Заявників-жінок удвічі більше, ніж заявників-чоловіків\n",
    "- Отже, ми прирівняємо `CODE_GENDER` до 'F'"
   ]
  },
  {
   "cell_type": "code",
   "metadata": {
    "execution": {
     "iopub.execute_input": "2021-07-13T08:25:28.521843Z",
     "iopub.status.busy": "2021-07-13T08:25:28.521468Z",
     "iopub.status.idle": "2021-07-13T08:25:28.597151Z",
     "shell.execute_reply": "2021-07-13T08:25:28.596516Z",
     "shell.execute_reply.started": "2021-07-13T08:25:28.521808Z"
    },
    "id": "wGarONYlJHPS"
   },
   "source": [
    "df['CODE_GENDER'] = df['CODE_GENDER'].apply(lambda x: 'F' if x == 'XNA' else x)"
   ],
   "outputs": [],
   "execution_count": null
  },
  {
   "cell_type": "markdown",
   "metadata": {
    "id": "x-geGeRyJHPS"
   },
   "source": [
    "Перевірка, чи вилучено `XNA`"
   ]
  },
  {
   "cell_type": "code",
   "metadata": {
    "colab": {
     "base_uri": "https://localhost:8080/"
    },
    "execution": {
     "iopub.execute_input": "2021-07-13T08:25:28.598422Z",
     "iopub.status.busy": "2021-07-13T08:25:28.598048Z",
     "iopub.status.idle": "2021-07-13T08:25:28.665286Z",
     "shell.execute_reply": "2021-07-13T08:25:28.664436Z",
     "shell.execute_reply.started": "2021-07-13T08:25:28.598388Z"
    },
    "id": "0r5la0FaJHPS",
    "outputId": "a6fc2975-6018-49d7-901a-d6db4658ee8a"
   },
   "source": [
    "df['CODE_GENDER'].value_counts()"
   ],
   "outputs": [],
   "execution_count": null
  },
  {
   "cell_type": "markdown",
   "metadata": {
    "id": "N0efvoRJJHPS"
   },
   "source": [
    "### Аналіз стовпця `DAYS_BIRTH`"
   ]
  },
  {
   "cell_type": "code",
   "metadata": {
    "colab": {
     "base_uri": "https://localhost:8080/"
    },
    "execution": {
     "iopub.execute_input": "2021-07-13T08:25:28.66681Z",
     "iopub.status.busy": "2021-07-13T08:25:28.666454Z",
     "iopub.status.idle": "2021-07-13T08:25:28.684847Z",
     "shell.execute_reply": "2021-07-13T08:25:28.684106Z",
     "shell.execute_reply.started": "2021-07-13T08:25:28.666751Z"
    },
    "id": "c-1VbHfpJHPS",
    "outputId": "b6a06396-3956-469c-8c31-6b25e42b648a"
   },
   "source": [
    "df['DAYS_BIRTH'].value_counts().head()"
   ],
   "outputs": [],
   "execution_count": null
  },
  {
   "cell_type": "markdown",
   "metadata": {
    "id": "ukXQRDLSJHPT"
   },
   "source": [
    "Існує ~17K+ унікальних записів, всі з яких, схоже, мають від'ємні значення"
   ]
  },
  {
   "cell_type": "code",
   "metadata": {
    "colab": {
     "base_uri": "https://localhost:8080/"
    },
    "execution": {
     "iopub.execute_input": "2021-07-13T08:25:28.686169Z",
     "iopub.status.busy": "2021-07-13T08:25:28.685915Z",
     "iopub.status.idle": "2021-07-13T08:25:28.697794Z",
     "shell.execute_reply": "2021-07-13T08:25:28.696775Z",
     "shell.execute_reply.started": "2021-07-13T08:25:28.686129Z"
    },
    "id": "_N6p6CxeJHPT",
    "outputId": "b818afd7-c4ea-42e1-f509-bee0299cc09c"
   },
   "source": [
    "df['DAYS_BIRTH'].unique()"
   ],
   "outputs": [],
   "execution_count": null
  },
  {
   "cell_type": "code",
   "metadata": {
    "colab": {
     "base_uri": "https://localhost:8080/"
    },
    "execution": {
     "iopub.execute_input": "2021-07-13T08:25:28.699566Z",
     "iopub.status.busy": "2021-07-13T08:25:28.699211Z",
     "iopub.status.idle": "2021-07-13T08:25:28.710623Z",
     "shell.execute_reply": "2021-07-13T08:25:28.709791Z",
     "shell.execute_reply.started": "2021-07-13T08:25:28.69953Z"
    },
    "id": "pn-BF0zqJHPT",
    "outputId": "cd53e9e8-71e8-4148-8069-d64134fbc0cd"
   },
   "source": [
    "df['DAYS_BIRTH'].nunique()"
   ],
   "outputs": [],
   "execution_count": null
  },
  {
   "cell_type": "code",
   "metadata": {
    "colab": {
     "base_uri": "https://localhost:8080/"
    },
    "id": "QxkJMq4-1yMW",
    "outputId": "2f066b21-ac06-4aeb-fc72-5c29ad8a69ea"
   },
   "source": [
    "df['DAYS_BIRTH'].describe()"
   ],
   "outputs": [],
   "execution_count": null
  },
  {
   "cell_type": "markdown",
   "metadata": {
    "id": "oTBDKa4ZJHPT"
   },
   "source": [
    "Перетворення `Days Birth` на додатні дні"
   ]
  },
  {
   "cell_type": "code",
   "metadata": {
    "execution": {
     "iopub.execute_input": "2021-07-13T08:25:28.712635Z",
     "iopub.status.busy": "2021-07-13T08:25:28.711966Z",
     "iopub.status.idle": "2021-07-13T08:25:28.913986Z",
     "shell.execute_reply": "2021-07-13T08:25:28.913298Z",
     "shell.execute_reply.started": "2021-07-13T08:25:28.712597Z"
    },
    "id": "S6hKknXQJHPT"
   },
   "source": [
    "df['DAYS_BIRTH'] = df['DAYS_BIRTH'].apply(lambda x: -x if x < 0 else x)"
   ],
   "outputs": [],
   "execution_count": null
  },
  {
   "cell_type": "code",
   "metadata": {
    "colab": {
     "base_uri": "https://localhost:8080/"
    },
    "execution": {
     "iopub.execute_input": "2021-07-13T08:25:28.915492Z",
     "iopub.status.busy": "2021-07-13T08:25:28.915081Z",
     "iopub.status.idle": "2021-07-13T08:25:28.928864Z",
     "shell.execute_reply": "2021-07-13T08:25:28.928025Z",
     "shell.execute_reply.started": "2021-07-13T08:25:28.915454Z"
    },
    "id": "2Dd7lam9JHPT",
    "outputId": "c8bafd92-3432-4370-f44b-26aa503029b2"
   },
   "source": [
    "df['DAYS_BIRTH'].value_counts()"
   ],
   "outputs": [],
   "execution_count": null
  },
  {
   "cell_type": "markdown",
   "metadata": {
    "id": "qOH46JY4JHPT"
   },
   "source": [
    "Всі дні в `DAYS_BIRTH` мають додатні значення - це може бути зручніше для аналізу."
   ]
  },
  {
   "cell_type": "markdown",
   "metadata": {
    "id": "o_j3DUq3JHPU"
   },
   "source": [
    "#### Створимо нову колонку `YEARS_BIRTH` для зручності аналізу"
   ]
  },
  {
   "cell_type": "code",
   "metadata": {
    "execution": {
     "iopub.execute_input": "2021-07-13T08:25:28.930223Z",
     "iopub.status.busy": "2021-07-13T08:25:28.929921Z",
     "iopub.status.idle": "2021-07-13T08:25:29.1837Z",
     "shell.execute_reply": "2021-07-13T08:25:29.182989Z",
     "shell.execute_reply.started": "2021-07-13T08:25:28.930187Z"
    },
    "id": "iND0ywGSJHPU"
   },
   "source": [
    "df['YEARS_BIRTH'] = df['DAYS_BIRTH'].apply(lambda x: round(x/365))"
   ],
   "outputs": [],
   "execution_count": null
  },
  {
   "cell_type": "markdown",
   "metadata": {
    "id": "aJFaC0dYJHPU"
   },
   "source": [
    "### Аналіз стовпця `NAME_FAMILY_STATUS`"
   ]
  },
  {
   "cell_type": "markdown",
   "metadata": {
    "id": "trK-ImjIJHPU"
   },
   "source": [
    "Перевірка діапазону значень"
   ]
  },
  {
   "cell_type": "code",
   "metadata": {
    "colab": {
     "base_uri": "https://localhost:8080/"
    },
    "execution": {
     "iopub.execute_input": "2021-07-13T08:25:29.185106Z",
     "iopub.status.busy": "2021-07-13T08:25:29.184785Z",
     "iopub.status.idle": "2021-07-13T08:25:29.26025Z",
     "shell.execute_reply": "2021-07-13T08:25:29.259396Z",
     "shell.execute_reply.started": "2021-07-13T08:25:29.185078Z"
    },
    "id": "sLVwDuxOJHPU",
    "outputId": "6a0a4534-5525-484e-8726-4948d7e31daa"
   },
   "source": [
    "df['NAME_FAMILY_STATUS'].value_counts()"
   ],
   "outputs": [],
   "execution_count": null
  },
  {
   "cell_type": "markdown",
   "metadata": {
    "id": "ecdc39WeJHPU"
   },
   "source": [
    "Стать має бути тільки чоловіча або жіноча. Значення `Unknown` може означати, що значення не було вказане заявником або пропущене кредитним спеціалістом, який перевіряє заявку"
   ]
  },
  {
   "cell_type": "code",
   "metadata": {
    "colab": {
     "base_uri": "https://localhost:8080/",
     "height": 167
    },
    "execution": {
     "iopub.execute_input": "2021-07-13T08:25:29.261824Z",
     "iopub.status.busy": "2021-07-13T08:25:29.261534Z",
     "iopub.status.idle": "2021-07-13T08:25:29.43657Z",
     "shell.execute_reply": "2021-07-13T08:25:29.435521Z",
     "shell.execute_reply.started": "2021-07-13T08:25:29.261799Z"
    },
    "id": "YD92lyfDJHPV",
    "outputId": "5c20c69b-c5d3-42fa-aa6b-c12c1f0abdab"
   },
   "source": [
    "df[df['NAME_FAMILY_STATUS'] == 'Unknown']"
   ],
   "outputs": [],
   "execution_count": null
  },
  {
   "cell_type": "code",
   "metadata": {
    "colab": {
     "base_uri": "https://localhost:8080/"
    },
    "execution": {
     "iopub.execute_input": "2021-07-13T08:25:29.43823Z",
     "iopub.status.busy": "2021-07-13T08:25:29.437924Z",
     "iopub.status.idle": "2021-07-13T08:25:29.517576Z",
     "shell.execute_reply": "2021-07-13T08:25:29.516642Z",
     "shell.execute_reply.started": "2021-07-13T08:25:29.438203Z"
    },
    "id": "q9DW3Vz5JHPV",
    "outputId": "f1589057-a27b-4772-a3fd-1ae4a18e488a"
   },
   "source": [
    "df['NAME_FAMILY_STATUS'].value_counts(normalize = True) * 100"
   ],
   "outputs": [],
   "execution_count": null
  },
  {
   "cell_type": "markdown",
   "metadata": {
    "id": "5UJd_gUJJHPV"
   },
   "source": [
    "Оскільки дані виглядають достовірними, ми продовжимо перевірку методу імпутації.\n",
    "- Одружені заявники складають понад 63% заявників.\n",
    "- Отже, ми прирівняємо `NAME_FAMILY_STATUS` до `Married`."
   ]
  },
  {
   "cell_type": "code",
   "metadata": {
    "execution": {
     "iopub.execute_input": "2021-07-13T08:25:29.520421Z",
     "iopub.status.busy": "2021-07-13T08:25:29.519677Z",
     "iopub.status.idle": "2021-07-13T08:25:29.602066Z",
     "shell.execute_reply": "2021-07-13T08:25:29.601309Z",
     "shell.execute_reply.started": "2021-07-13T08:25:29.520389Z"
    },
    "id": "ZsuheF9IJHPV"
   },
   "source": [
    "df['NAME_FAMILY_STATUS'] = df['NAME_FAMILY_STATUS'].apply(lambda x: 'Married' if x == 'Unknown' else x)"
   ],
   "outputs": [],
   "execution_count": null
  },
  {
   "cell_type": "markdown",
   "metadata": {
    "id": "fOLZqNmhJHPW"
   },
   "source": [
    "Перевірка чи вилучено `Unknown`"
   ]
  },
  {
   "cell_type": "code",
   "metadata": {
    "colab": {
     "base_uri": "https://localhost:8080/"
    },
    "execution": {
     "iopub.execute_input": "2021-07-13T08:25:29.603415Z",
     "iopub.status.busy": "2021-07-13T08:25:29.603131Z",
     "iopub.status.idle": "2021-07-13T08:25:29.681984Z",
     "shell.execute_reply": "2021-07-13T08:25:29.681223Z",
     "shell.execute_reply.started": "2021-07-13T08:25:29.603389Z"
    },
    "id": "EmVGhlrkJHPW",
    "outputId": "52805fab-c933-4def-f88c-66c5f7bbb2be",
    "scrolled": true
   },
   "source": [
    "df['NAME_FAMILY_STATUS'].value_counts()"
   ],
   "outputs": [],
   "execution_count": null
  },
  {
   "cell_type": "markdown",
   "metadata": {
    "id": "QRuMuf45JHPW"
   },
   "source": [
    "### Аналіз стовпця`DAYS_EMPLOYED`"
   ]
  },
  {
   "cell_type": "code",
   "metadata": {
    "colab": {
     "base_uri": "https://localhost:8080/"
    },
    "execution": {
     "iopub.execute_input": "2021-07-13T08:25:29.683469Z",
     "iopub.status.busy": "2021-07-13T08:25:29.683221Z",
     "iopub.status.idle": "2021-07-13T08:25:29.696411Z",
     "shell.execute_reply": "2021-07-13T08:25:29.695634Z",
     "shell.execute_reply.started": "2021-07-13T08:25:29.683446Z"
    },
    "id": "fPQDevgTJHPW",
    "outputId": "5e6ee775-f4b2-4e38-da30-7035df3a058e"
   },
   "source": [
    "df['DAYS_EMPLOYED'].value_counts().head()"
   ],
   "outputs": [],
   "execution_count": null
  },
  {
   "cell_type": "code",
   "metadata": {
    "colab": {
     "base_uri": "https://localhost:8080/"
    },
    "execution": {
     "iopub.execute_input": "2021-07-13T08:25:29.697671Z",
     "iopub.status.busy": "2021-07-13T08:25:29.69744Z",
     "iopub.status.idle": "2021-07-13T08:25:29.714068Z",
     "shell.execute_reply": "2021-07-13T08:25:29.713241Z",
     "shell.execute_reply.started": "2021-07-13T08:25:29.697649Z"
    },
    "id": "-CLA0E4uJHPW",
    "outputId": "3da4a14f-be34-481e-9e8f-48d74b7d5ff7"
   },
   "source": [
    "df['DAYS_EMPLOYED'].value_counts(normalize = True) * 100"
   ],
   "outputs": [],
   "execution_count": null
  },
  {
   "cell_type": "code",
   "metadata": {
    "colab": {
     "base_uri": "https://localhost:8080/"
    },
    "execution": {
     "iopub.execute_input": "2021-07-13T08:25:29.715664Z",
     "iopub.status.busy": "2021-07-13T08:25:29.715328Z",
     "iopub.status.idle": "2021-07-13T08:25:29.802848Z",
     "shell.execute_reply": "2021-07-13T08:25:29.802182Z",
     "shell.execute_reply.started": "2021-07-13T08:25:29.715629Z"
    },
    "id": "ysASCbt_JHPW",
    "outputId": "d4647f83-765f-4e8c-f621-cc841476e4ea"
   },
   "source": [
    "len(df[df['DAYS_EMPLOYED'] < 365243])"
   ],
   "outputs": [],
   "execution_count": null
  },
  {
   "cell_type": "code",
   "metadata": {
    "colab": {
     "base_uri": "https://localhost:8080/"
    },
    "execution": {
     "iopub.execute_input": "2021-07-13T08:25:29.804471Z",
     "iopub.status.busy": "2021-07-13T08:25:29.804083Z",
     "iopub.status.idle": "2021-07-13T08:25:29.898408Z",
     "shell.execute_reply": "2021-07-13T08:25:29.897352Z",
     "shell.execute_reply.started": "2021-07-13T08:25:29.804431Z"
    },
    "id": "IxLasWYWJHPW",
    "outputId": "80fbb3e7-fd41-463c-ecd9-a29885f57225",
    "scrolled": true
   },
   "source": [
    "df[df['DAYS_EMPLOYED'] < 365243].DAYS_EMPLOYED.value_counts()"
   ],
   "outputs": [],
   "execution_count": null
  },
  {
   "cell_type": "code",
   "metadata": {
    "colab": {
     "base_uri": "https://localhost:8080/"
    },
    "execution": {
     "iopub.execute_input": "2021-07-13T08:25:29.900112Z",
     "iopub.status.busy": "2021-07-13T08:25:29.899717Z",
     "iopub.status.idle": "2021-07-13T08:25:29.911054Z",
     "shell.execute_reply": "2021-07-13T08:25:29.90995Z",
     "shell.execute_reply.started": "2021-07-13T08:25:29.900071Z"
    },
    "id": "R-hw_Ez5JHPW",
    "outputId": "eebb9d75-ba96-4bad-fef5-126eda65d67f"
   },
   "source": [
    "df['DAYS_EMPLOYED'].unique()"
   ],
   "outputs": [],
   "execution_count": null
  },
  {
   "cell_type": "code",
   "metadata": {
    "colab": {
     "base_uri": "https://localhost:8080/"
    },
    "execution": {
     "iopub.execute_input": "2021-07-13T08:25:29.912472Z",
     "iopub.status.busy": "2021-07-13T08:25:29.912148Z",
     "iopub.status.idle": "2021-07-13T08:25:29.922745Z",
     "shell.execute_reply": "2021-07-13T08:25:29.921923Z",
     "shell.execute_reply.started": "2021-07-13T08:25:29.912444Z"
    },
    "id": "FknGLWlIJHPX",
    "outputId": "123a47a4-81c6-4924-a2bf-c13c0d5a5bfb"
   },
   "source": [
    "df['DAYS_EMPLOYED'].nunique()"
   ],
   "outputs": [],
   "execution_count": null
  },
  {
   "cell_type": "markdown",
   "metadata": {
    "id": "N2Om6HRhJHPX"
   },
   "source": [
    "**Спостереження**\n",
    "- Існує ~55K+ записів, для яких `DAYS_EMPLOYED` дорівнює 365243 дням\n",
    "- Решта 252K+ записів мають від'ємне значення днів\n",
    "- Існує 12 574 унікальних значень для `DAYS_EMPLOYED`"
   ]
  },
  {
   "cell_type": "markdown",
   "metadata": {
    "id": "UkOSkVYKJHPX"
   },
   "source": [
    " - Колонка `DAYS_EMPLOYED` вказує на те, за скільки днів до подачі заявки особа почала поточну роботу, заявник/кредитний спеціаліст повинен ввести від'ємні значення, щоб вказати дні, що передують даті подачі заявки.<br>\n",
    " - Ми конвертуємо від'ємні значення в `DAYS_EMPLOYED` в додатні дні, щоб стандартизувати дні під час використання в розрахунках"
   ]
  },
  {
   "cell_type": "code",
   "metadata": {
    "execution": {
     "iopub.execute_input": "2021-07-13T08:25:29.924099Z",
     "iopub.status.busy": "2021-07-13T08:25:29.92384Z",
     "iopub.status.idle": "2021-07-13T08:25:30.150509Z",
     "shell.execute_reply": "2021-07-13T08:25:30.149635Z",
     "shell.execute_reply.started": "2021-07-13T08:25:29.924074Z"
    },
    "id": "gCls1Y5kJHPX"
   },
   "source": [
    "df['DAYS_EMPLOYED'] = df['DAYS_EMPLOYED'].apply(lambda x: -x if x < 0 else x)"
   ],
   "outputs": [],
   "execution_count": null
  },
  {
   "cell_type": "code",
   "metadata": {
    "colab": {
     "base_uri": "https://localhost:8080/"
    },
    "execution": {
     "iopub.execute_input": "2021-07-13T08:25:30.15191Z",
     "iopub.status.busy": "2021-07-13T08:25:30.151645Z",
     "iopub.status.idle": "2021-07-13T08:25:30.162808Z",
     "shell.execute_reply": "2021-07-13T08:25:30.161956Z",
     "shell.execute_reply.started": "2021-07-13T08:25:30.151886Z"
    },
    "id": "wj8ei28dJHPX",
    "outputId": "95768e8b-ef1b-489d-c097-7c13b91ce398",
    "scrolled": true
   },
   "source": [
    "df['DAYS_EMPLOYED'].value_counts().head()"
   ],
   "outputs": [],
   "execution_count": null
  },
  {
   "cell_type": "markdown",
   "metadata": {
    "id": "aels9geJJHPX"
   },
   "source": [
    "Ми бачимо, що всі дні в `DAYS_EMPLOYED` мають додатні значення"
   ]
  },
  {
   "cell_type": "markdown",
   "metadata": {
    "id": "ZaxGfjAlJHPX"
   },
   "source": [
    "**Для ~55K+ записів, для яких `DAYS_EMPLOYED` становить 365243 дні**\n",
    "- Конвертуючи це в роки, ми отримуємо 1000 років, які фізично неможливо використати для працевлаштування заявника\n",
    "- Це відповідає 18% даних і не може бути аномалією\n",
    "- Вони можуть бути або пенсіонерами, або безробітними, і, дивлячись на дані, наш висновок є правильним\n",
    "\n",
    "> Є два способи впоратися з цим\n",
    ">> 1) Ми залишаємо дані такими, якими вони є, і враховуємо це під час аналізу АБО  <br>\n",
    ">> 2) Ми розраховуємо середню кількість днів зайнятості без урахування цієї категорії та вписуємо її замість 365243 днів для пенсіонерів. <br>\n",
    ">> Для безробітних кількість днів зайнятості може дорівнювати 0\n",
    "\n",
    "*Примітка*\n",
    " - Під час розрахунків у цьому стовпчику ми повинні враховувати цей сценарій, оскільки інакше він спотворює наші результати"
   ]
  },
  {
   "cell_type": "code",
   "metadata": {
    "colab": {
     "base_uri": "https://localhost:8080/"
    },
    "execution": {
     "iopub.execute_input": "2021-07-13T08:25:30.164463Z",
     "iopub.status.busy": "2021-07-13T08:25:30.164077Z",
     "iopub.status.idle": "2021-07-13T08:25:30.213299Z",
     "shell.execute_reply": "2021-07-13T08:25:30.212449Z",
     "shell.execute_reply.started": "2021-07-13T08:25:30.164426Z"
    },
    "id": "Id7j-Zt-JHPa",
    "outputId": "a1a85061-049d-46d4-fb3e-d9cd102ca848",
    "scrolled": true
   },
   "source": [
    "df[df['DAYS_EMPLOYED'] == 365243].NAME_INCOME_TYPE.value_counts()"
   ],
   "outputs": [],
   "execution_count": null
  },
  {
   "cell_type": "markdown",
   "metadata": {
    "id": "K7oUnfOwJHPb"
   },
   "source": [
    "#### Створимо нову колонку `YEARS_EMPLOYED` для зручності аналізу"
   ]
  },
  {
   "cell_type": "code",
   "metadata": {
    "execution": {
     "iopub.execute_input": "2021-07-13T08:25:30.214529Z",
     "iopub.status.busy": "2021-07-13T08:25:30.214283Z",
     "iopub.status.idle": "2021-07-13T08:25:30.468461Z",
     "shell.execute_reply": "2021-07-13T08:25:30.467637Z",
     "shell.execute_reply.started": "2021-07-13T08:25:30.214506Z"
    },
    "id": "NBSZDEf3JHPb"
   },
   "source": [
    "df['YEARS_EMPLOYED'] = df['DAYS_EMPLOYED'].apply(lambda x: round(x/365))"
   ],
   "outputs": [],
   "execution_count": null
  },
  {
   "cell_type": "markdown",
   "metadata": {
    "id": "KcdbgupkJHPb"
   },
   "source": [
    "### Аналіз стовпця `DAYS_REGISTRATION`"
   ]
  },
  {
   "cell_type": "code",
   "metadata": {
    "colab": {
     "base_uri": "https://localhost:8080/"
    },
    "execution": {
     "iopub.execute_input": "2021-07-13T08:25:30.469953Z",
     "iopub.status.busy": "2021-07-13T08:25:30.469657Z",
     "iopub.status.idle": "2021-07-13T08:25:30.487727Z",
     "shell.execute_reply": "2021-07-13T08:25:30.48681Z",
     "shell.execute_reply.started": "2021-07-13T08:25:30.469925Z"
    },
    "id": "H-twPu03JHPb",
    "outputId": "f3261d37-e452-4b76-9442-970761c90e56"
   },
   "source": [
    "df['DAYS_REGISTRATION'].value_counts().head()"
   ],
   "outputs": [],
   "execution_count": null
  },
  {
   "cell_type": "code",
   "metadata": {
    "colab": {
     "base_uri": "https://localhost:8080/"
    },
    "execution": {
     "iopub.execute_input": "2021-07-13T08:25:30.489025Z",
     "iopub.status.busy": "2021-07-13T08:25:30.488784Z",
     "iopub.status.idle": "2021-07-13T08:25:30.504588Z",
     "shell.execute_reply": "2021-07-13T08:25:30.50385Z",
     "shell.execute_reply.started": "2021-07-13T08:25:30.489002Z"
    },
    "id": "IiW-Nt6GJHPb",
    "outputId": "cc8b325f-5a5b-4c3a-aab3-13370162704c"
   },
   "source": [
    "df['DAYS_REGISTRATION'].value_counts(normalize = True).head()"
   ],
   "outputs": [],
   "execution_count": null
  },
  {
   "cell_type": "code",
   "metadata": {
    "colab": {
     "base_uri": "https://localhost:8080/"
    },
    "execution": {
     "iopub.execute_input": "2021-07-13T08:25:30.505873Z",
     "iopub.status.busy": "2021-07-13T08:25:30.505607Z",
     "iopub.status.idle": "2021-07-13T08:25:30.51694Z",
     "shell.execute_reply": "2021-07-13T08:25:30.51625Z",
     "shell.execute_reply.started": "2021-07-13T08:25:30.505849Z"
    },
    "id": "1MRPAIQgJHPb",
    "outputId": "a363453a-1698-4888-d24f-897034c99271"
   },
   "source": [
    "df['DAYS_REGISTRATION'].unique()"
   ],
   "outputs": [],
   "execution_count": null
  },
  {
   "cell_type": "code",
   "metadata": {
    "colab": {
     "base_uri": "https://localhost:8080/"
    },
    "execution": {
     "iopub.execute_input": "2021-07-13T08:25:30.518001Z",
     "iopub.status.busy": "2021-07-13T08:25:30.517729Z",
     "iopub.status.idle": "2021-07-13T08:25:30.531235Z",
     "shell.execute_reply": "2021-07-13T08:25:30.530354Z",
     "shell.execute_reply.started": "2021-07-13T08:25:30.517976Z"
    },
    "id": "uol-wmWkJHPc",
    "outputId": "8a658929-495a-422d-d8da-ae1a2c0dd886"
   },
   "source": [
    "df['DAYS_REGISTRATION'].nunique()"
   ],
   "outputs": [],
   "execution_count": null
  },
  {
   "cell_type": "markdown",
   "metadata": {
    "id": "3NXwum7sJHPc"
   },
   "source": [
    "Перетворення `DAYS_REGISTRATION` в додатні дні"
   ]
  },
  {
   "cell_type": "code",
   "metadata": {
    "execution": {
     "iopub.execute_input": "2021-07-13T08:25:30.53259Z",
     "iopub.status.busy": "2021-07-13T08:25:30.532337Z",
     "iopub.status.idle": "2021-07-13T08:25:30.676246Z",
     "shell.execute_reply": "2021-07-13T08:25:30.675284Z",
     "shell.execute_reply.started": "2021-07-13T08:25:30.532566Z"
    },
    "id": "-Y6Ay6r8JHPc"
   },
   "source": [
    "df['DAYS_REGISTRATION'] = df['DAYS_REGISTRATION'].apply(lambda x: -x if x < 0 else x)"
   ],
   "outputs": [],
   "execution_count": null
  },
  {
   "cell_type": "code",
   "metadata": {
    "colab": {
     "base_uri": "https://localhost:8080/"
    },
    "execution": {
     "iopub.execute_input": "2021-07-13T08:25:30.677594Z",
     "iopub.status.busy": "2021-07-13T08:25:30.677344Z",
     "iopub.status.idle": "2021-07-13T08:25:30.69357Z",
     "shell.execute_reply": "2021-07-13T08:25:30.692478Z",
     "shell.execute_reply.started": "2021-07-13T08:25:30.67757Z"
    },
    "id": "ZYNBXSEfJHPc",
    "outputId": "d88a5b1a-6d8e-4fdd-8fcc-59965c284f8e",
    "scrolled": true
   },
   "source": [
    "df['DAYS_REGISTRATION'].value_counts().head()"
   ],
   "outputs": [],
   "execution_count": null
  },
  {
   "cell_type": "markdown",
   "metadata": {
    "id": "GVDY6OQgJHPc"
   },
   "source": [
    "Всі дні в `DAYS_REGISTRATION` мають додатні значення"
   ]
  },
  {
   "cell_type": "markdown",
   "metadata": {
    "id": "-5Yo-vlUJHPc"
   },
   "source": [
    "#### Створимо нову колонку `YEARS_REGISTRATION` для зручності аналізу"
   ]
  },
  {
   "cell_type": "code",
   "metadata": {
    "execution": {
     "iopub.execute_input": "2021-07-13T08:25:30.695015Z",
     "iopub.status.busy": "2021-07-13T08:25:30.694762Z",
     "iopub.status.idle": "2021-07-13T08:25:30.960949Z",
     "shell.execute_reply": "2021-07-13T08:25:30.960113Z",
     "shell.execute_reply.started": "2021-07-13T08:25:30.694991Z"
    },
    "id": "jX77yKqoJHPd"
   },
   "source": [
    "df['YEARS_REGISTRATION'] = df['DAYS_REGISTRATION'].apply(lambda x: round(x/365))"
   ],
   "outputs": [],
   "execution_count": null
  },
  {
   "cell_type": "markdown",
   "metadata": {
    "id": "2C6YvsX0JHPd"
   },
   "source": [
    "### Аналіз стовпця `DAYS_ID_PUBLISH`"
   ]
  },
  {
   "cell_type": "code",
   "metadata": {
    "colab": {
     "base_uri": "https://localhost:8080/"
    },
    "execution": {
     "iopub.execute_input": "2021-07-13T08:25:30.962464Z",
     "iopub.status.busy": "2021-07-13T08:25:30.962122Z",
     "iopub.status.idle": "2021-07-13T08:25:30.974064Z",
     "shell.execute_reply": "2021-07-13T08:25:30.972949Z",
     "shell.execute_reply.started": "2021-07-13T08:25:30.962436Z"
    },
    "id": "2dAsh5WoJHPd",
    "outputId": "984eb47e-e0e2-427e-b53b-1f32aa85c332"
   },
   "source": [
    "df['DAYS_ID_PUBLISH'].value_counts().head()"
   ],
   "outputs": [],
   "execution_count": null
  },
  {
   "cell_type": "code",
   "metadata": {
    "colab": {
     "base_uri": "https://localhost:8080/"
    },
    "execution": {
     "iopub.execute_input": "2021-07-13T08:25:30.975579Z",
     "iopub.status.busy": "2021-07-13T08:25:30.975304Z",
     "iopub.status.idle": "2021-07-13T08:25:30.987779Z",
     "shell.execute_reply": "2021-07-13T08:25:30.98675Z",
     "shell.execute_reply.started": "2021-07-13T08:25:30.975556Z"
    },
    "id": "67pBVwlQJHPd",
    "outputId": "788447a3-a48a-4b02-f934-7eb0c995a674"
   },
   "source": [
    "df['DAYS_ID_PUBLISH'].value_counts(normalize = True).head()"
   ],
   "outputs": [],
   "execution_count": null
  },
  {
   "cell_type": "code",
   "metadata": {
    "colab": {
     "base_uri": "https://localhost:8080/"
    },
    "execution": {
     "iopub.execute_input": "2021-07-13T08:25:30.989506Z",
     "iopub.status.busy": "2021-07-13T08:25:30.989099Z",
     "iopub.status.idle": "2021-07-13T08:25:30.999056Z",
     "shell.execute_reply": "2021-07-13T08:25:30.998083Z",
     "shell.execute_reply.started": "2021-07-13T08:25:30.989468Z"
    },
    "id": "l6ygiLBRJHPd",
    "outputId": "f5e7f4c2-9a77-4c7b-cc33-04d20b291d63"
   },
   "source": [
    "df['DAYS_ID_PUBLISH'].unique()"
   ],
   "outputs": [],
   "execution_count": null
  },
  {
   "cell_type": "code",
   "metadata": {
    "colab": {
     "base_uri": "https://localhost:8080/"
    },
    "execution": {
     "iopub.execute_input": "2021-07-13T08:25:31.000681Z",
     "iopub.status.busy": "2021-07-13T08:25:31.000384Z",
     "iopub.status.idle": "2021-07-13T08:25:31.011016Z",
     "shell.execute_reply": "2021-07-13T08:25:31.010055Z",
     "shell.execute_reply.started": "2021-07-13T08:25:31.000655Z"
    },
    "id": "pASF0-y4JHPd",
    "outputId": "c45bb807-a0e6-4bbb-c362-953f32f1bdae"
   },
   "source": [
    "df['DAYS_ID_PUBLISH'].nunique()"
   ],
   "outputs": [],
   "execution_count": null
  },
  {
   "cell_type": "markdown",
   "metadata": {
    "id": "_N6za7UdJHPe"
   },
   "source": [
    "Перетворення `DAYS_ID_PUBLISH` в додатні дні"
   ]
  },
  {
   "cell_type": "code",
   "metadata": {
    "execution": {
     "iopub.execute_input": "2021-07-13T08:25:31.012577Z",
     "iopub.status.busy": "2021-07-13T08:25:31.012311Z",
     "iopub.status.idle": "2021-07-13T08:25:31.219081Z",
     "shell.execute_reply": "2021-07-13T08:25:31.218246Z",
     "shell.execute_reply.started": "2021-07-13T08:25:31.012552Z"
    },
    "id": "cF9ixiX0JHPe"
   },
   "source": [
    "df['DAYS_ID_PUBLISH'] = df['DAYS_ID_PUBLISH'].apply(lambda x: -x if x < 0 else x)"
   ],
   "outputs": [],
   "execution_count": null
  },
  {
   "cell_type": "code",
   "metadata": {
    "colab": {
     "base_uri": "https://localhost:8080/"
    },
    "execution": {
     "iopub.execute_input": "2021-07-13T08:25:31.220765Z",
     "iopub.status.busy": "2021-07-13T08:25:31.220374Z",
     "iopub.status.idle": "2021-07-13T08:25:31.233453Z",
     "shell.execute_reply": "2021-07-13T08:25:31.232642Z",
     "shell.execute_reply.started": "2021-07-13T08:25:31.220723Z"
    },
    "id": "KjmYjypIJHPe",
    "outputId": "e0539435-73ad-4ff1-bfc0-86798a297d79",
    "scrolled": true
   },
   "source": [
    "df['DAYS_ID_PUBLISH'].value_counts().head()"
   ],
   "outputs": [],
   "execution_count": null
  },
  {
   "cell_type": "markdown",
   "metadata": {
    "id": "uQQY8JEcJHPe"
   },
   "source": [
    "Всі дні в `DAYS_ID_PUBLISH` мають додатні значення"
   ]
  },
  {
   "cell_type": "markdown",
   "metadata": {
    "id": "PvcKc7NHJHPe"
   },
   "source": [
    "#### Створимо нову колонку `YEARS_ID_PUBLISH` для зручності аналізу"
   ]
  },
  {
   "cell_type": "code",
   "metadata": {
    "execution": {
     "iopub.execute_input": "2021-07-13T08:25:31.234858Z",
     "iopub.status.busy": "2021-07-13T08:25:31.234613Z",
     "iopub.status.idle": "2021-07-13T08:25:31.49972Z",
     "shell.execute_reply": "2021-07-13T08:25:31.498913Z",
     "shell.execute_reply.started": "2021-07-13T08:25:31.234829Z"
    },
    "id": "fwCUWsBDJHPe"
   },
   "source": [
    "df['YEARS_ID_PUBLISH'] = df['DAYS_ID_PUBLISH'].apply(lambda x: round(x/365))"
   ],
   "outputs": [],
   "execution_count": null
  },
  {
   "cell_type": "markdown",
   "metadata": {
    "id": "f0hnZpqHJHPe"
   },
   "source": [
    "### Аналіз стовпця `DAYS_LAST_PHONE_CHANGE`"
   ]
  },
  {
   "cell_type": "code",
   "metadata": {
    "colab": {
     "base_uri": "https://localhost:8080/"
    },
    "execution": {
     "iopub.execute_input": "2021-07-13T08:25:31.501432Z",
     "iopub.status.busy": "2021-07-13T08:25:31.50106Z",
     "iopub.status.idle": "2021-07-13T08:25:31.517178Z",
     "shell.execute_reply": "2021-07-13T08:25:31.51641Z",
     "shell.execute_reply.started": "2021-07-13T08:25:31.501395Z"
    },
    "id": "HIPeGeqNJHPf",
    "outputId": "10ddf22d-e4f1-454c-ce60-971fd089f9ac"
   },
   "source": [
    "df['DAYS_LAST_PHONE_CHANGE'].value_counts().head()"
   ],
   "outputs": [],
   "execution_count": null
  },
  {
   "cell_type": "code",
   "metadata": {
    "colab": {
     "base_uri": "https://localhost:8080/"
    },
    "execution": {
     "iopub.execute_input": "2021-07-13T08:25:31.518868Z",
     "iopub.status.busy": "2021-07-13T08:25:31.518482Z",
     "iopub.status.idle": "2021-07-13T08:25:31.534055Z",
     "shell.execute_reply": "2021-07-13T08:25:31.533072Z",
     "shell.execute_reply.started": "2021-07-13T08:25:31.518813Z"
    },
    "id": "aNtmP0THJHPf",
    "outputId": "8ab7415a-f335-4043-ffaf-525b622eaf4a"
   },
   "source": [
    "df['DAYS_LAST_PHONE_CHANGE'].value_counts(normalize = True).head()"
   ],
   "outputs": [],
   "execution_count": null
  },
  {
   "cell_type": "code",
   "metadata": {
    "colab": {
     "base_uri": "https://localhost:8080/"
    },
    "execution": {
     "iopub.execute_input": "2021-07-13T08:25:31.535899Z",
     "iopub.status.busy": "2021-07-13T08:25:31.535536Z",
     "iopub.status.idle": "2021-07-13T08:25:31.545621Z",
     "shell.execute_reply": "2021-07-13T08:25:31.544746Z",
     "shell.execute_reply.started": "2021-07-13T08:25:31.535862Z"
    },
    "id": "QHtkhw_VJHPf",
    "outputId": "99524fee-2d8d-45da-c40b-60c8947d8ec9"
   },
   "source": [
    "df['DAYS_LAST_PHONE_CHANGE'].unique()"
   ],
   "outputs": [],
   "execution_count": null
  },
  {
   "cell_type": "code",
   "metadata": {
    "colab": {
     "base_uri": "https://localhost:8080/"
    },
    "execution": {
     "iopub.execute_input": "2021-07-13T08:25:31.546848Z",
     "iopub.status.busy": "2021-07-13T08:25:31.546615Z",
     "iopub.status.idle": "2021-07-13T08:25:31.55963Z",
     "shell.execute_reply": "2021-07-13T08:25:31.558776Z",
     "shell.execute_reply.started": "2021-07-13T08:25:31.546825Z"
    },
    "id": "4fYE99TBJHPf",
    "outputId": "6371c111-8b99-48c3-bbe4-9e3fd336b9cb"
   },
   "source": [
    "df['DAYS_LAST_PHONE_CHANGE'].nunique()"
   ],
   "outputs": [],
   "execution_count": null
  },
  {
   "cell_type": "markdown",
   "metadata": {
    "id": "E7j9n51gJHPf"
   },
   "source": [
    "Перетворення `DAYS_LAST_PHONE_CHANGE` в додатні дні"
   ]
  },
  {
   "cell_type": "code",
   "metadata": {
    "execution": {
     "iopub.execute_input": "2021-07-13T08:25:31.561784Z",
     "iopub.status.busy": "2021-07-13T08:25:31.561049Z",
     "iopub.status.idle": "2021-07-13T08:25:31.704445Z",
     "shell.execute_reply": "2021-07-13T08:25:31.703582Z",
     "shell.execute_reply.started": "2021-07-13T08:25:31.561746Z"
    },
    "id": "Rjtdu65JJHPf"
   },
   "source": [
    "df['DAYS_LAST_PHONE_CHANGE'] = df['DAYS_LAST_PHONE_CHANGE'].apply(lambda x: -x if x < 0 else x)"
   ],
   "outputs": [],
   "execution_count": null
  },
  {
   "cell_type": "code",
   "metadata": {
    "colab": {
     "base_uri": "https://localhost:8080/"
    },
    "execution": {
     "iopub.execute_input": "2021-07-13T08:25:31.705787Z",
     "iopub.status.busy": "2021-07-13T08:25:31.705543Z",
     "iopub.status.idle": "2021-07-13T08:25:31.720562Z",
     "shell.execute_reply": "2021-07-13T08:25:31.719714Z",
     "shell.execute_reply.started": "2021-07-13T08:25:31.705763Z"
    },
    "id": "DlMd0qO5JHPf",
    "outputId": "0bc08d2d-c613-4ebd-ef7e-d84d45ba14ed",
    "scrolled": true
   },
   "source": [
    "df['DAYS_LAST_PHONE_CHANGE'].value_counts().head()"
   ],
   "outputs": [],
   "execution_count": null
  },
  {
   "cell_type": "markdown",
   "metadata": {
    "id": "XW0OxUImJHPf"
   },
   "source": [
    "Всі дні в `DAYS_LAST_PHONE_CHANGE` мають додатні значення"
   ]
  },
  {
   "cell_type": "markdown",
   "metadata": {
    "id": "y9zKqcRQJHPg"
   },
   "source": [
    "#### Створення нової колонки `YEARS_LAST_PHONE_CHANGE` для зручності аналізу"
   ]
  },
  {
   "cell_type": "code",
   "metadata": {
    "execution": {
     "iopub.execute_input": "2021-07-13T08:25:31.722262Z",
     "iopub.status.busy": "2021-07-13T08:25:31.721825Z",
     "iopub.status.idle": "2021-07-13T08:25:32.0418Z",
     "shell.execute_reply": "2021-07-13T08:25:32.04114Z",
     "shell.execute_reply.started": "2021-07-13T08:25:31.722222Z"
    },
    "id": "jJeVfoClJHPg"
   },
   "source": [
    "df['YEARS_LAST_PHONE_CHANGE'] = df['DAYS_LAST_PHONE_CHANGE'].apply(lambda x: round(x/365,0))"
   ],
   "outputs": [],
   "execution_count": null
  },
  {
   "cell_type": "markdown",
   "metadata": {
    "id": "D7F_F42bJHPg"
   },
   "source": [
    "# Автоматичні функції"
   ]
  },
  {
   "cell_type": "markdown",
   "metadata": {
    "id": "sr7ni3l7JHPg"
   },
   "source": [
    "### Створення функції `age_cat` для категоризації `YEARS_BORNING`"
   ]
  },
  {
   "cell_type": "code",
   "metadata": {
    "execution": {
     "iopub.execute_input": "2021-07-13T08:25:32.050353Z",
     "iopub.status.busy": "2021-07-13T08:25:32.049944Z",
     "iopub.status.idle": "2021-07-13T08:25:32.062121Z",
     "shell.execute_reply": "2021-07-13T08:25:32.061519Z",
     "shell.execute_reply.started": "2021-07-13T08:25:32.050326Z"
    },
    "id": "0M2B0CrYJHPg"
   },
   "source": [
    "def age_cat(years):\n",
    "    if years <= 20:\n",
    "        return '0-20'\n",
    "    elif years > 20 and years <= 30:\n",
    "        return '20-30'\n",
    "    elif years > 30 and years <= 40:\n",
    "        return '30-40'\n",
    "    elif years > 40 and years <= 50:\n",
    "        return '40-50'\n",
    "    elif years > 50 and years <= 60:\n",
    "        return '50-60'\n",
    "    elif years > 60 and years <= 70:\n",
    "        return '60-70'\n",
    "    elif years > 70:\n",
    "        return '70+'"
   ],
   "outputs": [],
   "execution_count": null
  },
  {
   "cell_type": "markdown",
   "metadata": {
    "id": "oTHvaOfzJHPg"
   },
   "source": [
    "### Одномірний (категоріальний vs цільовий) та двомірний (категоріальний vs категоріальний) аналіз (гістограма) - категоріальні стовпчики"
   ]
  },
  {
   "cell_type": "code",
   "metadata": {
    "id": "iORGhYObtbsS"
   },
   "source": [
    "import matplotlib.pyplot as plt\n",
    "\n",
    "\n",
    "def bi_cat_countplot(df, column, hue_column):\n",
    "    unique_hue_values = df[hue_column].unique()\n",
    "    fig, axes = plt.subplots(nrows=1, ncols=2)\n",
    "    fig.set_size_inches(14,6)\n",
    "\n",
    "    pltname = f'Нормалізований розподіл значень за категорією: {column}'\n",
    "    proportions = df.groupby(hue_column)[column].value_counts(normalize=True)\n",
    "    proportions = (proportions*100).round(2)\n",
    "    ax = proportions.unstack(hue_column).sort_values(\n",
    "        by=unique_hue_values[0], ascending=False\n",
    "        ).plot.bar(ax=axes[0], title=pltname)\n",
    "\n",
    "    # анотація значень в барплоті\n",
    "    for container in ax.containers:\n",
    "        ax.bar_label(container, fmt='{:,.1f}%')\n",
    "\n",
    "    pltname = f'Кількість даних за категорією: {column}'\n",
    "    counts = df.groupby(hue_column)[column].value_counts()\n",
    "    ax = counts.unstack(hue_column).sort_values(\n",
    "        by=unique_hue_values[0], ascending=False\n",
    "        ).plot.bar(ax=axes[1], title=pltname)\n",
    "\n",
    "    for container in ax.containers:\n",
    "      ax.bar_label(container)\n",
    "\n",
    "\n",
    "def uni_cat_target_compare(df, column):\n",
    "    bi_cat_countplot(df, column, hue_column='TARGET' )\n",
    "\n",
    "\n",
    "def bi_countplot_target(df0, df1, column, hue_column):\n",
    "  pltname = 'Клієнт зі складнощами щодо платності'\n",
    "  print(pltname.upper())\n",
    "  bi_cat_countplot(df1, column, hue_column)\n",
    "  plt.show()\n",
    "\n",
    "  pltname = 'Клієнти зі своєчасними платежами'\n",
    "  print(pltname.upper())\n",
    "  bi_cat_countplot(df0, column, hue_column)\n",
    "  plt.show()\n"
   ],
   "outputs": [],
   "execution_count": null
  },
  {
   "cell_type": "markdown",
   "metadata": {
    "id": "PLxaIzbSJHPh"
   },
   "source": [
    "### Обчислення мінімального та максимального діапазону відхилень для числових стовпців"
   ]
  },
  {
   "cell_type": "code",
   "metadata": {
    "execution": {
     "iopub.execute_input": "2021-07-13T08:25:32.101362Z",
     "iopub.status.busy": "2021-07-13T08:25:32.10072Z",
     "iopub.status.idle": "2021-07-13T08:25:32.113197Z",
     "shell.execute_reply": "2021-07-13T08:25:32.112459Z",
     "shell.execute_reply.started": "2021-07-13T08:25:32.101324Z"
    },
    "id": "PTsvq9Q1JHPi"
   },
   "source": [
    "def outlier_range(dataset,column):\n",
    "    Q1 = dataset[column].quantile(0.25)\n",
    "    Q3 = dataset[column].quantile(0.75)\n",
    "    IQR = Q3 - Q1\n",
    "    Min_value = (Q1 - 1.5 * IQR)\n",
    "    Max_value = (Q3 + 1.5 * IQR)\n",
    "    return Max_value"
   ],
   "outputs": [],
   "execution_count": null
  },
  {
   "cell_type": "markdown",
   "metadata": {
    "id": "jhThQ65UJHPk"
   },
   "source": [
    "# Робота з викидами для числових стовпців"
   ]
  },
  {
   "cell_type": "code",
   "metadata": {
    "id": "-XQDIjWkDixb"
   },
   "source": [
    "import warnings\n",
    "\n",
    "def dist_box(dataset, column):\n",
    "    with warnings.catch_warnings():\n",
    "      warnings.simplefilter(\"ignore\")\n",
    "\n",
    "      plt.figure(figsize=(16,6))\n",
    "\n",
    "      plt.subplot(1,2,1)\n",
    "      sns.distplot(dataset[column], color = 'purple')\n",
    "      pltname = 'Графік розподілу для ' + column\n",
    "      plt.ticklabel_format(style='plain', axis='x')\n",
    "      plt.title(pltname)\n",
    "\n",
    "      plt.subplot(1,2,2)\n",
    "      red_diamond = dict(markerfacecolor='r', marker='D')\n",
    "      sns.boxplot(y = column, data = dataset, flierprops = red_diamond)\n",
    "      pltname = 'Боксплот для ' + column\n",
    "      plt.title(pltname)\n",
    "\n",
    "      plt.show()"
   ],
   "outputs": [],
   "execution_count": null
  },
  {
   "cell_type": "markdown",
   "metadata": {
    "id": "Q8gJ_32AJHPk"
   },
   "source": [
    "### Аналіз стовпця`CNT_CHILDREN`"
   ]
  },
  {
   "cell_type": "code",
   "metadata": {
    "colab": {
     "base_uri": "https://localhost:8080/"
    },
    "execution": {
     "iopub.execute_input": "2021-07-13T08:25:32.190935Z",
     "iopub.status.busy": "2021-07-13T08:25:32.190488Z",
     "iopub.status.idle": "2021-07-13T08:25:32.205436Z",
     "shell.execute_reply": "2021-07-13T08:25:32.204605Z",
     "shell.execute_reply.started": "2021-07-13T08:25:32.190893Z"
    },
    "id": "2jraQBy9JHPk",
    "outputId": "b9d03c60-a34f-4079-f662-f08251d3049d"
   },
   "source": [
    "df['CNT_CHILDREN'].value_counts().sort_values(ascending = False).head()"
   ],
   "outputs": [],
   "execution_count": null
  },
  {
   "cell_type": "code",
   "metadata": {
    "colab": {
     "base_uri": "https://localhost:8080/"
    },
    "execution": {
     "iopub.execute_input": "2021-07-13T08:25:32.206784Z",
     "iopub.status.busy": "2021-07-13T08:25:32.206506Z",
     "iopub.status.idle": "2021-07-13T08:25:32.216669Z",
     "shell.execute_reply": "2021-07-13T08:25:32.215896Z",
     "shell.execute_reply.started": "2021-07-13T08:25:32.206759Z"
    },
    "id": "ZkfjWL_LJHPk",
    "outputId": "ceede711-06dd-4805-b6e3-6ce8e959a21b"
   },
   "source": [
    "(df['CNT_CHILDREN'].value_counts(normalize = True).sort_values(ascending = False) * 100).head()"
   ],
   "outputs": [],
   "execution_count": null
  },
  {
   "cell_type": "code",
   "metadata": {
    "colab": {
     "base_uri": "https://localhost:8080/",
     "height": 525
    },
    "id": "fXCcq5yBDqko",
    "outputId": "b0b9c915-b7f5-48a9-b09c-2120807418e8"
   },
   "source": [
    "dist_box(df,'CNT_CHILDREN')"
   ],
   "outputs": [],
   "execution_count": null
  },
  {
   "cell_type": "markdown",
   "metadata": {
    "id": "a6ulEqWZJHPl"
   },
   "source": [
    "Розрахуємо IQR (Inter Quartile range)"
   ]
  },
  {
   "cell_type": "code",
   "metadata": {
    "colab": {
     "base_uri": "https://localhost:8080/"
    },
    "execution": {
     "iopub.execute_input": "2021-07-13T08:25:33.945673Z",
     "iopub.status.busy": "2021-07-13T08:25:33.945409Z",
     "iopub.status.idle": "2021-07-13T08:25:33.95874Z",
     "shell.execute_reply": "2021-07-13T08:25:33.957805Z",
     "shell.execute_reply.started": "2021-07-13T08:25:33.945649Z"
    },
    "id": "aS5leqb2JHPl",
    "outputId": "9c5e0411-8d6a-4e31-8266-2ac4045bd8bb"
   },
   "source": [
    "Q1 = df['CNT_CHILDREN'].quantile(0.25)\n",
    "Q3 = df['CNT_CHILDREN'].quantile(0.75)\n",
    "IQR = Q3 - Q1\n",
    "print(IQR)"
   ],
   "outputs": [],
   "execution_count": null
  },
  {
   "cell_type": "markdown",
   "metadata": {
    "id": "JZZvBiBTJHPl"
   },
   "source": [
    "Значення *до* (Q1 - 1,5 * IQR) та *після* (Q3 + 1,5 * IQR) є викидами"
   ]
  },
  {
   "cell_type": "code",
   "metadata": {
    "colab": {
     "base_uri": "https://localhost:8080/"
    },
    "execution": {
     "iopub.execute_input": "2021-07-13T08:25:33.959934Z",
     "iopub.status.busy": "2021-07-13T08:25:33.959676Z",
     "iopub.status.idle": "2021-07-13T08:25:33.964492Z",
     "shell.execute_reply": "2021-07-13T08:25:33.963709Z",
     "shell.execute_reply.started": "2021-07-13T08:25:33.95991Z"
    },
    "id": "w2pd56P8JHPl",
    "outputId": "dc69f23a-e82f-4d46-84e6-02c01f646889"
   },
   "source": [
    "Min_value = (Q1 - 1.5 * IQR)\n",
    "Max_value = (Q3 + 1.5 * IQR)\n",
    "print(\"Мінімальне значення, до якого існують викиди: {}\".format(Min_value))\n",
    "print(\"Максимальне значення, після якого існують викиди: {}\".format(Max_value))"
   ],
   "outputs": [],
   "execution_count": null
  },
  {
   "cell_type": "markdown",
   "metadata": {
    "id": "NcT5qv9LJHPl"
   },
   "source": [
    "**Спостереження**\n",
    "- Дивлячись на дані, ми бачимо, що кількість заявників, які мають більше 7 дітей, є дуже мінімальною (2 або 3 в кожній категорії)\n",
    "- Крім того, дивлячись на дані для заявників з 10 дітьми, заявники мають лише 31 й 41 рік відповідно. Це виглядає як одиничний випадок й може розглядатися як відхилення від норми\n",
    "- Як дистрибутивні, так і діаграми розмаху чітко показують, що значення, які перевищують значення 2.5, є відхиленнями від норми.\n",
    "\n",
    "**Висновок**\n",
    "- Заявники, які мають 3 або більше дітей, є випадками, що відхиляються від норми. Ми можемо надати спеціальний аналіз для цих випадків."
   ]
  },
  {
   "cell_type": "markdown",
   "metadata": {
    "id": "6cwlRBetJHPl"
   },
   "source": [
    "### Аналіз стовпця `AMT_INCOME_TOTAL`"
   ]
  },
  {
   "cell_type": "code",
   "metadata": {
    "colab": {
     "base_uri": "https://localhost:8080/"
    },
    "execution": {
     "iopub.execute_input": "2021-07-13T08:25:33.966068Z",
     "iopub.status.busy": "2021-07-13T08:25:33.965781Z",
     "iopub.status.idle": "2021-07-13T08:25:33.984149Z",
     "shell.execute_reply": "2021-07-13T08:25:33.983393Z",
     "shell.execute_reply.started": "2021-07-13T08:25:33.966042Z"
    },
    "id": "W5DyzI9IJHPm",
    "outputId": "05ed626c-04d4-4a53-a92a-d4e640588c2f"
   },
   "source": [
    "df['AMT_INCOME_TOTAL'].value_counts().sort_values(ascending = False).head()"
   ],
   "outputs": [],
   "execution_count": null
  },
  {
   "cell_type": "code",
   "metadata": {
    "colab": {
     "base_uri": "https://localhost:8080/"
    },
    "execution": {
     "iopub.execute_input": "2021-07-13T08:25:33.985593Z",
     "iopub.status.busy": "2021-07-13T08:25:33.985256Z",
     "iopub.status.idle": "2021-07-13T08:25:33.998653Z",
     "shell.execute_reply": "2021-07-13T08:25:33.997895Z",
     "shell.execute_reply.started": "2021-07-13T08:25:33.985559Z"
    },
    "id": "_cv3OhfnJHPm",
    "outputId": "90dd4c47-1bbc-4fa5-805d-1486278e0067"
   },
   "source": [
    "(df['AMT_INCOME_TOTAL'].value_counts(normalize = True).sort_values(ascending = False) * 100).head()"
   ],
   "outputs": [],
   "execution_count": null
  },
  {
   "cell_type": "code",
   "metadata": {
    "colab": {
     "base_uri": "https://localhost:8080/"
    },
    "execution": {
     "iopub.execute_input": "2021-07-13T08:25:34.000249Z",
     "iopub.status.busy": "2021-07-13T08:25:33.999879Z",
     "iopub.status.idle": "2021-07-13T08:25:34.020399Z",
     "shell.execute_reply": "2021-07-13T08:25:34.019487Z",
     "shell.execute_reply.started": "2021-07-13T08:25:34.00021Z"
    },
    "id": "C2JZLOYMJHPm",
    "outputId": "9c782a50-b5d7-44fa-8b02-88e544027aa4"
   },
   "source": [
    "df['AMT_INCOME_TOTAL'].describe(percentiles = [0.75,0.99,0.999])"
   ],
   "outputs": [],
   "execution_count": null
  },
  {
   "cell_type": "markdown",
   "metadata": {
    "id": "2IaCmSNKJHPm"
   },
   "source": [
    "Побудуємо графік для `AMT_INCOME_TOTAL`"
   ]
  },
  {
   "cell_type": "code",
   "metadata": {
    "colab": {
     "base_uri": "https://localhost:8080/",
     "height": 520
    },
    "execution": {
     "iopub.execute_input": "2021-07-13T08:25:34.021761Z",
     "iopub.status.busy": "2021-07-13T08:25:34.021492Z",
     "iopub.status.idle": "2021-07-13T08:25:35.551749Z",
     "shell.execute_reply": "2021-07-13T08:25:35.550813Z",
     "shell.execute_reply.started": "2021-07-13T08:25:34.021724Z"
    },
    "id": "DpIlC7iXJHPm",
    "outputId": "c60e73e1-87d6-4d6b-e352-9beac7dd00bf"
   },
   "source": [
    "dist_box(df,'AMT_INCOME_TOTAL')"
   ],
   "outputs": [],
   "execution_count": null
  },
  {
   "cell_type": "markdown",
   "metadata": {
    "id": "eW36dwf4JHPm"
   },
   "source": [
    "- Графіки кінцевого результату дуже тонкі, й ми можемо спостерігати викид близько ~120 мільйонів.\n",
    "- Давайте побудуємо графік, розглядаючи лише дохід нижче 99,9% значення, тобто 900 тисяч."
   ]
  },
  {
   "cell_type": "code",
   "metadata": {
    "colab": {
     "base_uri": "https://localhost:8080/",
     "height": 464
    },
    "execution": {
     "iopub.execute_input": "2021-07-13T08:25:35.553166Z",
     "iopub.status.busy": "2021-07-13T08:25:35.552883Z",
     "iopub.status.idle": "2021-07-13T08:25:37.690172Z",
     "shell.execute_reply": "2021-07-13T08:25:37.689118Z",
     "shell.execute_reply.started": "2021-07-13T08:25:35.553125Z"
    },
    "id": "UED9OdRZJHPm",
    "outputId": "72e1d7c6-0581-4c59-8342-9c108193ec7f"
   },
   "source": [
    "with warnings.catch_warnings():\n",
    "    warnings.simplefilter(\"ignore\")\n",
    "    plt.subplots(1,2 ,figsize = (20,8))\n",
    "\n",
    "    plt.subplot(121)\n",
    "    sns.distplot(df[df['AMT_INCOME_TOTAL'] < 900000].AMT_INCOME_TOTAL)\n",
    "    pltname = 'Distplot of ' + 'AMT_INCOME_TOTAL'\n",
    "    plt.title(pltname)\n",
    "\n",
    "    plt.subplot(122)\n",
    "    sns.boxplot(df[df['AMT_INCOME_TOTAL'] < 900000].AMT_INCOME_TOTAL)\n",
    "    pltname = 'Boxplot of ' + 'AMT_INCOME_TOTAL'\n",
    "    plt.title(pltname)\n",
    "\n",
    "    plt.tight_layout(pad = 4)\n",
    "    plt.show()"
   ],
   "outputs": [],
   "execution_count": null
  },
  {
   "cell_type": "markdown",
   "metadata": {
    "id": "IADafxmMJHPm"
   },
   "source": [
    "Тепер ми можемо чітко побачити розподіл і діапазон даних на обох графіках.\n",
    " - Це означає, що значення понад 900 тис. грн доходу явно є викидами"
   ]
  },
  {
   "cell_type": "code",
   "metadata": {
    "colab": {
     "base_uri": "https://localhost:8080/",
     "height": 313
    },
    "execution": {
     "iopub.execute_input": "2021-07-13T08:25:37.69196Z",
     "iopub.status.busy": "2021-07-13T08:25:37.691587Z",
     "iopub.status.idle": "2021-07-13T08:25:37.739717Z",
     "shell.execute_reply": "2021-07-13T08:25:37.738902Z",
     "shell.execute_reply.started": "2021-07-13T08:25:37.69192Z"
    },
    "id": "tufmGB63JHPn",
    "outputId": "12172ade-d6be-4c10-faec-49d368a5d645"
   },
   "source": [
    "df[df['AMT_INCOME_TOTAL'] > 900000].head()"
   ],
   "outputs": [],
   "execution_count": null
  },
  {
   "cell_type": "markdown",
   "metadata": {
    "id": "kDkGXaycJHPn"
   },
   "source": [
    "**Спостереження**\n",
    "- Дивлячись на дані, ми бачимо, що дохід понад 900 тис. грн (99,9% значення) є викидом\n",
    "- Як діаграма розподілу, так і діаграма розмаху чітко показують нам ту саму тенденцію\n",
    "\n",
    "**Висновок**\n",
    "- Апліканти з доходом понад 900 тис. грн (99,9% значення) є викидами"
   ]
  },
  {
   "cell_type": "markdown",
   "metadata": {
    "id": "leXOG-sp4QcY"
   },
   "source": [
    "# ДЗ 3. Аналіз викидів\n",
    "\n",
    "Подібно до прикладу, проаналізуйте на викиди колонок\n",
    "- `CNT_FAM_MEMBERS`\n",
    "- `AMT_ANNUITY`\n",
    "\n",
    "Зазначте, які значення в них можна вважати викидами."
   ]
  },
  {
   "cell_type": "code",
   "metadata": {
    "id": "nBd3x3dMafQn"
   },
   "source": [],
   "outputs": [],
   "execution_count": null
  },
  {
   "cell_type": "markdown",
   "metadata": {
    "id": "Zo_9TX2VJHPt"
   },
   "source": [
    "# Розбиття на біни безперервних колонок для аналізу"
   ]
  },
  {
   "cell_type": "markdown",
   "metadata": {
    "id": "xohswyP5JHPt"
   },
   "source": [
    "### Категоризація стовпця `AMT_GOODS_PRICE"
   ]
  },
  {
   "cell_type": "code",
   "metadata": {
    "colab": {
     "base_uri": "https://localhost:8080/"
    },
    "execution": {
     "iopub.execute_input": "2021-07-13T08:25:53.475996Z",
     "iopub.status.busy": "2021-07-13T08:25:53.47573Z",
     "iopub.status.idle": "2021-07-13T08:25:53.488201Z",
     "shell.execute_reply": "2021-07-13T08:25:53.487244Z",
     "shell.execute_reply.started": "2021-07-13T08:25:53.475967Z"
    },
    "id": "N0LH0jNZJHPt",
    "outputId": "ebc71b82-c1c6-42c5-ad7e-7cfdb851a544"
   },
   "source": [
    "df['AMT_GOODS_PRICE'].value_counts().sort_values(ascending = False).head()"
   ],
   "outputs": [],
   "execution_count": null
  },
  {
   "cell_type": "code",
   "metadata": {
    "colab": {
     "base_uri": "https://localhost:8080/"
    },
    "execution": {
     "iopub.execute_input": "2021-07-13T08:25:53.489569Z",
     "iopub.status.busy": "2021-07-13T08:25:53.489326Z",
     "iopub.status.idle": "2021-07-13T08:25:53.503557Z",
     "shell.execute_reply": "2021-07-13T08:25:53.502862Z",
     "shell.execute_reply.started": "2021-07-13T08:25:53.489545Z"
    },
    "id": "1RNI2jpSJHPu",
    "outputId": "b6c67319-c6d0-47e2-9d66-8d482461f385"
   },
   "source": [
    "(df['AMT_GOODS_PRICE'].value_counts(normalize = True).sort_values(ascending = False) * 100).head()"
   ],
   "outputs": [],
   "execution_count": null
  },
  {
   "cell_type": "markdown",
   "metadata": {
    "id": "DQ9KotV9JHPu"
   },
   "source": [
    "Подивимось статистичний звіт для `AMT_GOODS_PRICE"
   ]
  },
  {
   "cell_type": "code",
   "metadata": {
    "colab": {
     "base_uri": "https://localhost:8080/"
    },
    "execution": {
     "iopub.execute_input": "2021-07-13T08:25:53.505165Z",
     "iopub.status.busy": "2021-07-13T08:25:53.504779Z",
     "iopub.status.idle": "2021-07-13T08:25:53.524525Z",
     "shell.execute_reply": "2021-07-13T08:25:53.52368Z",
     "shell.execute_reply.started": "2021-07-13T08:25:53.505127Z"
    },
    "id": "er35sCfnJHPu",
    "outputId": "ad2e6245-0054-4fdf-e95e-18ebfed2cab4"
   },
   "source": [
    "df['AMT_GOODS_PRICE'].describe(percentiles = [0.25,0.75,0.99,0.9999])"
   ],
   "outputs": [],
   "execution_count": null
  },
  {
   "cell_type": "markdown",
   "metadata": {
    "id": "ne1vmhbVJHPu"
   },
   "source": [
    "Розподілимо значення в `AMT_GOODS_PRICE` на 5 бінів і створимо новий стовпець `AMT_GOODS_PRICE_CATEGORY`."
   ]
  },
  {
   "cell_type": "code",
   "metadata": {
    "execution": {
     "iopub.execute_input": "2021-07-13T08:25:53.525931Z",
     "iopub.status.busy": "2021-07-13T08:25:53.525665Z",
     "iopub.status.idle": "2021-07-13T08:25:53.540286Z",
     "shell.execute_reply": "2021-07-13T08:25:53.539435Z",
     "shell.execute_reply.started": "2021-07-13T08:25:53.525905Z"
    },
    "id": "T7Lj0SnPJHPu"
   },
   "source": [
    "df['AMT_GOODS_PRICE_CATEGORY'] = pd.cut(df['AMT_GOODS_PRICE'],\n",
    "                                        bins = 5, labels = ['very low', 'low', 'medium', 'high', 'very high'])"
   ],
   "outputs": [],
   "execution_count": null
  },
  {
   "cell_type": "markdown",
   "metadata": {
    "id": "zfNxz6Y9JHPu"
   },
   "source": [
    "Перевірка заповнення значень згідно з очікуванням"
   ]
  },
  {
   "cell_type": "code",
   "metadata": {
    "colab": {
     "base_uri": "https://localhost:8080/"
    },
    "execution": {
     "iopub.execute_input": "2021-07-13T08:25:53.541985Z",
     "iopub.status.busy": "2021-07-13T08:25:53.541576Z",
     "iopub.status.idle": "2021-07-13T08:25:53.552806Z",
     "shell.execute_reply": "2021-07-13T08:25:53.551842Z",
     "shell.execute_reply.started": "2021-07-13T08:25:53.541944Z"
    },
    "id": "kg3F8LwMJHPu",
    "outputId": "e5b6cffc-5bd1-4f67-9b2c-559048f58705"
   },
   "source": [
    "df['AMT_GOODS_PRICE_CATEGORY'].value_counts()"
   ],
   "outputs": [],
   "execution_count": null
  },
  {
   "cell_type": "markdown",
   "metadata": {
    "id": "agiCFtlYJHPv"
   },
   "source": [
    "### Категоризація стовпця `YEARS_BIRTH`"
   ]
  },
  {
   "cell_type": "markdown",
   "metadata": {
    "id": "Y3cbER62JHPv"
   },
   "source": [
    "Ми будемо класифікувати `YEARS_BIRTH` замість `DAYS_BIRTH`, оскільки роки легше інтерпретувати, ніж дні"
   ]
  },
  {
   "cell_type": "code",
   "metadata": {
    "colab": {
     "base_uri": "https://localhost:8080/"
    },
    "execution": {
     "iopub.execute_input": "2021-07-13T08:25:53.554399Z",
     "iopub.status.busy": "2021-07-13T08:25:53.554064Z",
     "iopub.status.idle": "2021-07-13T08:25:53.564195Z",
     "shell.execute_reply": "2021-07-13T08:25:53.563232Z",
     "shell.execute_reply.started": "2021-07-13T08:25:53.554372Z"
    },
    "id": "xWDSYx5bJHPv",
    "outputId": "385bc9f0-46c9-496c-cbc0-22011b731d56"
   },
   "source": [
    "df['YEARS_BIRTH'].value_counts().sort_values(ascending = False).head()"
   ],
   "outputs": [],
   "execution_count": null
  },
  {
   "cell_type": "code",
   "metadata": {
    "colab": {
     "base_uri": "https://localhost:8080/"
    },
    "execution": {
     "iopub.execute_input": "2021-07-13T08:25:53.56583Z",
     "iopub.status.busy": "2021-07-13T08:25:53.565374Z",
     "iopub.status.idle": "2021-07-13T08:25:53.577338Z",
     "shell.execute_reply": "2021-07-13T08:25:53.576392Z",
     "shell.execute_reply.started": "2021-07-13T08:25:53.565802Z"
    },
    "id": "v3IOovvgJHPv",
    "outputId": "f6175e29-d9c1-489d-de6f-7cf4e2ab23d8"
   },
   "source": [
    "(df['YEARS_BIRTH'].value_counts(normalize = True).sort_values(ascending = False) * 100).head()"
   ],
   "outputs": [],
   "execution_count": null
  },
  {
   "cell_type": "markdown",
   "metadata": {
    "id": "BKURbIzhJHPv"
   },
   "source": [
    "Подивимось статистичний звіт для  `YEARS_BIRTH`"
   ]
  },
  {
   "cell_type": "code",
   "metadata": {
    "colab": {
     "base_uri": "https://localhost:8080/"
    },
    "execution": {
     "iopub.execute_input": "2021-07-13T08:25:53.578758Z",
     "iopub.status.busy": "2021-07-13T08:25:53.578492Z",
     "iopub.status.idle": "2021-07-13T08:25:53.600378Z",
     "shell.execute_reply": "2021-07-13T08:25:53.599417Z",
     "shell.execute_reply.started": "2021-07-13T08:25:53.578732Z"
    },
    "id": "kB_1xNXQJHPv",
    "outputId": "67d3723f-55e4-44ba-abe0-3dfb55a17e89"
   },
   "source": [
    "df['YEARS_BIRTH'].describe(percentiles = [0.25,0.75,0.99,0.9999])"
   ],
   "outputs": [],
   "execution_count": null
  },
  {
   "cell_type": "markdown",
   "metadata": {
    "id": "4vb0eeNjJHPw"
   },
   "source": [
    "Категоризуймо значення з `YEARS_BIRTH` у новий стовпець `YEARS_BIRTH_CATEGORY`."
   ]
  },
  {
   "cell_type": "code",
   "metadata": {
    "execution": {
     "iopub.execute_input": "2021-07-13T08:25:53.601852Z",
     "iopub.status.busy": "2021-07-13T08:25:53.601387Z",
     "iopub.status.idle": "2021-07-13T08:25:53.751381Z",
     "shell.execute_reply": "2021-07-13T08:25:53.750676Z",
     "shell.execute_reply.started": "2021-07-13T08:25:53.601807Z"
    },
    "id": "6OEtY5lJJHPw"
   },
   "source": [
    "df['YEARS_BIRTH_CATEGORY'] = df['YEARS_BIRTH'].apply(age_cat)"
   ],
   "outputs": [],
   "execution_count": null
  },
  {
   "cell_type": "markdown",
   "metadata": {
    "id": "mO7bUT9SJHPw"
   },
   "source": [
    "Перевірка заповнення значень згідно з очікуванням"
   ]
  },
  {
   "cell_type": "code",
   "metadata": {
    "colab": {
     "base_uri": "https://localhost:8080/"
    },
    "execution": {
     "iopub.execute_input": "2021-07-13T08:25:53.752902Z",
     "iopub.status.busy": "2021-07-13T08:25:53.752456Z",
     "iopub.status.idle": "2021-07-13T08:25:53.831497Z",
     "shell.execute_reply": "2021-07-13T08:25:53.830449Z",
     "shell.execute_reply.started": "2021-07-13T08:25:53.752867Z"
    },
    "id": "UHcvHyM5JHPw",
    "outputId": "9c8c0f4f-cbed-4c75-a05d-05802cb3ff99"
   },
   "source": [
    "df['YEARS_BIRTH_CATEGORY'].value_counts().sort_values(ascending = False)"
   ],
   "outputs": [],
   "execution_count": null
  },
  {
   "cell_type": "markdown",
   "metadata": {
    "id": "qPq5ltD-JHPw"
   },
   "source": [
    "### Категоризація стовпця `YEARS_REGISTRATION`"
   ]
  },
  {
   "cell_type": "markdown",
   "metadata": {
    "id": "jZM35CjsJHPw"
   },
   "source": [
    "Ми будемо класифікувати `YEARS_REGISTRATION` замість `DAYS_REGISTRATION`, оскільки роки легше інтерпретувати, ніж дні"
   ]
  },
  {
   "cell_type": "code",
   "metadata": {
    "colab": {
     "base_uri": "https://localhost:8080/"
    },
    "execution": {
     "iopub.execute_input": "2021-07-13T08:25:53.833085Z",
     "iopub.status.busy": "2021-07-13T08:25:53.832787Z",
     "iopub.status.idle": "2021-07-13T08:25:53.847473Z",
     "shell.execute_reply": "2021-07-13T08:25:53.846594Z",
     "shell.execute_reply.started": "2021-07-13T08:25:53.83304Z"
    },
    "id": "h4W4FTgaJHPw",
    "outputId": "242c1c53-1257-436b-dc49-558a1fdeb2db",
    "scrolled": true
   },
   "source": [
    "df['YEARS_REGISTRATION'].value_counts().sort_values(ascending = False).head()"
   ],
   "outputs": [],
   "execution_count": null
  },
  {
   "cell_type": "code",
   "metadata": {
    "colab": {
     "base_uri": "https://localhost:8080/"
    },
    "execution": {
     "iopub.execute_input": "2021-07-13T08:25:53.848731Z",
     "iopub.status.busy": "2021-07-13T08:25:53.848491Z",
     "iopub.status.idle": "2021-07-13T08:25:53.859476Z",
     "shell.execute_reply": "2021-07-13T08:25:53.858527Z",
     "shell.execute_reply.started": "2021-07-13T08:25:53.848709Z"
    },
    "id": "GyiLzF9fJHPw",
    "outputId": "63b35d55-a3ef-4a58-abe9-aa63013045fd"
   },
   "source": [
    "(df['YEARS_REGISTRATION'].value_counts(normalize = True).sort_values(ascending = False) * 100).head()"
   ],
   "outputs": [],
   "execution_count": null
  },
  {
   "cell_type": "markdown",
   "metadata": {
    "id": "T6reK4pEJHPx"
   },
   "source": [
    "Подивимось статистичний звіт для `YEARS_REGISTRATION`"
   ]
  },
  {
   "cell_type": "code",
   "metadata": {
    "colab": {
     "base_uri": "https://localhost:8080/"
    },
    "execution": {
     "iopub.execute_input": "2021-07-13T08:25:53.861497Z",
     "iopub.status.busy": "2021-07-13T08:25:53.860728Z",
     "iopub.status.idle": "2021-07-13T08:25:53.880946Z",
     "shell.execute_reply": "2021-07-13T08:25:53.880261Z",
     "shell.execute_reply.started": "2021-07-13T08:25:53.861457Z"
    },
    "id": "_JDc_C6dJHPx",
    "outputId": "1e5d35c9-0e29-401a-cf10-79988b9ef4d1"
   },
   "source": [
    "df['YEARS_REGISTRATION'].describe(percentiles = [0.25,0.75,0.99,0.9999])"
   ],
   "outputs": [],
   "execution_count": null
  },
  {
   "cell_type": "markdown",
   "metadata": {
    "id": "Aa5s1SdbJHPx"
   },
   "source": [
    "Категоризуймо значення з `YEARS_REGISTRATION` в новий стовпець `YEARS_REGISTRATION_CATEGORY`."
   ]
  },
  {
   "cell_type": "code",
   "metadata": {
    "execution": {
     "iopub.execute_input": "2021-07-13T08:25:53.882741Z",
     "iopub.status.busy": "2021-07-13T08:25:53.88209Z",
     "iopub.status.idle": "2021-07-13T08:25:53.987948Z",
     "shell.execute_reply": "2021-07-13T08:25:53.987134Z",
     "shell.execute_reply.started": "2021-07-13T08:25:53.882688Z"
    },
    "id": "nzrgfhkRJHPx"
   },
   "source": [
    "df['YEARS_REGISTRATION_CATEGORY'] = df['YEARS_REGISTRATION'].apply(age_cat)"
   ],
   "outputs": [],
   "execution_count": null
  },
  {
   "cell_type": "markdown",
   "metadata": {
    "id": "_iyBdys-JHPx"
   },
   "source": [
    "Перевірка заповнення значень згідно з очікуванням"
   ]
  },
  {
   "cell_type": "code",
   "metadata": {
    "colab": {
     "base_uri": "https://localhost:8080/"
    },
    "execution": {
     "iopub.execute_input": "2021-07-13T08:25:53.98991Z",
     "iopub.status.busy": "2021-07-13T08:25:53.989305Z",
     "iopub.status.idle": "2021-07-13T08:25:54.067716Z",
     "shell.execute_reply": "2021-07-13T08:25:54.066508Z",
     "shell.execute_reply.started": "2021-07-13T08:25:53.989864Z"
    },
    "id": "dL37qo_LJHPx",
    "outputId": "4cf48563-60f7-4869-a256-b066f94e2918"
   },
   "source": [
    "df['YEARS_REGISTRATION_CATEGORY'].value_counts().sort_values(ascending = False)"
   ],
   "outputs": [],
   "execution_count": null
  },
  {
   "cell_type": "markdown",
   "metadata": {
    "id": "tMiyz1EU3Xuh"
   },
   "source": [
    "# Зберігання оновлених даних зі стисненням"
   ]
  },
  {
   "cell_type": "code",
   "metadata": {
    "id": "hikQxnWs3b12"
   },
   "source": [
    "filename = \"drive/MyDrive/Machine Learning для людей/data/credit/application_data_processed\"\n",
    "compression_options = dict(method='zip', archive_name=f'{filename}.csv')\n",
    "df.to_csv(f'{filename}.zip', compression=compression_options, index=False)"
   ],
   "outputs": [],
   "execution_count": null
  },
  {
   "cell_type": "markdown",
   "metadata": {
    "id": "w7au9TY4JHPx"
   },
   "source": [
    "# Перевірка дисбалансу для цільового стовпця `TARGET`"
   ]
  },
  {
   "cell_type": "markdown",
   "metadata": {
    "id": "c-ap0K30JHPx"
   },
   "source": [
    "### Аналіз стовпця `TARGET`"
   ]
  },
  {
   "cell_type": "code",
   "metadata": {
    "colab": {
     "base_uri": "https://localhost:8080/"
    },
    "execution": {
     "iopub.execute_input": "2021-07-13T08:25:54.069943Z",
     "iopub.status.busy": "2021-07-13T08:25:54.069445Z",
     "iopub.status.idle": "2021-07-13T08:25:54.083614Z",
     "shell.execute_reply": "2021-07-13T08:25:54.082593Z",
     "shell.execute_reply.started": "2021-07-13T08:25:54.069904Z"
    },
    "id": "LBVMyCp1JHPx",
    "outputId": "ae56a8f2-9b32-4a32-b135-84d8e4b50c5a",
    "scrolled": true
   },
   "source": [
    "df['TARGET'].value_counts().sort_values(ascending = False)"
   ],
   "outputs": [],
   "execution_count": null
  },
  {
   "cell_type": "code",
   "metadata": {
    "colab": {
     "base_uri": "https://localhost:8080/"
    },
    "execution": {
     "iopub.execute_input": "2021-07-13T08:25:54.085398Z",
     "iopub.status.busy": "2021-07-13T08:25:54.085003Z",
     "iopub.status.idle": "2021-07-13T08:25:54.099123Z",
     "shell.execute_reply": "2021-07-13T08:25:54.098241Z",
     "shell.execute_reply.started": "2021-07-13T08:25:54.085361Z"
    },
    "id": "3FumF0IxJHPy",
    "outputId": "b89b05b4-1a69-44fb-9e17-a619964d6815"
   },
   "source": [
    "df['TARGET'].value_counts(normalize = True).sort_values(ascending = False) * 100"
   ],
   "outputs": [],
   "execution_count": null
  },
  {
   "cell_type": "code",
   "metadata": {
    "colab": {
     "base_uri": "https://localhost:8080/",
     "height": 487
    },
    "execution": {
     "iopub.execute_input": "2021-07-13T08:25:54.101197Z",
     "iopub.status.busy": "2021-07-13T08:25:54.100733Z",
     "iopub.status.idle": "2021-07-13T08:25:54.341542Z",
     "shell.execute_reply": "2021-07-13T08:25:54.340421Z",
     "shell.execute_reply.started": "2021-07-13T08:25:54.101142Z"
    },
    "id": "_tPbCEbFJHPy",
    "outputId": "ad942686-55ed-4fa8-a9fb-f891fa9b6558"
   },
   "source": [
    "plt.figure(figsize = (10,5))\n",
    "sns.countplot(x = df['TARGET'], data = df)\n",
    "plt.title('Перевірка коефіцієнта дисбалансу змінної TARGET')\n",
    "plt.show()"
   ],
   "outputs": [],
   "execution_count": null
  },
  {
   "cell_type": "markdown",
   "metadata": {
    "id": "PIcHE2vEJHPy"
   },
   "source": [
    "**Спостереження**\n",
    "\n",
    "- Ми маємо дисбаланс у змінній `TARGET` на основі % спостережень\n",
    " - Значення `TARGET` 1 - це клієнт, який має труднощі з оплатою (прострочення платежу більше ніж на X днів принаймні за одним з перших Y платежів за кредитом). Це лише 8,07% даних\n",
    " - Значення `TARGET` 0 - всі інші випадки, окрім 1. Це 91,93% даних"
   ]
  },
  {
   "cell_type": "markdown",
   "metadata": {
    "id": "3qiMX3H4JHPy"
   },
   "source": [
    "# Розподіл даних на основі `TARGET`"
   ]
  },
  {
   "cell_type": "markdown",
   "metadata": {
    "id": "Q23HVbg6JHPy"
   },
   "source": [
    "### Створіть новий фрейм даних зі значенням `TARGET` 1\n",
    "- Значення `TARGET` 1 представляє клієнта з платіжними труднощами (він/вона прострочив платіж більш ніж на X днів принаймні по одному з перших Y платежів за кредитом). Це лише 8,07% даних"
   ]
  },
  {
   "cell_type": "code",
   "metadata": {
    "execution": {
     "iopub.execute_input": "2021-07-13T08:25:54.505025Z",
     "iopub.status.busy": "2021-07-13T08:25:54.50478Z",
     "iopub.status.idle": "2021-07-13T08:25:54.605812Z",
     "shell.execute_reply": "2021-07-13T08:25:54.605079Z",
     "shell.execute_reply.started": "2021-07-13T08:25:54.505Z"
    },
    "id": "0HYFHZqhJHPy"
   },
   "source": [
    "df1 = df[df['TARGET'] == 1]"
   ],
   "outputs": [],
   "execution_count": null
  },
  {
   "cell_type": "code",
   "metadata": {
    "colab": {
     "base_uri": "https://localhost:8080/"
    },
    "execution": {
     "iopub.execute_input": "2021-07-13T08:25:54.607178Z",
     "iopub.status.busy": "2021-07-13T08:25:54.606917Z",
     "iopub.status.idle": "2021-07-13T08:25:54.614234Z",
     "shell.execute_reply": "2021-07-13T08:25:54.613339Z",
     "shell.execute_reply.started": "2021-07-13T08:25:54.607141Z"
    },
    "id": "Q1ZTg2NlJHPy",
    "outputId": "8b2f5543-3629-463f-8af5-2bbed94ed72c",
    "scrolled": true
   },
   "source": [
    "df1.TARGET.value_counts()"
   ],
   "outputs": [],
   "execution_count": null
  },
  {
   "cell_type": "markdown",
   "metadata": {
    "id": "_3jIi-1AJHPy"
   },
   "source": [
    "### Створити новий фрейм даних зі значенням `TARGET` 0\n",
    "- Значення `TARGET` 0 представляє всі інші випадки, крім 1. Це 91.93% даних"
   ]
  },
  {
   "cell_type": "code",
   "metadata": {
    "execution": {
     "iopub.execute_input": "2021-07-13T08:25:54.615679Z",
     "iopub.status.busy": "2021-07-13T08:25:54.615405Z",
     "iopub.status.idle": "2021-07-13T08:25:54.711301Z",
     "shell.execute_reply": "2021-07-13T08:25:54.710446Z",
     "shell.execute_reply.started": "2021-07-13T08:25:54.615654Z"
    },
    "id": "AINiixEsJHPz"
   },
   "source": [
    "df0 = df[df['TARGET'] == 0]"
   ],
   "outputs": [],
   "execution_count": null
  },
  {
   "cell_type": "code",
   "metadata": {
    "colab": {
     "base_uri": "https://localhost:8080/"
    },
    "execution": {
     "iopub.execute_input": "2021-07-13T08:25:54.712783Z",
     "iopub.status.busy": "2021-07-13T08:25:54.712512Z",
     "iopub.status.idle": "2021-07-13T08:25:54.721341Z",
     "shell.execute_reply": "2021-07-13T08:25:54.720463Z",
     "shell.execute_reply.started": "2021-07-13T08:25:54.712756Z"
    },
    "id": "GQXXvmnxJHPz",
    "outputId": "7d19f254-971c-4a23-cdc6-76fb01d6bccd",
    "scrolled": true
   },
   "source": [
    "df0.TARGET.value_counts()"
   ],
   "outputs": [],
   "execution_count": null
  },
  {
   "cell_type": "markdown",
   "metadata": {
    "id": "LS9xfYwxJHPz"
   },
   "source": [
    "# Одномірний аналіз категоріальних змінних"
   ]
  },
  {
   "cell_type": "markdown",
   "metadata": {
    "id": "syihRHkjJHPz"
   },
   "source": [
    "### Аналіз стовпця `NAME_CONTRACT_TYPE`"
   ]
  },
  {
   "cell_type": "code",
   "metadata": {
    "colab": {
     "base_uri": "https://localhost:8080/",
     "height": 659
    },
    "id": "92YoKIqLuZO2",
    "outputId": "d797a829-d0ff-4828-b60f-cef1063a700f"
   },
   "source": [
    "uni_cat_target_compare(df, 'NAME_CONTRACT_TYPE')"
   ],
   "outputs": [],
   "execution_count": null
  },
  {
   "cell_type": "markdown",
   "metadata": {
    "id": "DEcuDlN_JHP0"
   },
   "source": [
    "**Спостереження**\n",
    "\n",
    "- Дивлячись на гістограми, ми не бачимо суттєвих відмінностей у `NAME_CONTRACT_TYPE` між клієнтами, які мають труднощі з оплатою, та клієнтами, які платять вчасно\n",
    "\n",
    "**Висновок**\n",
    "- Колонка `NAME_CONTRACT_TYPE` не надає жодних переконливих доказів на користь клієнтів, які мають труднощі з оплатою АБО вчасно сплачують"
   ]
  },
  {
   "cell_type": "markdown",
   "metadata": {
    "id": "hl5TUMte6PS_"
   },
   "source": [
    "# ДЗ 4. Одновимірний аналіз категоріальної колонки\n",
    "\n",
    "За наведеним прикладом вище, проведіть аналіз залежності між категоріальною колонкою і цільовою для колонок\n",
    "- CODE_GENDER\n",
    "- FLAG_OWN_CAR\n",
    "\n",
    "Опціонально (для тих, кому цікаво дослідити більше даних)\n",
    "- NAME_INCOME_TYPE\n",
    "- NAME_EDUCATION_TYPE\n",
    "- NAME_FAMILY_STATUS\n",
    "\n",
    "\n",
    "Чи є вплив цих змінних на цільову та який саме?"
   ]
  },
  {
   "cell_type": "code",
   "metadata": {
    "id": "oQbFzQNHabfT"
   },
   "source": [],
   "outputs": [],
   "execution_count": null
  },
  {
   "cell_type": "markdown",
   "metadata": {
    "id": "IIKh4s1HJHP4"
   },
   "source": [
    "# Кореляційний аналіз числових змінних"
   ]
  },
  {
   "cell_type": "markdown",
   "metadata": {
    "id": "R6xVH3rxJHP5"
   },
   "source": [
    "### Побудова кореляційної матриці для випадків із платіжними труднощами"
   ]
  },
  {
   "cell_type": "code",
   "metadata": {
    "colab": {
     "base_uri": "https://localhost:8080/"
    },
    "execution": {
     "iopub.execute_input": "2021-07-13T08:26:03.968243Z",
     "iopub.status.busy": "2021-07-13T08:26:03.967822Z",
     "iopub.status.idle": "2021-07-13T08:26:03.980139Z",
     "shell.execute_reply": "2021-07-13T08:26:03.97919Z",
     "shell.execute_reply.started": "2021-07-13T08:26:03.968202Z"
    },
    "id": "-YPq2u3wJHP5",
    "outputId": "8f9772bb-5e8d-4850-963a-a46695dc6d8a"
   },
   "source": [
    "df1.select_dtypes(include=[\"int64\",\"float64\"]).shape"
   ],
   "outputs": [],
   "execution_count": null
  },
  {
   "cell_type": "markdown",
   "metadata": {
    "id": "_EDelMSKJHP5"
   },
   "source": [
    "Є 66 числових стовпчиків. Створимо кореляційну матрицб `corr` для кращого перегляду результатів"
   ]
  },
  {
   "cell_type": "code",
   "metadata": {
    "execution": {
     "iopub.execute_input": "2021-07-13T08:26:03.981604Z",
     "iopub.status.busy": "2021-07-13T08:26:03.981291Z",
     "iopub.status.idle": "2021-07-13T08:26:04.291641Z",
     "shell.execute_reply": "2021-07-13T08:26:04.290717Z",
     "shell.execute_reply.started": "2021-07-13T08:26:03.981577Z"
    },
    "id": "PKhOMudRJHP5"
   },
   "source": [
    "corr_df1 = df1.select_dtypes(include=[\"int64\",\"float64\"]).corr()"
   ],
   "outputs": [],
   "execution_count": null
  },
  {
   "cell_type": "code",
   "metadata": {
    "colab": {
     "base_uri": "https://localhost:8080/",
     "height": 226
    },
    "execution": {
     "iopub.execute_input": "2021-07-13T08:26:04.293286Z",
     "iopub.status.busy": "2021-07-13T08:26:04.292976Z",
     "iopub.status.idle": "2021-07-13T08:26:04.340185Z",
     "shell.execute_reply": "2021-07-13T08:26:04.338987Z",
     "shell.execute_reply.started": "2021-07-13T08:26:04.293258Z"
    },
    "id": "qi47ZIDrJHP5",
    "outputId": "45e49186-6016-4609-fb7b-f0dcbebb3472"
   },
   "source": [
    "corr_df1.head()"
   ],
   "outputs": [],
   "execution_count": null
  },
  {
   "cell_type": "markdown",
   "metadata": {
    "id": "SP61WHAIJHP5"
   },
   "source": [
    "Створимо теплову карту для перегляду кореляцій вище 80% і 99,99%"
   ]
  },
  {
   "cell_type": "code",
   "metadata": {
    "colab": {
     "base_uri": "https://localhost:8080/",
     "height": 1000
    },
    "execution": {
     "iopub.execute_input": "2021-07-13T08:26:04.342001Z",
     "iopub.status.busy": "2021-07-13T08:26:04.341506Z",
     "iopub.status.idle": "2021-07-13T08:26:07.254747Z",
     "shell.execute_reply": "2021-07-13T08:26:07.253842Z",
     "shell.execute_reply.started": "2021-07-13T08:26:04.341962Z"
    },
    "id": "Rzm9SrBwJHP5",
    "outputId": "dc632dda-aa3d-40bb-84b1-55b1188d8d87"
   },
   "source": [
    "plt.figure(figsize = (25,25))\n",
    "sns.heatmap(data = corr_df1[(corr_df1 >= 0.8) & (corr_df1 < 0.9999)], annot = True, cmap = \"RdYlGn\", cbar = True, fmt='.2f')\n",
    "plt.show()"
   ],
   "outputs": [],
   "execution_count": null
  },
  {
   "cell_type": "markdown",
   "metadata": {
    "id": "zJMd9nQJJHP5"
   },
   "source": [
    "### Подивимось на 10 найкращих кореляцій для випадків із платіжними труднощами"
   ]
  },
  {
   "cell_type": "code",
   "metadata": {
    "colab": {
     "base_uri": "https://localhost:8080/"
    },
    "execution": {
     "iopub.execute_input": "2021-07-13T08:26:07.2563Z",
     "iopub.status.busy": "2021-07-13T08:26:07.25601Z",
     "iopub.status.idle": "2021-07-13T08:26:07.267551Z",
     "shell.execute_reply": "2021-07-13T08:26:07.266684Z",
     "shell.execute_reply.started": "2021-07-13T08:26:07.256273Z"
    },
    "id": "yRK_-pRqJHP5",
    "outputId": "0580b7bb-22d1-4e1a-e3a8-60a3c330f103"
   },
   "source": [
    "corr_df1[corr_df1 <= 0.99].unstack().sort_values(ascending = False).head(22)"
   ],
   "outputs": [],
   "execution_count": null
  },
  {
   "cell_type": "markdown",
   "metadata": {
    "id": "AHrJvZf4JHP5"
   },
   "source": [
    "Оскільки у нас є комбінації, що повторюються, дивлячись на наведену вище таблицю і видаляючи дублі, ми отримуємо топ-10 кореляцій, як показано нижче:\n",
    "\n",
    "- AMT_GOODS_PRICE -              AMT_CREDIT                    0.98\n",
    "- REGION_RATING_CLIENT -         REGION_RATING_CLIENT_W_CITY   0.96\n",
    "- CNT_FAM_MEMBERS -              CNT_CHILDREN                  0.89\n",
    "- DEF_60_CNT_SOCIAL_CIRCLE -     DEF_30_CNT_SOCIAL_CIRCLE      0.87\n",
    "- REG_REGION_NOT_WORK_REGION -   LIVE_REGION_NOT_WORK_REGION   0.85\n",
    "- LIVE_CITY_NOT_WORK_CITY -      REG_CITY_NOT_WORK_CITY        0.78\n",
    "- AMT_ANNUITY -                  AMT_GOODS_PRICE               0.75\n",
    "- AMT_ANNUITY -                  AMT_CREDIT                    0.75\n",
    "- DAYS_EMPLOYED -                FLAG_DOCUMENT_6               0.62\n",
    "- DAYS_BIRTH -                   DAYS_EMPLOYED                 0.58"
   ]
  },
  {
   "cell_type": "markdown",
   "metadata": {
    "id": "BRinB6uQJHP6"
   },
   "source": [
    "### Побудова кореляційної матриці для випадків із вчасними платежеми"
   ]
  },
  {
   "cell_type": "code",
   "metadata": {
    "colab": {
     "base_uri": "https://localhost:8080/"
    },
    "execution": {
     "iopub.execute_input": "2021-07-13T08:26:07.26901Z",
     "iopub.status.busy": "2021-07-13T08:26:07.26873Z",
     "iopub.status.idle": "2021-07-13T08:26:07.340734Z",
     "shell.execute_reply": "2021-07-13T08:26:07.3395Z",
     "shell.execute_reply.started": "2021-07-13T08:26:07.268984Z"
    },
    "id": "ULI7f3lqJHP6",
    "outputId": "f0afef3a-d6b3-4026-dbc2-f996d6710608"
   },
   "source": [
    "df0.select_dtypes(include=[\"int64\",\"float64\"]).shape"
   ],
   "outputs": [],
   "execution_count": null
  },
  {
   "cell_type": "markdown",
   "metadata": {
    "id": "oKS6FpmqJHP6"
   },
   "source": [
    "Є 66 числових стовпчиків. Створимо кореляційну матрицю `corr` для кращого перегляду результатів"
   ]
  },
  {
   "cell_type": "code",
   "metadata": {
    "execution": {
     "iopub.execute_input": "2021-07-13T08:26:07.34286Z",
     "iopub.status.busy": "2021-07-13T08:26:07.34238Z",
     "iopub.status.idle": "2021-07-13T08:26:10.610574Z",
     "shell.execute_reply": "2021-07-13T08:26:10.609641Z",
     "shell.execute_reply.started": "2021-07-13T08:26:07.342807Z"
    },
    "id": "_zlQLDypJHP6"
   },
   "source": [
    "corr_df0 = df0.select_dtypes(include=[\"int64\",\"float64\"]).corr()"
   ],
   "outputs": [],
   "execution_count": null
  },
  {
   "cell_type": "code",
   "metadata": {
    "colab": {
     "base_uri": "https://localhost:8080/",
     "height": 226
    },
    "execution": {
     "iopub.execute_input": "2021-07-13T08:26:10.612063Z",
     "iopub.status.busy": "2021-07-13T08:26:10.61177Z",
     "iopub.status.idle": "2021-07-13T08:26:10.652338Z",
     "shell.execute_reply": "2021-07-13T08:26:10.651592Z",
     "shell.execute_reply.started": "2021-07-13T08:26:10.612035Z"
    },
    "id": "_EMF907BJHP6",
    "outputId": "5aa1beda-317d-4678-8815-e7d04e590198"
   },
   "source": [
    "corr_df0.head()"
   ],
   "outputs": [],
   "execution_count": null
  },
  {
   "cell_type": "markdown",
   "metadata": {
    "id": "IHHXLRrLJHP6"
   },
   "source": [
    "Створимо теплову карту для перегляду кореляцій вище 80% і 99,99%"
   ]
  },
  {
   "cell_type": "code",
   "metadata": {
    "colab": {
     "base_uri": "https://localhost:8080/",
     "height": 1000
    },
    "execution": {
     "iopub.execute_input": "2021-07-13T08:26:10.653901Z",
     "iopub.status.busy": "2021-07-13T08:26:10.653413Z",
     "iopub.status.idle": "2021-07-13T08:26:13.512329Z",
     "shell.execute_reply": "2021-07-13T08:26:13.511361Z",
     "shell.execute_reply.started": "2021-07-13T08:26:10.65387Z"
    },
    "id": "FRpbFbvGJHP6",
    "outputId": "1d621daa-44e8-4af6-a73a-57a02e7de910"
   },
   "source": [
    "plt.figure(figsize = (25,25))\n",
    "sns.heatmap(data = corr_df0[(corr_df0 >= 0.8) & (corr_df0 < 0.9999)], annot = True, cmap = \"RdYlGn\", cbar = True, fmt='.2f')\n",
    "plt.show()"
   ],
   "outputs": [],
   "execution_count": null
  },
  {
   "cell_type": "markdown",
   "metadata": {
    "id": "RSqg1hp6JHP6"
   },
   "source": [
    "### Подивимось на 10 найкращих кореляцій для вчасних платежів"
   ]
  },
  {
   "cell_type": "code",
   "metadata": {
    "colab": {
     "base_uri": "https://localhost:8080/"
    },
    "execution": {
     "iopub.execute_input": "2021-07-13T08:26:13.514194Z",
     "iopub.status.busy": "2021-07-13T08:26:13.513807Z",
     "iopub.status.idle": "2021-07-13T08:26:13.527801Z",
     "shell.execute_reply": "2021-07-13T08:26:13.526987Z",
     "shell.execute_reply.started": "2021-07-13T08:26:13.51414Z"
    },
    "id": "JqDcwJKVJHP6",
    "outputId": "31bdf6b3-62b1-41ca-93c5-71c43b42e6f5"
   },
   "source": [
    "corr_df0[corr_df0 <= 0.99].unstack().sort_values(ascending = False).head(28)"
   ],
   "outputs": [],
   "execution_count": null
  },
  {
   "cell_type": "markdown",
   "metadata": {
    "id": "k3vYhzabJHP6"
   },
   "source": [
    "Оскільки у нас є комбінації, що повторюються, дивлячись на наведену вище таблицю і видаляючи дублі, ми отримуємо топ-10 кореляцій, як показано нижче:\n",
    "\n",
    "- AMT_GOODS_PRICE              AMT_CREDIT                    0.99\n",
    "- REGION_RATING_CLIENT         REGION_RATING_CLIENT_W_CITY   0.95\n",
    "- CNT_FAM_MEMBERS              CNT_CHILDREN                  0.88\n",
    "- REG_REGION_NOT_WORK_REGION   LIVE_REGION_NOT_WORK_REGION   0.86\n",
    "- DEF_30_CNT_SOCIAL_CIRCLE     DEF_60_CNT_SOCIAL_CIRCLE      0.86\n",
    "- LIVE_CITY_NOT_WORK_CITY      REG_CITY_NOT_WORK_CITY        0.83\n",
    "- AMT_ANNUITY                  AMT_GOODS_PRICE               0.78\n",
    "- AMT_ANNUITY                  AMT_CREDIT                    0.77\n",
    "- DAYS_BIRTH                   DAYS_EMPLOYED                 0.63\n",
    "- DAYS_EMPLOYED                FLAG_DOCUMENT_6               0.60"
   ]
  },
  {
   "cell_type": "markdown",
   "metadata": {
    "id": "IKNUoYC6JHP6"
   },
   "source": [
    "### Порівняємо 10 найкращих кореляцій між випадками із платіжними труднощами та вчасними платежами"
   ]
  },
  {
   "cell_type": "markdown",
   "metadata": {
    "id": "FoYtw97xJHP7"
   },
   "source": [
    "**Спостереження**\n",
    "\n",
    "- Топ-10 кореляцій для Труднощів з оплатою та Вчасних платежів однакові, за винятком незначних відмінностей у відсотках кореляції\n",
    "- Найвища кореляція для комбінації `AMT_GOODS_PRICE` та `AMT_CREDIT`.\n",
    "- Для набору даних \"Труднощі з оплатою\" кореляція між `AMT_GOODS_PRICE` та `AMT_CREDIT` становить 0,98\n",
    "- Для набору даних \"Вчасні платежі\" кореляція між `AMT_GOODS_PRICE` та `AMT_CREDIT` становить 0,99"
   ]
  },
  {
   "cell_type": "markdown",
   "metadata": {
    "id": "zy42GysRJHP7"
   },
   "source": [
    "# Одновимірний аналіз числових змінних"
   ]
  },
  {
   "cell_type": "markdown",
   "metadata": {
    "id": "6B8GcprgJHP7"
   },
   "source": [
    "### Аналіз стовпця `AMT_CREDIT`"
   ]
  },
  {
   "cell_type": "markdown",
   "metadata": {
    "id": "cQvuANKNJHP7"
   },
   "source": [
    "#### Пошук викидів в `AMT_CREDIT` при випадках із платіжними труднощами"
   ]
  },
  {
   "cell_type": "markdown",
   "metadata": {
    "id": "3LT3M3qJJHP7"
   },
   "source": [
    "Розрахунок IQR (Inter Quartile range)"
   ]
  },
  {
   "cell_type": "code",
   "metadata": {
    "colab": {
     "base_uri": "https://localhost:8080/"
    },
    "execution": {
     "iopub.execute_input": "2021-07-13T08:26:13.529315Z",
     "iopub.status.busy": "2021-07-13T08:26:13.529053Z",
     "iopub.status.idle": "2021-07-13T08:26:13.537043Z",
     "shell.execute_reply": "2021-07-13T08:26:13.536132Z",
     "shell.execute_reply.started": "2021-07-13T08:26:13.529291Z"
    },
    "id": "1HdM18dnJHP7",
    "outputId": "b5352468-4d90-4846-b59e-5b2ca47eb335"
   },
   "source": [
    "Q1 = df1['AMT_CREDIT'].quantile(0.25)\n",
    "Q3 = df1['AMT_CREDIT'].quantile(0.75)\n",
    "IQR = Q3 - Q1\n",
    "print(IQR)"
   ],
   "outputs": [],
   "execution_count": null
  },
  {
   "cell_type": "markdown",
   "metadata": {
    "id": "FU-Gd6ZFJHP7"
   },
   "source": [
    "Значення *до* (Q1 - 1.5 * IQR) та *після* (Q3 + 1.5 * IQR) є викидами."
   ]
  },
  {
   "cell_type": "code",
   "metadata": {
    "colab": {
     "base_uri": "https://localhost:8080/"
    },
    "execution": {
     "iopub.execute_input": "2021-07-13T08:26:13.538531Z",
     "iopub.status.busy": "2021-07-13T08:26:13.538271Z",
     "iopub.status.idle": "2021-07-13T08:26:13.547198Z",
     "shell.execute_reply": "2021-07-13T08:26:13.546416Z",
     "shell.execute_reply.started": "2021-07-13T08:26:13.538505Z"
    },
    "id": "jfj5U9KzJHP7",
    "outputId": "17d8cfab-1027-4041-f819-05b7598ca494"
   },
   "source": [
    "Min_value1 = (Q1 - 1.5 * IQR)\n",
    "Max_value1 = (Q3 + 1.5 * IQR)\n",
    "print(\"Мінімальне значення, до якого існують викиди: {}\".format(Min_value1))\n",
    "print(\"Максимальне значення, після якого існують викиди: {}\".format(Max_value1))"
   ],
   "outputs": [],
   "execution_count": null
  },
  {
   "cell_type": "markdown",
   "metadata": {
    "id": "dHjDC8ElJHP7"
   },
   "source": [
    "#### Пошук викидів в `AMT_CREDIT` при випадках із вчасними оплатами"
   ]
  },
  {
   "cell_type": "markdown",
   "metadata": {
    "id": "03NhamPtJHP7"
   },
   "source": [
    "Розрахунок IQR (Inter Quartile range)"
   ]
  },
  {
   "cell_type": "code",
   "metadata": {
    "colab": {
     "base_uri": "https://localhost:8080/"
    },
    "execution": {
     "iopub.execute_input": "2021-07-13T08:26:13.548594Z",
     "iopub.status.busy": "2021-07-13T08:26:13.548327Z",
     "iopub.status.idle": "2021-07-13T08:26:13.56888Z",
     "shell.execute_reply": "2021-07-13T08:26:13.568073Z",
     "shell.execute_reply.started": "2021-07-13T08:26:13.548568Z"
    },
    "id": "vEWZ4HlxJHP7",
    "outputId": "70accb14-c8ef-4aed-95d8-0b0b6ffc4f71"
   },
   "source": [
    "Q1 = df0['AMT_CREDIT'].quantile(0.25)\n",
    "Q3 = df0['AMT_CREDIT'].quantile(0.75)\n",
    "IQR = Q3 - Q1\n",
    "print(IQR)"
   ],
   "outputs": [],
   "execution_count": null
  },
  {
   "cell_type": "markdown",
   "metadata": {
    "id": "YY0OuZYRJHP8"
   },
   "source": [
    "Значення *до* (Q1 - 1.5 * IQR) та *після* (Q3 + 1.5 * IQR) є викидами."
   ]
  },
  {
   "cell_type": "code",
   "metadata": {
    "colab": {
     "base_uri": "https://localhost:8080/"
    },
    "execution": {
     "iopub.execute_input": "2021-07-13T08:26:13.570396Z",
     "iopub.status.busy": "2021-07-13T08:26:13.569982Z",
     "iopub.status.idle": "2021-07-13T08:26:13.57529Z",
     "shell.execute_reply": "2021-07-13T08:26:13.574488Z",
     "shell.execute_reply.started": "2021-07-13T08:26:13.570365Z"
    },
    "id": "70Apb1KPJHP8",
    "outputId": "c23ca655-5c81-4706-b381-7d85b755156f"
   },
   "source": [
    "Min_value0 = (Q1 - 1.5 * IQR)\n",
    "Max_value0 = (Q3 + 1.5 * IQR)\n",
    "print(\"Мінімальне значення, до якого існують викиди: {}\".format(Min_value0))\n",
    "print(\"Максимальне значення, після якого існують викиди: {}\".format(Max_value0))"
   ],
   "outputs": [],
   "execution_count": null
  },
  {
   "cell_type": "markdown",
   "metadata": {
    "id": "Qm4uazQCJHP_"
   },
   "source": [
    "Видалення викидів і побудова діаграми розподілу"
   ]
  },
  {
   "cell_type": "code",
   "metadata": {
    "id": "bURCDoMW1Obj"
   },
   "source": [
    "def kde_no_outliers(df0, df1, Max_value0, Max_value1, column):\n",
    "  plt.figure(figsize = (14,6))\n",
    "  sns.kdeplot(df1[df1[column] <= Max_value1][column],label = 'Payment difficulties')\n",
    "  sns.kdeplot(df0[df0[column] <= Max_value0][column],label = 'On-Time Payments')\n",
    "  plt.ticklabel_format(style='plain', axis='x')\n",
    "  plt.xticks(rotation = 45)\n",
    "  plt.legend()\n",
    "  plt.show()"
   ],
   "outputs": [],
   "execution_count": null
  },
  {
   "cell_type": "code",
   "metadata": {
    "colab": {
     "base_uri": "https://localhost:8080/",
     "height": 596
    },
    "id": "Ks9P21L-02iz",
    "outputId": "bd872d07-5fe7-4a18-baca-9a51f05f521e"
   },
   "source": [
    "kde_no_outliers(df0, df1, Max_value0, Max_value1, 'AMT_CREDIT')"
   ],
   "outputs": [],
   "execution_count": null
  },
  {
   "cell_type": "markdown",
   "metadata": {
    "id": "c9WMjjkzJHP_"
   },
   "source": [
    "**Спостереження**\n",
    "\n",
    "- Для `AMT_CREDIT` від 250000 до приблизно 650000 більше клієнтів мають труднощі з оплатою\n",
    "- Для `AMT_CREDIT` > 750000 більше клієнтів, які вчасно здійснюють платежі"
   ]
  },
  {
   "cell_type": "markdown",
   "metadata": {
    "id": "-pNqzCr11eAm"
   },
   "source": [
    "# ДЗ 5. Одновимірний аналіз числової колонки\n",
    "\n",
    "За наведеним вище прикладом, проведіть одновимірний аналіз (виявлення викидів, їх усунення та побудова KDE  графіку) для числових змінних\n",
    "- `YEARS_BIRTH`\n",
    "- `AMT_GOODS_PRICE`\n",
    "- `DAYS_EMPLOYED`\n",
    "\n",
    "Опціонально:\n",
    "- `CNT_CHILDREN`\n",
    "- `AMT_INCOME_TOTAL`\n",
    "\n",
    "Для цього винесіть функціонал для аналізу у функцію та викличіть функцію для кожної двійки змінних.\n",
    "\n",
    "Зробіть висновки з аналізу."
   ]
  },
  {
   "cell_type": "markdown",
   "metadata": {
    "id": "3-Y4zbRaJHQK"
   },
   "source": [
    "# Двовимірний/Багатовимірний аналіз"
   ]
  },
  {
   "cell_type": "markdown",
   "metadata": {
    "id": "lsNsjjrkJHQK"
   },
   "source": [
    "## Неперервні vs неперервні змінні"
   ]
  },
  {
   "cell_type": "markdown",
   "metadata": {
    "id": "ra2xndMXJHQK"
   },
   "source": [
    "### Аналіз стовпця `AMT_GOODS_PRICE` vs `AMT_CREDIT`"
   ]
  },
  {
   "cell_type": "markdown",
   "metadata": {
    "id": "LYwM8FL5JHQK"
   },
   "source": [
    "**Пошук викидів для ствопця `AMT_GOODS_PRICE ` для групи із платіжними труднощами**"
   ]
  },
  {
   "cell_type": "code",
   "metadata": {
    "colab": {
     "base_uri": "https://localhost:8080/"
    },
    "execution": {
     "iopub.execute_input": "2021-07-13T08:26:24.379444Z",
     "iopub.status.busy": "2021-07-13T08:26:24.379138Z",
     "iopub.status.idle": "2021-07-13T08:26:24.388451Z",
     "shell.execute_reply": "2021-07-13T08:26:24.387539Z",
     "shell.execute_reply.started": "2021-07-13T08:26:24.379416Z"
    },
    "id": "CeySOfy_JHQK",
    "outputId": "58a48258-ab0f-481e-9245-50ff1d643982"
   },
   "source": [
    "max_value1_AMT_GOODS_PRICE = outlier_range(df1,'AMT_GOODS_PRICE')\n",
    "max_value1_AMT_GOODS_PRICE"
   ],
   "outputs": [],
   "execution_count": null
  },
  {
   "cell_type": "markdown",
   "metadata": {
    "id": "PVZcX88nJHQK"
   },
   "source": [
    "**Пошук викидів для ствопця `AMT_CREDIT` для групи із платіжними труднощами**"
   ]
  },
  {
   "cell_type": "code",
   "metadata": {
    "colab": {
     "base_uri": "https://localhost:8080/"
    },
    "execution": {
     "iopub.execute_input": "2021-07-13T08:26:24.390008Z",
     "iopub.status.busy": "2021-07-13T08:26:24.389726Z",
     "iopub.status.idle": "2021-07-13T08:26:24.4009Z",
     "shell.execute_reply": "2021-07-13T08:26:24.400054Z",
     "shell.execute_reply.started": "2021-07-13T08:26:24.38998Z"
    },
    "id": "iUmvvAk5JHQL",
    "outputId": "8f8b60e5-c136-46a9-ceac-67388d9302a0",
    "scrolled": true
   },
   "source": [
    "max_value1_AMT_CREDIT = outlier_range(df1,'AMT_CREDIT')\n",
    "max_value1_AMT_CREDIT"
   ],
   "outputs": [],
   "execution_count": null
  },
  {
   "cell_type": "markdown",
   "metadata": {
    "id": "4u9E-ce5JHQL"
   },
   "source": [
    "**Пошук викидів для `AMT_GOODS_PRICE `для групи із вчасними оплатами**"
   ]
  },
  {
   "cell_type": "code",
   "metadata": {
    "colab": {
     "base_uri": "https://localhost:8080/"
    },
    "execution": {
     "iopub.execute_input": "2021-07-13T08:26:24.402513Z",
     "iopub.status.busy": "2021-07-13T08:26:24.40223Z",
     "iopub.status.idle": "2021-07-13T08:26:24.420653Z",
     "shell.execute_reply": "2021-07-13T08:26:24.42004Z",
     "shell.execute_reply.started": "2021-07-13T08:26:24.402486Z"
    },
    "id": "WGSAZCyIJHQL",
    "outputId": "cb1a4b75-752c-4523-8a8f-4a773c43087a"
   },
   "source": [
    "max_value0_AMT_GOODS_PRICE = outlier_range(df0,'AMT_GOODS_PRICE')\n",
    "max_value0_AMT_GOODS_PRICE"
   ],
   "outputs": [],
   "execution_count": null
  },
  {
   "cell_type": "markdown",
   "metadata": {
    "id": "yh8fFXRLJHQL"
   },
   "source": [
    "**Пошук викидів для `AMT_CREDIT `для групи із вчасними оплатами**"
   ]
  },
  {
   "cell_type": "code",
   "metadata": {
    "colab": {
     "base_uri": "https://localhost:8080/"
    },
    "execution": {
     "iopub.execute_input": "2021-07-13T08:26:24.421983Z",
     "iopub.status.busy": "2021-07-13T08:26:24.421507Z",
     "iopub.status.idle": "2021-07-13T08:26:24.435585Z",
     "shell.execute_reply": "2021-07-13T08:26:24.434964Z",
     "shell.execute_reply.started": "2021-07-13T08:26:24.421951Z"
    },
    "id": "JgmVhkIeJHQL",
    "outputId": "587c619c-06ce-4457-d0a1-2da1fb16ca82",
    "scrolled": true
   },
   "source": [
    "max_value0_AMT_CREDIT = outlier_range(df0,'AMT_CREDIT')\n",
    "max_value0_AMT_CREDIT"
   ],
   "outputs": [],
   "execution_count": null
  },
  {
   "cell_type": "markdown",
   "metadata": {
    "id": "z3JOAzUzJHQL"
   },
   "source": [
    "Побудова діаграми розсіювання для порівняння з видаленими викидами"
   ]
  },
  {
   "cell_type": "code",
   "metadata": {
    "colab": {
     "base_uri": "https://localhost:8080/",
     "height": 485
    },
    "execution": {
     "iopub.execute_input": "2021-07-13T08:26:24.436924Z",
     "iopub.status.busy": "2021-07-13T08:26:24.436546Z",
     "iopub.status.idle": "2021-07-13T08:26:25.613324Z",
     "shell.execute_reply": "2021-07-13T08:26:25.612377Z",
     "shell.execute_reply.started": "2021-07-13T08:26:24.436885Z"
    },
    "id": "CV8cgUtfJHQL",
    "outputId": "6258e564-36ea-4668-c59c-dd75ea04736b"
   },
   "source": [
    "plt.figure(figsize = (14, 6))\n",
    "\n",
    "plt.subplot(1,2,1)\n",
    "plt.title('Payment difficulties')\n",
    "sns.scatterplot(x = df1[df1['AMT_GOODS_PRICE'] < max_value1_AMT_GOODS_PRICE].AMT_GOODS_PRICE,\n",
    "                y = df1[df1['AMT_CREDIT'] < max_value1_AMT_CREDIT].AMT_CREDIT, data = df1)\n",
    "plt.ticklabel_format(style='plain', axis='x')\n",
    "plt.ticklabel_format(style='plain', axis='y')\n",
    "\n",
    "plt.subplot(1,2,2)\n",
    "plt.title('On-Time Payments')\n",
    "sns.scatterplot(x = df0[df0['AMT_GOODS_PRICE'] < max_value0_AMT_GOODS_PRICE].AMT_GOODS_PRICE,\n",
    "                y = df0[df0['AMT_CREDIT'] < max_value0_AMT_CREDIT].AMT_CREDIT, data = df0)\n",
    "plt.ticklabel_format(style='plain', axis='x')\n",
    "plt.ticklabel_format(style='plain', axis='y')\n",
    "\n",
    "plt.tight_layout(pad = 4)\n",
    "plt.show()"
   ],
   "outputs": [],
   "execution_count": null
  },
  {
   "cell_type": "markdown",
   "metadata": {
    "id": "vXo5IMVrJHQL"
   },
   "source": [
    "**Спостереження**\n",
    "- AMT_GOODS_PRICE та AMT_CREDIT мають сильну позитивну кореляцію. Це означає, що зі збільшенням ціни товару зростає і сума кредиту"
   ]
  },
  {
   "cell_type": "markdown",
   "metadata": {
    "id": "UCPW3VLJ6Qu5"
   },
   "source": [
    "# ДЗ 6. Кореляційний аналіз для пари числових змінних\n",
    "\n",
    "За наведеним вище прикладом, проведіть кореляційний аналіз для пар змінних\n",
    "- AMT_ANNUITY і AMT_CREDIT\n",
    "\n",
    "Опціонально:\n",
    "- DAYS_EMPLOYED і AMT_INCOME_TOTAL\n",
    "- AMT_CREDIT і DAYS_BIRTH\n",
    "\n",
    "[Для цього винесіть функціонал для аналізу у функцію та викличіть функцію для кожної двійки змінних.](https://)\n",
    "Зробіть висновок про наявність кореляції між змінними."
   ]
  },
  {
   "cell_type": "code",
   "metadata": {
    "id": "V9IMDw9LZ0MS"
   },
   "source": [],
   "outputs": [],
   "execution_count": null
  },
  {
   "cell_type": "markdown",
   "metadata": {
    "id": "kghtrtUzJHQQ"
   },
   "source": [
    "## Неперервні та категоріальні змінні"
   ]
  },
  {
   "cell_type": "code",
   "metadata": {
    "id": "zw3ZKDTMHeTx"
   },
   "source": [
    "def draw_boxplot(df, categorical, continuous, max_continuous, title, hue_column, subplot_position):\n",
    "    \"\"\"\n",
    "    Малює блок-діаграму для заданого DataFrame, категоріальної та неперервної змінної.\n",
    "    \"\"\"\n",
    "    plt.subplot(1, 2, subplot_position)\n",
    "    plt.title(title)\n",
    "    red_diamond = dict(markerfacecolor='r', marker='D')\n",
    "    sns.boxplot(x=categorical,\n",
    "                y=df[df[continuous] < max_continuous][continuous],\n",
    "                data=df,\n",
    "                flierprops=red_diamond,\n",
    "                order=sorted(df[categorical].unique(), reverse=True),\n",
    "                hue=hue_column, hue_order=sorted(df[hue_column].unique(), reverse=True))\n",
    "    plt.ticklabel_format(style='plain', axis='y')\n",
    "    plt.xticks(rotation=90)\n",
    "\n",
    "def bi_boxplot(categorical, continuous, max_continuous1, max_continuous0, hue_column):\n",
    "    \"\"\"\n",
    "    Створює паралельні блок-діаграми для двох груп, визначених у наборі даних, на основі\n",
    "    категоріальної та неперервної змінної, виділяючи відмінності за допомогою відтінків.\n",
    "    \"\"\"\n",
    "    plt.figure(figsize=(16, 10))\n",
    "\n",
    "    # Графік для першо групи \"Труднощі з платежами\" (Payment Difficulties)\n",
    "    draw_boxplot(df1, categorical, continuous, max_continuous1, 'Payment Difficulties', hue_column, 1)\n",
    "\n",
    "    # Графік для другої групи \"Вчасні оплати\" (On-Time Payments)\n",
    "    draw_boxplot(df0, categorical, continuous, max_continuous0, 'On-Time Payments', hue_column, 2)\n",
    "\n",
    "    plt.tight_layout(pad=4)\n",
    "    plt.show()"
   ],
   "outputs": [],
   "execution_count": null
  },
  {
   "cell_type": "markdown",
   "metadata": {
    "id": "iePccbTpJHQQ"
   },
   "source": [
    "### Аналіз стовпців `AMT_CREDIT` vs `NAME_EDUCATION_TYPE` vs `CODE_GENDER`"
   ]
  },
  {
   "cell_type": "markdown",
   "metadata": {
    "id": "1jKOPc2iJHQQ"
   },
   "source": [
    "**Пошук викидів для `AMT_CREDIT `для групи із платіжними труднощами**"
   ]
  },
  {
   "cell_type": "code",
   "metadata": {
    "colab": {
     "base_uri": "https://localhost:8080/"
    },
    "execution": {
     "iopub.execute_input": "2021-07-13T08:26:30.380887Z",
     "iopub.status.busy": "2021-07-13T08:26:30.380438Z",
     "iopub.status.idle": "2021-07-13T08:26:30.38929Z",
     "shell.execute_reply": "2021-07-13T08:26:30.388377Z",
     "shell.execute_reply.started": "2021-07-13T08:26:30.380855Z"
    },
    "id": "66dFXt_SJHQQ",
    "outputId": "402b7499-30c9-44c8-aa7f-7ba8eeb6c24c",
    "scrolled": true
   },
   "source": [
    "max_value1_AMT_CREDIT = outlier_range(df1,'AMT_CREDIT')\n",
    "max_value1_AMT_CREDIT"
   ],
   "outputs": [],
   "execution_count": null
  },
  {
   "cell_type": "markdown",
   "metadata": {
    "id": "h3RWNU7AJHQQ"
   },
   "source": [
    "**Пошук викидів для `AMT_CREDIT ` для групи із вчасними платежами**"
   ]
  },
  {
   "cell_type": "code",
   "metadata": {
    "colab": {
     "base_uri": "https://localhost:8080/"
    },
    "execution": {
     "iopub.execute_input": "2021-07-13T08:26:30.390785Z",
     "iopub.status.busy": "2021-07-13T08:26:30.39049Z",
     "iopub.status.idle": "2021-07-13T08:26:30.410533Z",
     "shell.execute_reply": "2021-07-13T08:26:30.409609Z",
     "shell.execute_reply.started": "2021-07-13T08:26:30.390757Z"
    },
    "id": "zpOzlRasJHQQ",
    "outputId": "5ea9bfc7-2063-4c99-f5e1-d5d0baed958d",
    "scrolled": true
   },
   "source": [
    "max_value0_AMT_CREDIT = outlier_range(df0,'AMT_CREDIT')\n",
    "max_value0_AMT_CREDIT"
   ],
   "outputs": [],
   "execution_count": null
  },
  {
   "cell_type": "markdown",
   "metadata": {
    "id": "pdg-KnEYJHQQ"
   },
   "source": [
    "**Клієнт з платіжними труднощами**"
   ]
  },
  {
   "cell_type": "code",
   "metadata": {
    "colab": {
     "base_uri": "https://localhost:8080/"
    },
    "execution": {
     "iopub.execute_input": "2021-07-13T08:26:30.41214Z",
     "iopub.status.busy": "2021-07-13T08:26:30.411671Z",
     "iopub.status.idle": "2021-07-13T08:26:30.463017Z",
     "shell.execute_reply": "2021-07-13T08:26:30.461917Z",
     "shell.execute_reply.started": "2021-07-13T08:26:30.412106Z"
    },
    "id": "nIiVdaWQJHQQ",
    "outputId": "8a5ee835-b965-42d9-e204-5e2a8f68f741"
   },
   "source": [
    "df1.groupby(by = ['NAME_EDUCATION_TYPE','CODE_GENDER']).AMT_CREDIT.describe().head()"
   ],
   "outputs": [],
   "execution_count": null
  },
  {
   "cell_type": "markdown",
   "metadata": {
    "id": "cTIuZB57JHQQ"
   },
   "source": [
    "**Клієнт зі вчасними платежами**"
   ]
  },
  {
   "cell_type": "code",
   "metadata": {
    "colab": {
     "base_uri": "https://localhost:8080/"
    },
    "execution": {
     "iopub.execute_input": "2021-07-13T08:26:30.464874Z",
     "iopub.status.busy": "2021-07-13T08:26:30.464473Z",
     "iopub.status.idle": "2021-07-13T08:26:30.718895Z",
     "shell.execute_reply": "2021-07-13T08:26:30.717958Z",
     "shell.execute_reply.started": "2021-07-13T08:26:30.464833Z"
    },
    "id": "Fng8tderJHQQ",
    "outputId": "d605078a-0b08-4651-d5fb-d0999f582d56"
   },
   "source": [
    "df0.groupby(by = ['NAME_EDUCATION_TYPE','CODE_GENDER']).AMT_CREDIT.describe().head()"
   ],
   "outputs": [],
   "execution_count": null
  },
  {
   "cell_type": "code",
   "metadata": {
    "colab": {
     "base_uri": "https://localhost:8080/"
    },
    "execution": {
     "iopub.execute_input": "2021-07-13T08:26:30.720478Z",
     "iopub.status.busy": "2021-07-13T08:26:30.720184Z",
     "iopub.status.idle": "2021-07-13T08:26:32.308336Z",
     "shell.execute_reply": "2021-07-13T08:26:32.307396Z",
     "shell.execute_reply.started": "2021-07-13T08:26:30.720449Z"
    },
    "id": "tswnw4z5JHQR",
    "outputId": "7e1e5eba-cb89-43d7-ee03-058653586c2f"
   },
   "source": [
    "bi_boxplot('NAME_EDUCATION_TYPE','AMT_CREDIT',max_value1_AMT_CREDIT, max_value0_AMT_CREDIT, 'CODE_GENDER')"
   ],
   "outputs": [],
   "execution_count": null
  },
  {
   "cell_type": "markdown",
   "metadata": {
    "id": "eCAX7swfJHQR"
   },
   "source": [
    "**Спостереження\n",
    "- Клієнти з \"академічним ступенем\" мають широкий діапазон кредитів для своєчасних платежів, тоді як для клієнтів з проблемами з оплатою цей діапазон значно нижчий\n",
    "- Якщо поглянути на зведену статистику, то клієнти з \"вищою освітою\" та проблемами з оплатою беруть середній та медіанний кредит у значно більшому діапазоні, ніж клієнти з вчасною оплатою.\n",
    "- Клієнти-чоловіки з \"вищою освітою\" завжди сплачують кредит вчасно"
   ]
  },
  {
   "cell_type": "markdown",
   "metadata": {
    "id": "fxFsqreB7h3V"
   },
   "source": [
    " # ДЗ 7. Кореляційний аналіз між двома категоріальними змінними і числовою\n",
    "\n",
    "Проведіть аналогічний кореляційний аналіз для трійок змінних\n",
    "\n",
    "- AMT_INCOME_TOTAL vs NAME_FAMILY_STATUS vs CODE_GENDER\n",
    "\n",
    "Опціонально - трійки які можна додатково проаналізувати:\n",
    "- AMT_INCOME_TOTAL vs YEARS_BIRTH_CATEGORY vs NAME_HOUSING_TYPE\n",
    "- AMT_GOODS_PRICE vs NAME_INCOME_TYPE vs CODE_GENDER\n",
    "- AMT_INCOME_TOTAL vs OCCUPATION_TYPE vs CODE_GENDER\n",
    "\n",
    "А ще можете також проаналізувати додатково до обовʼязкової свою трійку :)\n",
    "\n",
    "Для цього винесіть функціонал для аналізу у функцію та викличіть функцію для кожної трійки змінних.\n",
    "\n",
    "Зробіть висновок про наявність кореляції між змінними.\n"
   ]
  },
  {
   "cell_type": "code",
   "metadata": {
    "id": "uga-RO8IVNaU"
   },
   "source": [
    "def numeric_vs_categorical_analysis(df0, df1, column_1, column_2, column_3):\n",
    "  max_value1_column_1 = outlier_range(df1, column_1)\n",
    "  max_value0_column_1 = outlier_range(df0, column_1)\n",
    "\n",
    "  # Клієнт з платіжними труднощами\n",
    "\n",
    "  display(df1.groupby(by = [column_2, column_3])[column_1].describe().head())\n",
    "\n",
    "  # Клієнт зі своєчасними платежами\n",
    "\n",
    "  display(df0.groupby(by = [column_2, column_3])[column_1].describe().head())\n",
    "\n",
    "  bi_boxplot(column_2, column_1, max_value1_column_1, max_value0_column_1, column_3)"
   ],
   "outputs": [],
   "execution_count": null
  },
  {
   "cell_type": "markdown",
   "metadata": {
    "id": "FaQTvAHFJHQZ"
   },
   "source": [
    "## Категоріальні та категоріальні змінні"
   ]
  },
  {
   "cell_type": "markdown",
   "metadata": {
    "id": "1TiQhQJ0JHQZ"
   },
   "source": [
    "### Аналіз стовпців `NAME_INCOME_TYPE` vs `CODE_GENDER`"
   ]
  },
  {
   "cell_type": "code",
   "metadata": {
    "id": "eHY_Jgv9qrPK"
   },
   "source": [
    "def bi_countplot_target(df0, df1, column, hue_column) :\n",
    "    group_name = f'Нормалізований розподіл значень за категорією: {column}'\n",
    "    print (group_name.upper())\n",
    "\n",
    "    pltname = 'Клієнт зі складнощями щодо платності'\n",
    "    unique_hue_values = df1[hue_column].unique()\n",
    "    fig, axes = plt.subplots(nrows=1, ncols=2)\n",
    "    fig.set_size_inches(14,4)\n",
    "\n",
    "    proportions = df1.groupby(hue_column)[column].value_counts(normalize=True)\n",
    "    proportions = (proportions*100).round(2)\n",
    "    ax = proportions.unstack(hue_column).sort_values(\n",
    "      by=unique_hue_values[0], ascending=False\n",
    "      ).plot.bar(ax=axes[0], title=pltname)\n",
    "\n",
    "    # анотація значень в барплоті\n",
    "    for container in ax.containers:\n",
    "      ax. bar_label(container, fmt='{:,.1f}%')\n",
    "\n",
    "    pltname = 'Клієнти зі своєчасними платежами'\n",
    "    unique_hue_values = df0[hue_column].unique()\n",
    "\n",
    "    proportions = df0.groupby(hue_column)[column].value_counts (normalize=True)\n",
    "    proportions = (proportions*100).round(2)\n",
    "    ax = proportions.unstack(hue_column).sort_values(\n",
    "    by=unique_hue_values[0], ascending=False\n",
    "      ).plot.bar(ax=axes[1], title=pltname)\n",
    "\n",
    "    for container in ax.containers:\n",
    "      ax.bar_label(container, fmt='{:,.1f}%')\n",
    "\n",
    "    plt.show()\n",
    "\n",
    "    #------------\n",
    "    group_name = f'Кількість значень за категорією {column}'\n",
    "    print(group_name.upper())\n",
    "\n",
    "    pltname = 'Клієнт зі своєчасними платежами'\n",
    "    unique_hue_values = df1[hue_column].unique()\n",
    "    fig, axes = plt.subplots(nrows=1, ncols=2)\n",
    "    fig.set_size_inches(14,4)\n",
    "    counts = df1.groupby(hue_column)[column].value_counts()\n",
    "    ax = counts.unstack(hue_column).sort_values(\n",
    "      by=unique_hue_values [0], ascending=False\n",
    "      ).plot.bar(ax=axes [0], title=pltname )\n",
    "\n",
    "    for container in ax.containers:\n",
    "      ax.bar_label(container)\n",
    "\n",
    "    pltname = 'Клієнти зі своєчасними платежами'\n",
    "    unique_hue_values = df0[hue_column].unique()\n",
    "    counts = df0.groupby(hue_column)[column].value_counts()\n",
    "    ax = counts.unstack(hue_column).sort_values (\n",
    "      by=unique_hue_values[0], ascending=False\n",
    "      ).plot.bar(ax=axes[1], title=pltname)\n",
    "\n",
    "    for container in ax. containers:\n",
    "      ax.bar_label(container)\n",
    "\n",
    "    plt.show()"
   ],
   "outputs": [],
   "execution_count": null
  },
  {
   "cell_type": "code",
   "metadata": {
    "colab": {
     "base_uri": "https://localhost:8080/",
     "height": 1000
    },
    "id": "Vp5FIgLMzcBz",
    "outputId": "8e782cde-8bd1-439a-b61f-6a4f5148b400"
   },
   "source": [
    "bi_countplot_target(df0, df1, 'NAME_INCOME_TYPE','CODE_GENDER')"
   ],
   "outputs": [],
   "execution_count": null
  },
  {
   "cell_type": "markdown",
   "metadata": {
    "id": "24iYtbdwJHQZ"
   },
   "source": [
    "**Спостереження**\n",
    "- Клієнти категорії `Working` та `Male` мають більше труднощів з оплатою порівняно з тими, хто платить вчасно\n",
    "- Клієнти категорії `Pensioner` та `Female` мають більше труднощів з оплатою порівняно з тими, хто платить вчасно\n",
    "- Клієнти категорії `Businessman` та `Student` здійснюють платежі вчасно, хоча їхня історія невелика"
   ]
  },
  {
   "cell_type": "markdown",
   "metadata": {
    "id": "pO6n77Ds1g_e"
   },
   "source": [
    "# ДЗ 8. Аналіз взаємозалежностей між двома категоріальними змінними\n",
    "\n",
    "Проведіть подібний до прикладу аналіз залежностей між категоріальними змінними для пар змінних\n",
    "\n",
    "- NAME_EDUCATION_TYPE vs CODE_GENDER\n",
    "\n",
    "Опціонально:\n",
    "- NAME_FAMILY_STATUS vs OCCUPATION_TYPE\n",
    "- OCCUPATION_TYPE vs NAME_CONTRACT_TYPE\n",
    "\n",
    "Опишіть спостереження щодо того, чи є цікаві знахідки стосовно цільової змінної з цього аналізу."
   ]
  },
  {
   "cell_type": "code",
   "metadata": {
    "id": "6-zYZxGrYMxY"
   },
   "source": [],
   "outputs": [],
   "execution_count": null
  },
  {
   "cell_type": "markdown",
   "metadata": {
    "id": "up78m6zz6WMo"
   },
   "source": [
    "***\n",
    "# ДЗ 9. Висновок з проведеного аналізу\n",
    "Напишіть Ваш висновок з проведеного ананлізу, яким категоріям осіб Ви б видали кредит? Категорія може бути, наприклад, люди з такою-то освітою, з таким-то доходом, з таким-то досвідом роботи."
   ]
  },
  {
   "cell_type": "markdown",
   "metadata": {
    "id": "pXl9YCDm6zhP"
   },
   "source": [
    "# Висновок: Категорії клієнтів, на яких слід орієнтуватися при наданні кредиту\n"
   ]
  },
  {
   "cell_type": "code",
   "metadata": {
    "id": "8PrnH95SYHsP"
   },
   "source": [],
   "outputs": [],
   "execution_count": null
  }
 ],
 "metadata": {
  "colab": {
   "collapsed_sections": [
    "Q23HVbg6JHPy"
   ],
   "provenance": [],
   "toc_visible": true
  },
  "kernelspec": {
   "display_name": "Python 3 (ipykernel)",
   "language": "python",
   "name": "python3"
  },
  "language_info": {
   "codemirror_mode": {
    "name": "ipython",
    "version": 3
   },
   "file_extension": ".py",
   "mimetype": "text/x-python",
   "name": "python",
   "nbconvert_exporter": "python",
   "pygments_lexer": "ipython3",
   "version": "3.12.0"
  }
 },
 "nbformat": 4,
 "nbformat_minor": 4
}
